{
 "cells": [
  {
   "cell_type": "markdown",
   "metadata": {},
   "source": [
    "## Table of Contents\n",
    "- [Introduction](#introduction)\n",
    "- [Exploratory Data Analysis](#exploratory-data-analysis)\n",
    "- [Data Preprocessing](#data-preprocessing)\n",
    "- [Modeling](#modeling)\n",
    "- [Decision Tree](#decision-tree)\n",
    "- [Pipeline](#pipeline)\n",
    "- [Conclusion](#conclusion)"
   ]
  },
  {
   "cell_type": "markdown",
   "metadata": {},
   "source": [
    "## Introduction {#introduction}\n",
    "\n",
    "Repairability of Consumer Electronics\n",
    "\n",
    "Andrew Chau\n",
    "Summer 2023\n",
    "BrainStation Toronto Data Science\n",
    "\n",
    "This capstone project explores the success rate of repairing consumer electronics using various statistical modeling methods.\n"
   ]
  },
  {
   "cell_type": "markdown",
   "metadata": {},
   "source": [
    "## Exploratory Data Analysis {#exploratory-data-analysis}"
   ]
  },
  {
   "cell_type": "markdown",
   "metadata": {},
   "source": [
    "importing the required libraries for data manipulation (Pandas and NumPy) and visualization (MatPlotLib and Seaborn)"
   ]
  },
  {
   "cell_type": "code",
   "execution_count": 16,
   "metadata": {},
   "outputs": [],
   "source": [
    "import pandas as pd\n",
    "import numpy as np\n",
    "import matplotlib.pyplot as plt\n",
    "import seaborn as sns"
   ]
  },
  {
   "cell_type": "markdown",
   "metadata": {},
   "source": [
    "loading the dataset into a pandas dataframe using pd.read_csv()"
   ]
  },
  {
   "cell_type": "code",
   "execution_count": 17,
   "metadata": {},
   "outputs": [],
   "source": [
    "df = pd.read_csv('Data/OpenRepairData_v0.3_aggregate_202303.csv')"
   ]
  },
  {
   "cell_type": "markdown",
   "metadata": {},
   "source": [
    "quick look at the first few rows of the dataset using .head()"
   ]
  },
  {
   "cell_type": "code",
   "execution_count": 18,
   "metadata": {},
   "outputs": [
    {
     "data": {
      "text/html": [
       "<div>\n",
       "<style scoped>\n",
       "    .dataframe tbody tr th:only-of-type {\n",
       "        vertical-align: middle;\n",
       "    }\n",
       "\n",
       "    .dataframe tbody tr th {\n",
       "        vertical-align: top;\n",
       "    }\n",
       "\n",
       "    .dataframe thead th {\n",
       "        text-align: right;\n",
       "    }\n",
       "</style>\n",
       "<table border=\"1\" class=\"dataframe\">\n",
       "  <thead>\n",
       "    <tr style=\"text-align: right;\">\n",
       "      <th></th>\n",
       "      <th>id</th>\n",
       "      <th>data_provider</th>\n",
       "      <th>country</th>\n",
       "      <th>partner_product_category</th>\n",
       "      <th>product_category</th>\n",
       "      <th>product_category_id</th>\n",
       "      <th>brand</th>\n",
       "      <th>year_of_manufacture</th>\n",
       "      <th>product_age</th>\n",
       "      <th>repair_status</th>\n",
       "      <th>repair_barrier_if_end_of_life</th>\n",
       "      <th>group_identifier</th>\n",
       "      <th>event_date</th>\n",
       "      <th>problem</th>\n",
       "    </tr>\n",
       "  </thead>\n",
       "  <tbody>\n",
       "    <tr>\n",
       "      <th>0</th>\n",
       "      <td>anstiftung_11539</td>\n",
       "      <td>anstiftung</td>\n",
       "      <td>DEU</td>\n",
       "      <td>Haushaltsgeräte ~ Siebträgermaschine</td>\n",
       "      <td>Coffee maker</td>\n",
       "      <td>36</td>\n",
       "      <td>Krups</td>\n",
       "      <td>1998.0</td>\n",
       "      <td>25.0</td>\n",
       "      <td>End of life</td>\n",
       "      <td>Spare parts too expensive</td>\n",
       "      <td>2711</td>\n",
       "      <td>2023-03-29</td>\n",
       "      <td>Pumpe defekt</td>\n",
       "    </tr>\n",
       "    <tr>\n",
       "      <th>1</th>\n",
       "      <td>anstiftung_11540</td>\n",
       "      <td>anstiftung</td>\n",
       "      <td>DEU</td>\n",
       "      <td>Elektro divers ~ Bluetooth Musik Box</td>\n",
       "      <td>Hi-Fi integrated</td>\n",
       "      <td>12</td>\n",
       "      <td>JBL</td>\n",
       "      <td>2016.0</td>\n",
       "      <td>7.0</td>\n",
       "      <td>Repairable</td>\n",
       "      <td>NaN</td>\n",
       "      <td>2711</td>\n",
       "      <td>2023-03-29</td>\n",
       "      <td>Akku lädt nicht</td>\n",
       "    </tr>\n",
       "    <tr>\n",
       "      <th>2</th>\n",
       "      <td>anstiftung_11541</td>\n",
       "      <td>anstiftung</td>\n",
       "      <td>DEU</td>\n",
       "      <td>Unterhaltungselektronik ~ Lautsprecher(boxen)</td>\n",
       "      <td>Hi-Fi separates</td>\n",
       "      <td>13</td>\n",
       "      <td>Trust</td>\n",
       "      <td>2013.0</td>\n",
       "      <td>10.0</td>\n",
       "      <td>Fixed</td>\n",
       "      <td>NaN</td>\n",
       "      <td>2711</td>\n",
       "      <td>2023-03-29</td>\n",
       "      <td>Ohne Funktion</td>\n",
       "    </tr>\n",
       "    <tr>\n",
       "      <th>3</th>\n",
       "      <td>anstiftung_11542</td>\n",
       "      <td>anstiftung</td>\n",
       "      <td>DEU</td>\n",
       "      <td>Computer ~ Laptop</td>\n",
       "      <td>Laptop</td>\n",
       "      <td>16</td>\n",
       "      <td>Toshiba</td>\n",
       "      <td>2015.0</td>\n",
       "      <td>8.0</td>\n",
       "      <td>End of life</td>\n",
       "      <td>NaN</td>\n",
       "      <td>2711</td>\n",
       "      <td>2023-03-29</td>\n",
       "      <td>Netzteilbuchse und Grafikkarte defekt</td>\n",
       "    </tr>\n",
       "    <tr>\n",
       "      <th>4</th>\n",
       "      <td>anstiftung_11543</td>\n",
       "      <td>anstiftung</td>\n",
       "      <td>DEU</td>\n",
       "      <td>Elektro divers ~ Aktenvernichter</td>\n",
       "      <td>Paper shredder</td>\n",
       "      <td>21</td>\n",
       "      <td>Genie</td>\n",
       "      <td>2018.0</td>\n",
       "      <td>5.0</td>\n",
       "      <td>End of life</td>\n",
       "      <td>NaN</td>\n",
       "      <td>2711</td>\n",
       "      <td>2023-03-29</td>\n",
       "      <td>Getriebeschaden</td>\n",
       "    </tr>\n",
       "    <tr>\n",
       "      <th>5</th>\n",
       "      <td>anstiftung_11544</td>\n",
       "      <td>anstiftung</td>\n",
       "      <td>DEU</td>\n",
       "      <td>Haushaltsgeräte ~ Wasserkocher</td>\n",
       "      <td>Kettle</td>\n",
       "      <td>14</td>\n",
       "      <td>Support Plus</td>\n",
       "      <td>2018.0</td>\n",
       "      <td>5.0</td>\n",
       "      <td>End of life</td>\n",
       "      <td>No way to open product</td>\n",
       "      <td>2711</td>\n",
       "      <td>2023-03-29</td>\n",
       "      <td>ohne Funktion</td>\n",
       "    </tr>\n",
       "    <tr>\n",
       "      <th>6</th>\n",
       "      <td>anstiftung_11545</td>\n",
       "      <td>anstiftung</td>\n",
       "      <td>DEU</td>\n",
       "      <td>Haushaltsgeräte ~ Handrührgerät</td>\n",
       "      <td>Food processor</td>\n",
       "      <td>37</td>\n",
       "      <td>Severin</td>\n",
       "      <td>2020.0</td>\n",
       "      <td>3.0</td>\n",
       "      <td>End of life</td>\n",
       "      <td>Spare parts too expensive</td>\n",
       "      <td>2711</td>\n",
       "      <td>2023-03-29</td>\n",
       "      <td>Läuft zu schnell</td>\n",
       "    </tr>\n",
       "    <tr>\n",
       "      <th>7</th>\n",
       "      <td>anstiftung_11546</td>\n",
       "      <td>anstiftung</td>\n",
       "      <td>DEU</td>\n",
       "      <td>Unterhaltungselektronik ~ Radio</td>\n",
       "      <td>Portable radio</td>\n",
       "      <td>23</td>\n",
       "      <td>Philips</td>\n",
       "      <td>1993.0</td>\n",
       "      <td>30.0</td>\n",
       "      <td>Repairable</td>\n",
       "      <td>NaN</td>\n",
       "      <td>2711</td>\n",
       "      <td>2023-03-29</td>\n",
       "      <td>Kasette spielt nicht</td>\n",
       "    </tr>\n",
       "  </tbody>\n",
       "</table>\n",
       "</div>"
      ],
      "text/plain": [
       "                 id data_provider country  \\\n",
       "0  anstiftung_11539    anstiftung     DEU   \n",
       "1  anstiftung_11540    anstiftung     DEU   \n",
       "2  anstiftung_11541    anstiftung     DEU   \n",
       "3  anstiftung_11542    anstiftung     DEU   \n",
       "4  anstiftung_11543    anstiftung     DEU   \n",
       "5  anstiftung_11544    anstiftung     DEU   \n",
       "6  anstiftung_11545    anstiftung     DEU   \n",
       "7  anstiftung_11546    anstiftung     DEU   \n",
       "\n",
       "                        partner_product_category  product_category  \\\n",
       "0           Haushaltsgeräte ~ Siebträgermaschine      Coffee maker   \n",
       "1           Elektro divers ~ Bluetooth Musik Box  Hi-Fi integrated   \n",
       "2  Unterhaltungselektronik ~ Lautsprecher(boxen)   Hi-Fi separates   \n",
       "3                              Computer ~ Laptop            Laptop   \n",
       "4               Elektro divers ~ Aktenvernichter    Paper shredder   \n",
       "5                 Haushaltsgeräte ~ Wasserkocher            Kettle   \n",
       "6                Haushaltsgeräte ~ Handrührgerät    Food processor   \n",
       "7                Unterhaltungselektronik ~ Radio    Portable radio   \n",
       "\n",
       "   product_category_id         brand  year_of_manufacture  product_age  \\\n",
       "0                   36         Krups               1998.0         25.0   \n",
       "1                   12           JBL               2016.0          7.0   \n",
       "2                   13         Trust               2013.0         10.0   \n",
       "3                   16       Toshiba               2015.0          8.0   \n",
       "4                   21         Genie               2018.0          5.0   \n",
       "5                   14  Support Plus               2018.0          5.0   \n",
       "6                   37       Severin               2020.0          3.0   \n",
       "7                   23       Philips               1993.0         30.0   \n",
       "\n",
       "  repair_status repair_barrier_if_end_of_life group_identifier  event_date  \\\n",
       "0   End of life     Spare parts too expensive             2711  2023-03-29   \n",
       "1    Repairable                           NaN             2711  2023-03-29   \n",
       "2         Fixed                           NaN             2711  2023-03-29   \n",
       "3   End of life                           NaN             2711  2023-03-29   \n",
       "4   End of life                           NaN             2711  2023-03-29   \n",
       "5   End of life        No way to open product             2711  2023-03-29   \n",
       "6   End of life     Spare parts too expensive             2711  2023-03-29   \n",
       "7    Repairable                           NaN             2711  2023-03-29   \n",
       "\n",
       "                                 problem  \n",
       "0                           Pumpe defekt  \n",
       "1                        Akku lädt nicht  \n",
       "2                          Ohne Funktion  \n",
       "3  Netzteilbuchse und Grafikkarte defekt  \n",
       "4                        Getriebeschaden  \n",
       "5                          ohne Funktion  \n",
       "6                       Läuft zu schnell  \n",
       "7                   Kasette spielt nicht  "
      ]
     },
     "execution_count": 18,
     "metadata": {},
     "output_type": "execute_result"
    }
   ],
   "source": [
    "df.head(8)"
   ]
  },
  {
   "cell_type": "markdown",
   "metadata": {},
   "source": [
    "quick look some rows at random in the dataset using .sample()"
   ]
  },
  {
   "cell_type": "code",
   "execution_count": 19,
   "metadata": {},
   "outputs": [
    {
     "data": {
      "text/html": [
       "<div>\n",
       "<style scoped>\n",
       "    .dataframe tbody tr th:only-of-type {\n",
       "        vertical-align: middle;\n",
       "    }\n",
       "\n",
       "    .dataframe tbody tr th {\n",
       "        vertical-align: top;\n",
       "    }\n",
       "\n",
       "    .dataframe thead th {\n",
       "        text-align: right;\n",
       "    }\n",
       "</style>\n",
       "<table border=\"1\" class=\"dataframe\">\n",
       "  <thead>\n",
       "    <tr style=\"text-align: right;\">\n",
       "      <th></th>\n",
       "      <th>id</th>\n",
       "      <th>data_provider</th>\n",
       "      <th>country</th>\n",
       "      <th>partner_product_category</th>\n",
       "      <th>product_category</th>\n",
       "      <th>product_category_id</th>\n",
       "      <th>brand</th>\n",
       "      <th>year_of_manufacture</th>\n",
       "      <th>product_age</th>\n",
       "      <th>repair_status</th>\n",
       "      <th>repair_barrier_if_end_of_life</th>\n",
       "      <th>group_identifier</th>\n",
       "      <th>event_date</th>\n",
       "      <th>problem</th>\n",
       "    </tr>\n",
       "  </thead>\n",
       "  <tbody>\n",
       "    <tr>\n",
       "      <th>79121</th>\n",
       "      <td>restart_16307</td>\n",
       "      <td>The Restart Project</td>\n",
       "      <td>ITA</td>\n",
       "      <td>Lamp</td>\n",
       "      <td>Lamp</td>\n",
       "      <td>15</td>\n",
       "      <td>Unknown</td>\n",
       "      <td>2009.0</td>\n",
       "      <td>10.0</td>\n",
       "      <td>Repairable</td>\n",
       "      <td>NaN</td>\n",
       "      <td>Repair Cafe Pavia</td>\n",
       "      <td>2019-12-15</td>\n",
       "      <td>Doesn't switch on</td>\n",
       "    </tr>\n",
       "    <tr>\n",
       "      <th>73306</th>\n",
       "      <td>restart_15705</td>\n",
       "      <td>The Restart Project</td>\n",
       "      <td>GBR</td>\n",
       "      <td>Portable radio</td>\n",
       "      <td>Portable radio</td>\n",
       "      <td>23</td>\n",
       "      <td>Roberts</td>\n",
       "      <td>2009.0</td>\n",
       "      <td>10.0</td>\n",
       "      <td>Repairable</td>\n",
       "      <td>NaN</td>\n",
       "      <td>Restarters West London</td>\n",
       "      <td>2019-11-09</td>\n",
       "      <td>Won't tune</td>\n",
       "    </tr>\n",
       "    <tr>\n",
       "      <th>29748</th>\n",
       "      <td>rcint_49976</td>\n",
       "      <td>Repair Café International</td>\n",
       "      <td>NLD</td>\n",
       "      <td>Computer equipment / phones ~ Printer</td>\n",
       "      <td>Printer/scanner</td>\n",
       "      <td>25</td>\n",
       "      <td>Canon</td>\n",
       "      <td>2010.0</td>\n",
       "      <td>12.0</td>\n",
       "      <td>End of life</td>\n",
       "      <td>NaN</td>\n",
       "      <td>0036</td>\n",
       "      <td>2022-12-16</td>\n",
       "      <td>printkop zit vast printkop zit vast</td>\n",
       "    </tr>\n",
       "    <tr>\n",
       "      <th>102165</th>\n",
       "      <td>rcwales_6593</td>\n",
       "      <td>Repair Cafe Wales</td>\n",
       "      <td>GBR</td>\n",
       "      <td>Electrical Item ~ Vacuum</td>\n",
       "      <td>Vacuum</td>\n",
       "      <td>34</td>\n",
       "      <td>Hoover</td>\n",
       "      <td>NaN</td>\n",
       "      <td>NaN</td>\n",
       "      <td>Fixed</td>\n",
       "      <td>NaN</td>\n",
       "      <td>Carmarthen</td>\n",
       "      <td>2022-07-09</td>\n",
       "      <td>Very little suction, and dust not going throug...</td>\n",
       "    </tr>\n",
       "    <tr>\n",
       "      <th>41790</th>\n",
       "      <td>rcint_27732</td>\n",
       "      <td>Repair Café International</td>\n",
       "      <td>NLD</td>\n",
       "      <td>Household appliances electric ~ Coffee maker</td>\n",
       "      <td>Coffee maker</td>\n",
       "      <td>36</td>\n",
       "      <td>Philips</td>\n",
       "      <td>NaN</td>\n",
       "      <td>NaN</td>\n",
       "      <td>End of life</td>\n",
       "      <td>NaN</td>\n",
       "      <td>0011</td>\n",
       "      <td>2020-01-11</td>\n",
       "      <td>kortsluiting boiler defect</td>\n",
       "    </tr>\n",
       "    <tr>\n",
       "      <th>14637</th>\n",
       "      <td>rcint_40221</td>\n",
       "      <td>Repair Café International</td>\n",
       "      <td>DEU</td>\n",
       "      <td>Household appliances electric ~ Iron</td>\n",
       "      <td>Iron</td>\n",
       "      <td>40</td>\n",
       "      <td>Siemens</td>\n",
       "      <td>2016.0</td>\n",
       "      <td>6.0</td>\n",
       "      <td>Fixed</td>\n",
       "      <td>NaN</td>\n",
       "      <td>0460</td>\n",
       "      <td>2022-11-05</td>\n",
       "      <td>heizt einmalig auf , dann nicht mehr. Vermutet...</td>\n",
       "    </tr>\n",
       "    <tr>\n",
       "      <th>48674</th>\n",
       "      <td>rcint_3321</td>\n",
       "      <td>Repair Café International</td>\n",
       "      <td>NLD</td>\n",
       "      <td>Display and sound equipment ~ Amplifier</td>\n",
       "      <td>Hi-Fi separates</td>\n",
       "      <td>13</td>\n",
       "      <td>NAD</td>\n",
       "      <td>NaN</td>\n",
       "      <td>NaN</td>\n",
       "      <td>End of life</td>\n",
       "      <td>NaN</td>\n",
       "      <td>0011</td>\n",
       "      <td>2017-11-11</td>\n",
       "      <td>onbekend elektronisch probleem werkt niet</td>\n",
       "    </tr>\n",
       "    <tr>\n",
       "      <th>14457</th>\n",
       "      <td>rcint_45364</td>\n",
       "      <td>Repair Café International</td>\n",
       "      <td>DEU</td>\n",
       "      <td>Household appliances electric ~ Vacuum cleaner</td>\n",
       "      <td>Vacuum</td>\n",
       "      <td>34</td>\n",
       "      <td>Vorwerk</td>\n",
       "      <td>2000.0</td>\n",
       "      <td>22.0</td>\n",
       "      <td>Fixed</td>\n",
       "      <td>NaN</td>\n",
       "      <td>0195</td>\n",
       "      <td>2022-03-19</td>\n",
       "      <td>Bürste sitzt fest Büste sitzt fest Bürste demo...</td>\n",
       "    </tr>\n",
       "  </tbody>\n",
       "</table>\n",
       "</div>"
      ],
      "text/plain": [
       "                   id              data_provider country  \\\n",
       "79121   restart_16307        The Restart Project     ITA   \n",
       "73306   restart_15705        The Restart Project     GBR   \n",
       "29748     rcint_49976  Repair Café International     NLD   \n",
       "102165   rcwales_6593          Repair Cafe Wales     GBR   \n",
       "41790     rcint_27732  Repair Café International     NLD   \n",
       "14637     rcint_40221  Repair Café International     DEU   \n",
       "48674      rcint_3321  Repair Café International     NLD   \n",
       "14457     rcint_45364  Repair Café International     DEU   \n",
       "\n",
       "                              partner_product_category product_category  \\\n",
       "79121                                             Lamp             Lamp   \n",
       "73306                                   Portable radio   Portable radio   \n",
       "29748            Computer equipment / phones ~ Printer  Printer/scanner   \n",
       "102165                        Electrical Item ~ Vacuum           Vacuum   \n",
       "41790     Household appliances electric ~ Coffee maker     Coffee maker   \n",
       "14637             Household appliances electric ~ Iron             Iron   \n",
       "48674          Display and sound equipment ~ Amplifier  Hi-Fi separates   \n",
       "14457   Household appliances electric ~ Vacuum cleaner           Vacuum   \n",
       "\n",
       "        product_category_id    brand  year_of_manufacture  product_age  \\\n",
       "79121                    15  Unknown               2009.0         10.0   \n",
       "73306                    23  Roberts               2009.0         10.0   \n",
       "29748                    25    Canon               2010.0         12.0   \n",
       "102165                   34   Hoover                  NaN          NaN   \n",
       "41790                    36  Philips                  NaN          NaN   \n",
       "14637                    40  Siemens               2016.0          6.0   \n",
       "48674                    13      NAD                  NaN          NaN   \n",
       "14457                    34  Vorwerk               2000.0         22.0   \n",
       "\n",
       "       repair_status repair_barrier_if_end_of_life        group_identifier  \\\n",
       "79121     Repairable                           NaN       Repair Cafe Pavia   \n",
       "73306     Repairable                           NaN  Restarters West London   \n",
       "29748    End of life                           NaN                    0036   \n",
       "102165         Fixed                           NaN              Carmarthen   \n",
       "41790    End of life                           NaN                    0011   \n",
       "14637          Fixed                           NaN                    0460   \n",
       "48674    End of life                           NaN                    0011   \n",
       "14457          Fixed                           NaN                    0195   \n",
       "\n",
       "        event_date                                            problem  \n",
       "79121   2019-12-15                                  Doesn't switch on  \n",
       "73306   2019-11-09                                         Won't tune  \n",
       "29748   2022-12-16                printkop zit vast printkop zit vast  \n",
       "102165  2022-07-09  Very little suction, and dust not going throug...  \n",
       "41790   2020-01-11                         kortsluiting boiler defect  \n",
       "14637   2022-11-05  heizt einmalig auf , dann nicht mehr. Vermutet...  \n",
       "48674   2017-11-11          onbekend elektronisch probleem werkt niet  \n",
       "14457   2022-03-19  Bürste sitzt fest Büste sitzt fest Bürste demo...  "
      ]
     },
     "execution_count": 19,
     "metadata": {},
     "output_type": "execute_result"
    }
   ],
   "source": [
    "df.sample(8)"
   ]
  },
  {
   "cell_type": "markdown",
   "metadata": {},
   "source": [
    "quick look at the last few rows of the dataset using .tail() <br>\n",
    "good to compare and contrast with the first few rows"
   ]
  },
  {
   "cell_type": "code",
   "execution_count": 20,
   "metadata": {},
   "outputs": [
    {
     "data": {
      "text/html": [
       "<div>\n",
       "<style scoped>\n",
       "    .dataframe tbody tr th:only-of-type {\n",
       "        vertical-align: middle;\n",
       "    }\n",
       "\n",
       "    .dataframe tbody tr th {\n",
       "        vertical-align: top;\n",
       "    }\n",
       "\n",
       "    .dataframe thead th {\n",
       "        text-align: right;\n",
       "    }\n",
       "</style>\n",
       "<table border=\"1\" class=\"dataframe\">\n",
       "  <thead>\n",
       "    <tr style=\"text-align: right;\">\n",
       "      <th></th>\n",
       "      <th>id</th>\n",
       "      <th>data_provider</th>\n",
       "      <th>country</th>\n",
       "      <th>partner_product_category</th>\n",
       "      <th>product_category</th>\n",
       "      <th>product_category_id</th>\n",
       "      <th>brand</th>\n",
       "      <th>year_of_manufacture</th>\n",
       "      <th>product_age</th>\n",
       "      <th>repair_status</th>\n",
       "      <th>repair_barrier_if_end_of_life</th>\n",
       "      <th>group_identifier</th>\n",
       "      <th>event_date</th>\n",
       "      <th>problem</th>\n",
       "    </tr>\n",
       "  </thead>\n",
       "  <tbody>\n",
       "    <tr>\n",
       "      <th>103068</th>\n",
       "      <td>rcwales_7496</td>\n",
       "      <td>Repair Cafe Wales</td>\n",
       "      <td>GBR</td>\n",
       "      <td>Electrical Item ~ Small home electrical</td>\n",
       "      <td>Small home electrical</td>\n",
       "      <td>28</td>\n",
       "      <td>Unknown</td>\n",
       "      <td>NaN</td>\n",
       "      <td>NaN</td>\n",
       "      <td>End of life</td>\n",
       "      <td>Item too worn out</td>\n",
       "      <td>Mold</td>\n",
       "      <td>2022-10-30</td>\n",
       "      <td>Malfunction.</td>\n",
       "    </tr>\n",
       "    <tr>\n",
       "      <th>103069</th>\n",
       "      <td>rcwales_7497</td>\n",
       "      <td>Repair Cafe Wales</td>\n",
       "      <td>GBR</td>\n",
       "      <td>Electrical Item ~ Sewing machine</td>\n",
       "      <td>Sewing machine</td>\n",
       "      <td>27</td>\n",
       "      <td>Bernina</td>\n",
       "      <td>NaN</td>\n",
       "      <td>NaN</td>\n",
       "      <td>Repairable</td>\n",
       "      <td>NaN</td>\n",
       "      <td>Mold</td>\n",
       "      <td>2022-10-30</td>\n",
       "      <td>It is stuck on buttonhole mode and is seized up.</td>\n",
       "    </tr>\n",
       "    <tr>\n",
       "      <th>103070</th>\n",
       "      <td>rcwales_7498</td>\n",
       "      <td>Repair Cafe Wales</td>\n",
       "      <td>GBR</td>\n",
       "      <td>Electrical Item ~ Sewing machine</td>\n",
       "      <td>Sewing machine</td>\n",
       "      <td>27</td>\n",
       "      <td>Jones</td>\n",
       "      <td>NaN</td>\n",
       "      <td>NaN</td>\n",
       "      <td>Repairable</td>\n",
       "      <td>NaN</td>\n",
       "      <td>Mold</td>\n",
       "      <td>2022-10-30</td>\n",
       "      <td>Unknown probably motor.</td>\n",
       "    </tr>\n",
       "    <tr>\n",
       "      <th>103071</th>\n",
       "      <td>rcwales_7499</td>\n",
       "      <td>Repair Cafe Wales</td>\n",
       "      <td>GBR</td>\n",
       "      <td>Electrical Item ~ Small home electrical</td>\n",
       "      <td>Small home electrical</td>\n",
       "      <td>28</td>\n",
       "      <td>Permaplug</td>\n",
       "      <td>NaN</td>\n",
       "      <td>NaN</td>\n",
       "      <td>Fixed</td>\n",
       "      <td>NaN</td>\n",
       "      <td>Mold</td>\n",
       "      <td>2022-10-30</td>\n",
       "      <td>Extension cable for PAT testing.</td>\n",
       "    </tr>\n",
       "    <tr>\n",
       "      <th>103072</th>\n",
       "      <td>rcwales_7500</td>\n",
       "      <td>Repair Cafe Wales</td>\n",
       "      <td>GBR</td>\n",
       "      <td>Electrical Item ~ Misc</td>\n",
       "      <td>Misc</td>\n",
       "      <td>18</td>\n",
       "      <td>Unknown</td>\n",
       "      <td>NaN</td>\n",
       "      <td>NaN</td>\n",
       "      <td>Repairable</td>\n",
       "      <td>NaN</td>\n",
       "      <td>Mold</td>\n",
       "      <td>2022-10-30</td>\n",
       "      <td>Broken mirror.</td>\n",
       "    </tr>\n",
       "    <tr>\n",
       "      <th>103073</th>\n",
       "      <td>rcwales_7501</td>\n",
       "      <td>Repair Cafe Wales</td>\n",
       "      <td>GBR</td>\n",
       "      <td>Electrical Item ~ Sewing machine</td>\n",
       "      <td>Sewing machine</td>\n",
       "      <td>27</td>\n",
       "      <td>Toyota</td>\n",
       "      <td>NaN</td>\n",
       "      <td>NaN</td>\n",
       "      <td>Fixed</td>\n",
       "      <td>NaN</td>\n",
       "      <td>Mold</td>\n",
       "      <td>2022-10-30</td>\n",
       "      <td>Cotton reel spindle needs replacing.</td>\n",
       "    </tr>\n",
       "    <tr>\n",
       "      <th>103074</th>\n",
       "      <td>rcwales_7502</td>\n",
       "      <td>Repair Cafe Wales</td>\n",
       "      <td>GBR</td>\n",
       "      <td>Electrical Item ~ Sewing machine</td>\n",
       "      <td>Sewing machine</td>\n",
       "      <td>27</td>\n",
       "      <td>Brother</td>\n",
       "      <td>NaN</td>\n",
       "      <td>NaN</td>\n",
       "      <td>Fixed</td>\n",
       "      <td>NaN</td>\n",
       "      <td>Mold</td>\n",
       "      <td>2022-10-30</td>\n",
       "      <td>Bobbin not working.</td>\n",
       "    </tr>\n",
       "    <tr>\n",
       "      <th>103075</th>\n",
       "      <td>rcwales_7503</td>\n",
       "      <td>Repair Cafe Wales</td>\n",
       "      <td>GBR</td>\n",
       "      <td>Electrical Item ~ Vacuum</td>\n",
       "      <td>Vacuum</td>\n",
       "      <td>34</td>\n",
       "      <td>Hoover</td>\n",
       "      <td>NaN</td>\n",
       "      <td>NaN</td>\n",
       "      <td>Fixed</td>\n",
       "      <td>NaN</td>\n",
       "      <td>Mold</td>\n",
       "      <td>2022-10-30</td>\n",
       "      <td>It doesn’t turn on.</td>\n",
       "    </tr>\n",
       "  </tbody>\n",
       "</table>\n",
       "</div>"
      ],
      "text/plain": [
       "                  id      data_provider country  \\\n",
       "103068  rcwales_7496  Repair Cafe Wales     GBR   \n",
       "103069  rcwales_7497  Repair Cafe Wales     GBR   \n",
       "103070  rcwales_7498  Repair Cafe Wales     GBR   \n",
       "103071  rcwales_7499  Repair Cafe Wales     GBR   \n",
       "103072  rcwales_7500  Repair Cafe Wales     GBR   \n",
       "103073  rcwales_7501  Repair Cafe Wales     GBR   \n",
       "103074  rcwales_7502  Repair Cafe Wales     GBR   \n",
       "103075  rcwales_7503  Repair Cafe Wales     GBR   \n",
       "\n",
       "                       partner_product_category       product_category  \\\n",
       "103068  Electrical Item ~ Small home electrical  Small home electrical   \n",
       "103069         Electrical Item ~ Sewing machine         Sewing machine   \n",
       "103070         Electrical Item ~ Sewing machine         Sewing machine   \n",
       "103071  Electrical Item ~ Small home electrical  Small home electrical   \n",
       "103072                   Electrical Item ~ Misc                   Misc   \n",
       "103073         Electrical Item ~ Sewing machine         Sewing machine   \n",
       "103074         Electrical Item ~ Sewing machine         Sewing machine   \n",
       "103075                 Electrical Item ~ Vacuum                 Vacuum   \n",
       "\n",
       "        product_category_id      brand  year_of_manufacture  product_age  \\\n",
       "103068                   28    Unknown                  NaN          NaN   \n",
       "103069                   27    Bernina                  NaN          NaN   \n",
       "103070                   27      Jones                  NaN          NaN   \n",
       "103071                   28  Permaplug                  NaN          NaN   \n",
       "103072                   18    Unknown                  NaN          NaN   \n",
       "103073                   27     Toyota                  NaN          NaN   \n",
       "103074                   27    Brother                  NaN          NaN   \n",
       "103075                   34     Hoover                  NaN          NaN   \n",
       "\n",
       "       repair_status repair_barrier_if_end_of_life group_identifier  \\\n",
       "103068   End of life             Item too worn out             Mold   \n",
       "103069    Repairable                           NaN             Mold   \n",
       "103070    Repairable                           NaN             Mold   \n",
       "103071         Fixed                           NaN             Mold   \n",
       "103072    Repairable                           NaN             Mold   \n",
       "103073         Fixed                           NaN             Mold   \n",
       "103074         Fixed                           NaN             Mold   \n",
       "103075         Fixed                           NaN             Mold   \n",
       "\n",
       "        event_date                                           problem  \n",
       "103068  2022-10-30                                      Malfunction.  \n",
       "103069  2022-10-30  It is stuck on buttonhole mode and is seized up.  \n",
       "103070  2022-10-30                           Unknown probably motor.  \n",
       "103071  2022-10-30                  Extension cable for PAT testing.  \n",
       "103072  2022-10-30                                    Broken mirror.  \n",
       "103073  2022-10-30              Cotton reel spindle needs replacing.  \n",
       "103074  2022-10-30                               Bobbin not working.  \n",
       "103075  2022-10-30                               It doesn’t turn on.  "
      ]
     },
     "execution_count": 20,
     "metadata": {},
     "output_type": "execute_result"
    }
   ],
   "source": [
    "df.tail(8)"
   ]
  },
  {
   "cell_type": "markdown",
   "metadata": {},
   "source": [
    "quick overview of the distribution of the numerical values using .describe()"
   ]
  },
  {
   "cell_type": "code",
   "execution_count": 21,
   "metadata": {},
   "outputs": [
    {
     "data": {
      "text/html": [
       "<div>\n",
       "<style scoped>\n",
       "    .dataframe tbody tr th:only-of-type {\n",
       "        vertical-align: middle;\n",
       "    }\n",
       "\n",
       "    .dataframe tbody tr th {\n",
       "        vertical-align: top;\n",
       "    }\n",
       "\n",
       "    .dataframe thead th {\n",
       "        text-align: right;\n",
       "    }\n",
       "</style>\n",
       "<table border=\"1\" class=\"dataframe\">\n",
       "  <thead>\n",
       "    <tr style=\"text-align: right;\">\n",
       "      <th></th>\n",
       "      <th>product_category_id</th>\n",
       "      <th>year_of_manufacture</th>\n",
       "      <th>product_age</th>\n",
       "    </tr>\n",
       "  </thead>\n",
       "  <tbody>\n",
       "    <tr>\n",
       "      <th>count</th>\n",
       "      <td>103076.000000</td>\n",
       "      <td>37117.000000</td>\n",
       "      <td>37117.000000</td>\n",
       "    </tr>\n",
       "    <tr>\n",
       "      <th>mean</th>\n",
       "      <td>23.369417</td>\n",
       "      <td>2008.472452</td>\n",
       "      <td>12.056543</td>\n",
       "    </tr>\n",
       "    <tr>\n",
       "      <th>std</th>\n",
       "      <td>10.205812</td>\n",
       "      <td>14.654064</td>\n",
       "      <td>14.560084</td>\n",
       "    </tr>\n",
       "    <tr>\n",
       "      <th>min</th>\n",
       "      <td>1.000000</td>\n",
       "      <td>1019.000000</td>\n",
       "      <td>-1.000000</td>\n",
       "    </tr>\n",
       "    <tr>\n",
       "      <th>25%</th>\n",
       "      <td>15.000000</td>\n",
       "      <td>2005.000000</td>\n",
       "      <td>4.000000</td>\n",
       "    </tr>\n",
       "    <tr>\n",
       "      <th>50%</th>\n",
       "      <td>24.000000</td>\n",
       "      <td>2013.000000</td>\n",
       "      <td>7.000000</td>\n",
       "    </tr>\n",
       "    <tr>\n",
       "      <th>75%</th>\n",
       "      <td>33.000000</td>\n",
       "      <td>2017.000000</td>\n",
       "      <td>15.000000</td>\n",
       "    </tr>\n",
       "    <tr>\n",
       "      <th>max</th>\n",
       "      <td>40.000000</td>\n",
       "      <td>2023.000000</td>\n",
       "      <td>998.000000</td>\n",
       "    </tr>\n",
       "  </tbody>\n",
       "</table>\n",
       "</div>"
      ],
      "text/plain": [
       "       product_category_id  year_of_manufacture   product_age\n",
       "count        103076.000000         37117.000000  37117.000000\n",
       "mean             23.369417          2008.472452     12.056543\n",
       "std              10.205812            14.654064     14.560084\n",
       "min               1.000000          1019.000000     -1.000000\n",
       "25%              15.000000          2005.000000      4.000000\n",
       "50%              24.000000          2013.000000      7.000000\n",
       "75%              33.000000          2017.000000     15.000000\n",
       "max              40.000000          2023.000000    998.000000"
      ]
     },
     "execution_count": 21,
     "metadata": {},
     "output_type": "execute_result"
    }
   ],
   "source": [
    "df.describe()"
   ]
  },
  {
   "cell_type": "markdown",
   "metadata": {},
   "source": [
    "quick look at the target variable - 'repair_status'"
   ]
  },
  {
   "cell_type": "code",
   "execution_count": 22,
   "metadata": {},
   "outputs": [
    {
     "data": {
      "image/png": "[encoded data removed]",
      "text/plain": [
       "<Figure size 640x480 with 1 Axes>"
      ]
     },
     "metadata": {},
     "output_type": "display_data"
    }
   ],
   "source": [
    "value_counts = df['repair_status'].value_counts()\n",
    "\n",
    "plt.bar(value_counts.index, value_counts.values)\n",
    "plt.xlabel('Repair Status')\n",
    "plt.ylabel('Number of Items')\n",
    "plt.title('Tally of Items by Repair Status')\n",
    "plt.xticks(rotation=45)\n",
    "plt.tight_layout()\n",
    "plt.show()"
   ]
  },
  {
   "cell_type": "markdown",
   "metadata": {},
   "source": [
    "We see that the majority of items in this dataset were able to be fixed, and a further 20% or so listed as \"Repairable\"\n",
    "A combined less than 25% are \"End of Life\" (fix improbable or inadvisable) or \"Unknown\""
   ]
  },
  {
   "cell_type": "markdown",
   "metadata": {},
   "source": [
    "Pandas crosstab of Country vs Counts of Repair Status using pd.crosstab() followed by a stacked bar chart visualizing the data"
   ]
  },
  {
   "cell_type": "code",
   "execution_count": 30,
   "metadata": {},
   "outputs": [
    {
     "name": "stdout",
     "output_type": "stream",
     "text": [
      "repair_status  End of life  Fixed  Repairable  Unknown\n",
      "country                                               \n",
      "ARG                    141    465          11        0\n",
      "AUS                    245    275         111        0\n",
      "AUT                     42    109          26        4\n",
      "BEL                   3000   7161        3154      103\n",
      "BEN                      0      6           3        0\n",
      "CAN                    459   1260         696        0\n",
      "CHE                     15     47          33        0\n",
      "DEU                   1983   7651        2379     1462\n",
      "DNK                    797   3027         389      950\n",
      "ESP                    158    393         223        2\n",
      "FRA                   1243   1864         893        2\n",
      "GBR                   6660  13253        7144      733\n",
      "HKG                     12     56         110        0\n",
      "IRL                     17     83          57        0\n",
      "ISL                     20     31          40        0\n",
      "ISR                     49     81          36        0\n",
      "ITA                    319   1072         361       10\n",
      "JEY                     40    134          55        1\n",
      "LUX                      1      2           0        0\n",
      "NLD                   8786  15346        4184        2\n",
      "NOR                    176    604         376        0\n",
      "NZL                     67    145          78       17\n",
      "SWE                     67    294         160       22\n",
      "TUN                      5     84           9        0\n",
      "TWN                      0      3           0        0\n",
      "USA                    127    846         417       92\n",
      "ZAF                      4      3           3        0\n"
     ]
    },
    {
     "data": {
      "image/png": "[encoded data removed]",
      "text/plain": [
       "<Figure size 640x480 with 1 Axes>"
      ]
     },
     "metadata": {},
     "output_type": "display_data"
    }
   ],
   "source": [
    "qf = df.copy()\n",
    "\n",
    "cross_tab = pd.crosstab(qf['country'], qf['repair_status'])\n",
    "print(cross_tab)\n",
    "\n",
    "cross_tab.plot(kind='bar')\n",
    "plt.xlabel('Country')\n",
    "plt.ylabel('Repair Status')\n",
    "plt.title('Repair Status vs Country Counts')\n",
    "plt.legend(title='Country')\n",
    "plt.show()"
   ]
  },
  {
   "cell_type": "markdown",
   "metadata": {},
   "source": [
    "Looks like items are able to be fixed far more often than not, irrespective of the country in which the attempt was made"
   ]
  },
  {
   "cell_type": "code",
   "execution_count": 24,
   "metadata": {},
   "outputs": [
    {
     "name": "stdout",
     "output_type": "stream",
     "text": [
      "brand          \"Princess\" fruitpers  (missed)  -  - onbekend  ....  /  1930s  \\\n",
      "repair_status                                                                  \n",
      "End of life                       1         0  1           0     1  2      0   \n",
      "Fixed                             0         1  3           0     0  0      0   \n",
      "Repairable                        0         0  0           1     0  0      1   \n",
      "Unknown                           0         0  0           0     0  0      0   \n",
      "\n",
      "brand          1960's wooden table lamp  1960s misc  1byone  ...  zeppelin  \\\n",
      "repair_status                                                ...             \n",
      "End of life                           0           0       1  ...         0   \n",
      "Fixed                                 1           0       0  ...         0   \n",
      "Repairable                            0           1       0  ...         1   \n",
      "Unknown                               0           0       0  ...         0   \n",
      "\n",
      "brand          zig zag  zigzag Deluxe Krëfel  zonder  zoom  à feuilles  \\\n",
      "repair_status                                                            \n",
      "End of life          0                     0       0     0           0   \n",
      "Fixed                0                     1       1     1           1   \n",
      "Repairable           1                     0       0     0           0   \n",
      "Unknown              0                     0       0     0           0   \n",
      "\n",
      "brand          à main  ældre model  électrique  國騰  \n",
      "repair_status                                       \n",
      "End of life         0            1           0   0  \n",
      "Fixed               1            0           0   1  \n",
      "Repairable          0            0           0   0  \n",
      "Unknown             0            0           1   0  \n",
      "\n",
      "[4 rows x 9061 columns]\n"
     ]
    }
   ],
   "source": [
    "cross_tab = pd.crosstab(qf['repair_status'], qf['brand'])\n",
    "print(cross_tab)"
   ]
  },
  {
   "cell_type": "code",
   "execution_count": 25,
   "metadata": {},
   "outputs": [
    {
     "name": "stdout",
     "output_type": "stream",
     "text": [
      "product_age    -1.0     0.0     0.1     0.2     0.3     0.4     0.5     0.6    \\\n",
      "repair_status                                                                   \n",
      "End of life         0      63       1       1       1       0      25       0   \n",
      "Fixed               0     121       2       3       7       1      88       0   \n",
      "Repairable          0      32       2       5       1       0      43       2   \n",
      "Unknown             1       4       0       0       0       0       1       0   \n",
      "\n",
      "product_age     0.7     0.8    ...   109.0   110.0   112.0   114.0   119.0  \\\n",
      "repair_status                  ...                                           \n",
      "End of life         1       0  ...       0       0       0       0       0   \n",
      "Fixed               0       3  ...       2       1       1       1       0   \n",
      "Repairable          0       3  ...       0       2       0       0       2   \n",
      "Unknown             0       0  ...       0       0       0       0       0   \n",
      "\n",
      "product_age     120.0   121.0   122.0   123.0   998.0  \n",
      "repair_status                                          \n",
      "End of life         1       1       0       8       0  \n",
      "Fixed               0       1       1       6       0  \n",
      "Repairable          2       3       0       3       1  \n",
      "Unknown             0       0       0       0       0  \n",
      "\n",
      "[4 rows x 155 columns]\n"
     ]
    }
   ],
   "source": [
    "cross_tab = pd.crosstab(qf['repair_status'], qf['product_age'])\n",
    "print(cross_tab)"
   ]
  },
  {
   "cell_type": "code",
   "execution_count": 26,
   "metadata": {},
   "outputs": [
    {
     "name": "stdout",
     "output_type": "stream",
     "text": [
      "repair_status                      End of life  Fixed  Repairable  Unknown\n",
      "product_category                                                          \n",
      "Aircon/dehumidifier                        107    158         105       15\n",
      "Battery/charger/adapter                    384    775         201       62\n",
      "Coffee maker                              1765   3146        1226      158\n",
      "DSLR/video camera                           83     99         102       33\n",
      "Decorative or safety lights                383   1192         322       44\n",
      "Desktop computer                           184    550         254       45\n",
      "Digital compact camera                     190    196         161       28\n",
      "Fan                                        256    471         124       22\n",
      "Flat screen                                269    328         316       96\n",
      "Food processor                            1311   2389         788      161\n",
      "Games console                               93    174         109       13\n",
      "Hair & beauty item                         541    950         331       59\n",
      "Hair dryer                                 237    651          71       37\n",
      "Handheld entertainment device              243    543         271       79\n",
      "Headphones                                 258    762         266       42\n",
      "Hi-Fi integrated                           429    791         399       74\n",
      "Hi-Fi separates                           1721   3053        1464      236\n",
      "Iron                                       768   1050         433       43\n",
      "Kettle                                     919    901         273       74\n",
      "Lamp                                       782   4632        1144      130\n",
      "Laptop                                     874   3370        2093      135\n",
      "Large home electrical                      552   1063         503       62\n",
      "Misc                                       473   1076         398       90\n",
      "Mobile                                     395   1363         954       80\n",
      "Musical instrument                          59    240         106        7\n",
      "PC accessory                               226    473         224       35\n",
      "Paper shredder                             171    371          42       11\n",
      "Portable radio                            1095   2458         916      199\n",
      "Power tool                                1441   2923        1011      146\n",
      "Printer/scanner                            696    832         544      130\n",
      "Projector                                   67    196          98       22\n",
      "Sewing machine                             384   2307         513      114\n",
      "Small home electrical                      886   1908         559      198\n",
      "Small kitchen item                        1469   2468         910      140\n",
      "TV and gaming-related accessories          847   1057         536      108\n",
      "Tablet                                     372    772         598       43\n",
      "Toaster                                    815   1133         346       98\n",
      "Toy                                        396   1196         357       67\n",
      "Vacuum                                    1562   4252        1310      184\n",
      "Watch/clock                                730   2026         570       80\n"
     ]
    },
    {
     "data": {
      "image/png": "[encoded data removed]",
      "text/plain": [
       "<Figure size 640x480 with 1 Axes>"
      ]
     },
     "metadata": {},
     "output_type": "display_data"
    }
   ],
   "source": [
    "qf = df.copy()\n",
    "\n",
    "cross_tab = pd.crosstab(qf['product_category'], qf['repair_status'])\n",
    "print(cross_tab)\n",
    "\n",
    "cross_tab.plot(kind='bar', stacked=True)\n",
    "plt.xlabel('product_category')\n",
    "plt.ylabel('Repair Status')\n",
    "plt.title('Repair Status vs Product Category')\n",
    "plt.legend(title='Product Category')\n",
    "plt.show()"
   ]
  },
  {
   "cell_type": "code",
   "execution_count": 27,
   "metadata": {},
   "outputs": [
    {
     "name": "stdout",
     "output_type": "stream",
     "text": [
      "repair_status                      End of life     Fixed  Repairable   Unknown\n",
      "product_category                                                              \n",
      "Sewing machine                        0.115732  0.695298    0.154611  0.034358\n",
      "Lamp                                  0.116926  0.692584    0.171053  0.019438\n",
      "Hair dryer                            0.237952  0.653614    0.071285  0.037149\n",
      "Paper shredder                        0.287395  0.623529    0.070588  0.018487\n",
      "Decorative or safety lights           0.197321  0.614116    0.165894  0.022669\n",
      "Watch/clock                           0.214328  0.594833    0.167352  0.023488\n",
      "Toy                                   0.196429  0.593254    0.177083  0.033234\n",
      "Musical instrument                    0.143204  0.582524    0.257282  0.016990\n",
      "Vacuum                                0.213738  0.581828    0.179256  0.025178\n",
      "Headphones                            0.194277  0.573795    0.200301  0.031627\n",
      "Battery/charger/adapter               0.270042  0.545007    0.141350  0.043601\n",
      "Fan                                   0.293242  0.539519    0.142039  0.025200\n",
      "Small home electrical                 0.249507  0.537313    0.157420  0.055759\n",
      "Desktop computer                      0.178122  0.532430    0.245886  0.043562\n",
      "Power tool                            0.261003  0.529433    0.183119  0.026444\n",
      "Misc                                  0.232204  0.528228    0.195385  0.044183\n",
      "Portable radio                        0.234576  0.526564    0.196230  0.042631\n",
      "Laptop                                0.135043  0.520705    0.323393  0.020859\n",
      "Food processor                        0.281996  0.513874    0.169499  0.034631\n",
      "Projector                             0.174935  0.511749    0.255875  0.057441\n",
      "Hair & beauty item                    0.287613  0.505051    0.175970  0.031366\n",
      "Coffee maker                          0.280381  0.499762    0.194758  0.025099\n",
      "Small kitchen item                    0.294566  0.494887    0.182474  0.028073\n",
      "PC accessory                          0.235908  0.493737    0.233820  0.036534\n",
      "Mobile                                0.141476  0.488181    0.341691  0.028653\n",
      "Large home electrical                 0.253211  0.487615    0.230734  0.028440\n",
      "Handheld entertainment device         0.213908  0.477993    0.238556  0.069542\n",
      "Toaster                               0.340719  0.473662    0.144649  0.040970\n",
      "Hi-Fi separates                       0.265833  0.471579    0.226135  0.036454\n",
      "Hi-Fi integrated                      0.253396  0.467218    0.235676  0.043709\n",
      "Iron                                  0.334786  0.457716    0.188753  0.018745\n",
      "Games console                         0.239075  0.447301    0.280206  0.033419\n",
      "Tablet                                0.208403  0.432493    0.335014  0.024090\n",
      "Kettle                                0.424089  0.415782    0.125981  0.034149\n",
      "TV and gaming-related accessories     0.332418  0.414835    0.210361  0.042386\n",
      "Aircon/dehumidifier                   0.277922  0.410390    0.272727  0.038961\n",
      "Printer/scanner                       0.316076  0.377838    0.247048  0.059037\n",
      "Digital compact camera                0.330435  0.340870    0.280000  0.048696\n",
      "Flat screen                           0.266601  0.325074    0.313181  0.095144\n",
      "DSLR/video camera                     0.261830  0.312303    0.321767  0.104101\n"
     ]
    }
   ],
   "source": [
    "sorted_category_status_proportions = category_status_proportions.sort_values(by=['Fixed'], ascending=[False])\n",
    "print(sorted_category_status_proportions)\n",
    "\n"
   ]
  },
  {
   "cell_type": "markdown",
   "metadata": {},
   "source": [
    "Very promising results! Right away we can see that the top 5 categories in terms of repairability success rate are all above 60% in the \"fixed\" status alone, not even including the additional opportunities identified by the 'repairable' column.\n",
    "\n",
    "While the bottom 4 product categories have a success rate of under 40% (but never lower than 30%), and about half the dataset has a success rate between 40 and 50%, the combined Fixed + Repairable count is never under 50% for any of the product categories. "
   ]
  },
  {
   "cell_type": "markdown",
   "metadata": {},
   "source": [
    "## Data Preprocessing {#data-preprocessing}"
   ]
  },
  {
   "cell_type": "markdown",
   "metadata": {},
   "source": [
    "choosing a sample of data for more manageable NLP processing <br>\n",
    "#ATM machine\n",
    "#PIN number"
   ]
  },
  {
   "cell_type": "code",
   "execution_count": 31,
   "metadata": {},
   "outputs": [],
   "source": [
    "sf = qf.sample(n=1000, random_state=1)"
   ]
  },
  {
   "cell_type": "markdown",
   "metadata": {},
   "source": [
    "Vectorizing the problem column for NLP"
   ]
  },
  {
   "cell_type": "code",
   "execution_count": 32,
   "metadata": {},
   "outputs": [
    {
     "ename": "ValueError",
     "evalue": "np.nan is an invalid document, expected byte or unicode string.",
     "output_type": "error",
     "traceback": [
      "\u001b[1;31m---------------------------------------------------------------------------\u001b[0m",
      "\u001b[1;31mValueError\u001b[0m                                Traceback (most recent call last)",
      "\u001b[1;32mc:\\Users\\User\\Desktop\\BrainStation-Data-Science-Capstone\\Notebooks\\Andrew_Chau_BrainStation_DS_Capstone.ipynb Cell 31\u001b[0m in \u001b[0;36m<cell line: 5>\u001b[1;34m()\u001b[0m\n\u001b[0;32m      <a href='vscode-notebook-cell:/c%3A/Users/User/Desktop/BrainStation-Data-Science-Capstone/Notebooks/Andrew_Chau_BrainStation_DS_Capstone.ipynb#X44sZmlsZQ%3D%3D?line=0'>1</a>\u001b[0m \u001b[39mfrom\u001b[39;00m \u001b[39msklearn\u001b[39;00m\u001b[39m.\u001b[39;00m\u001b[39mfeature_extraction\u001b[39;00m\u001b[39m.\u001b[39;00m\u001b[39mtext\u001b[39;00m \u001b[39mimport\u001b[39;00m CountVectorizer\n\u001b[0;32m      <a href='vscode-notebook-cell:/c%3A/Users/User/Desktop/BrainStation-Data-Science-Capstone/Notebooks/Andrew_Chau_BrainStation_DS_Capstone.ipynb#X44sZmlsZQ%3D%3D?line=2'>3</a>\u001b[0m vectorizer \u001b[39m=\u001b[39m CountVectorizer()\n\u001b[1;32m----> <a href='vscode-notebook-cell:/c%3A/Users/User/Desktop/BrainStation-Data-Science-Capstone/Notebooks/Andrew_Chau_BrainStation_DS_Capstone.ipynb#X44sZmlsZQ%3D%3D?line=4'>5</a>\u001b[0m X \u001b[39m=\u001b[39m vectorizer\u001b[39m.\u001b[39;49mfit_transform(sf[\u001b[39m'\u001b[39;49m\u001b[39mproblem\u001b[39;49m\u001b[39m'\u001b[39;49m])\n\u001b[0;32m      <a href='vscode-notebook-cell:/c%3A/Users/User/Desktop/BrainStation-Data-Science-Capstone/Notebooks/Andrew_Chau_BrainStation_DS_Capstone.ipynb#X44sZmlsZQ%3D%3D?line=6'>7</a>\u001b[0m vectorized_df \u001b[39m=\u001b[39m pd\u001b[39m.\u001b[39mDataFrame(X\u001b[39m.\u001b[39mtoarray(), columns\u001b[39m=\u001b[39mvectorizer\u001b[39m.\u001b[39mget_feature_names_out())\n\u001b[0;32m      <a href='vscode-notebook-cell:/c%3A/Users/User/Desktop/BrainStation-Data-Science-Capstone/Notebooks/Andrew_Chau_BrainStation_DS_Capstone.ipynb#X44sZmlsZQ%3D%3D?line=8'>9</a>\u001b[0m \u001b[39mprint\u001b[39m(vectorized_df)\n",
      "File \u001b[1;32mc:\\Users\\User\\anaconda3\\lib\\site-packages\\sklearn\\base.py:1151\u001b[0m, in \u001b[0;36m_fit_context.<locals>.decorator.<locals>.wrapper\u001b[1;34m(estimator, *args, **kwargs)\u001b[0m\n\u001b[0;32m   1144\u001b[0m     estimator\u001b[39m.\u001b[39m_validate_params()\n\u001b[0;32m   1146\u001b[0m \u001b[39mwith\u001b[39;00m config_context(\n\u001b[0;32m   1147\u001b[0m     skip_parameter_validation\u001b[39m=\u001b[39m(\n\u001b[0;32m   1148\u001b[0m         prefer_skip_nested_validation \u001b[39mor\u001b[39;00m global_skip_validation\n\u001b[0;32m   1149\u001b[0m     )\n\u001b[0;32m   1150\u001b[0m ):\n\u001b[1;32m-> 1151\u001b[0m     \u001b[39mreturn\u001b[39;00m fit_method(estimator, \u001b[39m*\u001b[39;49margs, \u001b[39m*\u001b[39;49m\u001b[39m*\u001b[39;49mkwargs)\n",
      "File \u001b[1;32mc:\\Users\\User\\anaconda3\\lib\\site-packages\\sklearn\\feature_extraction\\text.py:1383\u001b[0m, in \u001b[0;36mCountVectorizer.fit_transform\u001b[1;34m(self, raw_documents, y)\u001b[0m\n\u001b[0;32m   1375\u001b[0m             warnings\u001b[39m.\u001b[39mwarn(\n\u001b[0;32m   1376\u001b[0m                 \u001b[39m\"\u001b[39m\u001b[39mUpper case characters found in\u001b[39m\u001b[39m\"\u001b[39m\n\u001b[0;32m   1377\u001b[0m                 \u001b[39m\"\u001b[39m\u001b[39m vocabulary while \u001b[39m\u001b[39m'\u001b[39m\u001b[39mlowercase\u001b[39m\u001b[39m'\u001b[39m\u001b[39m\"\u001b[39m\n\u001b[0;32m   1378\u001b[0m                 \u001b[39m\"\u001b[39m\u001b[39m is True. These entries will not\u001b[39m\u001b[39m\"\u001b[39m\n\u001b[0;32m   1379\u001b[0m                 \u001b[39m\"\u001b[39m\u001b[39m be matched with any documents\u001b[39m\u001b[39m\"\u001b[39m\n\u001b[0;32m   1380\u001b[0m             )\n\u001b[0;32m   1381\u001b[0m             \u001b[39mbreak\u001b[39;00m\n\u001b[1;32m-> 1383\u001b[0m vocabulary, X \u001b[39m=\u001b[39m \u001b[39mself\u001b[39;49m\u001b[39m.\u001b[39;49m_count_vocab(raw_documents, \u001b[39mself\u001b[39;49m\u001b[39m.\u001b[39;49mfixed_vocabulary_)\n\u001b[0;32m   1385\u001b[0m \u001b[39mif\u001b[39;00m \u001b[39mself\u001b[39m\u001b[39m.\u001b[39mbinary:\n\u001b[0;32m   1386\u001b[0m     X\u001b[39m.\u001b[39mdata\u001b[39m.\u001b[39mfill(\u001b[39m1\u001b[39m)\n",
      "File \u001b[1;32mc:\\Users\\User\\anaconda3\\lib\\site-packages\\sklearn\\feature_extraction\\text.py:1270\u001b[0m, in \u001b[0;36mCountVectorizer._count_vocab\u001b[1;34m(self, raw_documents, fixed_vocab)\u001b[0m\n\u001b[0;32m   1268\u001b[0m \u001b[39mfor\u001b[39;00m doc \u001b[39min\u001b[39;00m raw_documents:\n\u001b[0;32m   1269\u001b[0m     feature_counter \u001b[39m=\u001b[39m {}\n\u001b[1;32m-> 1270\u001b[0m     \u001b[39mfor\u001b[39;00m feature \u001b[39min\u001b[39;00m analyze(doc):\n\u001b[0;32m   1271\u001b[0m         \u001b[39mtry\u001b[39;00m:\n\u001b[0;32m   1272\u001b[0m             feature_idx \u001b[39m=\u001b[39m vocabulary[feature]\n",
      "File \u001b[1;32mc:\\Users\\User\\anaconda3\\lib\\site-packages\\sklearn\\feature_extraction\\text.py:105\u001b[0m, in \u001b[0;36m_analyze\u001b[1;34m(doc, analyzer, tokenizer, ngrams, preprocessor, decoder, stop_words)\u001b[0m\n\u001b[0;32m     83\u001b[0m \u001b[39m\u001b[39m\u001b[39m\"\"\"Chain together an optional series of text processing steps to go from\u001b[39;00m\n\u001b[0;32m     84\u001b[0m \u001b[39ma single document to ngrams, with or without tokenizing or preprocessing.\u001b[39;00m\n\u001b[0;32m     85\u001b[0m \n\u001b[1;32m   (...)\u001b[0m\n\u001b[0;32m    101\u001b[0m \u001b[39m    A sequence of tokens, possibly with pairs, triples, etc.\u001b[39;00m\n\u001b[0;32m    102\u001b[0m \u001b[39m\"\"\"\u001b[39;00m\n\u001b[0;32m    104\u001b[0m \u001b[39mif\u001b[39;00m decoder \u001b[39mis\u001b[39;00m \u001b[39mnot\u001b[39;00m \u001b[39mNone\u001b[39;00m:\n\u001b[1;32m--> 105\u001b[0m     doc \u001b[39m=\u001b[39m decoder(doc)\n\u001b[0;32m    106\u001b[0m \u001b[39mif\u001b[39;00m analyzer \u001b[39mis\u001b[39;00m \u001b[39mnot\u001b[39;00m \u001b[39mNone\u001b[39;00m:\n\u001b[0;32m    107\u001b[0m     doc \u001b[39m=\u001b[39m analyzer(doc)\n",
      "File \u001b[1;32mc:\\Users\\User\\anaconda3\\lib\\site-packages\\sklearn\\feature_extraction\\text.py:238\u001b[0m, in \u001b[0;36m_VectorizerMixin.decode\u001b[1;34m(self, doc)\u001b[0m\n\u001b[0;32m    235\u001b[0m     doc \u001b[39m=\u001b[39m doc\u001b[39m.\u001b[39mdecode(\u001b[39mself\u001b[39m\u001b[39m.\u001b[39mencoding, \u001b[39mself\u001b[39m\u001b[39m.\u001b[39mdecode_error)\n\u001b[0;32m    237\u001b[0m \u001b[39mif\u001b[39;00m doc \u001b[39mis\u001b[39;00m np\u001b[39m.\u001b[39mnan:\n\u001b[1;32m--> 238\u001b[0m     \u001b[39mraise\u001b[39;00m \u001b[39mValueError\u001b[39;00m(\n\u001b[0;32m    239\u001b[0m         \u001b[39m\"\u001b[39m\u001b[39mnp.nan is an invalid document, expected byte or unicode string.\u001b[39m\u001b[39m\"\u001b[39m\n\u001b[0;32m    240\u001b[0m     )\n\u001b[0;32m    242\u001b[0m \u001b[39mreturn\u001b[39;00m doc\n",
      "\u001b[1;31mValueError\u001b[0m: np.nan is an invalid document, expected byte or unicode string."
     ]
    }
   ],
   "source": [
    "from sklearn.feature_extraction.text import CountVectorizer\n",
    "\n",
    "vectorizer = CountVectorizer()\n",
    "\n",
    "X = vectorizer.fit_transform(sf['problem'])\n",
    "\n",
    "vectorized_df = pd.DataFrame(X.toarray(), columns=vectorizer.get_feature_names_out())\n",
    "\n",
    "print(vectorized_df)"
   ]
  },
  {
   "cell_type": "markdown",
   "metadata": {},
   "source": [
    "There are significant missing values (more than half) in the year_of_manufacture and product_age columns, as with the repair_barrier_if_end_of_life column, although that only applies to items that cannot be fixed and the absolute value there is not representative of how much data is missing. "
   ]
  },
  {
   "cell_type": "code",
   "execution_count": null,
   "metadata": {},
   "outputs": [
    {
     "data": {
      "text/plain": [
       "Vacuum                               7308\n",
       "Lamp                                 6688\n",
       "Hi-Fi separates                      6474\n",
       "Laptop                               6472\n",
       "Coffee maker                         6295\n",
       "Power tool                           5521\n",
       "Small kitchen item                   4987\n",
       "Portable radio                       4668\n",
       "Food processor                       4649\n",
       "Small home electrical                3551\n",
       "Watch/clock                          3406\n",
       "Sewing machine                       3318\n",
       "Mobile                               2792\n",
       "TV and gaming-related accessories    2548\n",
       "Toaster                              2392\n",
       "Iron                                 2294\n",
       "Printer/scanner                      2202\n",
       "Large home electrical                2180\n",
       "Kettle                               2167\n",
       "Misc                                 2037\n",
       "Toy                                  2016\n",
       "Decorative or safety lights          1941\n",
       "Hair & beauty item                   1881\n",
       "Tablet                               1785\n",
       "Hi-Fi integrated                     1693\n",
       "Battery/charger/adapter              1422\n",
       "Headphones                           1328\n",
       "Handheld entertainment device        1136\n",
       "Desktop computer                     1033\n",
       "Flat screen                          1009\n",
       "Hair dryer                            996\n",
       "PC accessory                          958\n",
       "Fan                                   873\n",
       "Paper shredder                        595\n",
       "Digital compact camera                575\n",
       "Musical instrument                    412\n",
       "Games console                         389\n",
       "Aircon/dehumidifier                   385\n",
       "Projector                             383\n",
       "DSLR/video camera                     317\n",
       "Name: product_category, dtype: int64"
      ]
     },
     "execution_count": 14,
     "metadata": {},
     "output_type": "execute_result"
    }
   ],
   "source": [
    "df['product_category'].value_counts()"
   ]
  },
  {
   "cell_type": "code",
   "execution_count": null,
   "metadata": {},
   "outputs": [
    {
     "data": {
      "text/plain": [
       "NLD    28318\n",
       "GBR    27790\n",
       "DEU    13475\n",
       "BEL    13418\n",
       "DNK     5163\n",
       "FRA     4002\n",
       "CAN     2415\n",
       "ITA     1762\n",
       "USA     1482\n",
       "NOR     1156\n",
       "ESP      776\n",
       "AUS      631\n",
       "ARG      617\n",
       "SWE      543\n",
       "NZL      307\n",
       "JEY      230\n",
       "AUT      181\n",
       "HKG      178\n",
       "ISR      166\n",
       "IRL      157\n",
       "TUN       98\n",
       "CHE       95\n",
       "ISL       91\n",
       "ZAF       10\n",
       "BEN        9\n",
       "LUX        3\n",
       "TWN        3\n",
       "Name: country, dtype: int64"
      ]
     },
     "execution_count": 15,
     "metadata": {},
     "output_type": "execute_result"
    }
   ],
   "source": [
    "df['country'].value_counts()"
   ]
  },
  {
   "cell_type": "markdown",
   "metadata": {},
   "source": [
    "import LabelEncoder to be able to create a heatmap using what is initially string data"
   ]
  },
  {
   "cell_type": "code",
   "execution_count": null,
   "metadata": {},
   "outputs": [],
   "source": [
    "\n",
    "from sklearn.preprocessing import LabelEncoder"
   ]
  },
  {
   "cell_type": "code",
   "execution_count": null,
   "metadata": {},
   "outputs": [],
   "source": [
    "correlation_matrix = df.corr()"
   ]
  },
  {
   "cell_type": "code",
   "execution_count": null,
   "metadata": {},
   "outputs": [],
   "source": [
    "correlation_matrix"
   ]
  },
  {
   "cell_type": "markdown",
   "metadata": {},
   "source": [
    "changing some string data to numeric for heatmap"
   ]
  },
  {
   "cell_type": "code",
   "execution_count": null,
   "metadata": {},
   "outputs": [],
   "source": [
    "label_encoder = LabelEncoder()\n",
    "df['repair_status'] = label_encoder.fit_transform(df['repair_status'])\n",
    "df['country'] = label_encoder.fit_transform(df['country'])\n",
    "df['brand'] = label_encoder.fit_transform(df['brand'])\n",
    "df"
   ]
  },
  {
   "cell_type": "code",
   "execution_count": null,
   "metadata": {},
   "outputs": [],
   "source": [
    "df.info()"
   ]
  },
  {
   "cell_type": "markdown",
   "metadata": {},
   "source": [
    "# Correlation Heatmap"
   ]
  },
  {
   "cell_type": "code",
   "execution_count": null,
   "metadata": {},
   "outputs": [],
   "source": [
    "#sns.heatmap(df.select_dtypes(include=['int64', 'float64', 'int32']).corr(), annot=True, cmap='coolwarm', fmt=\".2f\")\n",
    "#plt.title(\"Open Repair Data Correlation Heatmap\")\n",
    "#plt.show()"
   ]
  },
  {
   "cell_type": "code",
   "execution_count": null,
   "metadata": {},
   "outputs": [],
   "source": [
    "##??\n",
    "df.loc[df['repair_status'] == 'Fixed']"
   ]
  },
  {
   "cell_type": "code",
   "execution_count": null,
   "metadata": {},
   "outputs": [],
   "source": [
    "# There is very little correlation between any of the columns (besides age of the product and year of manufacture, which are redundant). I'll need to look elsewhere for meaningful insights"
   ]
  },
  {
   "cell_type": "markdown",
   "metadata": {},
   "source": [
    "# Attempting to auto-translate the \"problem\" column"
   ]
  },
  {
   "cell_type": "code",
   "execution_count": null,
   "metadata": {},
   "outputs": [],
   "source": [
    "# EasyNMT translation library\n",
    "from easynmt import EasyNMT\n",
    "model = EasyNMT(\"opus-mt\")\n",
    "\n",
    "df[\"problem\"] = df.apply(lambda row: model.translate(row[\"problem\"], target_lang=\"en\"), axis=1)"
   ]
  },
  {
   "cell_type": "code",
   "execution_count": null,
   "metadata": {},
   "outputs": [],
   "source": [
    "# trying to isolate language by country\n",
    "df_en = df[df['country']=='GBR']\n",
    "df_en"
   ]
  },
  {
   "cell_type": "code",
   "execution_count": null,
   "metadata": {},
   "outputs": [],
   "source": [
    "#trying to isolate language by country\n",
    "df_g = df[df['country']=='DEU']\n",
    "df_g"
   ]
  },
  {
   "cell_type": "code",
   "execution_count": null,
   "metadata": {},
   "outputs": [],
   "source": [
    "# attempting to use google translation library\n",
    "df_g[\"problem\"] = df_g.apply(lambda row: model.translate(row[\"problem\"], target_lang=\"en\"), axis=1)"
   ]
  },
  {
   "cell_type": "code",
   "execution_count": null,
   "metadata": {},
   "outputs": [],
   "source": [
    "# dropping null values to provide cleaner data to the translator\n",
    "df_g = df_g.dropna()\n",
    "df_g"
   ]
  },
  {
   "cell_type": "code",
   "execution_count": null,
   "metadata": {},
   "outputs": [],
   "source": [
    "# trying to use google translator library instead\n",
    "import googletrans    \n",
    "from googletrans import Translator\n",
    "\n",
    "\n",
    "translator = Translator()\n",
    "df_g['translated'] = df_g['problem'].apply(lambda x: translator.translate(x, dest='en').text)\n"
   ]
  },
  {
   "cell_type": "code",
   "execution_count": null,
   "metadata": {},
   "outputs": [],
   "source": [
    "# trying to use google translator library\n",
    "df_g[\"problem\"] = df.apply(lambda row: model.translate(row[\"problem\"], target_lang=\"en\"), axis=1)"
   ]
  },
  {
   "cell_type": "code",
   "execution_count": null,
   "metadata": {},
   "outputs": [],
   "source": [
    "import googletrans\n",
    "from googletrans import Translator"
   ]
  },
  {
   "cell_type": "code",
   "execution_count": null,
   "metadata": {},
   "outputs": [],
   "source": [
    "#backtracking to check functionality at a more basic level - code source: StackOverflow\n",
    "translator = Translator()\n",
    "langdict = {0: {'English': 'Hello', 'Japanese': 'こんにちは'}, 1: {'English': 'Thanks', 'Japanese': 'ありがとう'}}\n",
    "df = pd.DataFrame(langdict).T\n",
    "df['TranslatedText'] = df['Japanese'].apply(lambda x: translator.translate(x, src='auto', dest='en').text )\n",
    "print(df)"
   ]
  },
  {
   "cell_type": "code",
   "execution_count": null,
   "metadata": {},
   "outputs": [],
   "source": [
    "#attempting a different google translate library\n",
    "pip install google_trans_new"
   ]
  },
  {
   "cell_type": "code",
   "execution_count": null,
   "metadata": {},
   "outputs": [],
   "source": [
    "#attempting a different google translate library\n",
    "from google_trans_new import google_translator"
   ]
  },
  {
   "cell_type": "code",
   "execution_count": null,
   "metadata": {},
   "outputs": [],
   "source": [
    "#attempting a different google translate library\n",
    "translator = google_translator()  \n",
    "translate_text = translator.translate('Hola mundo!', lang_src='es', lang_tgt='en')  \n",
    "print(translate_text)"
   ]
  },
  {
   "cell_type": "code",
   "execution_count": null,
   "metadata": {},
   "outputs": [],
   "source": [
    "#attempting yet another translate library\n",
    "pip install -U deep-translator"
   ]
  },
  {
   "cell_type": "code",
   "execution_count": null,
   "metadata": {},
   "outputs": [],
   "source": [
    "#attempting yet another translate library\n",
    "from deep_translator import GoogleTranslator\n",
    "df['TranslatedText'] = df_g['problem'].apply(lambda x: GoogleTranslator.translate(x, src='auto', target='en').text)\n"
   ]
  },
  {
   "cell_type": "markdown",
   "metadata": {},
   "source": [
    "So far, every translation library has errored out. But I'm making progress and will continue to sort out the 'problem' column to gain more insights"
   ]
  },
  {
   "cell_type": "code",
   "execution_count": null,
   "metadata": {},
   "outputs": [],
   "source": [
    "df"
   ]
  },
  {
   "cell_type": "code",
   "execution_count": null,
   "metadata": {},
   "outputs": [],
   "source": [
    "df2 = pd.read_csv('Data/OpenRepairData_v0.3_aggregate_202303.csv')"
   ]
  },
  {
   "cell_type": "code",
   "execution_count": null,
   "metadata": {},
   "outputs": [],
   "source": [
    "df_quickclean = df2.dropna()"
   ]
  },
  {
   "cell_type": "code",
   "execution_count": null,
   "metadata": {},
   "outputs": [],
   "source": [
    "\n",
    "X = df_quickclean['product_category_id'] # Only use the first two features so we can visualize\n",
    "y = df_quickclean['repair_status']\n",
    "\n",
    "#Plot\n",
    "plt.scatter(X[y==1, 0], X[y==1, 1], s=20, c=\"yellow\", label=\"Fixed\")\n",
    "plt.scatter(X[y==0, 0], X[y==0, 1], s=20, c=\"purple\", label=\"Not fixed\")\n",
    "plt.legend()\n",
    "plt.show()"
   ]
  },
  {
   "cell_type": "code",
   "execution_count": null,
   "metadata": {},
   "outputs": [],
   "source": [
    "df_quickclean\n",
    "\n",
    "# count vectorize NLP\n",
    "# pd crosstab\n",
    "# distribution visualizations\n",
    "# logistic regression modeling\n",
    "# more markdown\n",
    "\n"
   ]
  },
  {
   "cell_type": "code",
   "execution_count": null,
   "metadata": {},
   "outputs": [],
   "source": [
    "import pandas as pd\n",
    "from sklearn.model_selection import train_test_split\n",
    "from sklearn.tree import DecisionTreeClassifier\n",
    "from sklearn.metrics import accuracy_score\n",
    "\n",
    "#fill in na with unknown\n",
    "X = df_quickclean[['product_category','country','product_age','brand']]\n",
    "y = df_quickclean['repair_status']\n",
    "\n",
    "X_encoded = pd.get_dummies(X)\n",
    "\n",
    "X_train, X_test, y_train, y_test = train_test_split(X_encoded, y, test_size=0.25, random_state=12)\n",
    "\n",
    "tree_model = DecisionTreeClassifier(random_state=12)\n",
    "\n",
    "tree_model.fit(X_train, y_train)\n",
    "\n",
    "y_pred = tree_model.predict(X_test)\n",
    "\n",
    "accuracy = accuracy_score(y_test, y_pred)\n",
    "print(f\"Accuracy: {accuracy:.2f}\")\n"
   ]
  },
  {
   "cell_type": "code",
   "execution_count": null,
   "metadata": {},
   "outputs": [],
   "source": [
    "#from sklearn.metrics import accuracy_score, confusion_matrix\n",
    "# Create confusion matrix\n",
    "#confusion = confusion_matrix(y_test, y_pred)\n",
    "\n",
    "# Create a heatmap using Seaborn\n",
    "#plt.figure(figsize=(8, 6))\n",
    "#sns.heatmap(confusion, annot=True, fmt=\"d\", cmap=\"Blues\",\n",
    "           # xticklabels=tree_model.classes_,\n",
    "           # yticklabels=tree_model.classes_)\n",
    "plt.xlabel('Predicted')\n",
    "plt.ylabel('Actual')\n",
    "plt.title('Confusion Matrix')\n",
    "plt.show()"
   ]
  },
  {
   "cell_type": "code",
   "execution_count": null,
   "metadata": {},
   "outputs": [],
   "source": [
    "import pandas as pd\n",
    "from sklearn.preprocessing import MultiLabelBinarizer\n",
    "\n",
    "\n",
    "df_quickclean['problem_tokens'] = df_quickclean['problem'].str.split()\n",
    "\n",
    "mlb = MultiLabelBinarizer()\n",
    "\n",
    "\n",
    "onehot_encoded_words = mlb.fit_transform(df_quickclean['problem_tokens'])\n",
    "\n",
    "\n",
    "onehot_encoded_df = pd.DataFrame(onehot_encoded_words, columns=mlb.classes_)\n",
    "\n",
    "\n",
    "df_encoded = pd.concat([df_quickclean, onehot_encoded_df], axis=1)\n",
    "\n",
    "df_encoded.drop(['problem', 'problem_tokens'], axis=1, inplace=True)"
   ]
  },
  {
   "cell_type": "code",
   "execution_count": null,
   "metadata": {},
   "outputs": [],
   "source": [
    "df_encoded"
   ]
  },
  {
   "cell_type": "code",
   "execution_count": null,
   "metadata": {},
   "outputs": [],
   "source": [
    "import pandas as pd\n",
    "from sklearn.model_selection import train_test_split\n",
    "from sklearn.tree import DecisionTreeClassifier\n",
    "from sklearn.metrics import accuracy_score\n",
    "\n",
    "# Assuming you have your DataFrame 'df_encoded' and 'repair_status' column\n",
    "\n",
    "target_column = 'repair_status'\n",
    "columns_to_exclude = [target_column]  # Add any columns you want to exclude from modeling\n",
    "\n",
    "for column in df_encoded.columns:\n",
    "    if column not in columns_to_exclude:\n",
    "        X = df_encoded[[column]]  # Select the current column as the feature\n",
    "        y = df_encoded[target_column]  # Target variable\n",
    "\n",
    "        X_encoded = pd.get_dummies(X)  # One-hot encode categorical variables if needed\n",
    "\n",
    "        X_train, X_test, y_train, y_test = train_test_split(X_encoded, y, test_size=0.25, random_state=12)\n",
    "\n",
    "        tree_model = DecisionTreeClassifier(random_state=12)\n",
    "        tree_model.fit(X_train, y_train)\n",
    "        y_pred = tree_model.predict(X_test)\n",
    "\n",
    "        accuracy = accuracy_score(y_test, y_pred)\n",
    "        print(f\"Accuracy for column '{column}': {accuracy:.2f}\")\n"
   ]
  },
  {
   "cell_type": "code",
   "execution_count": null,
   "metadata": {},
   "outputs": [],
   "source": [
    "X = df_encoded['']\n",
    "y = df_encoded['repair_status']\n",
    "\n",
    "X_encoded = pd.get_dummies(X)\n",
    "\n",
    "X_train, X_test, y_train, y_test = train_test_split(X_encoded, y, test_size=0.25, random_state=12)\n",
    "\n",
    "tree_model = DecisionTreeClassifier(random_state=12)\n",
    "\n",
    "tree_model.fit(X_train, y_train)\n",
    "\n",
    "y_pred = tree_model.predict(X_test)\n",
    "\n",
    "accuracy = accuracy_score(y_test, y_pred)\n",
    "print(f\"Accuracy: {accuracy:.2f}\")"
   ]
  },
  {
   "cell_type": "code",
   "execution_count": null,
   "metadata": {},
   "outputs": [],
   "source": [
    "from sklearn.cluster import KMeans\n",
    "from sklearn.metrics import silhouette_score"
   ]
  },
  {
   "cell_type": "code",
   "execution_count": null,
   "metadata": {},
   "outputs": [],
   "source": [
    "k=2\n",
    "\n",
    "kmeans = KMeans(n_clusters = k)\n",
    "kmeans.fit(df_quickclean)\n",
    "labels = kmeans.predict(df_quickclean)\n",
    "\n",
    "inertia = kmeans.inertia_\n",
    "sil_score = silhouette_score(df_quickclean, labels)"
   ]
  },
  {
   "cell_type": "code",
   "execution_count": null,
   "metadata": {},
   "outputs": [],
   "source": [
    "conda install XLMRobertaTokenizer from transformers"
   ]
  },
  {
   "cell_type": "code",
   "execution_count": null,
   "metadata": {},
   "outputs": [],
   "source": [
    "import pandas as pd\n",
    "from transformers import XLMRobertaTokenizer\n",
    "\n",
    "# Load the XLM-R tokenizer\n",
    "tokenizer = XLMRobertaTokenizer.from_pretrained(\"xlm-roberta-base\")\n",
    "\n",
    "# Create a sample DataFrame\n",
    "data = {\n",
    "    \"description\": [\n",
    "        \"Hello, how are you?\",\n",
    "        \"Bonjour, comment ça va ?\",\n",
    "        \"Hola, ¿cómo estás?\",\n",
    "        \"Ciao, come stai?\"\n",
    "    ]\n",
    "}\n",
    "df = pd.DataFrame(data)\n",
    "\n",
    "# Tokenize the descriptions in the DataFrame\n",
    "tokenized_descriptions = []\n",
    "\n",
    "for description in df[\"description\"]:\n",
    "    tokens = tokenizer.tokenize(description)\n",
    "    tokenized_descriptions.append(tokens)\n",
    "\n",
    "df[\"tokenized_description\"] = tokenized_descriptions\n",
    "\n",
    "print(df)\n",
    "## In this example, the tokenizer.tokenize method is applied to each description in the \"description\" column of the DataFrame. The resulting tokenized sequences are stored in a new column called \"tokenized_description.\"\n",
    "\n",
    "## Keep in mind that tokenizing large amounts of text can be time-consuming. If you have a large DataFrame, you might want to consider using parallel processing or batching the tokenization process for better performance.\n",
    "\n",
    "\n",
    "\n",
    "\n",
    "\n"
   ]
  },
  {
   "cell_type": "code",
   "execution_count": null,
   "metadata": {},
   "outputs": [],
   "source": [
    "import pandas as pd\n",
    "from transformers import XLMRobertaTokenizer\n",
    "\n",
    "# Load the XLM-R tokenizer\n",
    "tokenizer = XLMRobertaTokenizer.from_pretrained(\"xlm-roberta-base\")\n",
    "\n",
    "# Create a sample DataFrame\n",
    "data = {\n",
    "    \"description\": [\n",
    "        \"Hello, how are you?\",\n",
    "        \"Bonjour, comment ça va ?\",\n",
    "        \"Hola, ¿cómo estás?\",\n",
    "        \"Ciao, come stai?\"\n",
    "    ]\n",
    "}\n",
    "df = pd.DataFrame(data)\n",
    "\n",
    "# Tokenize individual words in the descriptions\n",
    "tokenized_word_lists = []\n",
    "\n",
    "for description in df[\"description\"]:\n",
    "    words = description.split()  # Split text into words\n",
    "    tokens = [tokenizer.tokenize(word) for word in words]\n",
    "    tokenized_word_lists.append(tokens)\n",
    "\n",
    "df[\"tokenized_words\"] = tokenized_word_lists\n",
    "\n",
    "print(df)\n",
    "# In this version of the code, the description text is split into individual words using the split() method. Then, the XLM-R tokenizer is applied to each word separately, resulting in tokenized sequences for individual words. The tokenized word sequences are stored in a new column called \"tokenized_words.\"\n",
    "\n",
    "# Please note that this approach tokenizes words within the text, and words are often broken down into subword tokens. If you want to preserve the original words while tokenizing, you might need to adapt the code accordingly.\n",
    "\n",
    "\n",
    "\n",
    "\n",
    "\n"
   ]
  },
  {
   "cell_type": "code",
   "execution_count": null,
   "metadata": {},
   "outputs": [],
   "source": [
    "import pandas as pd\n",
    "from sklearn.feature_extraction.text import CountVectorizer\n",
    "from sklearn.model_selection import train_test_split\n",
    "from sklearn.linear_model import LinearRegression\n",
    "from sklearn.metrics import mean_squared_error\n",
    "\n",
    "data = {\n",
    "    \"tokenized_words\": [\n",
    "        [[\"Eating\"], [\"a\"], [\"monster\"], [\"sandwich\"]],\n",
    "        [[\"Bonjour\"], [\"comment\"], [\"ça\", \"va\", \"?\"]],\n",
    "        [[\"Hola\"], [\"cómo\"], [\"estás\", \"?\"]],\n",
    "        [[\"Ciao\"], [\"come\"], [\"stai\", \"?\"]]\n",
    "    ],\n",
    "    \"target\": [10, 20, 30, 40]  # Example target values\n",
    "}\n",
    "df = pd.DataFrame(data)\n",
    "\n",
    "# Flatten tokenized words\n",
    "df[\"flat_tokenized_words\"] = df[\"tokenized_words\"].apply(lambda x: [word for sublist in x for word in sublist])\n",
    "\n",
    "# Convert tokenized words to text\n",
    "df[\"text\"] = df[\"flat_tokenized_words\"].apply(lambda x: \" \".join(x))\n",
    "\n",
    "# Convert text to numerical features using CountVectorizer\n",
    "vectorizer = CountVectorizer()\n",
    "X = vectorizer.fit_transform(df[\"text\"])\n",
    "\n",
    "# Split data into train and test sets\n",
    "X_train, X_test, y_train, y_test = train_test_split(X, df[\"target\"], test_size=0.2, random_state=42)\n",
    "\n",
    "# Initialize and train a linear regression model\n",
    "reg_model = LinearRegression()\n",
    "reg_model.fit(X_train, y_train)\n",
    "\n",
    "# Make predictions on the test set\n",
    "y_pred = reg_model.predict(X_test)\n",
    "\n",
    "# Evaluate the model\n",
    "mse = mean_squared_error(y_test, y_pred)\n",
    "print(\"Mean Squared Error:\", mse)"
   ]
  },
  {
   "cell_type": "code",
   "execution_count": null,
   "metadata": {},
   "outputs": [],
   "source": [
    "label_encoders = {}\n",
    "for col in df[\"Product_Category\", \"Age\", \"Country\"]:\n",
    "    le = LabelEncoder()\n",
    "    df[col] = le.fit_transform(df[col])\n",
    "    label_encoders[col] = le\n",
    "\n",
    "# Split data into features and target\n",
    "X = df.drop(\"F\", axis=1)\n",
    "y = df[\"F\"]\n",
    "\n",
    "# Split data into training and testing sets\n",
    "X_train, X_test, y_train, y_test = train_test_split(X, y, test_size=0.2, random_state=42)\n",
    "\n",
    "# Create and fit the decision tree model\n",
    "clf = DecisionTreeClassifier(random_state=42)\n",
    "clf.fit(X_train, y_train)\n",
    "\n",
    "# Make predictions\n",
    "y_pred = clf.predict(X_test)\n",
    "\n",
    "# Calculate accuracy\n",
    "accuracy = accuracy_score(y_test, y_pred)\n",
    "print(\"Accuracy:\", accuracy)"
   ]
  },
  {
   "cell_type": "code",
   "execution_count": null,
   "metadata": {},
   "outputs": [],
   "source": []
  },
  {
   "cell_type": "code",
   "execution_count": null,
   "metadata": {},
   "outputs": [],
   "source": []
  },
  {
   "cell_type": "code",
   "execution_count": null,
   "metadata": {},
   "outputs": [],
   "source": []
  },
  {
   "cell_type": "code",
   "execution_count": null,
   "metadata": {},
   "outputs": [],
   "source": []
  },
  {
   "cell_type": "code",
   "execution_count": null,
   "metadata": {},
   "outputs": [],
   "source": []
  },
  {
   "cell_type": "markdown",
   "metadata": {},
   "source": [
    "## Decision Tree {#decision-tree}"
   ]
  },
  {
   "cell_type": "code",
   "execution_count": null,
   "metadata": {},
   "outputs": [],
   "source": [
    "wdf = pd.read_csv(\"data/OpenRepairData_v0.3_aggregate_202303.csv\")\n",
    "wdf = wdf[['repair_status', 'product_category']]"
   ]
  },
  {
   "cell_type": "code",
   "execution_count": null,
   "metadata": {},
   "outputs": [
    {
     "data": {
      "text/plain": [
       "0         End of life\n",
       "1          Repairable\n",
       "2               Fixed\n",
       "3         End of life\n",
       "4         End of life\n",
       "             ...     \n",
       "103071          Fixed\n",
       "103072     Repairable\n",
       "103073          Fixed\n",
       "103074          Fixed\n",
       "103075          Fixed\n",
       "Name: repair_status, Length: 99676, dtype: object"
      ]
     },
     "execution_count": 20,
     "metadata": {},
     "output_type": "execute_result"
    }
   ],
   "source": [
    "wdf = wdf.drop(wdf[wdf['repair_status'] == 'Unknown'].index)\n",
    "wdf['repair_status']"
   ]
  },
  {
   "cell_type": "code",
   "execution_count": null,
   "metadata": {},
   "outputs": [
    {
     "data": {
      "text/plain": [
       "0         End of life\n",
       "2               Fixed\n",
       "3         End of life\n",
       "4         End of life\n",
       "5         End of life\n",
       "             ...     \n",
       "103068    End of life\n",
       "103071          Fixed\n",
       "103073          Fixed\n",
       "103074          Fixed\n",
       "103075          Fixed\n",
       "Name: repair_status, Length: 78728, dtype: object"
      ]
     },
     "execution_count": 21,
     "metadata": {},
     "output_type": "execute_result"
    }
   ],
   "source": [
    "wdf = wdf.drop(wdf[wdf['repair_status'] == 'Repairable'].index)\n",
    "wdf['repair_status']"
   ]
  },
  {
   "cell_type": "code",
   "execution_count": null,
   "metadata": {},
   "outputs": [],
   "source": [
    "from sklearn.preprocessing import LabelEncoder, OneHotEncoder\n",
    "\n",
    "label_encoder = LabelEncoder()\n",
    "wdf['repair_status_encoded'] = label_encoder.fit_transform(wdf['repair_status'])\n",
    "\n",
    "# Use one-hot encoding for 'country' and 'product_category'\n",
    "data_encoded = pd.get_dummies(wdf, columns=['product_category'], drop_first=True)\n",
    "\n",
    "# Separate features and target variable\n",
    "X = data_encoded.drop('repair_status_encoded', axis=1)\n",
    "y = data_encoded['repair_status_encoded']"
   ]
  },
  {
   "cell_type": "code",
   "execution_count": null,
   "metadata": {},
   "outputs": [
    {
     "data": {
      "text/html": [
       "<div>\n",
       "<style scoped>\n",
       "    .dataframe tbody tr th:only-of-type {\n",
       "        vertical-align: middle;\n",
       "    }\n",
       "\n",
       "    .dataframe tbody tr th {\n",
       "        vertical-align: top;\n",
       "    }\n",
       "\n",
       "    .dataframe thead th {\n",
       "        text-align: right;\n",
       "    }\n",
       "</style>\n",
       "<table border=\"1\" class=\"dataframe\">\n",
       "  <thead>\n",
       "    <tr style=\"text-align: right;\">\n",
       "      <th></th>\n",
       "      <th>product_category_Battery/charger/adapter</th>\n",
       "      <th>product_category_Coffee maker</th>\n",
       "      <th>product_category_DSLR/video camera</th>\n",
       "      <th>product_category_Decorative or safety lights</th>\n",
       "      <th>product_category_Desktop computer</th>\n",
       "      <th>product_category_Digital compact camera</th>\n",
       "      <th>product_category_Fan</th>\n",
       "      <th>product_category_Flat screen</th>\n",
       "      <th>product_category_Food processor</th>\n",
       "      <th>product_category_Games console</th>\n",
       "      <th>...</th>\n",
       "      <th>product_category_Projector</th>\n",
       "      <th>product_category_Sewing machine</th>\n",
       "      <th>product_category_Small home electrical</th>\n",
       "      <th>product_category_Small kitchen item</th>\n",
       "      <th>product_category_TV and gaming-related accessories</th>\n",
       "      <th>product_category_Tablet</th>\n",
       "      <th>product_category_Toaster</th>\n",
       "      <th>product_category_Toy</th>\n",
       "      <th>product_category_Vacuum</th>\n",
       "      <th>product_category_Watch/clock</th>\n",
       "    </tr>\n",
       "  </thead>\n",
       "  <tbody>\n",
       "    <tr>\n",
       "      <th>0</th>\n",
       "      <td>0</td>\n",
       "      <td>1</td>\n",
       "      <td>0</td>\n",
       "      <td>0</td>\n",
       "      <td>0</td>\n",
       "      <td>0</td>\n",
       "      <td>0</td>\n",
       "      <td>0</td>\n",
       "      <td>0</td>\n",
       "      <td>0</td>\n",
       "      <td>...</td>\n",
       "      <td>0</td>\n",
       "      <td>0</td>\n",
       "      <td>0</td>\n",
       "      <td>0</td>\n",
       "      <td>0</td>\n",
       "      <td>0</td>\n",
       "      <td>0</td>\n",
       "      <td>0</td>\n",
       "      <td>0</td>\n",
       "      <td>0</td>\n",
       "    </tr>\n",
       "    <tr>\n",
       "      <th>2</th>\n",
       "      <td>0</td>\n",
       "      <td>0</td>\n",
       "      <td>0</td>\n",
       "      <td>0</td>\n",
       "      <td>0</td>\n",
       "      <td>0</td>\n",
       "      <td>0</td>\n",
       "      <td>0</td>\n",
       "      <td>0</td>\n",
       "      <td>0</td>\n",
       "      <td>...</td>\n",
       "      <td>0</td>\n",
       "      <td>0</td>\n",
       "      <td>0</td>\n",
       "      <td>0</td>\n",
       "      <td>0</td>\n",
       "      <td>0</td>\n",
       "      <td>0</td>\n",
       "      <td>0</td>\n",
       "      <td>0</td>\n",
       "      <td>0</td>\n",
       "    </tr>\n",
       "    <tr>\n",
       "      <th>3</th>\n",
       "      <td>0</td>\n",
       "      <td>0</td>\n",
       "      <td>0</td>\n",
       "      <td>0</td>\n",
       "      <td>0</td>\n",
       "      <td>0</td>\n",
       "      <td>0</td>\n",
       "      <td>0</td>\n",
       "      <td>0</td>\n",
       "      <td>0</td>\n",
       "      <td>...</td>\n",
       "      <td>0</td>\n",
       "      <td>0</td>\n",
       "      <td>0</td>\n",
       "      <td>0</td>\n",
       "      <td>0</td>\n",
       "      <td>0</td>\n",
       "      <td>0</td>\n",
       "      <td>0</td>\n",
       "      <td>0</td>\n",
       "      <td>0</td>\n",
       "    </tr>\n",
       "    <tr>\n",
       "      <th>4</th>\n",
       "      <td>0</td>\n",
       "      <td>0</td>\n",
       "      <td>0</td>\n",
       "      <td>0</td>\n",
       "      <td>0</td>\n",
       "      <td>0</td>\n",
       "      <td>0</td>\n",
       "      <td>0</td>\n",
       "      <td>0</td>\n",
       "      <td>0</td>\n",
       "      <td>...</td>\n",
       "      <td>0</td>\n",
       "      <td>0</td>\n",
       "      <td>0</td>\n",
       "      <td>0</td>\n",
       "      <td>0</td>\n",
       "      <td>0</td>\n",
       "      <td>0</td>\n",
       "      <td>0</td>\n",
       "      <td>0</td>\n",
       "      <td>0</td>\n",
       "    </tr>\n",
       "    <tr>\n",
       "      <th>5</th>\n",
       "      <td>0</td>\n",
       "      <td>0</td>\n",
       "      <td>0</td>\n",
       "      <td>0</td>\n",
       "      <td>0</td>\n",
       "      <td>0</td>\n",
       "      <td>0</td>\n",
       "      <td>0</td>\n",
       "      <td>0</td>\n",
       "      <td>0</td>\n",
       "      <td>...</td>\n",
       "      <td>0</td>\n",
       "      <td>0</td>\n",
       "      <td>0</td>\n",
       "      <td>0</td>\n",
       "      <td>0</td>\n",
       "      <td>0</td>\n",
       "      <td>0</td>\n",
       "      <td>0</td>\n",
       "      <td>0</td>\n",
       "      <td>0</td>\n",
       "    </tr>\n",
       "    <tr>\n",
       "      <th>...</th>\n",
       "      <td>...</td>\n",
       "      <td>...</td>\n",
       "      <td>...</td>\n",
       "      <td>...</td>\n",
       "      <td>...</td>\n",
       "      <td>...</td>\n",
       "      <td>...</td>\n",
       "      <td>...</td>\n",
       "      <td>...</td>\n",
       "      <td>...</td>\n",
       "      <td>...</td>\n",
       "      <td>...</td>\n",
       "      <td>...</td>\n",
       "      <td>...</td>\n",
       "      <td>...</td>\n",
       "      <td>...</td>\n",
       "      <td>...</td>\n",
       "      <td>...</td>\n",
       "      <td>...</td>\n",
       "      <td>...</td>\n",
       "      <td>...</td>\n",
       "    </tr>\n",
       "    <tr>\n",
       "      <th>103068</th>\n",
       "      <td>0</td>\n",
       "      <td>0</td>\n",
       "      <td>0</td>\n",
       "      <td>0</td>\n",
       "      <td>0</td>\n",
       "      <td>0</td>\n",
       "      <td>0</td>\n",
       "      <td>0</td>\n",
       "      <td>0</td>\n",
       "      <td>0</td>\n",
       "      <td>...</td>\n",
       "      <td>0</td>\n",
       "      <td>0</td>\n",
       "      <td>1</td>\n",
       "      <td>0</td>\n",
       "      <td>0</td>\n",
       "      <td>0</td>\n",
       "      <td>0</td>\n",
       "      <td>0</td>\n",
       "      <td>0</td>\n",
       "      <td>0</td>\n",
       "    </tr>\n",
       "    <tr>\n",
       "      <th>103071</th>\n",
       "      <td>0</td>\n",
       "      <td>0</td>\n",
       "      <td>0</td>\n",
       "      <td>0</td>\n",
       "      <td>0</td>\n",
       "      <td>0</td>\n",
       "      <td>0</td>\n",
       "      <td>0</td>\n",
       "      <td>0</td>\n",
       "      <td>0</td>\n",
       "      <td>...</td>\n",
       "      <td>0</td>\n",
       "      <td>0</td>\n",
       "      <td>1</td>\n",
       "      <td>0</td>\n",
       "      <td>0</td>\n",
       "      <td>0</td>\n",
       "      <td>0</td>\n",
       "      <td>0</td>\n",
       "      <td>0</td>\n",
       "      <td>0</td>\n",
       "    </tr>\n",
       "    <tr>\n",
       "      <th>103073</th>\n",
       "      <td>0</td>\n",
       "      <td>0</td>\n",
       "      <td>0</td>\n",
       "      <td>0</td>\n",
       "      <td>0</td>\n",
       "      <td>0</td>\n",
       "      <td>0</td>\n",
       "      <td>0</td>\n",
       "      <td>0</td>\n",
       "      <td>0</td>\n",
       "      <td>...</td>\n",
       "      <td>0</td>\n",
       "      <td>1</td>\n",
       "      <td>0</td>\n",
       "      <td>0</td>\n",
       "      <td>0</td>\n",
       "      <td>0</td>\n",
       "      <td>0</td>\n",
       "      <td>0</td>\n",
       "      <td>0</td>\n",
       "      <td>0</td>\n",
       "    </tr>\n",
       "    <tr>\n",
       "      <th>103074</th>\n",
       "      <td>0</td>\n",
       "      <td>0</td>\n",
       "      <td>0</td>\n",
       "      <td>0</td>\n",
       "      <td>0</td>\n",
       "      <td>0</td>\n",
       "      <td>0</td>\n",
       "      <td>0</td>\n",
       "      <td>0</td>\n",
       "      <td>0</td>\n",
       "      <td>...</td>\n",
       "      <td>0</td>\n",
       "      <td>1</td>\n",
       "      <td>0</td>\n",
       "      <td>0</td>\n",
       "      <td>0</td>\n",
       "      <td>0</td>\n",
       "      <td>0</td>\n",
       "      <td>0</td>\n",
       "      <td>0</td>\n",
       "      <td>0</td>\n",
       "    </tr>\n",
       "    <tr>\n",
       "      <th>103075</th>\n",
       "      <td>0</td>\n",
       "      <td>0</td>\n",
       "      <td>0</td>\n",
       "      <td>0</td>\n",
       "      <td>0</td>\n",
       "      <td>0</td>\n",
       "      <td>0</td>\n",
       "      <td>0</td>\n",
       "      <td>0</td>\n",
       "      <td>0</td>\n",
       "      <td>...</td>\n",
       "      <td>0</td>\n",
       "      <td>0</td>\n",
       "      <td>0</td>\n",
       "      <td>0</td>\n",
       "      <td>0</td>\n",
       "      <td>0</td>\n",
       "      <td>0</td>\n",
       "      <td>0</td>\n",
       "      <td>1</td>\n",
       "      <td>0</td>\n",
       "    </tr>\n",
       "  </tbody>\n",
       "</table>\n",
       "<p>78728 rows × 39 columns</p>\n",
       "</div>"
      ],
      "text/plain": [
       "        product_category_Battery/charger/adapter  \\\n",
       "0                                              0   \n",
       "2                                              0   \n",
       "3                                              0   \n",
       "4                                              0   \n",
       "5                                              0   \n",
       "...                                          ...   \n",
       "103068                                         0   \n",
       "103071                                         0   \n",
       "103073                                         0   \n",
       "103074                                         0   \n",
       "103075                                         0   \n",
       "\n",
       "        product_category_Coffee maker  product_category_DSLR/video camera  \\\n",
       "0                                   1                                   0   \n",
       "2                                   0                                   0   \n",
       "3                                   0                                   0   \n",
       "4                                   0                                   0   \n",
       "5                                   0                                   0   \n",
       "...                               ...                                 ...   \n",
       "103068                              0                                   0   \n",
       "103071                              0                                   0   \n",
       "103073                              0                                   0   \n",
       "103074                              0                                   0   \n",
       "103075                              0                                   0   \n",
       "\n",
       "        product_category_Decorative or safety lights  \\\n",
       "0                                                  0   \n",
       "2                                                  0   \n",
       "3                                                  0   \n",
       "4                                                  0   \n",
       "5                                                  0   \n",
       "...                                              ...   \n",
       "103068                                             0   \n",
       "103071                                             0   \n",
       "103073                                             0   \n",
       "103074                                             0   \n",
       "103075                                             0   \n",
       "\n",
       "        product_category_Desktop computer  \\\n",
       "0                                       0   \n",
       "2                                       0   \n",
       "3                                       0   \n",
       "4                                       0   \n",
       "5                                       0   \n",
       "...                                   ...   \n",
       "103068                                  0   \n",
       "103071                                  0   \n",
       "103073                                  0   \n",
       "103074                                  0   \n",
       "103075                                  0   \n",
       "\n",
       "        product_category_Digital compact camera  product_category_Fan  \\\n",
       "0                                             0                     0   \n",
       "2                                             0                     0   \n",
       "3                                             0                     0   \n",
       "4                                             0                     0   \n",
       "5                                             0                     0   \n",
       "...                                         ...                   ...   \n",
       "103068                                        0                     0   \n",
       "103071                                        0                     0   \n",
       "103073                                        0                     0   \n",
       "103074                                        0                     0   \n",
       "103075                                        0                     0   \n",
       "\n",
       "        product_category_Flat screen  product_category_Food processor  \\\n",
       "0                                  0                                0   \n",
       "2                                  0                                0   \n",
       "3                                  0                                0   \n",
       "4                                  0                                0   \n",
       "5                                  0                                0   \n",
       "...                              ...                              ...   \n",
       "103068                             0                                0   \n",
       "103071                             0                                0   \n",
       "103073                             0                                0   \n",
       "103074                             0                                0   \n",
       "103075                             0                                0   \n",
       "\n",
       "        product_category_Games console  ...  product_category_Projector  \\\n",
       "0                                    0  ...                           0   \n",
       "2                                    0  ...                           0   \n",
       "3                                    0  ...                           0   \n",
       "4                                    0  ...                           0   \n",
       "5                                    0  ...                           0   \n",
       "...                                ...  ...                         ...   \n",
       "103068                               0  ...                           0   \n",
       "103071                               0  ...                           0   \n",
       "103073                               0  ...                           0   \n",
       "103074                               0  ...                           0   \n",
       "103075                               0  ...                           0   \n",
       "\n",
       "        product_category_Sewing machine  \\\n",
       "0                                     0   \n",
       "2                                     0   \n",
       "3                                     0   \n",
       "4                                     0   \n",
       "5                                     0   \n",
       "...                                 ...   \n",
       "103068                                0   \n",
       "103071                                0   \n",
       "103073                                1   \n",
       "103074                                1   \n",
       "103075                                0   \n",
       "\n",
       "        product_category_Small home electrical  \\\n",
       "0                                            0   \n",
       "2                                            0   \n",
       "3                                            0   \n",
       "4                                            0   \n",
       "5                                            0   \n",
       "...                                        ...   \n",
       "103068                                       1   \n",
       "103071                                       1   \n",
       "103073                                       0   \n",
       "103074                                       0   \n",
       "103075                                       0   \n",
       "\n",
       "        product_category_Small kitchen item  \\\n",
       "0                                         0   \n",
       "2                                         0   \n",
       "3                                         0   \n",
       "4                                         0   \n",
       "5                                         0   \n",
       "...                                     ...   \n",
       "103068                                    0   \n",
       "103071                                    0   \n",
       "103073                                    0   \n",
       "103074                                    0   \n",
       "103075                                    0   \n",
       "\n",
       "        product_category_TV and gaming-related accessories  \\\n",
       "0                                                       0    \n",
       "2                                                       0    \n",
       "3                                                       0    \n",
       "4                                                       0    \n",
       "5                                                       0    \n",
       "...                                                   ...    \n",
       "103068                                                  0    \n",
       "103071                                                  0    \n",
       "103073                                                  0    \n",
       "103074                                                  0    \n",
       "103075                                                  0    \n",
       "\n",
       "        product_category_Tablet  product_category_Toaster  \\\n",
       "0                             0                         0   \n",
       "2                             0                         0   \n",
       "3                             0                         0   \n",
       "4                             0                         0   \n",
       "5                             0                         0   \n",
       "...                         ...                       ...   \n",
       "103068                        0                         0   \n",
       "103071                        0                         0   \n",
       "103073                        0                         0   \n",
       "103074                        0                         0   \n",
       "103075                        0                         0   \n",
       "\n",
       "        product_category_Toy  product_category_Vacuum  \\\n",
       "0                          0                        0   \n",
       "2                          0                        0   \n",
       "3                          0                        0   \n",
       "4                          0                        0   \n",
       "5                          0                        0   \n",
       "...                      ...                      ...   \n",
       "103068                     0                        0   \n",
       "103071                     0                        0   \n",
       "103073                     0                        0   \n",
       "103074                     0                        0   \n",
       "103075                     0                        1   \n",
       "\n",
       "        product_category_Watch/clock  \n",
       "0                                  0  \n",
       "2                                  0  \n",
       "3                                  0  \n",
       "4                                  0  \n",
       "5                                  0  \n",
       "...                              ...  \n",
       "103068                             0  \n",
       "103071                             0  \n",
       "103073                             0  \n",
       "103074                             0  \n",
       "103075                             0  \n",
       "\n",
       "[78728 rows x 39 columns]"
      ]
     },
     "execution_count": 23,
     "metadata": {},
     "output_type": "execute_result"
    }
   ],
   "source": [
    "X = X[X.columns[~X.columns.isin(['repair_status'])]]\n",
    "X"
   ]
  },
  {
   "cell_type": "code",
   "execution_count": null,
   "metadata": {},
   "outputs": [
    {
     "data": {
      "text/plain": [
       "0         0\n",
       "2         1\n",
       "3         0\n",
       "4         0\n",
       "5         0\n",
       "         ..\n",
       "103068    0\n",
       "103071    1\n",
       "103073    1\n",
       "103074    1\n",
       "103075    1\n",
       "Name: repair_status_encoded, Length: 78728, dtype: int32"
      ]
     },
     "execution_count": 24,
     "metadata": {},
     "output_type": "execute_result"
    }
   ],
   "source": [
    "y"
   ]
  },
  {
   "cell_type": "code",
   "execution_count": null,
   "metadata": {},
   "outputs": [],
   "source": [
    "from sklearn.model_selection import train_test_split\n",
    "from sklearn.tree import DecisionTreeClassifier\n",
    "from sklearn.metrics import accuracy_score\n",
    "from sklearn.metrics import confusion_matrix, ConfusionMatrixDisplay"
   ]
  },
  {
   "cell_type": "code",
   "execution_count": null,
   "metadata": {},
   "outputs": [
    {
     "name": "stdout",
     "output_type": "stream",
     "text": [
      "Accuracy: 0.6909691350184174\n"
     ]
    }
   ],
   "source": [
    "X_train, X_test, y_train, y_test = train_test_split(X, y, test_size=0.1, random_state=42)\n",
    "\n",
    "# Create and fit the decision tree model\n",
    "clf = DecisionTreeClassifier(random_state=42)\n",
    "clf.fit(X_train, y_train)\n",
    "\n",
    "# Make predictions\n",
    "y_pred = clf.predict(X_test)\n",
    "\n",
    "# Calculate accuracy\n",
    "accuracy = accuracy_score(y_test, y_pred)\n",
    "print(\"Accuracy:\", accuracy)"
   ]
  },
  {
   "cell_type": "code",
   "execution_count": null,
   "metadata": {},
   "outputs": [
    {
     "data": {
      "text/html": [
       "<style>#sk-container-id-1 {color: black;}#sk-container-id-1 pre{padding: 0;}#sk-container-id-1 div.sk-toggleable {background-color: white;}#sk-container-id-1 label.sk-toggleable__label {cursor: pointer;display: block;width: 100%;margin-bottom: 0;padding: 0.3em;box-sizing: border-box;text-align: center;}#sk-container-id-1 label.sk-toggleable__label-arrow:before {content: \"▸\";float: left;margin-right: 0.25em;color: #696969;}#sk-container-id-1 label.sk-toggleable__label-arrow:hover:before {color: black;}#sk-container-id-1 div.sk-estimator:hover label.sk-toggleable__label-arrow:before {color: black;}#sk-container-id-1 div.sk-toggleable__content {max-height: 0;max-width: 0;overflow: hidden;text-align: left;background-color: #f0f8ff;}#sk-container-id-1 div.sk-toggleable__content pre {margin: 0.2em;color: black;border-radius: 0.25em;background-color: #f0f8ff;}#sk-container-id-1 input.sk-toggleable__control:checked~div.sk-toggleable__content {max-height: 200px;max-width: 100%;overflow: auto;}#sk-container-id-1 input.sk-toggleable__control:checked~label.sk-toggleable__label-arrow:before {content: \"▾\";}#sk-container-id-1 div.sk-estimator input.sk-toggleable__control:checked~label.sk-toggleable__label {background-color: #d4ebff;}#sk-container-id-1 div.sk-label input.sk-toggleable__control:checked~label.sk-toggleable__label {background-color: #d4ebff;}#sk-container-id-1 input.sk-hidden--visually {border: 0;clip: rect(1px 1px 1px 1px);clip: rect(1px, 1px, 1px, 1px);height: 1px;margin: -1px;overflow: hidden;padding: 0;position: absolute;width: 1px;}#sk-container-id-1 div.sk-estimator {font-family: monospace;background-color: #f0f8ff;border: 1px dotted black;border-radius: 0.25em;box-sizing: border-box;margin-bottom: 0.5em;}#sk-container-id-1 div.sk-estimator:hover {background-color: #d4ebff;}#sk-container-id-1 div.sk-parallel-item::after {content: \"\";width: 100%;border-bottom: 1px solid gray;flex-grow: 1;}#sk-container-id-1 div.sk-label:hover label.sk-toggleable__label {background-color: #d4ebff;}#sk-container-id-1 div.sk-serial::before {content: \"\";position: absolute;border-left: 1px solid gray;box-sizing: border-box;top: 0;bottom: 0;left: 50%;z-index: 0;}#sk-container-id-1 div.sk-serial {display: flex;flex-direction: column;align-items: center;background-color: white;padding-right: 0.2em;padding-left: 0.2em;position: relative;}#sk-container-id-1 div.sk-item {position: relative;z-index: 1;}#sk-container-id-1 div.sk-parallel {display: flex;align-items: stretch;justify-content: center;background-color: white;position: relative;}#sk-container-id-1 div.sk-item::before, #sk-container-id-1 div.sk-parallel-item::before {content: \"\";position: absolute;border-left: 1px solid gray;box-sizing: border-box;top: 0;bottom: 0;left: 50%;z-index: -1;}#sk-container-id-1 div.sk-parallel-item {display: flex;flex-direction: column;z-index: 1;position: relative;background-color: white;}#sk-container-id-1 div.sk-parallel-item:first-child::after {align-self: flex-end;width: 50%;}#sk-container-id-1 div.sk-parallel-item:last-child::after {align-self: flex-start;width: 50%;}#sk-container-id-1 div.sk-parallel-item:only-child::after {width: 0;}#sk-container-id-1 div.sk-dashed-wrapped {border: 1px dashed gray;margin: 0 0.4em 0.5em 0.4em;box-sizing: border-box;padding-bottom: 0.4em;background-color: white;}#sk-container-id-1 div.sk-label label {font-family: monospace;font-weight: bold;display: inline-block;line-height: 1.2em;}#sk-container-id-1 div.sk-label-container {text-align: center;}#sk-container-id-1 div.sk-container {/* jupyter's `normalize.less` sets `[hidden] { display: none; }` but bootstrap.min.css set `[hidden] { display: none !important; }` so we also need the `!important` here to be able to override the default hidden behavior on the sphinx rendered scikit-learn.org. See: https://github.com/scikit-learn/scikit-learn/issues/21755 */display: inline-block !important;position: relative;}#sk-container-id-1 div.sk-text-repr-fallback {display: none;}</style><div id=\"sk-container-id-1\" class=\"sk-top-container\"><div class=\"sk-text-repr-fallback\"><pre>DecisionTreeClassifier()</pre><b>In a Jupyter environment, please rerun this cell to show the HTML representation or trust the notebook. <br />On GitHub, the HTML representation is unable to render, please try loading this page with nbviewer.org.</b></div><div class=\"sk-container\" hidden><div class=\"sk-item\"><div class=\"sk-estimator sk-toggleable\"><input class=\"sk-toggleable__control sk-hidden--visually\" id=\"sk-estimator-id-1\" type=\"checkbox\" checked><label for=\"sk-estimator-id-1\" class=\"sk-toggleable__label sk-toggleable__label-arrow\">DecisionTreeClassifier</label><div class=\"sk-toggleable__content\"><pre>DecisionTreeClassifier()</pre></div></div></div></div></div>"
      ],
      "text/plain": [
       "DecisionTreeClassifier()"
      ]
     },
     "execution_count": 27,
     "metadata": {},
     "output_type": "execute_result"
    }
   ],
   "source": [
    "from sklearn.tree import DecisionTreeClassifier\n",
    "classifier = DecisionTreeClassifier()\n",
    "classifier.fit(X_train, y_train)"
   ]
  },
  {
   "cell_type": "code",
   "execution_count": null,
   "metadata": {},
   "outputs": [],
   "source": [
    "y_pred = classifier.predict(X_test)"
   ]
  },
  {
   "cell_type": "code",
   "execution_count": null,
   "metadata": {},
   "outputs": [
    {
     "name": "stdout",
     "output_type": "stream",
     "text": [
      "[[  87 2331]\n",
      " [ 102 5353]]\n",
      "              precision    recall  f1-score   support\n",
      "\n",
      "           0       0.46      0.04      0.07      2418\n",
      "           1       0.70      0.98      0.81      5455\n",
      "\n",
      "    accuracy                           0.69      7873\n",
      "   macro avg       0.58      0.51      0.44      7873\n",
      "weighted avg       0.62      0.69      0.59      7873\n",
      "\n"
     ]
    }
   ],
   "source": [
    "from sklearn.metrics import classification_report, confusion_matrix\n",
    "print(confusion_matrix(y_test, y_pred))\n",
    "print(classification_report(y_test, y_pred))"
   ]
  },
  {
   "cell_type": "code",
   "execution_count": null,
   "metadata": {},
   "outputs": [
    {
     "data": {
      "text/plain": [
       "<sklearn.metrics._plot.confusion_matrix.ConfusionMatrixDisplay at 0x2cd0b30eee0>"
      ]
     },
     "execution_count": 30,
     "metadata": {},
     "output_type": "execute_result"
    },
    {
     "data": {
      "image/png": "[encoded data removed]",
      "text/plain": [
       "<Figure size 640x480 with 2 Axes>"
      ]
     },
     "metadata": {},
     "output_type": "display_data"
    }
   ],
   "source": [
    "y_pred = clf.predict(X_test)\n",
    "cm = confusion_matrix(y_test, y_pred)\n",
    "ConfusionMatrixDisplay(cm).plot()"
   ]
  },
  {
   "cell_type": "code",
   "execution_count": null,
   "metadata": {},
   "outputs": [],
   "source": [
    "def PlotBoundaries(model, X, Y, dot_size=20, figsize=(10,7)) :\n",
    "    '''\n",
    "    Helper function that plots the decision boundaries of a model and data (X,Y)\n",
    "    code modified from: https://scikit-learn.org/stable/auto_examples/neighbors/plot_classification.html\n",
    "    '''\n",
    "    \n",
    "    x_min, x_max = X[:, 0].min() - 1, X[:, 0].max() + 1\n",
    "    y_min, y_max = X[:, 1].min() - 1,X[:, 1].max() + 1\n",
    "    xx, yy = np.meshgrid(np.arange(x_min, x_max, 0.01), np.arange(y_min, y_max, 0.01))\n",
    "\n",
    "    Z = model.predict(np.c_[xx.ravel(), yy.ravel()])\n",
    "    Z = Z.reshape(xx.shape)\n",
    "\n",
    "    plt.figure(figsize=figsize)\n",
    "    plt.contourf(xx, yy, Z, alpha=0.4)\n",
    "\n",
    "    #Plot\n",
    "    plt.scatter(X[:, 0], X[:, 1], c=Y, s=dot_size, edgecolor='k')\n",
    "    plt.show()"
   ]
  },
  {
   "cell_type": "code",
   "execution_count": null,
   "metadata": {},
   "outputs": [
    {
     "ename": "InvalidIndexError",
     "evalue": "(slice(None, None, None), 0)",
     "output_type": "error",
     "traceback": [
      "\u001b[1;31m---------------------------------------------------------------------------\u001b[0m",
      "\u001b[1;31mTypeError\u001b[0m                                 Traceback (most recent call last)",
      "File \u001b[1;32mc:\\Users\\User\\anaconda3\\lib\\site-packages\\pandas\\core\\indexes\\base.py:3802\u001b[0m, in \u001b[0;36mIndex.get_loc\u001b[1;34m(self, key, method, tolerance)\u001b[0m\n\u001b[0;32m   3801\u001b[0m \u001b[39mtry\u001b[39;00m:\n\u001b[1;32m-> 3802\u001b[0m     \u001b[39mreturn\u001b[39;00m \u001b[39mself\u001b[39;49m\u001b[39m.\u001b[39;49m_engine\u001b[39m.\u001b[39;49mget_loc(casted_key)\n\u001b[0;32m   3803\u001b[0m \u001b[39mexcept\u001b[39;00m \u001b[39mKeyError\u001b[39;00m \u001b[39mas\u001b[39;00m err:\n",
      "File \u001b[1;32mc:\\Users\\User\\anaconda3\\lib\\site-packages\\pandas\\_libs\\index.pyx:138\u001b[0m, in \u001b[0;36mpandas._libs.index.IndexEngine.get_loc\u001b[1;34m()\u001b[0m\n",
      "File \u001b[1;32mc:\\Users\\User\\anaconda3\\lib\\site-packages\\pandas\\_libs\\index.pyx:144\u001b[0m, in \u001b[0;36mpandas._libs.index.IndexEngine.get_loc\u001b[1;34m()\u001b[0m\n",
      "\u001b[1;31mTypeError\u001b[0m: '(slice(None, None, None), 0)' is an invalid key",
      "\nDuring handling of the above exception, another exception occurred:\n",
      "\u001b[1;31mInvalidIndexError\u001b[0m                         Traceback (most recent call last)",
      "\u001b[1;32mc:\\Users\\User\\Desktop\\BrainStation-Data-Science-Capstone\\Notebooks\\Andrew_Chau_BrainStation_DS_Capstone.ipynb Cell 106\u001b[0m in \u001b[0;36m<cell line: 12>\u001b[1;34m()\u001b[0m\n\u001b[0;32m      <a href='vscode-notebook-cell:/c%3A/Users/User/Desktop/BrainStation-Data-Science-Capstone/Notebooks/Andrew_Chau_BrainStation_DS_Capstone.ipynb#Y204sZmlsZQ%3D%3D?line=8'>9</a>\u001b[0m LR_model\u001b[39m.\u001b[39mfit(X_train, y_train)\n\u001b[0;32m     <a href='vscode-notebook-cell:/c%3A/Users/User/Desktop/BrainStation-Data-Science-Capstone/Notebooks/Andrew_Chau_BrainStation_DS_Capstone.ipynb#Y204sZmlsZQ%3D%3D?line=10'>11</a>\u001b[0m \u001b[39m# Visualize its results\u001b[39;00m\n\u001b[1;32m---> <a href='vscode-notebook-cell:/c%3A/Users/User/Desktop/BrainStation-Data-Science-Capstone/Notebooks/Andrew_Chau_BrainStation_DS_Capstone.ipynb#Y204sZmlsZQ%3D%3D?line=11'>12</a>\u001b[0m PlotBoundaries(LR_model, X_train, y_train) \n\u001b[0;32m     <a href='vscode-notebook-cell:/c%3A/Users/User/Desktop/BrainStation-Data-Science-Capstone/Notebooks/Andrew_Chau_BrainStation_DS_Capstone.ipynb#Y204sZmlsZQ%3D%3D?line=13'>14</a>\u001b[0m \u001b[39m# Evaluate its classification accuracy (Just on the training set for now)\u001b[39;00m\n\u001b[0;32m     <a href='vscode-notebook-cell:/c%3A/Users/User/Desktop/BrainStation-Data-Science-Capstone/Notebooks/Andrew_Chau_BrainStation_DS_Capstone.ipynb#Y204sZmlsZQ%3D%3D?line=14'>15</a>\u001b[0m \u001b[39mprint\u001b[39m(\u001b[39mf\u001b[39m\u001b[39m\"\u001b[39m\u001b[39mTrain set accuracy: \u001b[39m\u001b[39m{\u001b[39;00mLR_model\u001b[39m.\u001b[39mscore(X_train,\u001b[39m \u001b[39my_train)\u001b[39m}\u001b[39;00m\u001b[39m\"\u001b[39m)\n",
      "\u001b[1;32mc:\\Users\\User\\Desktop\\BrainStation-Data-Science-Capstone\\Notebooks\\Andrew_Chau_BrainStation_DS_Capstone.ipynb Cell 106\u001b[0m in \u001b[0;36mPlotBoundaries\u001b[1;34m(model, X, Y, dot_size, figsize)\u001b[0m\n\u001b[0;32m      <a href='vscode-notebook-cell:/c%3A/Users/User/Desktop/BrainStation-Data-Science-Capstone/Notebooks/Andrew_Chau_BrainStation_DS_Capstone.ipynb#Y204sZmlsZQ%3D%3D?line=0'>1</a>\u001b[0m \u001b[39mdef\u001b[39;00m \u001b[39mPlotBoundaries\u001b[39m(model, X, Y, dot_size\u001b[39m=\u001b[39m\u001b[39m20\u001b[39m, figsize\u001b[39m=\u001b[39m(\u001b[39m10\u001b[39m,\u001b[39m7\u001b[39m)) :\n\u001b[0;32m      <a href='vscode-notebook-cell:/c%3A/Users/User/Desktop/BrainStation-Data-Science-Capstone/Notebooks/Andrew_Chau_BrainStation_DS_Capstone.ipynb#Y204sZmlsZQ%3D%3D?line=1'>2</a>\u001b[0m \u001b[39m    \u001b[39m\u001b[39m'''\u001b[39;00m\n\u001b[0;32m      <a href='vscode-notebook-cell:/c%3A/Users/User/Desktop/BrainStation-Data-Science-Capstone/Notebooks/Andrew_Chau_BrainStation_DS_Capstone.ipynb#Y204sZmlsZQ%3D%3D?line=2'>3</a>\u001b[0m \u001b[39m    Helper function that plots the decision boundaries of a model and data (X,Y)\u001b[39;00m\n\u001b[0;32m      <a href='vscode-notebook-cell:/c%3A/Users/User/Desktop/BrainStation-Data-Science-Capstone/Notebooks/Andrew_Chau_BrainStation_DS_Capstone.ipynb#Y204sZmlsZQ%3D%3D?line=3'>4</a>\u001b[0m \u001b[39m    code modified from: https://scikit-learn.org/stable/auto_examples/neighbors/plot_classification.html\u001b[39;00m\n\u001b[0;32m      <a href='vscode-notebook-cell:/c%3A/Users/User/Desktop/BrainStation-Data-Science-Capstone/Notebooks/Andrew_Chau_BrainStation_DS_Capstone.ipynb#Y204sZmlsZQ%3D%3D?line=4'>5</a>\u001b[0m \u001b[39m    '''\u001b[39;00m\n\u001b[1;32m----> <a href='vscode-notebook-cell:/c%3A/Users/User/Desktop/BrainStation-Data-Science-Capstone/Notebooks/Andrew_Chau_BrainStation_DS_Capstone.ipynb#Y204sZmlsZQ%3D%3D?line=6'>7</a>\u001b[0m     x_min, x_max \u001b[39m=\u001b[39m X[:, \u001b[39m0\u001b[39;49m]\u001b[39m.\u001b[39mmin() \u001b[39m-\u001b[39m \u001b[39m1\u001b[39m, X[:, \u001b[39m0\u001b[39m]\u001b[39m.\u001b[39mmax() \u001b[39m+\u001b[39m \u001b[39m1\u001b[39m\n\u001b[0;32m      <a href='vscode-notebook-cell:/c%3A/Users/User/Desktop/BrainStation-Data-Science-Capstone/Notebooks/Andrew_Chau_BrainStation_DS_Capstone.ipynb#Y204sZmlsZQ%3D%3D?line=7'>8</a>\u001b[0m     y_min, y_max \u001b[39m=\u001b[39m X[:, \u001b[39m1\u001b[39m]\u001b[39m.\u001b[39mmin() \u001b[39m-\u001b[39m \u001b[39m1\u001b[39m,X[:, \u001b[39m1\u001b[39m]\u001b[39m.\u001b[39mmax() \u001b[39m+\u001b[39m \u001b[39m1\u001b[39m\n\u001b[0;32m      <a href='vscode-notebook-cell:/c%3A/Users/User/Desktop/BrainStation-Data-Science-Capstone/Notebooks/Andrew_Chau_BrainStation_DS_Capstone.ipynb#Y204sZmlsZQ%3D%3D?line=8'>9</a>\u001b[0m     xx, yy \u001b[39m=\u001b[39m np\u001b[39m.\u001b[39mmeshgrid(np\u001b[39m.\u001b[39marange(x_min, x_max, \u001b[39m0.01\u001b[39m), np\u001b[39m.\u001b[39marange(y_min, y_max, \u001b[39m0.01\u001b[39m))\n",
      "File \u001b[1;32mc:\\Users\\User\\anaconda3\\lib\\site-packages\\pandas\\core\\frame.py:3807\u001b[0m, in \u001b[0;36mDataFrame.__getitem__\u001b[1;34m(self, key)\u001b[0m\n\u001b[0;32m   3805\u001b[0m \u001b[39mif\u001b[39;00m \u001b[39mself\u001b[39m\u001b[39m.\u001b[39mcolumns\u001b[39m.\u001b[39mnlevels \u001b[39m>\u001b[39m \u001b[39m1\u001b[39m:\n\u001b[0;32m   3806\u001b[0m     \u001b[39mreturn\u001b[39;00m \u001b[39mself\u001b[39m\u001b[39m.\u001b[39m_getitem_multilevel(key)\n\u001b[1;32m-> 3807\u001b[0m indexer \u001b[39m=\u001b[39m \u001b[39mself\u001b[39;49m\u001b[39m.\u001b[39;49mcolumns\u001b[39m.\u001b[39;49mget_loc(key)\n\u001b[0;32m   3808\u001b[0m \u001b[39mif\u001b[39;00m is_integer(indexer):\n\u001b[0;32m   3809\u001b[0m     indexer \u001b[39m=\u001b[39m [indexer]\n",
      "File \u001b[1;32mc:\\Users\\User\\anaconda3\\lib\\site-packages\\pandas\\core\\indexes\\base.py:3809\u001b[0m, in \u001b[0;36mIndex.get_loc\u001b[1;34m(self, key, method, tolerance)\u001b[0m\n\u001b[0;32m   3804\u001b[0m         \u001b[39mraise\u001b[39;00m \u001b[39mKeyError\u001b[39;00m(key) \u001b[39mfrom\u001b[39;00m \u001b[39merr\u001b[39;00m\n\u001b[0;32m   3805\u001b[0m     \u001b[39mexcept\u001b[39;00m \u001b[39mTypeError\u001b[39;00m:\n\u001b[0;32m   3806\u001b[0m         \u001b[39m# If we have a listlike key, _check_indexing_error will raise\u001b[39;00m\n\u001b[0;32m   3807\u001b[0m         \u001b[39m#  InvalidIndexError. Otherwise we fall through and re-raise\u001b[39;00m\n\u001b[0;32m   3808\u001b[0m         \u001b[39m#  the TypeError.\u001b[39;00m\n\u001b[1;32m-> 3809\u001b[0m         \u001b[39mself\u001b[39;49m\u001b[39m.\u001b[39;49m_check_indexing_error(key)\n\u001b[0;32m   3810\u001b[0m         \u001b[39mraise\u001b[39;00m\n\u001b[0;32m   3812\u001b[0m \u001b[39m# GH#42269\u001b[39;00m\n",
      "File \u001b[1;32mc:\\Users\\User\\anaconda3\\lib\\site-packages\\pandas\\core\\indexes\\base.py:5925\u001b[0m, in \u001b[0;36mIndex._check_indexing_error\u001b[1;34m(self, key)\u001b[0m\n\u001b[0;32m   5921\u001b[0m \u001b[39mdef\u001b[39;00m \u001b[39m_check_indexing_error\u001b[39m(\u001b[39mself\u001b[39m, key):\n\u001b[0;32m   5922\u001b[0m     \u001b[39mif\u001b[39;00m \u001b[39mnot\u001b[39;00m is_scalar(key):\n\u001b[0;32m   5923\u001b[0m         \u001b[39m# if key is not a scalar, directly raise an error (the code below\u001b[39;00m\n\u001b[0;32m   5924\u001b[0m         \u001b[39m# would convert to numpy arrays and raise later any way) - GH29926\u001b[39;00m\n\u001b[1;32m-> 5925\u001b[0m         \u001b[39mraise\u001b[39;00m InvalidIndexError(key)\n",
      "\u001b[1;31mInvalidIndexError\u001b[0m: (slice(None, None, None), 0)"
     ]
    }
   ],
   "source": [
    "from sklearn.model_selection import train_test_split\n",
    "from sklearn.linear_model import LogisticRegression\n",
    "\n",
    "# Splitting the data\n",
    "X_train, X_test, y_train, y_test = train_test_split(X, y, test_size=0.3)\n",
    "\n",
    "# Fitting the linear model\n",
    "LR_model = LogisticRegression()\n",
    "LR_model.fit(X_train, y_train)\n",
    "\n",
    "# Visualize its results\n",
    "PlotBoundaries(LR_model, X_train, y_train) \n",
    "\n",
    "# Evaluate its classification accuracy (Just on the training set for now)\n",
    "print(f\"Train set accuracy: {LR_model.score(X_train, y_train)}\")"
   ]
  },
  {
   "cell_type": "markdown",
   "metadata": {},
   "source": [
    "## Natural Langauge Processing {#NLP}"
   ]
  },
  {
   "cell_type": "code",
   "execution_count": null,
   "metadata": {},
   "outputs": [
    {
     "data": {
      "text/html": [
       "<div>\n",
       "<style scoped>\n",
       "    .dataframe tbody tr th:only-of-type {\n",
       "        vertical-align: middle;\n",
       "    }\n",
       "\n",
       "    .dataframe tbody tr th {\n",
       "        vertical-align: top;\n",
       "    }\n",
       "\n",
       "    .dataframe thead th {\n",
       "        text-align: right;\n",
       "    }\n",
       "</style>\n",
       "<table border=\"1\" class=\"dataframe\">\n",
       "  <thead>\n",
       "    <tr style=\"text-align: right;\">\n",
       "      <th></th>\n",
       "      <th>repair_status</th>\n",
       "      <th>problem</th>\n",
       "    </tr>\n",
       "  </thead>\n",
       "  <tbody>\n",
       "    <tr>\n",
       "      <th>0</th>\n",
       "      <td>End of life</td>\n",
       "      <td>Pumpe defekt</td>\n",
       "    </tr>\n",
       "    <tr>\n",
       "      <th>1</th>\n",
       "      <td>Repairable</td>\n",
       "      <td>Akku lädt nicht</td>\n",
       "    </tr>\n",
       "    <tr>\n",
       "      <th>2</th>\n",
       "      <td>Fixed</td>\n",
       "      <td>Ohne Funktion</td>\n",
       "    </tr>\n",
       "    <tr>\n",
       "      <th>3</th>\n",
       "      <td>End of life</td>\n",
       "      <td>Netzteilbuchse und Grafikkarte defekt</td>\n",
       "    </tr>\n",
       "    <tr>\n",
       "      <th>4</th>\n",
       "      <td>End of life</td>\n",
       "      <td>Getriebeschaden</td>\n",
       "    </tr>\n",
       "    <tr>\n",
       "      <th>...</th>\n",
       "      <td>...</td>\n",
       "      <td>...</td>\n",
       "    </tr>\n",
       "    <tr>\n",
       "      <th>103071</th>\n",
       "      <td>Fixed</td>\n",
       "      <td>Extension cable for PAT testing.</td>\n",
       "    </tr>\n",
       "    <tr>\n",
       "      <th>103072</th>\n",
       "      <td>Repairable</td>\n",
       "      <td>Broken mirror.</td>\n",
       "    </tr>\n",
       "    <tr>\n",
       "      <th>103073</th>\n",
       "      <td>Fixed</td>\n",
       "      <td>Cotton reel spindle needs replacing.</td>\n",
       "    </tr>\n",
       "    <tr>\n",
       "      <th>103074</th>\n",
       "      <td>Fixed</td>\n",
       "      <td>Bobbin not working.</td>\n",
       "    </tr>\n",
       "    <tr>\n",
       "      <th>103075</th>\n",
       "      <td>Fixed</td>\n",
       "      <td>It doesn’t turn on.</td>\n",
       "    </tr>\n",
       "  </tbody>\n",
       "</table>\n",
       "<p>103076 rows × 2 columns</p>\n",
       "</div>"
      ],
      "text/plain": [
       "       repair_status                                problem\n",
       "0        End of life                           Pumpe defekt\n",
       "1         Repairable                        Akku lädt nicht\n",
       "2              Fixed                          Ohne Funktion\n",
       "3        End of life  Netzteilbuchse und Grafikkarte defekt\n",
       "4        End of life                        Getriebeschaden\n",
       "...              ...                                    ...\n",
       "103071         Fixed       Extension cable for PAT testing.\n",
       "103072    Repairable                         Broken mirror.\n",
       "103073         Fixed   Cotton reel spindle needs replacing.\n",
       "103074         Fixed                    Bobbin not working.\n",
       "103075         Fixed                    It doesn’t turn on.\n",
       "\n",
       "[103076 rows x 2 columns]"
      ]
     },
     "execution_count": 35,
     "metadata": {},
     "output_type": "execute_result"
    }
   ],
   "source": [
    "ldf = pd.read_csv(\"data/OpenRepairData_v0.3_aggregate_202303.csv\")\n",
    "ldf = ldf[['repair_status', 'problem']]\n",
    "ldf"
   ]
  },
  {
   "cell_type": "code",
   "execution_count": null,
   "metadata": {},
   "outputs": [
    {
     "data": {
      "text/plain": [
       "0         End of life\n",
       "1          Repairable\n",
       "2               Fixed\n",
       "3         End of life\n",
       "4         End of life\n",
       "             ...     \n",
       "103071          Fixed\n",
       "103072     Repairable\n",
       "103073          Fixed\n",
       "103074          Fixed\n",
       "103075          Fixed\n",
       "Name: repair_status, Length: 99676, dtype: object"
      ]
     },
     "execution_count": 36,
     "metadata": {},
     "output_type": "execute_result"
    }
   ],
   "source": [
    "ldf = ldf.drop(ldf[ldf['repair_status'] == 'Unknown'].index)\n",
    "ldf['repair_status']"
   ]
  },
  {
   "cell_type": "code",
   "execution_count": null,
   "metadata": {},
   "outputs": [
    {
     "data": {
      "text/plain": [
       "0         End of life\n",
       "2               Fixed\n",
       "3         End of life\n",
       "4         End of life\n",
       "5         End of life\n",
       "             ...     \n",
       "103068    End of life\n",
       "103071          Fixed\n",
       "103073          Fixed\n",
       "103074          Fixed\n",
       "103075          Fixed\n",
       "Name: repair_status, Length: 78728, dtype: object"
      ]
     },
     "execution_count": 37,
     "metadata": {},
     "output_type": "execute_result"
    }
   ],
   "source": [
    "ldf = ldf.drop(ldf[ldf['repair_status'] == 'Repairable'].index)\n",
    "ldf['repair_status']"
   ]
  },
  {
   "cell_type": "code",
   "execution_count": null,
   "metadata": {},
   "outputs": [
    {
     "data": {
      "text/html": [
       "<div>\n",
       "<style scoped>\n",
       "    .dataframe tbody tr th:only-of-type {\n",
       "        vertical-align: middle;\n",
       "    }\n",
       "\n",
       "    .dataframe tbody tr th {\n",
       "        vertical-align: top;\n",
       "    }\n",
       "\n",
       "    .dataframe thead th {\n",
       "        text-align: right;\n",
       "    }\n",
       "</style>\n",
       "<table border=\"1\" class=\"dataframe\">\n",
       "  <thead>\n",
       "    <tr style=\"text-align: right;\">\n",
       "      <th></th>\n",
       "      <th>repair_status</th>\n",
       "      <th>problem</th>\n",
       "    </tr>\n",
       "  </thead>\n",
       "  <tbody>\n",
       "    <tr>\n",
       "      <th>2</th>\n",
       "      <td>Fixed</td>\n",
       "      <td>Ohne Funktion</td>\n",
       "    </tr>\n",
       "    <tr>\n",
       "      <th>10</th>\n",
       "      <td>Fixed</td>\n",
       "      <td>Softwareproblem</td>\n",
       "    </tr>\n",
       "    <tr>\n",
       "      <th>11</th>\n",
       "      <td>Fixed</td>\n",
       "      <td>Klappe klemmt</td>\n",
       "    </tr>\n",
       "    <tr>\n",
       "      <th>12</th>\n",
       "      <td>Fixed</td>\n",
       "      <td>ohne Funktion</td>\n",
       "    </tr>\n",
       "    <tr>\n",
       "      <th>13</th>\n",
       "      <td>Fixed</td>\n",
       "      <td>Schalter defekt</td>\n",
       "    </tr>\n",
       "    <tr>\n",
       "      <th>...</th>\n",
       "      <td>...</td>\n",
       "      <td>...</td>\n",
       "    </tr>\n",
       "    <tr>\n",
       "      <th>103063</th>\n",
       "      <td>Fixed</td>\n",
       "      <td>Dab radiodoesn't switch on.</td>\n",
       "    </tr>\n",
       "    <tr>\n",
       "      <th>103071</th>\n",
       "      <td>Fixed</td>\n",
       "      <td>Extension cable for PAT testing.</td>\n",
       "    </tr>\n",
       "    <tr>\n",
       "      <th>103073</th>\n",
       "      <td>Fixed</td>\n",
       "      <td>Cotton reel spindle needs replacing.</td>\n",
       "    </tr>\n",
       "    <tr>\n",
       "      <th>103074</th>\n",
       "      <td>Fixed</td>\n",
       "      <td>Bobbin not working.</td>\n",
       "    </tr>\n",
       "    <tr>\n",
       "      <th>103075</th>\n",
       "      <td>Fixed</td>\n",
       "      <td>It doesn’t turn on.</td>\n",
       "    </tr>\n",
       "  </tbody>\n",
       "</table>\n",
       "<p>54295 rows × 2 columns</p>\n",
       "</div>"
      ],
      "text/plain": [
       "       repair_status                               problem\n",
       "2              Fixed                         Ohne Funktion\n",
       "10             Fixed                       Softwareproblem\n",
       "11             Fixed                         Klappe klemmt\n",
       "12             Fixed                         ohne Funktion\n",
       "13             Fixed                       Schalter defekt\n",
       "...              ...                                   ...\n",
       "103063         Fixed           Dab radiodoesn't switch on.\n",
       "103071         Fixed      Extension cable for PAT testing.\n",
       "103073         Fixed  Cotton reel spindle needs replacing.\n",
       "103074         Fixed                   Bobbin not working.\n",
       "103075         Fixed                   It doesn’t turn on.\n",
       "\n",
       "[54295 rows x 2 columns]"
      ]
     },
     "execution_count": 38,
     "metadata": {},
     "output_type": "execute_result"
    }
   ],
   "source": [
    "fixed_df = ldf.loc[ldf['repair_status'] == 'Fixed']\n",
    "fixed_df"
   ]
  },
  {
   "cell_type": "code",
   "execution_count": null,
   "metadata": {},
   "outputs": [],
   "source": [
    "fixed_df = fixed_df.fillna('blank')"
   ]
  },
  {
   "cell_type": "code",
   "execution_count": null,
   "metadata": {},
   "outputs": [
    {
     "data": {
      "text/plain": [
       "2                                   [Ohne, Funktion]\n",
       "10                                 [Softwareproblem]\n",
       "11                                  [Klappe, klemmt]\n",
       "12                                  [ohne, Funktion]\n",
       "13                                [Schalter, defekt]\n",
       "                             ...                    \n",
       "103063              [Dab, radiodoesn't, switch, on.]\n",
       "103071        [Extension, cable, for, PAT, testing.]\n",
       "103073    [Cotton, reel, spindle, needs, replacing.]\n",
       "103074                       [Bobbin, not, working.]\n",
       "103075                      [It, doesn’t, turn, on.]\n",
       "Name: problem, Length: 54295, dtype: object"
      ]
     },
     "execution_count": 40,
     "metadata": {},
     "output_type": "execute_result"
    }
   ],
   "source": [
    "fixed_df['problem'].str.split(' ')"
   ]
  },
  {
   "cell_type": "code",
   "execution_count": null,
   "metadata": {},
   "outputs": [
    {
     "data": {
      "text/html": [
       "<div>\n",
       "<style scoped>\n",
       "    .dataframe tbody tr th:only-of-type {\n",
       "        vertical-align: middle;\n",
       "    }\n",
       "\n",
       "    .dataframe tbody tr th {\n",
       "        vertical-align: top;\n",
       "    }\n",
       "\n",
       "    .dataframe thead th {\n",
       "        text-align: right;\n",
       "    }\n",
       "</style>\n",
       "<table border=\"1\" class=\"dataframe\">\n",
       "  <thead>\n",
       "    <tr style=\"text-align: right;\">\n",
       "      <th></th>\n",
       "      <th>repair_status</th>\n",
       "      <th>problem</th>\n",
       "    </tr>\n",
       "  </thead>\n",
       "  <tbody>\n",
       "    <tr>\n",
       "      <th>37832</th>\n",
       "      <td>Fixed</td>\n",
       "      <td>brandt nt peertje kapot alles doorgemeten en m...</td>\n",
       "    </tr>\n",
       "    <tr>\n",
       "      <th>29129</th>\n",
       "      <td>Fixed</td>\n",
       "      <td>DVD schijfje komt er niet uit - snaar  snaar v...</td>\n",
       "    </tr>\n",
       "    <tr>\n",
       "      <th>36257</th>\n",
       "      <td>Fixed</td>\n",
       "      <td>Na half uurtje draaien komt er rook uit de mot...</td>\n",
       "    </tr>\n",
       "    <tr>\n",
       "      <th>14313</th>\n",
       "      <td>Fixed</td>\n",
       "      <td>needs to be put back together loose parts put ...</td>\n",
       "    </tr>\n",
       "    <tr>\n",
       "      <th>69024</th>\n",
       "      <td>Fixed</td>\n",
       "      <td>Broken Screen</td>\n",
       "    </tr>\n",
       "    <tr>\n",
       "      <th>...</th>\n",
       "      <td>...</td>\n",
       "      <td>...</td>\n",
       "    </tr>\n",
       "    <tr>\n",
       "      <th>39824</th>\n",
       "      <td>Fixed</td>\n",
       "      <td>kabelbreuk</td>\n",
       "    </tr>\n",
       "    <tr>\n",
       "      <th>52932</th>\n",
       "      <td>Fixed</td>\n",
       "      <td>Op toestel bevindt zich een schermpje(zie foto...</td>\n",
       "    </tr>\n",
       "    <tr>\n",
       "      <th>45527</th>\n",
       "      <td>Fixed</td>\n",
       "      <td>Hapert Filters vervuild Filters schoongemaakt</td>\n",
       "    </tr>\n",
       "    <tr>\n",
       "      <th>21943</th>\n",
       "      <td>Fixed</td>\n",
       "      <td>Not working Faulty battery</td>\n",
       "    </tr>\n",
       "    <tr>\n",
       "      <th>79529</th>\n",
       "      <td>Fixed</td>\n",
       "      <td>Cosses de l’interrupteur oxydées, réparation OK.</td>\n",
       "    </tr>\n",
       "  </tbody>\n",
       "</table>\n",
       "<p>1000 rows × 2 columns</p>\n",
       "</div>"
      ],
      "text/plain": [
       "      repair_status                                            problem\n",
       "37832         Fixed  brandt nt peertje kapot alles doorgemeten en m...\n",
       "29129         Fixed  DVD schijfje komt er niet uit - snaar  snaar v...\n",
       "36257         Fixed  Na half uurtje draaien komt er rook uit de mot...\n",
       "14313         Fixed  needs to be put back together loose parts put ...\n",
       "69024         Fixed                                      Broken Screen\n",
       "...             ...                                                ...\n",
       "39824         Fixed                                         kabelbreuk\n",
       "52932         Fixed  Op toestel bevindt zich een schermpje(zie foto...\n",
       "45527         Fixed      Hapert Filters vervuild Filters schoongemaakt\n",
       "21943         Fixed                         Not working Faulty battery\n",
       "79529         Fixed   Cosses de l’interrupteur oxydées, réparation OK.\n",
       "\n",
       "[1000 rows x 2 columns]"
      ]
     },
     "execution_count": 41,
     "metadata": {},
     "output_type": "execute_result"
    }
   ],
   "source": [
    "simple_data = fixed_df.sample(n=1000, random_state=1)\n",
    "simple_data"
   ]
  },
  {
   "cell_type": "code",
   "execution_count": null,
   "metadata": {},
   "outputs": [],
   "source": [
    "from sklearn.feature_extraction.text import CountVectorizer"
   ]
  },
  {
   "cell_type": "code",
   "execution_count": null,
   "metadata": {},
   "outputs": [
    {
     "data": {
      "text/plain": [
       "<1000x2777 sparse matrix of type '<class 'numpy.int64'>'\n",
       "\twith 6846 stored elements in Compressed Sparse Row format>"
      ]
     },
     "execution_count": 43,
     "metadata": {},
     "output_type": "execute_result"
    }
   ],
   "source": [
    "bagofwords = CountVectorizer()\n",
    "\n",
    "bagofwords.fit(simple_data['problem'])\n",
    "\n",
    "small_transformed = bagofwords.transform(simple_data['problem'])\n",
    "small_transformed"
   ]
  },
  {
   "cell_type": "code",
   "execution_count": null,
   "metadata": {},
   "outputs": [
    {
     "data": {
      "text/plain": [
       "array(['10', '100', '11', ..., 'überbrücken', 'überbrückt', 'überprüft'],\n",
       "      dtype=object)"
      ]
     },
     "execution_count": 44,
     "metadata": {},
     "output_type": "execute_result"
    }
   ],
   "source": [
    "bagofwords.get_feature_names_out()"
   ]
  },
  {
   "cell_type": "code",
   "execution_count": null,
   "metadata": {},
   "outputs": [
    {
     "data": {
      "text/plain": [
       "array([[0, 0, 0, ..., 0, 0, 0],\n",
       "       [0, 0, 0, ..., 0, 0, 0],\n",
       "       [0, 0, 0, ..., 0, 0, 0],\n",
       "       ...,\n",
       "       [0, 0, 0, ..., 0, 0, 0],\n",
       "       [0, 0, 0, ..., 0, 0, 0],\n",
       "       [0, 0, 0, ..., 0, 0, 0]], dtype=int64)"
      ]
     },
     "execution_count": 45,
     "metadata": {},
     "output_type": "execute_result"
    }
   ],
   "source": [
    "small_transformed.toarray()"
   ]
  },
  {
   "cell_type": "code",
   "execution_count": null,
   "metadata": {},
   "outputs": [],
   "source": [
    "# add more features\n",
    "# more markdown\n",
    "# multiple models\n",
    "# hyperparameter tuning\n"
   ]
  },
  {
   "cell_type": "code",
   "execution_count": null,
   "metadata": {},
   "outputs": [],
   "source": [
    "df = pd.DataFrame(columns=bagofwords.get_feature_names_out(), data=small_transformed.toarray())\n",
    "display(df)"
   ]
  },
  {
   "cell_type": "code",
   "execution_count": null,
   "metadata": {},
   "outputs": [],
   "source": [
    "from sklearn.model_selection import train_test_split\n",
    "\n",
    "X_train, X_test, y_train, y_test = train_test_split(X, y, test_size=0.25, random_state=42)"
   ]
  },
  {
   "cell_type": "code",
   "execution_count": null,
   "metadata": {},
   "outputs": [],
   "source": [
    "X_train.shape"
   ]
  },
  {
   "cell_type": "code",
   "execution_count": null,
   "metadata": {},
   "outputs": [],
   "source": [
    "bagofwords = CountVectorizer()\n",
    "\n",
    "\n",
    "bagofwords.fit(X_train)\n",
    "X_train_transformed = bagofwords.transform(X_train)\n",
    "X_train_transformed"
   ]
  },
  {
   "cell_type": "code",
   "execution_count": null,
   "metadata": {},
   "outputs": [],
   "source": [
    "X_test_transformed = bagofwords.transform(X_test)\n",
    "X_test_transformed"
   ]
  },
  {
   "cell_type": "code",
   "execution_count": null,
   "metadata": {},
   "outputs": [],
   "source": [
    "words = bagofwords.get_feature_names_out()\n",
    "some_indices = range(1, 1000, round(1000/10))\n",
    "\n",
    "samples = [words[i] for i in some_indices]\n",
    "print(samples)"
   ]
  },
  {
   "cell_type": "code",
   "execution_count": null,
   "metadata": {},
   "outputs": [],
   "source": [
    "counts = np.array(X_train_transformed[:, some_indices].sum(axis = 0))\n",
    "\n",
    "display(pd.DataFrame({\"total_corpus_count\": counts[0]}, index=samples).T)"
   ]
  },
  {
   "cell_type": "code",
   "execution_count": null,
   "metadata": {},
   "outputs": [],
   "source": [
    "len(bagofwords.get_feature_names_out())"
   ]
  },
  {
   "cell_type": "code",
   "execution_count": null,
   "metadata": {},
   "outputs": [],
   "source": [
    "X_train_transformed.toarray().sum(axis=0)"
   ]
  },
  {
   "cell_type": "markdown",
   "metadata": {},
   "source": [
    "top 20 most frequently occuring words"
   ]
  },
  {
   "cell_type": "code",
   "execution_count": null,
   "metadata": {},
   "outputs": [],
   "source": [
    "word_counts = pd.DataFrame(\n",
    "    {\"counts\": X_train_transformed.toarray().sum(axis=0)},\n",
    "    index=bagofwords.get_feature_names_out()\n",
    ").sort_values(\"counts\", ascending=False)\n",
    "\n",
    "word_counts.head(20).plot(kind=\"bar\", figsize=(15, 5), legend=False)\n",
    "plt.title(\"Top 20 most frequently occurring words\")\n",
    "plt.ylabel(\"Count\")\n",
    "plt.xticks(rotation=45)\n",
    "plt.show()"
   ]
  },
  {
   "cell_type": "markdown",
   "metadata": {},
   "source": [
    "removing English stop words"
   ]
  },
  {
   "cell_type": "code",
   "execution_count": null,
   "metadata": {},
   "outputs": [],
   "source": [
    "bagofwords = CountVectorizer(stop_words=\"english\")\n",
    "bagofwords.fit(X_train)\n",
    "\n",
    "X_train_transformed = bagofwords.transform(X_train) \n",
    "X_test_transformed = bagofwords.transform(X_test) \n",
    "\n",
    "X_train_transformed.shape"
   ]
  },
  {
   "cell_type": "markdown",
   "metadata": {},
   "source": [
    "bar graph of the Top 20 most frequently occurring words"
   ]
  },
  {
   "cell_type": "code",
   "execution_count": null,
   "metadata": {},
   "outputs": [
    {
     "ename": "NameError",
     "evalue": "name 'X_train_transformed' is not defined",
     "output_type": "error",
     "traceback": [
      "\u001b[1;31m---------------------------------------------------------------------------\u001b[0m",
      "\u001b[1;31mNameError\u001b[0m                                 Traceback (most recent call last)",
      "\u001b[1;32mc:\\Users\\User\\Desktop\\BrainStation-Data-Science-Capstone\\Notebooks\\Andrew_Chau_BrainStation_DS_Capstone.ipynb Cell 127\u001b[0m in \u001b[0;36m<cell line: 1>\u001b[1;34m()\u001b[0m\n\u001b[0;32m      <a href='vscode-notebook-cell:/c%3A/Users/User/Desktop/BrainStation-Data-Science-Capstone/Notebooks/Andrew_Chau_BrainStation_DS_Capstone.ipynb#Y244sZmlsZQ%3D%3D?line=0'>1</a>\u001b[0m word_counts \u001b[39m=\u001b[39m pd\u001b[39m.\u001b[39mDataFrame(\n\u001b[1;32m----> <a href='vscode-notebook-cell:/c%3A/Users/User/Desktop/BrainStation-Data-Science-Capstone/Notebooks/Andrew_Chau_BrainStation_DS_Capstone.ipynb#Y244sZmlsZQ%3D%3D?line=1'>2</a>\u001b[0m     {\u001b[39m\"\u001b[39m\u001b[39mcounts\u001b[39m\u001b[39m\"\u001b[39m: X_train_transformed\u001b[39m.\u001b[39mtoarray()\u001b[39m.\u001b[39msum(axis\u001b[39m=\u001b[39m\u001b[39m0\u001b[39m)},\n\u001b[0;32m      <a href='vscode-notebook-cell:/c%3A/Users/User/Desktop/BrainStation-Data-Science-Capstone/Notebooks/Andrew_Chau_BrainStation_DS_Capstone.ipynb#Y244sZmlsZQ%3D%3D?line=2'>3</a>\u001b[0m     index\u001b[39m=\u001b[39mbagofwords\u001b[39m.\u001b[39mget_feature_names_out()\n\u001b[0;32m      <a href='vscode-notebook-cell:/c%3A/Users/User/Desktop/BrainStation-Data-Science-Capstone/Notebooks/Andrew_Chau_BrainStation_DS_Capstone.ipynb#Y244sZmlsZQ%3D%3D?line=3'>4</a>\u001b[0m )\u001b[39m.\u001b[39msort_values(\u001b[39m\"\u001b[39m\u001b[39mcounts\u001b[39m\u001b[39m\"\u001b[39m, ascending\u001b[39m=\u001b[39m\u001b[39mFalse\u001b[39;00m)\n\u001b[0;32m      <a href='vscode-notebook-cell:/c%3A/Users/User/Desktop/BrainStation-Data-Science-Capstone/Notebooks/Andrew_Chau_BrainStation_DS_Capstone.ipynb#Y244sZmlsZQ%3D%3D?line=5'>6</a>\u001b[0m word_counts\u001b[39m.\u001b[39mhead(\u001b[39m20\u001b[39m)\u001b[39m.\u001b[39mplot(kind\u001b[39m=\u001b[39m\u001b[39m\"\u001b[39m\u001b[39mbar\u001b[39m\u001b[39m\"\u001b[39m, figsize\u001b[39m=\u001b[39m(\u001b[39m15\u001b[39m, \u001b[39m5\u001b[39m), legend\u001b[39m=\u001b[39m\u001b[39mFalse\u001b[39;00m)\n\u001b[0;32m      <a href='vscode-notebook-cell:/c%3A/Users/User/Desktop/BrainStation-Data-Science-Capstone/Notebooks/Andrew_Chau_BrainStation_DS_Capstone.ipynb#Y244sZmlsZQ%3D%3D?line=6'>7</a>\u001b[0m plt\u001b[39m.\u001b[39mtitle(\u001b[39m\"\u001b[39m\u001b[39mTop 20 most frequently occurring words\u001b[39m\u001b[39m\"\u001b[39m)\n",
      "\u001b[1;31mNameError\u001b[0m: name 'X_train_transformed' is not defined"
     ]
    }
   ],
   "source": [
    "word_counts = pd.DataFrame(\n",
    "    {\"counts\": X_train_transformed.toarray().sum(axis=0)},\n",
    "    index=bagofwords.get_feature_names_out()\n",
    ").sort_values(\"counts\", ascending=False)\n",
    "\n",
    "word_counts.head(20).plot(kind=\"bar\", figsize=(15, 5), legend=False)\n",
    "plt.title(\"Top 20 most frequently occurring words\")\n",
    "plt.ylabel(\"Count\")\n",
    "plt.xticks(rotation=45)\n",
    "plt.show()"
   ]
  },
  {
   "cell_type": "markdown",
   "metadata": {},
   "source": [
    "# Logistic Regression"
   ]
  },
  {
   "cell_type": "markdown",
   "metadata": {},
   "source": [
    "setting up for logistic regression modeling. importing library "
   ]
  },
  {
   "cell_type": "code",
   "execution_count": null,
   "metadata": {},
   "outputs": [],
   "source": [
    "from sklearn.linear_model import LogisticRegression"
   ]
  },
  {
   "cell_type": "markdown",
   "metadata": {},
   "source": [
    "fitting the model and printing the train and test scores"
   ]
  },
  {
   "cell_type": "code",
   "execution_count": null,
   "metadata": {},
   "outputs": [
    {
     "ename": "NameError",
     "evalue": "name 'LogisticRegression' is not defined",
     "output_type": "error",
     "traceback": [
      "\u001b[1;31m---------------------------------------------------------------------------\u001b[0m",
      "\u001b[1;31mNameError\u001b[0m                                 Traceback (most recent call last)",
      "\u001b[1;32mc:\\Users\\User\\Desktop\\BrainStation-Data-Science-Capstone\\Notebooks\\Andrew_Chau_BrainStation_DS_Capstone.ipynb Cell 130\u001b[0m in \u001b[0;36m<cell line: 3>\u001b[1;34m()\u001b[0m\n\u001b[0;32m      <a href='vscode-notebook-cell:/c%3A/Users/User/Desktop/BrainStation-Data-Science-Capstone/Notebooks/Andrew_Chau_BrainStation_DS_Capstone.ipynb#Y250sZmlsZQ%3D%3D?line=0'>1</a>\u001b[0m np\u001b[39m.\u001b[39mrandom\u001b[39m.\u001b[39mseed(\u001b[39m123\u001b[39m)\n\u001b[1;32m----> <a href='vscode-notebook-cell:/c%3A/Users/User/Desktop/BrainStation-Data-Science-Capstone/Notebooks/Andrew_Chau_BrainStation_DS_Capstone.ipynb#Y250sZmlsZQ%3D%3D?line=2'>3</a>\u001b[0m logreg \u001b[39m=\u001b[39m LogisticRegression(C \u001b[39m=\u001b[39m \u001b[39m0.1\u001b[39m)\n\u001b[0;32m      <a href='vscode-notebook-cell:/c%3A/Users/User/Desktop/BrainStation-Data-Science-Capstone/Notebooks/Andrew_Chau_BrainStation_DS_Capstone.ipynb#Y250sZmlsZQ%3D%3D?line=3'>4</a>\u001b[0m logreg\u001b[39m.\u001b[39mfit(X_train_transformed, y_train)\n\u001b[0;32m      <a href='vscode-notebook-cell:/c%3A/Users/User/Desktop/BrainStation-Data-Science-Capstone/Notebooks/Andrew_Chau_BrainStation_DS_Capstone.ipynb#Y250sZmlsZQ%3D%3D?line=5'>6</a>\u001b[0m \u001b[39mprint\u001b[39m(\u001b[39mf\u001b[39m\u001b[39m\"\u001b[39m\u001b[39mTrain score: \u001b[39m\u001b[39m{\u001b[39;00mlogreg\u001b[39m.\u001b[39mscore(X_train_transformed,\u001b[39m \u001b[39my_train)\u001b[39m}\u001b[39;00m\u001b[39m\"\u001b[39m)\n",
      "\u001b[1;31mNameError\u001b[0m: name 'LogisticRegression' is not defined"
     ]
    }
   ],
   "source": [
    "np.random.seed(123)\n",
    "\n",
    "logreg = LogisticRegression(C = 0.1)\n",
    "logreg.fit(X_train_transformed, y_train)\n",
    "\n",
    "print(f\"Train score: {logreg.score(X_train_transformed, y_train)}\")\n",
    "print(f\"Test score: {logreg.score(X_test_transformed, y_test)}\")"
   ]
  },
  {
   "cell_type": "code",
   "execution_count": null,
   "metadata": {},
   "outputs": [],
   "source": []
  }
 ],
 "metadata": {
  "kernelspec": {
   "display_name": "Python 3",
   "language": "python",
   "name": "python3"
  },
  "language_info": {
   "codemirror_mode": {
    "name": "ipython",
    "version": 3
   },
   "file_extension": ".py",
   "mimetype": "text/x-python",
   "name": "python",
   "nbconvert_exporter": "python",
   "pygments_lexer": "ipython3",
   "version": "3.8.17"
  }
 },
 "nbformat": 4,
 "nbformat_minor": 4
}
