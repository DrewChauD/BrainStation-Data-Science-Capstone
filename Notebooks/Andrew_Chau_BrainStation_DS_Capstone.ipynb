{
 "cells": [
  {
   "cell_type": "markdown",
   "metadata": {},
   "source": [
    "## Table of Contents\n",
    "- [Introduction](#introduction)\n",
    "- [Exploratory Data Analysis](#exploratory-data-analysis)\n",
    "- [Data Preprocessing](#data-preprocessing)\n",
    "- [Modeling](#modeling)\n",
    "- [Decision Tree](#decision-tree)\n",
    "- [Pipeline](#pipeline)\n",
    "- [Conclusion](#conclusion)"
   ]
  },
  {
   "cell_type": "markdown",
   "metadata": {},
   "source": [
    "## Introduction {#introduction}\n",
    "\n",
    "Repairability of Consumer Electronics\n",
    "\n",
    "Andrew Chau\n",
<<<<<<< HEAD
    "kuzals@gmail.com\n",
=======
>>>>>>> 27c223d9e5a175188b20e39dbab80ac857f6abf6
    "Summer 2023\n",
    "BrainStation Toronto Data Science\n",
    "\n",
    "This capstone project explores the success rate of repairing consumer electronics using various statistical modeling methods.\n"
   ]
  },
  {
   "cell_type": "markdown",
   "metadata": {},
   "source": [
    "## Exploratory Data Analysis {#exploratory-data-analysis}"
   ]
  },
  {
   "cell_type": "markdown",
   "metadata": {},
   "source": [
    "importing the required libraries for data manipulation (Pandas and NumPy) and visualization (MatPlotLib and Seaborn)"
   ]
  },
  {
   "cell_type": "code",
<<<<<<< HEAD
   "execution_count": 163,
=======
   "execution_count": 16,
>>>>>>> 27c223d9e5a175188b20e39dbab80ac857f6abf6
   "metadata": {},
   "outputs": [],
   "source": [
    "import pandas as pd\n",
    "import numpy as np\n",
    "import matplotlib.pyplot as plt\n",
    "import seaborn as sns"
   ]
  },
  {
   "cell_type": "markdown",
   "metadata": {},
   "source": [
    "loading the dataset into a pandas dataframe using pd.read_csv()"
   ]
  },
  {
   "cell_type": "code",
<<<<<<< HEAD
   "execution_count": 164,
=======
   "execution_count": 17,
>>>>>>> 27c223d9e5a175188b20e39dbab80ac857f6abf6
   "metadata": {},
   "outputs": [],
   "source": [
    "df = pd.read_csv('Data/OpenRepairData_v0.3_aggregate_202303.csv')"
   ]
  },
  {
   "cell_type": "markdown",
   "metadata": {},
   "source": [
    "quick look at the first few rows of the dataset using .head()"
   ]
  },
  {
   "cell_type": "code",
   "execution_count": 18,
   "metadata": {},
   "outputs": [
    {
     "data": {
      "text/html": [
       "<div>\n",
       "<style scoped>\n",
       "    .dataframe tbody tr th:only-of-type {\n",
       "        vertical-align: middle;\n",
       "    }\n",
       "\n",
       "    .dataframe tbody tr th {\n",
       "        vertical-align: top;\n",
       "    }\n",
       "\n",
       "    .dataframe thead th {\n",
       "        text-align: right;\n",
       "    }\n",
       "</style>\n",
       "<table border=\"1\" class=\"dataframe\">\n",
       "  <thead>\n",
       "    <tr style=\"text-align: right;\">\n",
       "      <th></th>\n",
       "      <th>id</th>\n",
       "      <th>data_provider</th>\n",
       "      <th>country</th>\n",
       "      <th>partner_product_category</th>\n",
       "      <th>product_category</th>\n",
       "      <th>product_category_id</th>\n",
       "      <th>brand</th>\n",
       "      <th>year_of_manufacture</th>\n",
       "      <th>product_age</th>\n",
       "      <th>repair_status</th>\n",
       "      <th>repair_barrier_if_end_of_life</th>\n",
       "      <th>group_identifier</th>\n",
       "      <th>event_date</th>\n",
       "      <th>problem</th>\n",
       "    </tr>\n",
       "  </thead>\n",
       "  <tbody>\n",
       "    <tr>\n",
       "      <th>0</th>\n",
       "      <td>anstiftung_11539</td>\n",
       "      <td>anstiftung</td>\n",
       "      <td>DEU</td>\n",
       "      <td>Haushaltsgeräte ~ Siebträgermaschine</td>\n",
       "      <td>Coffee maker</td>\n",
       "      <td>36</td>\n",
       "      <td>Krups</td>\n",
       "      <td>1998.0</td>\n",
       "      <td>25.0</td>\n",
       "      <td>End of life</td>\n",
       "      <td>Spare parts too expensive</td>\n",
       "      <td>2711</td>\n",
       "      <td>2023-03-29</td>\n",
       "      <td>Pumpe defekt</td>\n",
       "    </tr>\n",
       "    <tr>\n",
       "      <th>1</th>\n",
       "      <td>anstiftung_11540</td>\n",
       "      <td>anstiftung</td>\n",
       "      <td>DEU</td>\n",
       "      <td>Elektro divers ~ Bluetooth Musik Box</td>\n",
       "      <td>Hi-Fi integrated</td>\n",
       "      <td>12</td>\n",
       "      <td>JBL</td>\n",
       "      <td>2016.0</td>\n",
       "      <td>7.0</td>\n",
       "      <td>Repairable</td>\n",
       "      <td>NaN</td>\n",
       "      <td>2711</td>\n",
       "      <td>2023-03-29</td>\n",
       "      <td>Akku lädt nicht</td>\n",
       "    </tr>\n",
       "    <tr>\n",
       "      <th>2</th>\n",
       "      <td>anstiftung_11541</td>\n",
       "      <td>anstiftung</td>\n",
       "      <td>DEU</td>\n",
       "      <td>Unterhaltungselektronik ~ Lautsprecher(boxen)</td>\n",
       "      <td>Hi-Fi separates</td>\n",
       "      <td>13</td>\n",
       "      <td>Trust</td>\n",
       "      <td>2013.0</td>\n",
       "      <td>10.0</td>\n",
       "      <td>Fixed</td>\n",
       "      <td>NaN</td>\n",
       "      <td>2711</td>\n",
       "      <td>2023-03-29</td>\n",
       "      <td>Ohne Funktion</td>\n",
       "    </tr>\n",
       "    <tr>\n",
       "      <th>3</th>\n",
       "      <td>anstiftung_11542</td>\n",
       "      <td>anstiftung</td>\n",
       "      <td>DEU</td>\n",
       "      <td>Computer ~ Laptop</td>\n",
       "      <td>Laptop</td>\n",
       "      <td>16</td>\n",
       "      <td>Toshiba</td>\n",
       "      <td>2015.0</td>\n",
       "      <td>8.0</td>\n",
       "      <td>End of life</td>\n",
       "      <td>NaN</td>\n",
       "      <td>2711</td>\n",
       "      <td>2023-03-29</td>\n",
       "      <td>Netzteilbuchse und Grafikkarte defekt</td>\n",
       "    </tr>\n",
       "    <tr>\n",
       "      <th>4</th>\n",
       "      <td>anstiftung_11543</td>\n",
       "      <td>anstiftung</td>\n",
       "      <td>DEU</td>\n",
       "      <td>Elektro divers ~ Aktenvernichter</td>\n",
       "      <td>Paper shredder</td>\n",
       "      <td>21</td>\n",
       "      <td>Genie</td>\n",
       "      <td>2018.0</td>\n",
       "      <td>5.0</td>\n",
       "      <td>End of life</td>\n",
       "      <td>NaN</td>\n",
       "      <td>2711</td>\n",
       "      <td>2023-03-29</td>\n",
       "      <td>Getriebeschaden</td>\n",
       "    </tr>\n",
       "    <tr>\n",
       "      <th>5</th>\n",
       "      <td>anstiftung_11544</td>\n",
       "      <td>anstiftung</td>\n",
       "      <td>DEU</td>\n",
       "      <td>Haushaltsgeräte ~ Wasserkocher</td>\n",
       "      <td>Kettle</td>\n",
       "      <td>14</td>\n",
       "      <td>Support Plus</td>\n",
       "      <td>2018.0</td>\n",
       "      <td>5.0</td>\n",
       "      <td>End of life</td>\n",
       "      <td>No way to open product</td>\n",
       "      <td>2711</td>\n",
       "      <td>2023-03-29</td>\n",
       "      <td>ohne Funktion</td>\n",
       "    </tr>\n",
       "    <tr>\n",
       "      <th>6</th>\n",
       "      <td>anstiftung_11545</td>\n",
       "      <td>anstiftung</td>\n",
       "      <td>DEU</td>\n",
       "      <td>Haushaltsgeräte ~ Handrührgerät</td>\n",
       "      <td>Food processor</td>\n",
       "      <td>37</td>\n",
       "      <td>Severin</td>\n",
       "      <td>2020.0</td>\n",
       "      <td>3.0</td>\n",
       "      <td>End of life</td>\n",
       "      <td>Spare parts too expensive</td>\n",
       "      <td>2711</td>\n",
       "      <td>2023-03-29</td>\n",
       "      <td>Läuft zu schnell</td>\n",
       "    </tr>\n",
       "    <tr>\n",
       "      <th>7</th>\n",
       "      <td>anstiftung_11546</td>\n",
       "      <td>anstiftung</td>\n",
       "      <td>DEU</td>\n",
       "      <td>Unterhaltungselektronik ~ Radio</td>\n",
       "      <td>Portable radio</td>\n",
       "      <td>23</td>\n",
       "      <td>Philips</td>\n",
       "      <td>1993.0</td>\n",
       "      <td>30.0</td>\n",
       "      <td>Repairable</td>\n",
       "      <td>NaN</td>\n",
       "      <td>2711</td>\n",
       "      <td>2023-03-29</td>\n",
       "      <td>Kasette spielt nicht</td>\n",
       "    </tr>\n",
       "  </tbody>\n",
       "</table>\n",
       "</div>"
      ],
      "text/plain": [
       "                 id data_provider country  \\\n",
       "0  anstiftung_11539    anstiftung     DEU   \n",
       "1  anstiftung_11540    anstiftung     DEU   \n",
       "2  anstiftung_11541    anstiftung     DEU   \n",
       "3  anstiftung_11542    anstiftung     DEU   \n",
       "4  anstiftung_11543    anstiftung     DEU   \n",
       "5  anstiftung_11544    anstiftung     DEU   \n",
       "6  anstiftung_11545    anstiftung     DEU   \n",
       "7  anstiftung_11546    anstiftung     DEU   \n",
       "\n",
       "                        partner_product_category  product_category  \\\n",
       "0           Haushaltsgeräte ~ Siebträgermaschine      Coffee maker   \n",
       "1           Elektro divers ~ Bluetooth Musik Box  Hi-Fi integrated   \n",
       "2  Unterhaltungselektronik ~ Lautsprecher(boxen)   Hi-Fi separates   \n",
       "3                              Computer ~ Laptop            Laptop   \n",
       "4               Elektro divers ~ Aktenvernichter    Paper shredder   \n",
       "5                 Haushaltsgeräte ~ Wasserkocher            Kettle   \n",
       "6                Haushaltsgeräte ~ Handrührgerät    Food processor   \n",
       "7                Unterhaltungselektronik ~ Radio    Portable radio   \n",
       "\n",
       "   product_category_id         brand  year_of_manufacture  product_age  \\\n",
       "0                   36         Krups               1998.0         25.0   \n",
       "1                   12           JBL               2016.0          7.0   \n",
       "2                   13         Trust               2013.0         10.0   \n",
       "3                   16       Toshiba               2015.0          8.0   \n",
       "4                   21         Genie               2018.0          5.0   \n",
       "5                   14  Support Plus               2018.0          5.0   \n",
       "6                   37       Severin               2020.0          3.0   \n",
       "7                   23       Philips               1993.0         30.0   \n",
       "\n",
       "  repair_status repair_barrier_if_end_of_life group_identifier  event_date  \\\n",
       "0   End of life     Spare parts too expensive             2711  2023-03-29   \n",
       "1    Repairable                           NaN             2711  2023-03-29   \n",
       "2         Fixed                           NaN             2711  2023-03-29   \n",
       "3   End of life                           NaN             2711  2023-03-29   \n",
       "4   End of life                           NaN             2711  2023-03-29   \n",
       "5   End of life        No way to open product             2711  2023-03-29   \n",
       "6   End of life     Spare parts too expensive             2711  2023-03-29   \n",
       "7    Repairable                           NaN             2711  2023-03-29   \n",
       "\n",
       "                                 problem  \n",
       "0                           Pumpe defekt  \n",
       "1                        Akku lädt nicht  \n",
       "2                          Ohne Funktion  \n",
       "3  Netzteilbuchse und Grafikkarte defekt  \n",
       "4                        Getriebeschaden  \n",
       "5                          ohne Funktion  \n",
       "6                       Läuft zu schnell  \n",
       "7                   Kasette spielt nicht  "
      ]
     },
     "execution_count": 18,
     "metadata": {},
     "output_type": "execute_result"
    }
   ],
   "source": [
    "df.head(8)"
   ]
  },
  {
   "cell_type": "markdown",
   "metadata": {},
   "source": [
    "quick look some rows at random in the dataset using .sample()"
   ]
  },
  {
   "cell_type": "code",
   "execution_count": 19,
   "metadata": {},
   "outputs": [
    {
     "data": {
      "text/html": [
       "<div>\n",
       "<style scoped>\n",
       "    .dataframe tbody tr th:only-of-type {\n",
       "        vertical-align: middle;\n",
       "    }\n",
       "\n",
       "    .dataframe tbody tr th {\n",
       "        vertical-align: top;\n",
       "    }\n",
       "\n",
       "    .dataframe thead th {\n",
       "        text-align: right;\n",
       "    }\n",
       "</style>\n",
       "<table border=\"1\" class=\"dataframe\">\n",
       "  <thead>\n",
       "    <tr style=\"text-align: right;\">\n",
       "      <th></th>\n",
       "      <th>id</th>\n",
       "      <th>data_provider</th>\n",
       "      <th>country</th>\n",
       "      <th>partner_product_category</th>\n",
       "      <th>product_category</th>\n",
       "      <th>product_category_id</th>\n",
       "      <th>brand</th>\n",
       "      <th>year_of_manufacture</th>\n",
       "      <th>product_age</th>\n",
       "      <th>repair_status</th>\n",
       "      <th>repair_barrier_if_end_of_life</th>\n",
       "      <th>group_identifier</th>\n",
       "      <th>event_date</th>\n",
       "      <th>problem</th>\n",
       "    </tr>\n",
       "  </thead>\n",
       "  <tbody>\n",
       "    <tr>\n",
       "      <th>79121</th>\n",
       "      <td>restart_16307</td>\n",
       "      <td>The Restart Project</td>\n",
       "      <td>ITA</td>\n",
       "      <td>Lamp</td>\n",
       "      <td>Lamp</td>\n",
       "      <td>15</td>\n",
       "      <td>Unknown</td>\n",
       "      <td>2009.0</td>\n",
       "      <td>10.0</td>\n",
       "      <td>Repairable</td>\n",
       "      <td>NaN</td>\n",
       "      <td>Repair Cafe Pavia</td>\n",
       "      <td>2019-12-15</td>\n",
       "      <td>Doesn't switch on</td>\n",
       "    </tr>\n",
       "    <tr>\n",
       "      <th>73306</th>\n",
       "      <td>restart_15705</td>\n",
       "      <td>The Restart Project</td>\n",
       "      <td>GBR</td>\n",
       "      <td>Portable radio</td>\n",
       "      <td>Portable radio</td>\n",
       "      <td>23</td>\n",
       "      <td>Roberts</td>\n",
       "      <td>2009.0</td>\n",
       "      <td>10.0</td>\n",
       "      <td>Repairable</td>\n",
       "      <td>NaN</td>\n",
       "      <td>Restarters West London</td>\n",
       "      <td>2019-11-09</td>\n",
       "      <td>Won't tune</td>\n",
       "    </tr>\n",
       "    <tr>\n",
       "      <th>29748</th>\n",
       "      <td>rcint_49976</td>\n",
       "      <td>Repair Café International</td>\n",
       "      <td>NLD</td>\n",
       "      <td>Computer equipment / phones ~ Printer</td>\n",
       "      <td>Printer/scanner</td>\n",
       "      <td>25</td>\n",
       "      <td>Canon</td>\n",
       "      <td>2010.0</td>\n",
       "      <td>12.0</td>\n",
       "      <td>End of life</td>\n",
       "      <td>NaN</td>\n",
       "      <td>0036</td>\n",
       "      <td>2022-12-16</td>\n",
       "      <td>printkop zit vast printkop zit vast</td>\n",
       "    </tr>\n",
       "    <tr>\n",
       "      <th>102165</th>\n",
       "      <td>rcwales_6593</td>\n",
       "      <td>Repair Cafe Wales</td>\n",
       "      <td>GBR</td>\n",
       "      <td>Electrical Item ~ Vacuum</td>\n",
       "      <td>Vacuum</td>\n",
       "      <td>34</td>\n",
       "      <td>Hoover</td>\n",
       "      <td>NaN</td>\n",
       "      <td>NaN</td>\n",
       "      <td>Fixed</td>\n",
       "      <td>NaN</td>\n",
       "      <td>Carmarthen</td>\n",
       "      <td>2022-07-09</td>\n",
       "      <td>Very little suction, and dust not going throug...</td>\n",
       "    </tr>\n",
       "    <tr>\n",
       "      <th>41790</th>\n",
       "      <td>rcint_27732</td>\n",
       "      <td>Repair Café International</td>\n",
       "      <td>NLD</td>\n",
       "      <td>Household appliances electric ~ Coffee maker</td>\n",
       "      <td>Coffee maker</td>\n",
       "      <td>36</td>\n",
       "      <td>Philips</td>\n",
       "      <td>NaN</td>\n",
       "      <td>NaN</td>\n",
       "      <td>End of life</td>\n",
       "      <td>NaN</td>\n",
       "      <td>0011</td>\n",
       "      <td>2020-01-11</td>\n",
       "      <td>kortsluiting boiler defect</td>\n",
       "    </tr>\n",
       "    <tr>\n",
       "      <th>14637</th>\n",
       "      <td>rcint_40221</td>\n",
       "      <td>Repair Café International</td>\n",
       "      <td>DEU</td>\n",
       "      <td>Household appliances electric ~ Iron</td>\n",
       "      <td>Iron</td>\n",
       "      <td>40</td>\n",
       "      <td>Siemens</td>\n",
       "      <td>2016.0</td>\n",
       "      <td>6.0</td>\n",
       "      <td>Fixed</td>\n",
       "      <td>NaN</td>\n",
       "      <td>0460</td>\n",
       "      <td>2022-11-05</td>\n",
       "      <td>heizt einmalig auf , dann nicht mehr. Vermutet...</td>\n",
       "    </tr>\n",
       "    <tr>\n",
       "      <th>48674</th>\n",
       "      <td>rcint_3321</td>\n",
       "      <td>Repair Café International</td>\n",
       "      <td>NLD</td>\n",
       "      <td>Display and sound equipment ~ Amplifier</td>\n",
       "      <td>Hi-Fi separates</td>\n",
       "      <td>13</td>\n",
       "      <td>NAD</td>\n",
       "      <td>NaN</td>\n",
       "      <td>NaN</td>\n",
       "      <td>End of life</td>\n",
       "      <td>NaN</td>\n",
       "      <td>0011</td>\n",
       "      <td>2017-11-11</td>\n",
       "      <td>onbekend elektronisch probleem werkt niet</td>\n",
       "    </tr>\n",
       "    <tr>\n",
       "      <th>14457</th>\n",
       "      <td>rcint_45364</td>\n",
       "      <td>Repair Café International</td>\n",
       "      <td>DEU</td>\n",
       "      <td>Household appliances electric ~ Vacuum cleaner</td>\n",
       "      <td>Vacuum</td>\n",
       "      <td>34</td>\n",
       "      <td>Vorwerk</td>\n",
       "      <td>2000.0</td>\n",
       "      <td>22.0</td>\n",
       "      <td>Fixed</td>\n",
       "      <td>NaN</td>\n",
       "      <td>0195</td>\n",
       "      <td>2022-03-19</td>\n",
       "      <td>Bürste sitzt fest Büste sitzt fest Bürste demo...</td>\n",
       "    </tr>\n",
       "  </tbody>\n",
       "</table>\n",
       "</div>"
      ],
      "text/plain": [
       "                   id              data_provider country  \\\n",
       "79121   restart_16307        The Restart Project     ITA   \n",
       "73306   restart_15705        The Restart Project     GBR   \n",
       "29748     rcint_49976  Repair Café International     NLD   \n",
       "102165   rcwales_6593          Repair Cafe Wales     GBR   \n",
       "41790     rcint_27732  Repair Café International     NLD   \n",
       "14637     rcint_40221  Repair Café International     DEU   \n",
       "48674      rcint_3321  Repair Café International     NLD   \n",
       "14457     rcint_45364  Repair Café International     DEU   \n",
       "\n",
       "                              partner_product_category product_category  \\\n",
       "79121                                             Lamp             Lamp   \n",
       "73306                                   Portable radio   Portable radio   \n",
       "29748            Computer equipment / phones ~ Printer  Printer/scanner   \n",
       "102165                        Electrical Item ~ Vacuum           Vacuum   \n",
       "41790     Household appliances electric ~ Coffee maker     Coffee maker   \n",
       "14637             Household appliances electric ~ Iron             Iron   \n",
       "48674          Display and sound equipment ~ Amplifier  Hi-Fi separates   \n",
       "14457   Household appliances electric ~ Vacuum cleaner           Vacuum   \n",
       "\n",
       "        product_category_id    brand  year_of_manufacture  product_age  \\\n",
       "79121                    15  Unknown               2009.0         10.0   \n",
       "73306                    23  Roberts               2009.0         10.0   \n",
       "29748                    25    Canon               2010.0         12.0   \n",
       "102165                   34   Hoover                  NaN          NaN   \n",
       "41790                    36  Philips                  NaN          NaN   \n",
       "14637                    40  Siemens               2016.0          6.0   \n",
       "48674                    13      NAD                  NaN          NaN   \n",
       "14457                    34  Vorwerk               2000.0         22.0   \n",
       "\n",
       "       repair_status repair_barrier_if_end_of_life        group_identifier  \\\n",
       "79121     Repairable                           NaN       Repair Cafe Pavia   \n",
       "73306     Repairable                           NaN  Restarters West London   \n",
       "29748    End of life                           NaN                    0036   \n",
       "102165         Fixed                           NaN              Carmarthen   \n",
       "41790    End of life                           NaN                    0011   \n",
       "14637          Fixed                           NaN                    0460   \n",
       "48674    End of life                           NaN                    0011   \n",
       "14457          Fixed                           NaN                    0195   \n",
       "\n",
       "        event_date                                            problem  \n",
       "79121   2019-12-15                                  Doesn't switch on  \n",
       "73306   2019-11-09                                         Won't tune  \n",
       "29748   2022-12-16                printkop zit vast printkop zit vast  \n",
       "102165  2022-07-09  Very little suction, and dust not going throug...  \n",
       "41790   2020-01-11                         kortsluiting boiler defect  \n",
       "14637   2022-11-05  heizt einmalig auf , dann nicht mehr. Vermutet...  \n",
       "48674   2017-11-11          onbekend elektronisch probleem werkt niet  \n",
       "14457   2022-03-19  Bürste sitzt fest Büste sitzt fest Bürste demo...  "
      ]
     },
     "execution_count": 19,
     "metadata": {},
     "output_type": "execute_result"
    }
   ],
   "source": [
    "df.sample(8)"
   ]
  },
  {
   "cell_type": "markdown",
   "metadata": {},
   "source": [
    "quick look at the last few rows of the dataset using .tail() <br>\n",
    "good to compare and contrast with the first few rows"
   ]
  },
  {
   "cell_type": "code",
   "execution_count": 20,
   "metadata": {},
   "outputs": [
    {
     "data": {
      "text/html": [
       "<div>\n",
       "<style scoped>\n",
       "    .dataframe tbody tr th:only-of-type {\n",
       "        vertical-align: middle;\n",
       "    }\n",
       "\n",
       "    .dataframe tbody tr th {\n",
       "        vertical-align: top;\n",
       "    }\n",
       "\n",
       "    .dataframe thead th {\n",
       "        text-align: right;\n",
       "    }\n",
       "</style>\n",
       "<table border=\"1\" class=\"dataframe\">\n",
       "  <thead>\n",
       "    <tr style=\"text-align: right;\">\n",
       "      <th></th>\n",
       "      <th>id</th>\n",
       "      <th>data_provider</th>\n",
       "      <th>country</th>\n",
       "      <th>partner_product_category</th>\n",
       "      <th>product_category</th>\n",
       "      <th>product_category_id</th>\n",
       "      <th>brand</th>\n",
       "      <th>year_of_manufacture</th>\n",
       "      <th>product_age</th>\n",
       "      <th>repair_status</th>\n",
       "      <th>repair_barrier_if_end_of_life</th>\n",
       "      <th>group_identifier</th>\n",
       "      <th>event_date</th>\n",
       "      <th>problem</th>\n",
       "    </tr>\n",
       "  </thead>\n",
       "  <tbody>\n",
       "    <tr>\n",
       "      <th>103068</th>\n",
       "      <td>rcwales_7496</td>\n",
       "      <td>Repair Cafe Wales</td>\n",
       "      <td>GBR</td>\n",
       "      <td>Electrical Item ~ Small home electrical</td>\n",
       "      <td>Small home electrical</td>\n",
       "      <td>28</td>\n",
       "      <td>Unknown</td>\n",
       "      <td>NaN</td>\n",
       "      <td>NaN</td>\n",
       "      <td>End of life</td>\n",
       "      <td>Item too worn out</td>\n",
       "      <td>Mold</td>\n",
       "      <td>2022-10-30</td>\n",
       "      <td>Malfunction.</td>\n",
       "    </tr>\n",
       "    <tr>\n",
       "      <th>103069</th>\n",
       "      <td>rcwales_7497</td>\n",
       "      <td>Repair Cafe Wales</td>\n",
       "      <td>GBR</td>\n",
       "      <td>Electrical Item ~ Sewing machine</td>\n",
       "      <td>Sewing machine</td>\n",
       "      <td>27</td>\n",
       "      <td>Bernina</td>\n",
       "      <td>NaN</td>\n",
       "      <td>NaN</td>\n",
       "      <td>Repairable</td>\n",
       "      <td>NaN</td>\n",
       "      <td>Mold</td>\n",
       "      <td>2022-10-30</td>\n",
       "      <td>It is stuck on buttonhole mode and is seized up.</td>\n",
       "    </tr>\n",
       "    <tr>\n",
       "      <th>103070</th>\n",
       "      <td>rcwales_7498</td>\n",
       "      <td>Repair Cafe Wales</td>\n",
       "      <td>GBR</td>\n",
       "      <td>Electrical Item ~ Sewing machine</td>\n",
       "      <td>Sewing machine</td>\n",
       "      <td>27</td>\n",
       "      <td>Jones</td>\n",
       "      <td>NaN</td>\n",
       "      <td>NaN</td>\n",
       "      <td>Repairable</td>\n",
       "      <td>NaN</td>\n",
       "      <td>Mold</td>\n",
       "      <td>2022-10-30</td>\n",
       "      <td>Unknown probably motor.</td>\n",
       "    </tr>\n",
       "    <tr>\n",
       "      <th>103071</th>\n",
       "      <td>rcwales_7499</td>\n",
       "      <td>Repair Cafe Wales</td>\n",
       "      <td>GBR</td>\n",
       "      <td>Electrical Item ~ Small home electrical</td>\n",
       "      <td>Small home electrical</td>\n",
       "      <td>28</td>\n",
       "      <td>Permaplug</td>\n",
       "      <td>NaN</td>\n",
       "      <td>NaN</td>\n",
       "      <td>Fixed</td>\n",
       "      <td>NaN</td>\n",
       "      <td>Mold</td>\n",
       "      <td>2022-10-30</td>\n",
       "      <td>Extension cable for PAT testing.</td>\n",
       "    </tr>\n",
       "    <tr>\n",
       "      <th>103072</th>\n",
       "      <td>rcwales_7500</td>\n",
       "      <td>Repair Cafe Wales</td>\n",
       "      <td>GBR</td>\n",
       "      <td>Electrical Item ~ Misc</td>\n",
       "      <td>Misc</td>\n",
       "      <td>18</td>\n",
       "      <td>Unknown</td>\n",
       "      <td>NaN</td>\n",
       "      <td>NaN</td>\n",
       "      <td>Repairable</td>\n",
       "      <td>NaN</td>\n",
       "      <td>Mold</td>\n",
       "      <td>2022-10-30</td>\n",
       "      <td>Broken mirror.</td>\n",
       "    </tr>\n",
       "    <tr>\n",
       "      <th>103073</th>\n",
       "      <td>rcwales_7501</td>\n",
       "      <td>Repair Cafe Wales</td>\n",
       "      <td>GBR</td>\n",
       "      <td>Electrical Item ~ Sewing machine</td>\n",
       "      <td>Sewing machine</td>\n",
       "      <td>27</td>\n",
       "      <td>Toyota</td>\n",
       "      <td>NaN</td>\n",
       "      <td>NaN</td>\n",
       "      <td>Fixed</td>\n",
       "      <td>NaN</td>\n",
       "      <td>Mold</td>\n",
       "      <td>2022-10-30</td>\n",
       "      <td>Cotton reel spindle needs replacing.</td>\n",
       "    </tr>\n",
       "    <tr>\n",
       "      <th>103074</th>\n",
       "      <td>rcwales_7502</td>\n",
       "      <td>Repair Cafe Wales</td>\n",
       "      <td>GBR</td>\n",
       "      <td>Electrical Item ~ Sewing machine</td>\n",
       "      <td>Sewing machine</td>\n",
       "      <td>27</td>\n",
       "      <td>Brother</td>\n",
       "      <td>NaN</td>\n",
       "      <td>NaN</td>\n",
       "      <td>Fixed</td>\n",
       "      <td>NaN</td>\n",
       "      <td>Mold</td>\n",
       "      <td>2022-10-30</td>\n",
       "      <td>Bobbin not working.</td>\n",
       "    </tr>\n",
       "    <tr>\n",
       "      <th>103075</th>\n",
       "      <td>rcwales_7503</td>\n",
       "      <td>Repair Cafe Wales</td>\n",
       "      <td>GBR</td>\n",
       "      <td>Electrical Item ~ Vacuum</td>\n",
       "      <td>Vacuum</td>\n",
       "      <td>34</td>\n",
       "      <td>Hoover</td>\n",
       "      <td>NaN</td>\n",
       "      <td>NaN</td>\n",
       "      <td>Fixed</td>\n",
       "      <td>NaN</td>\n",
       "      <td>Mold</td>\n",
       "      <td>2022-10-30</td>\n",
       "      <td>It doesn’t turn on.</td>\n",
       "    </tr>\n",
       "  </tbody>\n",
       "</table>\n",
       "</div>"
      ],
      "text/plain": [
       "                  id      data_provider country  \\\n",
       "103068  rcwales_7496  Repair Cafe Wales     GBR   \n",
       "103069  rcwales_7497  Repair Cafe Wales     GBR   \n",
       "103070  rcwales_7498  Repair Cafe Wales     GBR   \n",
       "103071  rcwales_7499  Repair Cafe Wales     GBR   \n",
       "103072  rcwales_7500  Repair Cafe Wales     GBR   \n",
       "103073  rcwales_7501  Repair Cafe Wales     GBR   \n",
       "103074  rcwales_7502  Repair Cafe Wales     GBR   \n",
       "103075  rcwales_7503  Repair Cafe Wales     GBR   \n",
       "\n",
       "                       partner_product_category       product_category  \\\n",
       "103068  Electrical Item ~ Small home electrical  Small home electrical   \n",
       "103069         Electrical Item ~ Sewing machine         Sewing machine   \n",
       "103070         Electrical Item ~ Sewing machine         Sewing machine   \n",
       "103071  Electrical Item ~ Small home electrical  Small home electrical   \n",
       "103072                   Electrical Item ~ Misc                   Misc   \n",
       "103073         Electrical Item ~ Sewing machine         Sewing machine   \n",
       "103074         Electrical Item ~ Sewing machine         Sewing machine   \n",
       "103075                 Electrical Item ~ Vacuum                 Vacuum   \n",
       "\n",
       "        product_category_id      brand  year_of_manufacture  product_age  \\\n",
       "103068                   28    Unknown                  NaN          NaN   \n",
       "103069                   27    Bernina                  NaN          NaN   \n",
       "103070                   27      Jones                  NaN          NaN   \n",
       "103071                   28  Permaplug                  NaN          NaN   \n",
       "103072                   18    Unknown                  NaN          NaN   \n",
       "103073                   27     Toyota                  NaN          NaN   \n",
       "103074                   27    Brother                  NaN          NaN   \n",
       "103075                   34     Hoover                  NaN          NaN   \n",
       "\n",
       "       repair_status repair_barrier_if_end_of_life group_identifier  \\\n",
       "103068   End of life             Item too worn out             Mold   \n",
       "103069    Repairable                           NaN             Mold   \n",
       "103070    Repairable                           NaN             Mold   \n",
       "103071         Fixed                           NaN             Mold   \n",
       "103072    Repairable                           NaN             Mold   \n",
       "103073         Fixed                           NaN             Mold   \n",
       "103074         Fixed                           NaN             Mold   \n",
       "103075         Fixed                           NaN             Mold   \n",
       "\n",
       "        event_date                                           problem  \n",
       "103068  2022-10-30                                      Malfunction.  \n",
       "103069  2022-10-30  It is stuck on buttonhole mode and is seized up.  \n",
       "103070  2022-10-30                           Unknown probably motor.  \n",
       "103071  2022-10-30                  Extension cable for PAT testing.  \n",
       "103072  2022-10-30                                    Broken mirror.  \n",
       "103073  2022-10-30              Cotton reel spindle needs replacing.  \n",
       "103074  2022-10-30                               Bobbin not working.  \n",
       "103075  2022-10-30                               It doesn’t turn on.  "
      ]
     },
     "execution_count": 20,
     "metadata": {},
     "output_type": "execute_result"
    }
   ],
   "source": [
    "df.tail(8)"
   ]
  },
  {
<<<<<<< HEAD
   "cell_type": "code",
   "execution_count": 176,
=======
   "cell_type": "markdown",
   "metadata": {},
   "source": [
    "quick overview of the distribution of the numerical values using .describe()"
   ]
  },
  {
   "cell_type": "code",
   "execution_count": 21,
>>>>>>> 27c223d9e5a175188b20e39dbab80ac857f6abf6
   "metadata": {},
   "outputs": [
    {
     "data": {
      "text/html": [
       "<div>\n",
       "<style scoped>\n",
       "    .dataframe tbody tr th:only-of-type {\n",
       "        vertical-align: middle;\n",
       "    }\n",
       "\n",
       "    .dataframe tbody tr th {\n",
       "        vertical-align: top;\n",
       "    }\n",
       "\n",
       "    .dataframe thead th {\n",
       "        text-align: right;\n",
       "    }\n",
       "</style>\n",
       "<table border=\"1\" class=\"dataframe\">\n",
       "  <thead>\n",
       "    <tr style=\"text-align: right;\">\n",
       "      <th></th>\n",
       "      <th>product_category_id</th>\n",
       "      <th>year_of_manufacture</th>\n",
       "      <th>product_age</th>\n",
       "    </tr>\n",
       "  </thead>\n",
       "  <tbody>\n",
       "    <tr>\n",
       "      <th>count</th>\n",
       "      <td>103076.000000</td>\n",
       "      <td>37117.000000</td>\n",
       "      <td>37117.000000</td>\n",
       "    </tr>\n",
       "    <tr>\n",
       "      <th>mean</th>\n",
       "      <td>23.369417</td>\n",
       "      <td>2008.472452</td>\n",
       "      <td>12.056543</td>\n",
       "    </tr>\n",
       "    <tr>\n",
       "      <th>std</th>\n",
       "      <td>10.205812</td>\n",
       "      <td>14.654064</td>\n",
       "      <td>14.560084</td>\n",
       "    </tr>\n",
       "    <tr>\n",
       "      <th>min</th>\n",
       "      <td>1.000000</td>\n",
       "      <td>1019.000000</td>\n",
       "      <td>-1.000000</td>\n",
       "    </tr>\n",
       "    <tr>\n",
       "      <th>25%</th>\n",
       "      <td>15.000000</td>\n",
       "      <td>2005.000000</td>\n",
       "      <td>4.000000</td>\n",
       "    </tr>\n",
       "    <tr>\n",
       "      <th>50%</th>\n",
       "      <td>24.000000</td>\n",
       "      <td>2013.000000</td>\n",
       "      <td>7.000000</td>\n",
       "    </tr>\n",
       "    <tr>\n",
       "      <th>75%</th>\n",
       "      <td>33.000000</td>\n",
       "      <td>2017.000000</td>\n",
       "      <td>15.000000</td>\n",
       "    </tr>\n",
       "    <tr>\n",
       "      <th>max</th>\n",
       "      <td>40.000000</td>\n",
       "      <td>2023.000000</td>\n",
       "      <td>998.000000</td>\n",
       "    </tr>\n",
       "  </tbody>\n",
       "</table>\n",
       "</div>"
      ],
      "text/plain": [
       "       product_category_id  year_of_manufacture   product_age\n",
       "count        103076.000000         37117.000000  37117.000000\n",
       "mean             23.369417          2008.472452     12.056543\n",
       "std              10.205812            14.654064     14.560084\n",
       "min               1.000000          1019.000000     -1.000000\n",
       "25%              15.000000          2005.000000      4.000000\n",
       "50%              24.000000          2013.000000      7.000000\n",
       "75%              33.000000          2017.000000     15.000000\n",
       "max              40.000000          2023.000000    998.000000"
      ]
     },
<<<<<<< HEAD
     "execution_count": 176,
=======
     "execution_count": 21,
>>>>>>> 27c223d9e5a175188b20e39dbab80ac857f6abf6
     "metadata": {},
     "output_type": "execute_result"
    }
   ],
   "source": [
    "df.describe()"
   ]
  },
  {
   "cell_type": "markdown",
   "metadata": {},
   "source": [
<<<<<<< HEAD
    "A few things look out of place from these descriptive statistics: product_category_id is not really a numerical value and should be converted. The column year_of_manufacture has roughly 37,000 entries but is missing 70,000 values. Product age is calculated from year_of_manufacture (exact same number of rows) and will have incorrect values as well."
=======
    "quick look at the target variable - 'repair_status'"
>>>>>>> 27c223d9e5a175188b20e39dbab80ac857f6abf6
   ]
  },
  {
   "cell_type": "code",
<<<<<<< HEAD
   "execution_count": 179,
=======
   "execution_count": 22,
>>>>>>> 27c223d9e5a175188b20e39dbab80ac857f6abf6
   "metadata": {},
   "outputs": [
    {
     "data": {
<<<<<<< HEAD
      "text/html": [
       "<div>\n",
       "<style scoped>\n",
       "    .dataframe tbody tr th:only-of-type {\n",
       "        vertical-align: middle;\n",
       "    }\n",
       "\n",
       "    .dataframe tbody tr th {\n",
       "        vertical-align: top;\n",
       "    }\n",
       "\n",
       "    .dataframe thead th {\n",
       "        text-align: right;\n",
       "    }\n",
       "</style>\n",
       "<table border=\"1\" class=\"dataframe\">\n",
       "  <thead>\n",
       "    <tr style=\"text-align: right;\">\n",
       "      <th></th>\n",
       "      <th>id</th>\n",
       "      <th>data_provider</th>\n",
       "      <th>country</th>\n",
       "      <th>partner_product_category</th>\n",
       "      <th>product_category</th>\n",
       "      <th>product_category_id</th>\n",
       "      <th>brand</th>\n",
       "      <th>year_of_manufacture</th>\n",
       "      <th>product_age</th>\n",
       "      <th>repair_status</th>\n",
       "      <th>repair_barrier_if_end_of_life</th>\n",
       "      <th>group_identifier</th>\n",
       "      <th>event_date</th>\n",
       "      <th>problem</th>\n",
       "    </tr>\n",
       "  </thead>\n",
       "  <tbody>\n",
       "    <tr>\n",
       "      <th>23855</th>\n",
       "      <td>rcint_3615</td>\n",
       "      <td>Repair Café International</td>\n",
       "      <td>NLD</td>\n",
       "      <td>Household appliances electric ~ Food processor</td>\n",
       "      <td>Food processor</td>\n",
       "      <td>37</td>\n",
       "      <td>KitchenAid</td>\n",
       "      <td>1019.0</td>\n",
       "      <td>998.0</td>\n",
       "      <td>Repairable</td>\n",
       "      <td>NaN</td>\n",
       "      <td>0016</td>\n",
       "      <td>2017-12-02</td>\n",
       "      <td>Vastgelopen  onderdelen bestellen?</td>\n",
       "    </tr>\n",
       "    <tr>\n",
       "      <th>13163</th>\n",
       "      <td>rcint_44808</td>\n",
       "      <td>Repair Café International</td>\n",
       "      <td>AUS</td>\n",
       "      <td>Household appliances electric ~ Paper shredder</td>\n",
       "      <td>Paper shredder</td>\n",
       "      <td>21</td>\n",
       "      <td>Unknown</td>\n",
       "      <td>1900.0</td>\n",
       "      <td>123.0</td>\n",
       "      <td>Fixed</td>\n",
       "      <td>NaN</td>\n",
       "      <td>0333</td>\n",
       "      <td>2023-01-21</td>\n",
       "      <td>Not working Not seated correctly Adjusted the ...</td>\n",
       "    </tr>\n",
       "    <tr>\n",
       "      <th>13155</th>\n",
       "      <td>rcint_44790</td>\n",
       "      <td>Repair Café International</td>\n",
       "      <td>AUS</td>\n",
       "      <td>Display and sound equipment ~ Amplifier</td>\n",
       "      <td>Hi-Fi separates</td>\n",
       "      <td>13</td>\n",
       "      <td>Unknown</td>\n",
       "      <td>1900.0</td>\n",
       "      <td>123.0</td>\n",
       "      <td>Repairable</td>\n",
       "      <td>NaN</td>\n",
       "      <td>0333</td>\n",
       "      <td>2023-01-21</td>\n",
       "      <td>Blown Yes  Advice given</td>\n",
       "    </tr>\n",
       "    <tr>\n",
       "      <th>13154</th>\n",
       "      <td>rcint_44789</td>\n",
       "      <td>Repair Café International</td>\n",
       "      <td>AUS</td>\n",
       "      <td>Clocks / alarm clocks ~ Alarm clock radio</td>\n",
       "      <td>Portable radio</td>\n",
       "      <td>23</td>\n",
       "      <td>Unknown</td>\n",
       "      <td>1900.0</td>\n",
       "      <td>123.0</td>\n",
       "      <td>End of life</td>\n",
       "      <td>No way to open product</td>\n",
       "      <td>0333</td>\n",
       "      <td>2023-01-21</td>\n",
       "      <td>No sound No</td>\n",
       "    </tr>\n",
       "    <tr>\n",
       "      <th>13160</th>\n",
       "      <td>rcint_44795</td>\n",
       "      <td>Repair Café International</td>\n",
       "      <td>AUS</td>\n",
       "      <td>Household appliances electric ~ Electric penci...</td>\n",
       "      <td>Small home electrical</td>\n",
       "      <td>28</td>\n",
       "      <td>Unknown</td>\n",
       "      <td>1900.0</td>\n",
       "      <td>123.0</td>\n",
       "      <td>Fixed</td>\n",
       "      <td>NaN</td>\n",
       "      <td>0333</td>\n",
       "      <td>2023-01-21</td>\n",
       "      <td>Won't sharpen Foreign object inside Taken apar...</td>\n",
       "    </tr>\n",
       "    <tr>\n",
       "      <th>...</th>\n",
       "      <td>...</td>\n",
       "      <td>...</td>\n",
       "      <td>...</td>\n",
       "      <td>...</td>\n",
       "      <td>...</td>\n",
       "      <td>...</td>\n",
       "      <td>...</td>\n",
       "      <td>...</td>\n",
       "      <td>...</td>\n",
       "      <td>...</td>\n",
       "      <td>...</td>\n",
       "      <td>...</td>\n",
       "      <td>...</td>\n",
       "      <td>...</td>\n",
       "    </tr>\n",
       "    <tr>\n",
       "      <th>55380</th>\n",
       "      <td>restart_16900</td>\n",
       "      <td>The Restart Project</td>\n",
       "      <td>GBR</td>\n",
       "      <td>Watch/clock ~ clock</td>\n",
       "      <td>Watch/clock</td>\n",
       "      <td>35</td>\n",
       "      <td>Unknown</td>\n",
       "      <td>1950.0</td>\n",
       "      <td>70.0</td>\n",
       "      <td>End of life</td>\n",
       "      <td>NaN</td>\n",
       "      <td>Share and Repair</td>\n",
       "      <td>2020-02-01</td>\n",
       "      <td>Pendulum snapped</td>\n",
       "    </tr>\n",
       "    <tr>\n",
       "      <th>24069</th>\n",
       "      <td>rcint_647</td>\n",
       "      <td>Repair Café International</td>\n",
       "      <td>NLD</td>\n",
       "      <td>Display and sound equipment ~ Radio</td>\n",
       "      <td>Portable radio</td>\n",
       "      <td>23</td>\n",
       "      <td>Blaupunkt</td>\n",
       "      <td>1950.0</td>\n",
       "      <td>67.0</td>\n",
       "      <td>Repairable</td>\n",
       "      <td>NaN</td>\n",
       "      <td>0007</td>\n",
       "      <td>2017-04-01</td>\n",
       "      <td>Afstem snaar defect Zoekt zenders niet meer  O...</td>\n",
       "    </tr>\n",
       "    <tr>\n",
       "      <th>24068</th>\n",
       "      <td>rcint_2439</td>\n",
       "      <td>Repair Café International</td>\n",
       "      <td>NLD</td>\n",
       "      <td>Other ~ Calculator</td>\n",
       "      <td>Misc</td>\n",
       "      <td>18</td>\n",
       "      <td>Mullo</td>\n",
       "      <td>1950.0</td>\n",
       "      <td>67.0</td>\n",
       "      <td>Fixed</td>\n",
       "      <td>NaN</td>\n",
       "      <td>0002</td>\n",
       "      <td>2017-09-30</td>\n",
       "      <td>vuil schoongemaakt</td>\n",
       "    </tr>\n",
       "    <tr>\n",
       "      <th>24067</th>\n",
       "      <td>rcint_2722</td>\n",
       "      <td>Repair Café International</td>\n",
       "      <td>NLD</td>\n",
       "      <td>Clocks / alarm clocks ~ Clock</td>\n",
       "      <td>Watch/clock</td>\n",
       "      <td>35</td>\n",
       "      <td>Unknown</td>\n",
       "      <td>1950.0</td>\n",
       "      <td>67.0</td>\n",
       "      <td>Repairable</td>\n",
       "      <td>NaN</td>\n",
       "      <td>0011</td>\n",
       "      <td>2017-10-14</td>\n",
       "      <td>loopt niet door  afspraak gemaakt om thuis te ...</td>\n",
       "    </tr>\n",
       "    <tr>\n",
       "      <th>24066</th>\n",
       "      <td>rcint_2885</td>\n",
       "      <td>Repair Café International</td>\n",
       "      <td>NLD</td>\n",
       "      <td>Household appliances electric ~ Sewing machine</td>\n",
       "      <td>Sewing machine</td>\n",
       "      <td>27</td>\n",
       "      <td>Elna</td>\n",
       "      <td>1950.0</td>\n",
       "      <td>67.0</td>\n",
       "      <td>Fixed</td>\n",
       "      <td>NaN</td>\n",
       "      <td>0004</td>\n",
       "      <td>2017-10-26</td>\n",
       "      <td>onbekend bonkt alles nagelopen</td>\n",
       "    </tr>\n",
       "  </tbody>\n",
       "</table>\n",
       "<p>300 rows × 14 columns</p>\n",
       "</div>"
      ],
      "text/plain": [
       "                  id              data_provider country  \\\n",
       "23855     rcint_3615  Repair Café International     NLD   \n",
       "13163    rcint_44808  Repair Café International     AUS   \n",
       "13155    rcint_44790  Repair Café International     AUS   \n",
       "13154    rcint_44789  Repair Café International     AUS   \n",
       "13160    rcint_44795  Repair Café International     AUS   \n",
       "...              ...                        ...     ...   \n",
       "55380  restart_16900        The Restart Project     GBR   \n",
       "24069      rcint_647  Repair Café International     NLD   \n",
       "24068     rcint_2439  Repair Café International     NLD   \n",
       "24067     rcint_2722  Repair Café International     NLD   \n",
       "24066     rcint_2885  Repair Café International     NLD   \n",
       "\n",
       "                                partner_product_category  \\\n",
       "23855     Household appliances electric ~ Food processor   \n",
       "13163     Household appliances electric ~ Paper shredder   \n",
       "13155            Display and sound equipment ~ Amplifier   \n",
       "13154          Clocks / alarm clocks ~ Alarm clock radio   \n",
       "13160  Household appliances electric ~ Electric penci...   \n",
       "...                                                  ...   \n",
       "55380                                Watch/clock ~ clock   \n",
       "24069                Display and sound equipment ~ Radio   \n",
       "24068                                 Other ~ Calculator   \n",
       "24067                      Clocks / alarm clocks ~ Clock   \n",
       "24066     Household appliances electric ~ Sewing machine   \n",
       "\n",
       "            product_category  product_category_id       brand  \\\n",
       "23855         Food processor                   37  KitchenAid   \n",
       "13163         Paper shredder                   21     Unknown   \n",
       "13155        Hi-Fi separates                   13     Unknown   \n",
       "13154         Portable radio                   23     Unknown   \n",
       "13160  Small home electrical                   28     Unknown   \n",
       "...                      ...                  ...         ...   \n",
       "55380            Watch/clock                   35     Unknown   \n",
       "24069         Portable radio                   23   Blaupunkt   \n",
       "24068                   Misc                   18       Mullo   \n",
       "24067            Watch/clock                   35     Unknown   \n",
       "24066         Sewing machine                   27        Elna   \n",
       "\n",
       "       year_of_manufacture  product_age repair_status  \\\n",
       "23855               1019.0        998.0    Repairable   \n",
       "13163               1900.0        123.0         Fixed   \n",
       "13155               1900.0        123.0    Repairable   \n",
       "13154               1900.0        123.0   End of life   \n",
       "13160               1900.0        123.0         Fixed   \n",
       "...                    ...          ...           ...   \n",
       "55380               1950.0         70.0   End of life   \n",
       "24069               1950.0         67.0    Repairable   \n",
       "24068               1950.0         67.0         Fixed   \n",
       "24067               1950.0         67.0    Repairable   \n",
       "24066               1950.0         67.0         Fixed   \n",
       "\n",
       "      repair_barrier_if_end_of_life  group_identifier  event_date  \\\n",
       "23855                           NaN              0016  2017-12-02   \n",
       "13163                           NaN              0333  2023-01-21   \n",
       "13155                           NaN              0333  2023-01-21   \n",
       "13154        No way to open product              0333  2023-01-21   \n",
       "13160                           NaN              0333  2023-01-21   \n",
       "...                             ...               ...         ...   \n",
       "55380                           NaN  Share and Repair  2020-02-01   \n",
       "24069                           NaN              0007  2017-04-01   \n",
       "24068                           NaN              0002  2017-09-30   \n",
       "24067                           NaN              0011  2017-10-14   \n",
       "24066                           NaN              0004  2017-10-26   \n",
       "\n",
       "                                                 problem  \n",
       "23855                 Vastgelopen  onderdelen bestellen?  \n",
       "13163  Not working Not seated correctly Adjusted the ...  \n",
       "13155                            Blown Yes  Advice given  \n",
       "13154                                        No sound No  \n",
       "13160  Won't sharpen Foreign object inside Taken apar...  \n",
       "...                                                  ...  \n",
       "55380                                   Pendulum snapped  \n",
       "24069  Afstem snaar defect Zoekt zenders niet meer  O...  \n",
       "24068                                 vuil schoongemaakt  \n",
       "24067  loopt niet door  afspraak gemaakt om thuis te ...  \n",
       "24066                     onbekend bonkt alles nagelopen  \n",
       "\n",
       "[300 rows x 14 columns]"
      ]
     },
     "execution_count": 179,
     "metadata": {},
     "output_type": "execute_result"
    }
   ],
   "source": [
    "df.sort_values(by='year_of_manufacture', ascending=True).head(300)"
=======
      "image/png": "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",
      "text/plain": [
       "<Figure size 640x480 with 1 Axes>"
      ]
     },
     "metadata": {},
     "output_type": "display_data"
    }
   ],
   "source": [
    "value_counts = df['repair_status'].value_counts()\n",
    "\n",
    "plt.bar(value_counts.index, value_counts.values)\n",
    "plt.xlabel('Repair Status')\n",
    "plt.ylabel('Number of Items')\n",
    "plt.title('Tally of Items by Repair Status')\n",
    "plt.xticks(rotation=45)\n",
    "plt.tight_layout()\n",
    "plt.show()"
>>>>>>> 27c223d9e5a175188b20e39dbab80ac857f6abf6
   ]
  },
  {
   "cell_type": "markdown",
   "metadata": {},
   "source": [
<<<<<<< HEAD
    "quick overview of the distribution of the numerical values using .describe()"
=======
    "We see that the majority of items in this dataset were able to be fixed, and a further 20% or so listed as \"Repairable\"\n",
    "A combined less than 25% are \"End of Life\" (fix improbable or inadvisable) or \"Unknown\""
   ]
  },
  {
   "cell_type": "markdown",
   "metadata": {},
   "source": [
    "Pandas crosstab of Country vs Counts of Repair Status using pd.crosstab() followed by a stacked bar chart visualizing the data"
>>>>>>> 27c223d9e5a175188b20e39dbab80ac857f6abf6
   ]
  },
  {
   "cell_type": "code",
<<<<<<< HEAD
   "execution_count": 175,
=======
   "execution_count": 30,
>>>>>>> 27c223d9e5a175188b20e39dbab80ac857f6abf6
   "metadata": {},
   "outputs": [
    {
     "name": "stdout",
     "output_type": "stream",
     "text": [
<<<<<<< HEAD
      "<class 'pandas.core.frame.DataFrame'>\n",
      "RangeIndex: 103076 entries, 0 to 103075\n",
      "Data columns (total 14 columns):\n",
      " #   Column                         Non-Null Count   Dtype  \n",
      "---  ------                         --------------   -----  \n",
      " 0   id                             103076 non-null  object \n",
      " 1   data_provider                  103076 non-null  object \n",
      " 2   country                        103076 non-null  object \n",
      " 3   partner_product_category       103076 non-null  object \n",
      " 4   product_category               103076 non-null  object \n",
      " 5   product_category_id            103076 non-null  int64  \n",
      " 6   brand                          103070 non-null  object \n",
      " 7   year_of_manufacture            37117 non-null   float64\n",
      " 8   product_age                    37117 non-null   float64\n",
      " 9   repair_status                  103076 non-null  object \n",
      " 10  repair_barrier_if_end_of_life  7268 non-null    object \n",
      " 11  group_identifier               103076 non-null  object \n",
      " 12  event_date                     103076 non-null  object \n",
      " 13  problem                        88031 non-null   object \n",
      "dtypes: float64(2), int64(1), object(11)\n",
      "memory usage: 11.0+ MB\n"
=======
      "repair_status  End of life  Fixed  Repairable  Unknown\n",
      "country                                               \n",
      "ARG                    141    465          11        0\n",
      "AUS                    245    275         111        0\n",
      "AUT                     42    109          26        4\n",
      "BEL                   3000   7161        3154      103\n",
      "BEN                      0      6           3        0\n",
      "CAN                    459   1260         696        0\n",
      "CHE                     15     47          33        0\n",
      "DEU                   1983   7651        2379     1462\n",
      "DNK                    797   3027         389      950\n",
      "ESP                    158    393         223        2\n",
      "FRA                   1243   1864         893        2\n",
      "GBR                   6660  13253        7144      733\n",
      "HKG                     12     56         110        0\n",
      "IRL                     17     83          57        0\n",
      "ISL                     20     31          40        0\n",
      "ISR                     49     81          36        0\n",
      "ITA                    319   1072         361       10\n",
      "JEY                     40    134          55        1\n",
      "LUX                      1      2           0        0\n",
      "NLD                   8786  15346        4184        2\n",
      "NOR                    176    604         376        0\n",
      "NZL                     67    145          78       17\n",
      "SWE                     67    294         160       22\n",
      "TUN                      5     84           9        0\n",
      "TWN                      0      3           0        0\n",
      "USA                    127    846         417       92\n",
      "ZAF                      4      3           3        0\n"
     ]
    },
    {
     "data": {
      "image/png": "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",
      "text/plain": [
       "<Figure size 640x480 with 1 Axes>"
      ]
     },
     "metadata": {},
     "output_type": "display_data"
    }
   ],
   "source": [
    "qf = df.copy()\n",
    "\n",
    "cross_tab = pd.crosstab(qf['country'], qf['repair_status'])\n",
    "print(cross_tab)\n",
    "\n",
    "cross_tab.plot(kind='bar')\n",
    "plt.xlabel('Country')\n",
    "plt.ylabel('Repair Status')\n",
    "plt.title('Repair Status vs Country Counts')\n",
    "plt.legend(title='Country')\n",
    "plt.show()"
   ]
  },
  {
   "cell_type": "markdown",
   "metadata": {},
   "source": [
    "Looks like items are able to be fixed far more often than not, irrespective of the country in which the attempt was made"
   ]
  },
  {
   "cell_type": "code",
   "execution_count": 24,
   "metadata": {},
   "outputs": [
    {
     "name": "stdout",
     "output_type": "stream",
     "text": [
      "brand          \"Princess\" fruitpers  (missed)  -  - onbekend  ....  /  1930s  \\\n",
      "repair_status                                                                  \n",
      "End of life                       1         0  1           0     1  2      0   \n",
      "Fixed                             0         1  3           0     0  0      0   \n",
      "Repairable                        0         0  0           1     0  0      1   \n",
      "Unknown                           0         0  0           0     0  0      0   \n",
      "\n",
      "brand          1960's wooden table lamp  1960s misc  1byone  ...  zeppelin  \\\n",
      "repair_status                                                ...             \n",
      "End of life                           0           0       1  ...         0   \n",
      "Fixed                                 1           0       0  ...         0   \n",
      "Repairable                            0           1       0  ...         1   \n",
      "Unknown                               0           0       0  ...         0   \n",
      "\n",
      "brand          zig zag  zigzag Deluxe Krëfel  zonder  zoom  à feuilles  \\\n",
      "repair_status                                                            \n",
      "End of life          0                     0       0     0           0   \n",
      "Fixed                0                     1       1     1           1   \n",
      "Repairable           1                     0       0     0           0   \n",
      "Unknown              0                     0       0     0           0   \n",
      "\n",
      "brand          à main  ældre model  électrique  國騰  \n",
      "repair_status                                       \n",
      "End of life         0            1           0   0  \n",
      "Fixed               1            0           0   1  \n",
      "Repairable          0            0           0   0  \n",
      "Unknown             0            0           1   0  \n",
      "\n",
      "[4 rows x 9061 columns]\n"
>>>>>>> 27c223d9e5a175188b20e39dbab80ac857f6abf6
     ]
    }
   ],
   "source": [
<<<<<<< HEAD
=======
    "cross_tab = pd.crosstab(qf['repair_status'], qf['brand'])\n",
    "print(cross_tab)"
   ]
  },
  {
   "cell_type": "code",
   "execution_count": 25,
   "metadata": {},
   "outputs": [
    {
     "name": "stdout",
     "output_type": "stream",
     "text": [
      "product_age    -1.0     0.0     0.1     0.2     0.3     0.4     0.5     0.6    \\\n",
      "repair_status                                                                   \n",
      "End of life         0      63       1       1       1       0      25       0   \n",
      "Fixed               0     121       2       3       7       1      88       0   \n",
      "Repairable          0      32       2       5       1       0      43       2   \n",
      "Unknown             1       4       0       0       0       0       1       0   \n",
      "\n",
      "product_age     0.7     0.8    ...   109.0   110.0   112.0   114.0   119.0  \\\n",
      "repair_status                  ...                                           \n",
      "End of life         1       0  ...       0       0       0       0       0   \n",
      "Fixed               0       3  ...       2       1       1       1       0   \n",
      "Repairable          0       3  ...       0       2       0       0       2   \n",
      "Unknown             0       0  ...       0       0       0       0       0   \n",
      "\n",
      "product_age     120.0   121.0   122.0   123.0   998.0  \n",
      "repair_status                                          \n",
      "End of life         1       1       0       8       0  \n",
      "Fixed               0       1       1       6       0  \n",
      "Repairable          2       3       0       3       1  \n",
      "Unknown             0       0       0       0       0  \n",
      "\n",
      "[4 rows x 155 columns]\n"
     ]
    }
   ],
   "source": [
    "cross_tab = pd.crosstab(qf['repair_status'], qf['product_age'])\n",
    "print(cross_tab)"
   ]
  },
  {
   "cell_type": "code",
   "execution_count": 26,
   "metadata": {},
   "outputs": [
    {
     "name": "stdout",
     "output_type": "stream",
     "text": [
      "repair_status                      End of life  Fixed  Repairable  Unknown\n",
      "product_category                                                          \n",
      "Aircon/dehumidifier                        107    158         105       15\n",
      "Battery/charger/adapter                    384    775         201       62\n",
      "Coffee maker                              1765   3146        1226      158\n",
      "DSLR/video camera                           83     99         102       33\n",
      "Decorative or safety lights                383   1192         322       44\n",
      "Desktop computer                           184    550         254       45\n",
      "Digital compact camera                     190    196         161       28\n",
      "Fan                                        256    471         124       22\n",
      "Flat screen                                269    328         316       96\n",
      "Food processor                            1311   2389         788      161\n",
      "Games console                               93    174         109       13\n",
      "Hair & beauty item                         541    950         331       59\n",
      "Hair dryer                                 237    651          71       37\n",
      "Handheld entertainment device              243    543         271       79\n",
      "Headphones                                 258    762         266       42\n",
      "Hi-Fi integrated                           429    791         399       74\n",
      "Hi-Fi separates                           1721   3053        1464      236\n",
      "Iron                                       768   1050         433       43\n",
      "Kettle                                     919    901         273       74\n",
      "Lamp                                       782   4632        1144      130\n",
      "Laptop                                     874   3370        2093      135\n",
      "Large home electrical                      552   1063         503       62\n",
      "Misc                                       473   1076         398       90\n",
      "Mobile                                     395   1363         954       80\n",
      "Musical instrument                          59    240         106        7\n",
      "PC accessory                               226    473         224       35\n",
      "Paper shredder                             171    371          42       11\n",
      "Portable radio                            1095   2458         916      199\n",
      "Power tool                                1441   2923        1011      146\n",
      "Printer/scanner                            696    832         544      130\n",
      "Projector                                   67    196          98       22\n",
      "Sewing machine                             384   2307         513      114\n",
      "Small home electrical                      886   1908         559      198\n",
      "Small kitchen item                        1469   2468         910      140\n",
      "TV and gaming-related accessories          847   1057         536      108\n",
      "Tablet                                     372    772         598       43\n",
      "Toaster                                    815   1133         346       98\n",
      "Toy                                        396   1196         357       67\n",
      "Vacuum                                    1562   4252        1310      184\n",
      "Watch/clock                                730   2026         570       80\n"
     ]
    },
    {
     "data": {
      "image/png": "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",
      "text/plain": [
       "<Figure size 640x480 with 1 Axes>"
      ]
     },
     "metadata": {},
     "output_type": "display_data"
    }
   ],
   "source": [
    "qf = df.copy()\n",
    "\n",
    "cross_tab = pd.crosstab(qf['product_category'], qf['repair_status'])\n",
    "print(cross_tab)\n",
    "\n",
    "cross_tab.plot(kind='bar', stacked=True)\n",
    "plt.xlabel('product_category')\n",
    "plt.ylabel('Repair Status')\n",
    "plt.title('Repair Status vs Product Category')\n",
    "plt.legend(title='Product Category')\n",
    "plt.show()"
   ]
  },
  {
   "cell_type": "code",
   "execution_count": 27,
   "metadata": {},
   "outputs": [
    {
     "name": "stdout",
     "output_type": "stream",
     "text": [
      "repair_status                      End of life     Fixed  Repairable   Unknown\n",
      "product_category                                                              \n",
      "Sewing machine                        0.115732  0.695298    0.154611  0.034358\n",
      "Lamp                                  0.116926  0.692584    0.171053  0.019438\n",
      "Hair dryer                            0.237952  0.653614    0.071285  0.037149\n",
      "Paper shredder                        0.287395  0.623529    0.070588  0.018487\n",
      "Decorative or safety lights           0.197321  0.614116    0.165894  0.022669\n",
      "Watch/clock                           0.214328  0.594833    0.167352  0.023488\n",
      "Toy                                   0.196429  0.593254    0.177083  0.033234\n",
      "Musical instrument                    0.143204  0.582524    0.257282  0.016990\n",
      "Vacuum                                0.213738  0.581828    0.179256  0.025178\n",
      "Headphones                            0.194277  0.573795    0.200301  0.031627\n",
      "Battery/charger/adapter               0.270042  0.545007    0.141350  0.043601\n",
      "Fan                                   0.293242  0.539519    0.142039  0.025200\n",
      "Small home electrical                 0.249507  0.537313    0.157420  0.055759\n",
      "Desktop computer                      0.178122  0.532430    0.245886  0.043562\n",
      "Power tool                            0.261003  0.529433    0.183119  0.026444\n",
      "Misc                                  0.232204  0.528228    0.195385  0.044183\n",
      "Portable radio                        0.234576  0.526564    0.196230  0.042631\n",
      "Laptop                                0.135043  0.520705    0.323393  0.020859\n",
      "Food processor                        0.281996  0.513874    0.169499  0.034631\n",
      "Projector                             0.174935  0.511749    0.255875  0.057441\n",
      "Hair & beauty item                    0.287613  0.505051    0.175970  0.031366\n",
      "Coffee maker                          0.280381  0.499762    0.194758  0.025099\n",
      "Small kitchen item                    0.294566  0.494887    0.182474  0.028073\n",
      "PC accessory                          0.235908  0.493737    0.233820  0.036534\n",
      "Mobile                                0.141476  0.488181    0.341691  0.028653\n",
      "Large home electrical                 0.253211  0.487615    0.230734  0.028440\n",
      "Handheld entertainment device         0.213908  0.477993    0.238556  0.069542\n",
      "Toaster                               0.340719  0.473662    0.144649  0.040970\n",
      "Hi-Fi separates                       0.265833  0.471579    0.226135  0.036454\n",
      "Hi-Fi integrated                      0.253396  0.467218    0.235676  0.043709\n",
      "Iron                                  0.334786  0.457716    0.188753  0.018745\n",
      "Games console                         0.239075  0.447301    0.280206  0.033419\n",
      "Tablet                                0.208403  0.432493    0.335014  0.024090\n",
      "Kettle                                0.424089  0.415782    0.125981  0.034149\n",
      "TV and gaming-related accessories     0.332418  0.414835    0.210361  0.042386\n",
      "Aircon/dehumidifier                   0.277922  0.410390    0.272727  0.038961\n",
      "Printer/scanner                       0.316076  0.377838    0.247048  0.059037\n",
      "Digital compact camera                0.330435  0.340870    0.280000  0.048696\n",
      "Flat screen                           0.266601  0.325074    0.313181  0.095144\n",
      "DSLR/video camera                     0.261830  0.312303    0.321767  0.104101\n"
     ]
    }
   ],
   "source": [
    "sorted_category_status_proportions = category_status_proportions.sort_values(by=['Fixed'], ascending=[False])\n",
    "print(sorted_category_status_proportions)\n",
    "\n"
   ]
  },
  {
   "cell_type": "markdown",
   "metadata": {},
   "source": [
    "Very promising results! Right away we can see that the top 5 categories in terms of repairability success rate are all above 60% in the \"fixed\" status alone, not even including the additional opportunities identified by the 'repairable' column.\n",
    "\n",
    "While the bottom 4 product categories have a success rate of under 40% (but never lower than 30%), and about half the dataset has a success rate between 40 and 50%, the combined Fixed + Repairable count is never under 50% for any of the product categories. "
   ]
  },
  {
   "cell_type": "markdown",
   "metadata": {},
   "source": [
    "## Data Preprocessing {#data-preprocessing}"
   ]
  },
  {
   "cell_type": "markdown",
   "metadata": {},
   "source": [
    "choosing a sample of data for more manageable NLP processing <br>\n",
    "#ATM machine\n",
    "#PIN number"
   ]
  },
  {
   "cell_type": "code",
   "execution_count": 31,
   "metadata": {},
   "outputs": [],
   "source": [
    "sf = qf.sample(n=1000, random_state=1)"
   ]
  },
  {
   "cell_type": "markdown",
   "metadata": {},
   "source": [
    "Vectorizing the problem column for NLP"
   ]
  },
  {
   "cell_type": "code",
   "execution_count": 32,
   "metadata": {},
   "outputs": [
    {
     "ename": "ValueError",
     "evalue": "np.nan is an invalid document, expected byte or unicode string.",
     "output_type": "error",
     "traceback": [
      "\u001b[1;31m---------------------------------------------------------------------------\u001b[0m",
      "\u001b[1;31mValueError\u001b[0m                                Traceback (most recent call last)",
      "\u001b[1;32mc:\\Users\\User\\Desktop\\BrainStation-Data-Science-Capstone\\Notebooks\\Andrew_Chau_BrainStation_DS_Capstone.ipynb Cell 31\u001b[0m in \u001b[0;36m<cell line: 5>\u001b[1;34m()\u001b[0m\n\u001b[0;32m      <a href='vscode-notebook-cell:/c%3A/Users/User/Desktop/BrainStation-Data-Science-Capstone/Notebooks/Andrew_Chau_BrainStation_DS_Capstone.ipynb#X44sZmlsZQ%3D%3D?line=0'>1</a>\u001b[0m \u001b[39mfrom\u001b[39;00m \u001b[39msklearn\u001b[39;00m\u001b[39m.\u001b[39;00m\u001b[39mfeature_extraction\u001b[39;00m\u001b[39m.\u001b[39;00m\u001b[39mtext\u001b[39;00m \u001b[39mimport\u001b[39;00m CountVectorizer\n\u001b[0;32m      <a href='vscode-notebook-cell:/c%3A/Users/User/Desktop/BrainStation-Data-Science-Capstone/Notebooks/Andrew_Chau_BrainStation_DS_Capstone.ipynb#X44sZmlsZQ%3D%3D?line=2'>3</a>\u001b[0m vectorizer \u001b[39m=\u001b[39m CountVectorizer()\n\u001b[1;32m----> <a href='vscode-notebook-cell:/c%3A/Users/User/Desktop/BrainStation-Data-Science-Capstone/Notebooks/Andrew_Chau_BrainStation_DS_Capstone.ipynb#X44sZmlsZQ%3D%3D?line=4'>5</a>\u001b[0m X \u001b[39m=\u001b[39m vectorizer\u001b[39m.\u001b[39;49mfit_transform(sf[\u001b[39m'\u001b[39;49m\u001b[39mproblem\u001b[39;49m\u001b[39m'\u001b[39;49m])\n\u001b[0;32m      <a href='vscode-notebook-cell:/c%3A/Users/User/Desktop/BrainStation-Data-Science-Capstone/Notebooks/Andrew_Chau_BrainStation_DS_Capstone.ipynb#X44sZmlsZQ%3D%3D?line=6'>7</a>\u001b[0m vectorized_df \u001b[39m=\u001b[39m pd\u001b[39m.\u001b[39mDataFrame(X\u001b[39m.\u001b[39mtoarray(), columns\u001b[39m=\u001b[39mvectorizer\u001b[39m.\u001b[39mget_feature_names_out())\n\u001b[0;32m      <a href='vscode-notebook-cell:/c%3A/Users/User/Desktop/BrainStation-Data-Science-Capstone/Notebooks/Andrew_Chau_BrainStation_DS_Capstone.ipynb#X44sZmlsZQ%3D%3D?line=8'>9</a>\u001b[0m \u001b[39mprint\u001b[39m(vectorized_df)\n",
      "File \u001b[1;32mc:\\Users\\User\\anaconda3\\lib\\site-packages\\sklearn\\base.py:1151\u001b[0m, in \u001b[0;36m_fit_context.<locals>.decorator.<locals>.wrapper\u001b[1;34m(estimator, *args, **kwargs)\u001b[0m\n\u001b[0;32m   1144\u001b[0m     estimator\u001b[39m.\u001b[39m_validate_params()\n\u001b[0;32m   1146\u001b[0m \u001b[39mwith\u001b[39;00m config_context(\n\u001b[0;32m   1147\u001b[0m     skip_parameter_validation\u001b[39m=\u001b[39m(\n\u001b[0;32m   1148\u001b[0m         prefer_skip_nested_validation \u001b[39mor\u001b[39;00m global_skip_validation\n\u001b[0;32m   1149\u001b[0m     )\n\u001b[0;32m   1150\u001b[0m ):\n\u001b[1;32m-> 1151\u001b[0m     \u001b[39mreturn\u001b[39;00m fit_method(estimator, \u001b[39m*\u001b[39;49margs, \u001b[39m*\u001b[39;49m\u001b[39m*\u001b[39;49mkwargs)\n",
      "File \u001b[1;32mc:\\Users\\User\\anaconda3\\lib\\site-packages\\sklearn\\feature_extraction\\text.py:1383\u001b[0m, in \u001b[0;36mCountVectorizer.fit_transform\u001b[1;34m(self, raw_documents, y)\u001b[0m\n\u001b[0;32m   1375\u001b[0m             warnings\u001b[39m.\u001b[39mwarn(\n\u001b[0;32m   1376\u001b[0m                 \u001b[39m\"\u001b[39m\u001b[39mUpper case characters found in\u001b[39m\u001b[39m\"\u001b[39m\n\u001b[0;32m   1377\u001b[0m                 \u001b[39m\"\u001b[39m\u001b[39m vocabulary while \u001b[39m\u001b[39m'\u001b[39m\u001b[39mlowercase\u001b[39m\u001b[39m'\u001b[39m\u001b[39m\"\u001b[39m\n\u001b[0;32m   1378\u001b[0m                 \u001b[39m\"\u001b[39m\u001b[39m is True. These entries will not\u001b[39m\u001b[39m\"\u001b[39m\n\u001b[0;32m   1379\u001b[0m                 \u001b[39m\"\u001b[39m\u001b[39m be matched with any documents\u001b[39m\u001b[39m\"\u001b[39m\n\u001b[0;32m   1380\u001b[0m             )\n\u001b[0;32m   1381\u001b[0m             \u001b[39mbreak\u001b[39;00m\n\u001b[1;32m-> 1383\u001b[0m vocabulary, X \u001b[39m=\u001b[39m \u001b[39mself\u001b[39;49m\u001b[39m.\u001b[39;49m_count_vocab(raw_documents, \u001b[39mself\u001b[39;49m\u001b[39m.\u001b[39;49mfixed_vocabulary_)\n\u001b[0;32m   1385\u001b[0m \u001b[39mif\u001b[39;00m \u001b[39mself\u001b[39m\u001b[39m.\u001b[39mbinary:\n\u001b[0;32m   1386\u001b[0m     X\u001b[39m.\u001b[39mdata\u001b[39m.\u001b[39mfill(\u001b[39m1\u001b[39m)\n",
      "File \u001b[1;32mc:\\Users\\User\\anaconda3\\lib\\site-packages\\sklearn\\feature_extraction\\text.py:1270\u001b[0m, in \u001b[0;36mCountVectorizer._count_vocab\u001b[1;34m(self, raw_documents, fixed_vocab)\u001b[0m\n\u001b[0;32m   1268\u001b[0m \u001b[39mfor\u001b[39;00m doc \u001b[39min\u001b[39;00m raw_documents:\n\u001b[0;32m   1269\u001b[0m     feature_counter \u001b[39m=\u001b[39m {}\n\u001b[1;32m-> 1270\u001b[0m     \u001b[39mfor\u001b[39;00m feature \u001b[39min\u001b[39;00m analyze(doc):\n\u001b[0;32m   1271\u001b[0m         \u001b[39mtry\u001b[39;00m:\n\u001b[0;32m   1272\u001b[0m             feature_idx \u001b[39m=\u001b[39m vocabulary[feature]\n",
      "File \u001b[1;32mc:\\Users\\User\\anaconda3\\lib\\site-packages\\sklearn\\feature_extraction\\text.py:105\u001b[0m, in \u001b[0;36m_analyze\u001b[1;34m(doc, analyzer, tokenizer, ngrams, preprocessor, decoder, stop_words)\u001b[0m\n\u001b[0;32m     83\u001b[0m \u001b[39m\u001b[39m\u001b[39m\"\"\"Chain together an optional series of text processing steps to go from\u001b[39;00m\n\u001b[0;32m     84\u001b[0m \u001b[39ma single document to ngrams, with or without tokenizing or preprocessing.\u001b[39;00m\n\u001b[0;32m     85\u001b[0m \n\u001b[1;32m   (...)\u001b[0m\n\u001b[0;32m    101\u001b[0m \u001b[39m    A sequence of tokens, possibly with pairs, triples, etc.\u001b[39;00m\n\u001b[0;32m    102\u001b[0m \u001b[39m\"\"\"\u001b[39;00m\n\u001b[0;32m    104\u001b[0m \u001b[39mif\u001b[39;00m decoder \u001b[39mis\u001b[39;00m \u001b[39mnot\u001b[39;00m \u001b[39mNone\u001b[39;00m:\n\u001b[1;32m--> 105\u001b[0m     doc \u001b[39m=\u001b[39m decoder(doc)\n\u001b[0;32m    106\u001b[0m \u001b[39mif\u001b[39;00m analyzer \u001b[39mis\u001b[39;00m \u001b[39mnot\u001b[39;00m \u001b[39mNone\u001b[39;00m:\n\u001b[0;32m    107\u001b[0m     doc \u001b[39m=\u001b[39m analyzer(doc)\n",
      "File \u001b[1;32mc:\\Users\\User\\anaconda3\\lib\\site-packages\\sklearn\\feature_extraction\\text.py:238\u001b[0m, in \u001b[0;36m_VectorizerMixin.decode\u001b[1;34m(self, doc)\u001b[0m\n\u001b[0;32m    235\u001b[0m     doc \u001b[39m=\u001b[39m doc\u001b[39m.\u001b[39mdecode(\u001b[39mself\u001b[39m\u001b[39m.\u001b[39mencoding, \u001b[39mself\u001b[39m\u001b[39m.\u001b[39mdecode_error)\n\u001b[0;32m    237\u001b[0m \u001b[39mif\u001b[39;00m doc \u001b[39mis\u001b[39;00m np\u001b[39m.\u001b[39mnan:\n\u001b[1;32m--> 238\u001b[0m     \u001b[39mraise\u001b[39;00m \u001b[39mValueError\u001b[39;00m(\n\u001b[0;32m    239\u001b[0m         \u001b[39m\"\u001b[39m\u001b[39mnp.nan is an invalid document, expected byte or unicode string.\u001b[39m\u001b[39m\"\u001b[39m\n\u001b[0;32m    240\u001b[0m     )\n\u001b[0;32m    242\u001b[0m \u001b[39mreturn\u001b[39;00m doc\n",
      "\u001b[1;31mValueError\u001b[0m: np.nan is an invalid document, expected byte or unicode string."
     ]
    }
   ],
   "source": [
    "from sklearn.feature_extraction.text import CountVectorizer\n",
    "\n",
    "vectorizer = CountVectorizer()\n",
    "\n",
    "X = vectorizer.fit_transform(sf['problem'])\n",
    "\n",
    "vectorized_df = pd.DataFrame(X.toarray(), columns=vectorizer.get_feature_names_out())\n",
    "\n",
    "print(vectorized_df)"
   ]
  },
  {
   "cell_type": "markdown",
   "metadata": {},
   "source": [
    "There are significant missing values (more than half) in the year_of_manufacture and product_age columns, as with the repair_barrier_if_end_of_life column, although that only applies to items that cannot be fixed and the absolute value there is not representative of how much data is missing. "
   ]
  },
  {
   "cell_type": "code",
   "execution_count": null,
   "metadata": {},
   "outputs": [
    {
     "data": {
      "text/plain": [
       "Vacuum                               7308\n",
       "Lamp                                 6688\n",
       "Hi-Fi separates                      6474\n",
       "Laptop                               6472\n",
       "Coffee maker                         6295\n",
       "Power tool                           5521\n",
       "Small kitchen item                   4987\n",
       "Portable radio                       4668\n",
       "Food processor                       4649\n",
       "Small home electrical                3551\n",
       "Watch/clock                          3406\n",
       "Sewing machine                       3318\n",
       "Mobile                               2792\n",
       "TV and gaming-related accessories    2548\n",
       "Toaster                              2392\n",
       "Iron                                 2294\n",
       "Printer/scanner                      2202\n",
       "Large home electrical                2180\n",
       "Kettle                               2167\n",
       "Misc                                 2037\n",
       "Toy                                  2016\n",
       "Decorative or safety lights          1941\n",
       "Hair & beauty item                   1881\n",
       "Tablet                               1785\n",
       "Hi-Fi integrated                     1693\n",
       "Battery/charger/adapter              1422\n",
       "Headphones                           1328\n",
       "Handheld entertainment device        1136\n",
       "Desktop computer                     1033\n",
       "Flat screen                          1009\n",
       "Hair dryer                            996\n",
       "PC accessory                          958\n",
       "Fan                                   873\n",
       "Paper shredder                        595\n",
       "Digital compact camera                575\n",
       "Musical instrument                    412\n",
       "Games console                         389\n",
       "Aircon/dehumidifier                   385\n",
       "Projector                             383\n",
       "DSLR/video camera                     317\n",
       "Name: product_category, dtype: int64"
      ]
     },
     "execution_count": 14,
     "metadata": {},
     "output_type": "execute_result"
    }
   ],
   "source": [
    "df['product_category'].value_counts()"
   ]
  },
  {
   "cell_type": "code",
   "execution_count": null,
   "metadata": {},
   "outputs": [
    {
     "data": {
      "text/plain": [
       "NLD    28318\n",
       "GBR    27790\n",
       "DEU    13475\n",
       "BEL    13418\n",
       "DNK     5163\n",
       "FRA     4002\n",
       "CAN     2415\n",
       "ITA     1762\n",
       "USA     1482\n",
       "NOR     1156\n",
       "ESP      776\n",
       "AUS      631\n",
       "ARG      617\n",
       "SWE      543\n",
       "NZL      307\n",
       "JEY      230\n",
       "AUT      181\n",
       "HKG      178\n",
       "ISR      166\n",
       "IRL      157\n",
       "TUN       98\n",
       "CHE       95\n",
       "ISL       91\n",
       "ZAF       10\n",
       "BEN        9\n",
       "LUX        3\n",
       "TWN        3\n",
       "Name: country, dtype: int64"
      ]
     },
     "execution_count": 15,
     "metadata": {},
     "output_type": "execute_result"
    }
   ],
   "source": [
    "df['country'].value_counts()"
   ]
  },
  {
   "cell_type": "markdown",
   "metadata": {},
   "source": [
    "import LabelEncoder to be able to create a heatmap using what is initially string data"
   ]
  },
  {
   "cell_type": "code",
   "execution_count": null,
   "metadata": {},
   "outputs": [],
   "source": [
    "\n",
    "from sklearn.preprocessing import LabelEncoder"
   ]
  },
  {
   "cell_type": "code",
   "execution_count": null,
   "metadata": {},
   "outputs": [],
   "source": [
    "correlation_matrix = df.corr()"
   ]
  },
  {
   "cell_type": "code",
   "execution_count": null,
   "metadata": {},
   "outputs": [],
   "source": [
    "correlation_matrix"
   ]
  },
  {
   "cell_type": "markdown",
   "metadata": {},
   "source": [
    "changing some string data to numeric for heatmap"
   ]
  },
  {
   "cell_type": "code",
   "execution_count": null,
   "metadata": {},
   "outputs": [],
   "source": [
    "label_encoder = LabelEncoder()\n",
    "df['repair_status'] = label_encoder.fit_transform(df['repair_status'])\n",
    "df['country'] = label_encoder.fit_transform(df['country'])\n",
    "df['brand'] = label_encoder.fit_transform(df['brand'])\n",
    "df"
   ]
  },
  {
   "cell_type": "code",
   "execution_count": null,
   "metadata": {},
   "outputs": [],
   "source": [
>>>>>>> 27c223d9e5a175188b20e39dbab80ac857f6abf6
    "df.info()"
   ]
  },
  {
   "cell_type": "markdown",
   "metadata": {},
   "source": [
    "# Correlation Heatmap"
   ]
  },
  {
   "cell_type": "code",
   "execution_count": null,
   "metadata": {},
   "outputs": [],
   "source": [
    "#sns.heatmap(df.select_dtypes(include=['int64', 'float64', 'int32']).corr(), annot=True, cmap='coolwarm', fmt=\".2f\")\n",
    "#plt.title(\"Open Repair Data Correlation Heatmap\")\n",
    "#plt.show()"
   ]
  },
  {
   "cell_type": "code",
   "execution_count": null,
   "metadata": {},
   "outputs": [],
   "source": [
    "##??\n",
    "df.loc[df['repair_status'] == 'Fixed']"
   ]
  },
  {
   "cell_type": "code",
   "execution_count": null,
   "metadata": {},
   "outputs": [],
   "source": [
    "# There is very little correlation between any of the columns (besides age of the product and year of manufacture, which are redundant). I'll need to look elsewhere for meaningful insights"
   ]
  },
  {
   "cell_type": "markdown",
   "metadata": {},
   "source": [
    "# Attempting to auto-translate the \"problem\" column"
   ]
  },
  {
   "cell_type": "code",
   "execution_count": null,
   "metadata": {},
   "outputs": [],
   "source": [
    "# EasyNMT translation library\n",
    "from easynmt import EasyNMT\n",
    "model = EasyNMT(\"opus-mt\")\n",
    "\n",
    "df[\"problem\"] = df.apply(lambda row: model.translate(row[\"problem\"], target_lang=\"en\"), axis=1)"
   ]
  },
  {
   "cell_type": "code",
   "execution_count": null,
   "metadata": {},
   "outputs": [],
   "source": [
    "# trying to isolate language by country\n",
    "df_en = df[df['country']=='GBR']\n",
    "df_en"
   ]
  },
  {
   "cell_type": "code",
   "execution_count": null,
   "metadata": {},
   "outputs": [],
   "source": [
    "#trying to isolate language by country\n",
    "df_g = df[df['country']=='DEU']\n",
    "df_g"
   ]
  },
  {
   "cell_type": "code",
   "execution_count": null,
   "metadata": {},
   "outputs": [],
   "source": [
    "# attempting to use google translation library\n",
    "df_g[\"problem\"] = df_g.apply(lambda row: model.translate(row[\"problem\"], target_lang=\"en\"), axis=1)"
   ]
  },
  {
   "cell_type": "code",
   "execution_count": null,
   "metadata": {},
   "outputs": [],
   "source": [
    "# dropping null values to provide cleaner data to the translator\n",
    "df_g = df_g.dropna()\n",
    "df_g"
   ]
  },
  {
   "cell_type": "code",
   "execution_count": null,
   "metadata": {},
   "outputs": [],
   "source": [
    "# trying to use google translator library instead\n",
    "import googletrans    \n",
    "from googletrans import Translator\n",
    "\n",
    "\n",
    "translator = Translator()\n",
    "df_g['translated'] = df_g['problem'].apply(lambda x: translator.translate(x, dest='en').text)\n"
   ]
  },
  {
   "cell_type": "code",
   "execution_count": null,
   "metadata": {},
   "outputs": [],
   "source": [
    "# trying to use google translator library\n",
    "df_g[\"problem\"] = df.apply(lambda row: model.translate(row[\"problem\"], target_lang=\"en\"), axis=1)"
   ]
  },
  {
   "cell_type": "code",
   "execution_count": null,
   "metadata": {},
   "outputs": [],
   "source": [
    "import googletrans\n",
    "from googletrans import Translator"
   ]
  },
  {
   "cell_type": "code",
   "execution_count": null,
   "metadata": {},
   "outputs": [],
   "source": [
    "#backtracking to check functionality at a more basic level - code source: StackOverflow\n",
    "translator = Translator()\n",
    "langdict = {0: {'English': 'Hello', 'Japanese': 'こんにちは'}, 1: {'English': 'Thanks', 'Japanese': 'ありがとう'}}\n",
    "df = pd.DataFrame(langdict).T\n",
    "df['TranslatedText'] = df['Japanese'].apply(lambda x: translator.translate(x, src='auto', dest='en').text )\n",
    "print(df)"
   ]
  },
  {
   "cell_type": "code",
   "execution_count": null,
   "metadata": {},
   "outputs": [],
   "source": [
    "#attempting a different google translate library\n",
    "pip install google_trans_new"
   ]
  },
  {
   "cell_type": "code",
   "execution_count": null,
   "metadata": {},
   "outputs": [],
   "source": [
    "#attempting a different google translate library\n",
    "from google_trans_new import google_translator"
   ]
  },
  {
   "cell_type": "code",
   "execution_count": null,
   "metadata": {},
   "outputs": [],
   "source": [
    "#attempting a different google translate library\n",
    "translator = google_translator()  \n",
    "translate_text = translator.translate('Hola mundo!', lang_src='es', lang_tgt='en')  \n",
    "print(translate_text)"
   ]
  },
  {
   "cell_type": "code",
   "execution_count": null,
   "metadata": {},
   "outputs": [],
   "source": [
    "#attempting yet another translate library\n",
    "pip install -U deep-translator"
   ]
  },
  {
   "cell_type": "code",
   "execution_count": null,
   "metadata": {},
   "outputs": [],
   "source": [
    "#attempting yet another translate library\n",
    "from deep_translator import GoogleTranslator\n",
    "df['TranslatedText'] = df_g['problem'].apply(lambda x: GoogleTranslator.translate(x, src='auto', target='en').text)\n"
   ]
  },
  {
   "cell_type": "markdown",
   "metadata": {},
   "source": [
    "So far, every translation library has errored out. But I'm making progress and will continue to sort out the 'problem' column to gain more insights"
   ]
  },
  {
   "cell_type": "code",
   "execution_count": null,
   "metadata": {},
   "outputs": [],
   "source": [
    "df"
   ]
  },
  {
   "cell_type": "code",
   "execution_count": null,
   "metadata": {},
   "outputs": [],
   "source": [
    "df2 = pd.read_csv('Data/OpenRepairData_v0.3_aggregate_202303.csv')"
   ]
  },
  {
   "cell_type": "code",
   "execution_count": null,
   "metadata": {},
   "outputs": [],
   "source": [
    "df_quickclean = df2.dropna()"
   ]
  },
  {
   "cell_type": "code",
   "execution_count": null,
   "metadata": {},
   "outputs": [],
   "source": [
    "\n",
    "X = df_quickclean['product_category_id'] # Only use the first two features so we can visualize\n",
    "y = df_quickclean['repair_status']\n",
    "\n",
    "#Plot\n",
    "plt.scatter(X[y==1, 0], X[y==1, 1], s=20, c=\"yellow\", label=\"Fixed\")\n",
    "plt.scatter(X[y==0, 0], X[y==0, 1], s=20, c=\"purple\", label=\"Not fixed\")\n",
    "plt.legend()\n",
    "plt.show()"
   ]
  },
  {
   "cell_type": "code",
   "execution_count": null,
   "metadata": {},
   "outputs": [],
   "source": [
    "df_quickclean\n",
    "\n",
    "# count vectorize NLP\n",
    "# pd crosstab\n",
    "# distribution visualizations\n",
    "# logistic regression modeling\n",
    "# more markdown\n",
    "\n"
   ]
  },
  {
   "cell_type": "code",
   "execution_count": null,
   "metadata": {},
   "outputs": [],
   "source": [
    "import pandas as pd\n",
    "from sklearn.model_selection import train_test_split\n",
    "from sklearn.tree import DecisionTreeClassifier\n",
    "from sklearn.metrics import accuracy_score\n",
    "\n",
    "#fill in na with unknown\n",
    "X = df_quickclean[['product_category','country','product_age','brand']]\n",
    "y = df_quickclean['repair_status']\n",
    "\n",
    "X_encoded = pd.get_dummies(X)\n",
    "\n",
    "X_train, X_test, y_train, y_test = train_test_split(X_encoded, y, test_size=0.25, random_state=12)\n",
    "\n",
    "tree_model = DecisionTreeClassifier(random_state=12)\n",
    "\n",
    "tree_model.fit(X_train, y_train)\n",
    "\n",
    "y_pred = tree_model.predict(X_test)\n",
    "\n",
    "accuracy = accuracy_score(y_test, y_pred)\n",
    "print(f\"Accuracy: {accuracy:.2f}\")\n"
   ]
  },
  {
   "cell_type": "code",
   "execution_count": null,
   "metadata": {},
   "outputs": [],
   "source": [
    "#from sklearn.metrics import accuracy_score, confusion_matrix\n",
    "# Create confusion matrix\n",
    "#confusion = confusion_matrix(y_test, y_pred)\n",
    "\n",
    "# Create a heatmap using Seaborn\n",
    "#plt.figure(figsize=(8, 6))\n",
    "#sns.heatmap(confusion, annot=True, fmt=\"d\", cmap=\"Blues\",\n",
    "           # xticklabels=tree_model.classes_,\n",
    "           # yticklabels=tree_model.classes_)\n",
    "plt.xlabel('Predicted')\n",
    "plt.ylabel('Actual')\n",
    "plt.title('Confusion Matrix')\n",
    "plt.show()"
   ]
  },
  {
   "cell_type": "code",
   "execution_count": null,
   "metadata": {},
   "outputs": [],
   "source": [
    "import pandas as pd\n",
    "from sklearn.preprocessing import MultiLabelBinarizer\n",
    "\n",
    "\n",
    "df_quickclean['problem_tokens'] = df_quickclean['problem'].str.split()\n",
    "\n",
    "mlb = MultiLabelBinarizer()\n",
    "\n",
    "\n",
    "onehot_encoded_words = mlb.fit_transform(df_quickclean['problem_tokens'])\n",
    "\n",
    "\n",
    "onehot_encoded_df = pd.DataFrame(onehot_encoded_words, columns=mlb.classes_)\n",
    "\n",
    "\n",
    "df_encoded = pd.concat([df_quickclean, onehot_encoded_df], axis=1)\n",
    "\n",
    "df_encoded.drop(['problem', 'problem_tokens'], axis=1, inplace=True)"
   ]
  },
  {
   "cell_type": "code",
   "execution_count": null,
   "metadata": {},
   "outputs": [],
   "source": [
    "df_encoded"
   ]
  },
  {
   "cell_type": "code",
   "execution_count": null,
   "metadata": {},
   "outputs": [],
   "source": [
    "import pandas as pd\n",
    "from sklearn.model_selection import train_test_split\n",
    "from sklearn.tree import DecisionTreeClassifier\n",
    "from sklearn.metrics import accuracy_score\n",
    "\n",
    "# Assuming you have your DataFrame 'df_encoded' and 'repair_status' column\n",
    "\n",
    "target_column = 'repair_status'\n",
    "columns_to_exclude = [target_column]  # Add any columns you want to exclude from modeling\n",
    "\n",
    "for column in df_encoded.columns:\n",
    "    if column not in columns_to_exclude:\n",
    "        X = df_encoded[[column]]  # Select the current column as the feature\n",
    "        y = df_encoded[target_column]  # Target variable\n",
    "\n",
    "        X_encoded = pd.get_dummies(X)  # One-hot encode categorical variables if needed\n",
    "\n",
    "        X_train, X_test, y_train, y_test = train_test_split(X_encoded, y, test_size=0.25, random_state=12)\n",
    "\n",
    "        tree_model = DecisionTreeClassifier(random_state=12)\n",
    "        tree_model.fit(X_train, y_train)\n",
    "        y_pred = tree_model.predict(X_test)\n",
    "\n",
    "        accuracy = accuracy_score(y_test, y_pred)\n",
    "        print(f\"Accuracy for column '{column}': {accuracy:.2f}\")\n"
   ]
  },
  {
   "cell_type": "code",
   "execution_count": null,
   "metadata": {},
   "outputs": [],
   "source": [
    "X = df_encoded['']\n",
    "y = df_encoded['repair_status']\n",
    "\n",
    "X_encoded = pd.get_dummies(X)\n",
    "\n",
    "X_train, X_test, y_train, y_test = train_test_split(X_encoded, y, test_size=0.25, random_state=12)\n",
    "\n",
    "tree_model = DecisionTreeClassifier(random_state=12)\n",
    "\n",
    "tree_model.fit(X_train, y_train)\n",
    "\n",
    "y_pred = tree_model.predict(X_test)\n",
    "\n",
    "accuracy = accuracy_score(y_test, y_pred)\n",
    "print(f\"Accuracy: {accuracy:.2f}\")"
   ]
  },
  {
   "cell_type": "code",
   "execution_count": null,
   "metadata": {},
   "outputs": [],
   "source": [
    "from sklearn.cluster import KMeans\n",
    "from sklearn.metrics import silhouette_score"
   ]
  },
  {
   "cell_type": "code",
   "execution_count": null,
   "metadata": {},
   "outputs": [],
   "source": [
    "k=2\n",
    "\n",
    "kmeans = KMeans(n_clusters = k)\n",
    "kmeans.fit(df_quickclean)\n",
    "labels = kmeans.predict(df_quickclean)\n",
    "\n",
    "inertia = kmeans.inertia_\n",
    "sil_score = silhouette_score(df_quickclean, labels)"
   ]
  },
  {
   "cell_type": "code",
   "execution_count": null,
   "metadata": {},
   "outputs": [],
   "source": [
    "conda install XLMRobertaTokenizer from transformers"
   ]
  },
  {
   "cell_type": "code",
   "execution_count": null,
   "metadata": {},
   "outputs": [],
   "source": [
    "import pandas as pd\n",
    "from transformers import XLMRobertaTokenizer\n",
    "\n",
    "# Load the XLM-R tokenizer\n",
    "tokenizer = XLMRobertaTokenizer.from_pretrained(\"xlm-roberta-base\")\n",
    "\n",
    "# Create a sample DataFrame\n",
    "data = {\n",
    "    \"description\": [\n",
    "        \"Hello, how are you?\",\n",
    "        \"Bonjour, comment ça va ?\",\n",
    "        \"Hola, ¿cómo estás?\",\n",
    "        \"Ciao, come stai?\"\n",
    "    ]\n",
    "}\n",
    "df = pd.DataFrame(data)\n",
    "\n",
    "# Tokenize the descriptions in the DataFrame\n",
    "tokenized_descriptions = []\n",
    "\n",
    "for description in df[\"description\"]:\n",
    "    tokens = tokenizer.tokenize(description)\n",
    "    tokenized_descriptions.append(tokens)\n",
    "\n",
    "df[\"tokenized_description\"] = tokenized_descriptions\n",
    "\n",
    "print(df)\n",
    "## In this example, the tokenizer.tokenize method is applied to each description in the \"description\" column of the DataFrame. The resulting tokenized sequences are stored in a new column called \"tokenized_description.\"\n",
    "\n",
    "## Keep in mind that tokenizing large amounts of text can be time-consuming. If you have a large DataFrame, you might want to consider using parallel processing or batching the tokenization process for better performance.\n",
    "\n",
    "\n",
    "\n",
    "\n",
    "\n"
   ]
  },
  {
   "cell_type": "code",
   "execution_count": null,
   "metadata": {},
   "outputs": [],
   "source": [
    "import pandas as pd\n",
    "from transformers import XLMRobertaTokenizer\n",
    "\n",
    "# Load the XLM-R tokenizer\n",
    "tokenizer = XLMRobertaTokenizer.from_pretrained(\"xlm-roberta-base\")\n",
    "\n",
    "# Create a sample DataFrame\n",
    "data = {\n",
    "    \"description\": [\n",
    "        \"Hello, how are you?\",\n",
    "        \"Bonjour, comment ça va ?\",\n",
    "        \"Hola, ¿cómo estás?\",\n",
    "        \"Ciao, come stai?\"\n",
    "    ]\n",
    "}\n",
    "df = pd.DataFrame(data)\n",
    "\n",
    "# Tokenize individual words in the descriptions\n",
    "tokenized_word_lists = []\n",
    "\n",
    "for description in df[\"description\"]:\n",
    "    words = description.split()  # Split text into words\n",
    "    tokens = [tokenizer.tokenize(word) for word in words]\n",
    "    tokenized_word_lists.append(tokens)\n",
    "\n",
    "df[\"tokenized_words\"] = tokenized_word_lists\n",
    "\n",
    "print(df)\n",
    "# In this version of the code, the description text is split into individual words using the split() method. Then, the XLM-R tokenizer is applied to each word separately, resulting in tokenized sequences for individual words. The tokenized word sequences are stored in a new column called \"tokenized_words.\"\n",
    "\n",
    "# Please note that this approach tokenizes words within the text, and words are often broken down into subword tokens. If you want to preserve the original words while tokenizing, you might need to adapt the code accordingly.\n",
    "\n",
    "\n",
    "\n",
    "\n",
    "\n"
   ]
  },
  {
   "cell_type": "code",
   "execution_count": null,
   "metadata": {},
   "outputs": [],
   "source": [
    "import pandas as pd\n",
    "from sklearn.feature_extraction.text import CountVectorizer\n",
    "from sklearn.model_selection import train_test_split\n",
    "from sklearn.linear_model import LinearRegression\n",
    "from sklearn.metrics import mean_squared_error\n",
    "\n",
    "data = {\n",
    "    \"tokenized_words\": [\n",
    "        [[\"Eating\"], [\"a\"], [\"monster\"], [\"sandwich\"]],\n",
    "        [[\"Bonjour\"], [\"comment\"], [\"ça\", \"va\", \"?\"]],\n",
    "        [[\"Hola\"], [\"cómo\"], [\"estás\", \"?\"]],\n",
    "        [[\"Ciao\"], [\"come\"], [\"stai\", \"?\"]]\n",
    "    ],\n",
    "    \"target\": [10, 20, 30, 40]  # Example target values\n",
    "}\n",
    "df = pd.DataFrame(data)\n",
    "\n",
    "# Flatten tokenized words\n",
    "df[\"flat_tokenized_words\"] = df[\"tokenized_words\"].apply(lambda x: [word for sublist in x for word in sublist])\n",
    "\n",
    "# Convert tokenized words to text\n",
    "df[\"text\"] = df[\"flat_tokenized_words\"].apply(lambda x: \" \".join(x))\n",
    "\n",
    "# Convert text to numerical features using CountVectorizer\n",
    "vectorizer = CountVectorizer()\n",
    "X = vectorizer.fit_transform(df[\"text\"])\n",
    "\n",
    "# Split data into train and test sets\n",
    "X_train, X_test, y_train, y_test = train_test_split(X, df[\"target\"], test_size=0.2, random_state=42)\n",
    "\n",
    "# Initialize and train a linear regression model\n",
    "reg_model = LinearRegression()\n",
    "reg_model.fit(X_train, y_train)\n",
    "\n",
    "# Make predictions on the test set\n",
    "y_pred = reg_model.predict(X_test)\n",
    "\n",
    "# Evaluate the model\n",
    "mse = mean_squared_error(y_test, y_pred)\n",
    "print(\"Mean Squared Error:\", mse)"
   ]
  },
  {
   "cell_type": "code",
   "execution_count": null,
   "metadata": {},
   "outputs": [],
   "source": [
    "label_encoders = {}\n",
    "for col in df[\"Product_Category\", \"Age\", \"Country\"]:\n",
    "    le = LabelEncoder()\n",
    "    df[col] = le.fit_transform(df[col])\n",
    "    label_encoders[col] = le\n",
    "\n",
    "# Split data into features and target\n",
    "X = df.drop(\"F\", axis=1)\n",
    "y = df[\"F\"]\n",
    "\n",
    "# Split data into training and testing sets\n",
    "X_train, X_test, y_train, y_test = train_test_split(X, y, test_size=0.2, random_state=42)\n",
    "\n",
    "# Create and fit the decision tree model\n",
    "clf = DecisionTreeClassifier(random_state=42)\n",
    "clf.fit(X_train, y_train)\n",
    "\n",
    "# Make predictions\n",
    "y_pred = clf.predict(X_test)\n",
    "\n",
    "# Calculate accuracy\n",
    "accuracy = accuracy_score(y_test, y_pred)\n",
    "print(\"Accuracy:\", accuracy)"
   ]
  },
  {
   "cell_type": "code",
   "execution_count": null,
   "metadata": {},
   "outputs": [],
   "source": []
  },
  {
   "cell_type": "code",
   "execution_count": null,
   "metadata": {},
   "outputs": [],
   "source": []
  },
  {
   "cell_type": "code",
   "execution_count": null,
   "metadata": {},
   "outputs": [],
   "source": []
  },
  {
   "cell_type": "code",
   "execution_count": null,
   "metadata": {},
   "outputs": [],
   "source": []
  },
  {
   "cell_type": "code",
   "execution_count": null,
   "metadata": {},
   "outputs": [],
   "source": []
  },
  {
   "cell_type": "markdown",
   "metadata": {},
   "source": [
    "to do: grid search, gradient boost, cross-validation"
   ]
  },
  {
   "cell_type": "markdown",
   "metadata": {},
   "source": [
    "## Decision Tree {#decision-tree}"
   ]
  },
  {
   "cell_type": "code",
<<<<<<< HEAD
   "execution_count": 142,
=======
   "execution_count": 72,
>>>>>>> 27c223d9e5a175188b20e39dbab80ac857f6abf6
   "metadata": {},
   "outputs": [],
   "source": [
    "wdf = pd.read_csv(\"data/OpenRepairData_v0.3_aggregate_202303.csv\")\n",
    "wdf = wdf[['repair_status', 'product_category']]"
   ]
  },
  {
   "cell_type": "code",
<<<<<<< HEAD
   "execution_count": 143,
=======
   "execution_count": 73,
>>>>>>> 27c223d9e5a175188b20e39dbab80ac857f6abf6
   "metadata": {},
   "outputs": [
    {
     "data": {
      "text/plain": [
       "0         End of life\n",
       "1          Repairable\n",
       "2               Fixed\n",
       "3         End of life\n",
       "4         End of life\n",
       "             ...     \n",
       "103071          Fixed\n",
       "103072     Repairable\n",
       "103073          Fixed\n",
       "103074          Fixed\n",
       "103075          Fixed\n",
       "Name: repair_status, Length: 99676, dtype: object"
      ]
     },
<<<<<<< HEAD
     "execution_count": 143,
=======
     "execution_count": 73,
>>>>>>> 27c223d9e5a175188b20e39dbab80ac857f6abf6
     "metadata": {},
     "output_type": "execute_result"
    }
   ],
   "source": [
    "wdf = wdf.drop(wdf[wdf['repair_status'] == 'Unknown'].index)\n",
    "wdf['repair_status']"
   ]
  },
  {
   "cell_type": "code",
<<<<<<< HEAD
   "execution_count": 144,
=======
   "execution_count": 74,
>>>>>>> 27c223d9e5a175188b20e39dbab80ac857f6abf6
   "metadata": {},
   "outputs": [
    {
     "data": {
      "text/plain": [
       "0         End of life\n",
       "2               Fixed\n",
       "3         End of life\n",
       "4         End of life\n",
       "5         End of life\n",
       "             ...     \n",
       "103068    End of life\n",
       "103071          Fixed\n",
       "103073          Fixed\n",
       "103074          Fixed\n",
       "103075          Fixed\n",
       "Name: repair_status, Length: 78728, dtype: object"
      ]
     },
<<<<<<< HEAD
     "execution_count": 144,
=======
     "execution_count": 74,
>>>>>>> 27c223d9e5a175188b20e39dbab80ac857f6abf6
     "metadata": {},
     "output_type": "execute_result"
    }
   ],
   "source": [
    "wdf = wdf.drop(wdf[wdf['repair_status'] == 'Repairable'].index)\n",
    "wdf['repair_status']"
   ]
  },
  {
   "cell_type": "code",
<<<<<<< HEAD
   "execution_count": 147,
=======
   "execution_count": 75,
>>>>>>> 27c223d9e5a175188b20e39dbab80ac857f6abf6
   "metadata": {},
   "outputs": [],
   "source": [
    "from sklearn.preprocessing import LabelEncoder, OneHotEncoder\n",
    "\n",
    "label_encoder = LabelEncoder()\n",
    "wdf['repair_status_encoded'] = label_encoder.fit_transform(wdf['repair_status'])\n",
    "\n",
    "# Use one-hot encoding for 'country' and 'product_category'\n",
    "data_encoded = pd.get_dummies(wdf, columns=['product_category'], drop_first=True)\n",
    "\n",
    "# Separate features and target variable\n",
    "X = data_encoded.drop('repair_status_encoded', axis=1)\n",
    "y = data_encoded['repair_status_encoded']"
   ]
  },
  {
   "cell_type": "code",
<<<<<<< HEAD
   "execution_count": 148,
=======
   "execution_count": 76,
>>>>>>> 27c223d9e5a175188b20e39dbab80ac857f6abf6
   "metadata": {},
   "outputs": [
    {
     "data": {
      "text/html": [
       "<div>\n",
       "<style scoped>\n",
       "    .dataframe tbody tr th:only-of-type {\n",
       "        vertical-align: middle;\n",
       "    }\n",
       "\n",
       "    .dataframe tbody tr th {\n",
       "        vertical-align: top;\n",
       "    }\n",
       "\n",
       "    .dataframe thead th {\n",
       "        text-align: right;\n",
       "    }\n",
       "</style>\n",
       "<table border=\"1\" class=\"dataframe\">\n",
       "  <thead>\n",
       "    <tr style=\"text-align: right;\">\n",
       "      <th></th>\n",
       "      <th>product_category_Battery/charger/adapter</th>\n",
       "      <th>product_category_Coffee maker</th>\n",
       "      <th>product_category_DSLR/video camera</th>\n",
       "      <th>product_category_Decorative or safety lights</th>\n",
       "      <th>product_category_Desktop computer</th>\n",
       "      <th>product_category_Digital compact camera</th>\n",
       "      <th>product_category_Fan</th>\n",
       "      <th>product_category_Flat screen</th>\n",
       "      <th>product_category_Food processor</th>\n",
       "      <th>product_category_Games console</th>\n",
       "      <th>...</th>\n",
       "      <th>product_category_Projector</th>\n",
       "      <th>product_category_Sewing machine</th>\n",
       "      <th>product_category_Small home electrical</th>\n",
       "      <th>product_category_Small kitchen item</th>\n",
       "      <th>product_category_TV and gaming-related accessories</th>\n",
       "      <th>product_category_Tablet</th>\n",
       "      <th>product_category_Toaster</th>\n",
       "      <th>product_category_Toy</th>\n",
       "      <th>product_category_Vacuum</th>\n",
       "      <th>product_category_Watch/clock</th>\n",
       "    </tr>\n",
       "  </thead>\n",
       "  <tbody>\n",
       "    <tr>\n",
       "      <th>0</th>\n",
       "      <td>0</td>\n",
       "      <td>1</td>\n",
       "      <td>0</td>\n",
       "      <td>0</td>\n",
       "      <td>0</td>\n",
       "      <td>0</td>\n",
       "      <td>0</td>\n",
       "      <td>0</td>\n",
       "      <td>0</td>\n",
       "      <td>0</td>\n",
       "      <td>...</td>\n",
       "      <td>0</td>\n",
       "      <td>0</td>\n",
       "      <td>0</td>\n",
       "      <td>0</td>\n",
       "      <td>0</td>\n",
       "      <td>0</td>\n",
       "      <td>0</td>\n",
       "      <td>0</td>\n",
       "      <td>0</td>\n",
       "      <td>0</td>\n",
       "    </tr>\n",
       "    <tr>\n",
       "      <th>2</th>\n",
       "      <td>0</td>\n",
       "      <td>0</td>\n",
       "      <td>0</td>\n",
       "      <td>0</td>\n",
       "      <td>0</td>\n",
       "      <td>0</td>\n",
       "      <td>0</td>\n",
       "      <td>0</td>\n",
       "      <td>0</td>\n",
       "      <td>0</td>\n",
       "      <td>...</td>\n",
       "      <td>0</td>\n",
       "      <td>0</td>\n",
       "      <td>0</td>\n",
       "      <td>0</td>\n",
       "      <td>0</td>\n",
       "      <td>0</td>\n",
       "      <td>0</td>\n",
       "      <td>0</td>\n",
       "      <td>0</td>\n",
       "      <td>0</td>\n",
       "    </tr>\n",
       "    <tr>\n",
       "      <th>3</th>\n",
       "      <td>0</td>\n",
       "      <td>0</td>\n",
       "      <td>0</td>\n",
       "      <td>0</td>\n",
       "      <td>0</td>\n",
       "      <td>0</td>\n",
       "      <td>0</td>\n",
       "      <td>0</td>\n",
       "      <td>0</td>\n",
       "      <td>0</td>\n",
       "      <td>...</td>\n",
       "      <td>0</td>\n",
       "      <td>0</td>\n",
       "      <td>0</td>\n",
       "      <td>0</td>\n",
       "      <td>0</td>\n",
       "      <td>0</td>\n",
       "      <td>0</td>\n",
       "      <td>0</td>\n",
       "      <td>0</td>\n",
       "      <td>0</td>\n",
       "    </tr>\n",
       "    <tr>\n",
       "      <th>4</th>\n",
       "      <td>0</td>\n",
       "      <td>0</td>\n",
       "      <td>0</td>\n",
       "      <td>0</td>\n",
       "      <td>0</td>\n",
       "      <td>0</td>\n",
       "      <td>0</td>\n",
       "      <td>0</td>\n",
       "      <td>0</td>\n",
       "      <td>0</td>\n",
       "      <td>...</td>\n",
       "      <td>0</td>\n",
       "      <td>0</td>\n",
       "      <td>0</td>\n",
       "      <td>0</td>\n",
       "      <td>0</td>\n",
       "      <td>0</td>\n",
       "      <td>0</td>\n",
       "      <td>0</td>\n",
       "      <td>0</td>\n",
       "      <td>0</td>\n",
       "    </tr>\n",
       "    <tr>\n",
       "      <th>5</th>\n",
       "      <td>0</td>\n",
       "      <td>0</td>\n",
       "      <td>0</td>\n",
       "      <td>0</td>\n",
       "      <td>0</td>\n",
       "      <td>0</td>\n",
       "      <td>0</td>\n",
       "      <td>0</td>\n",
       "      <td>0</td>\n",
       "      <td>0</td>\n",
       "      <td>...</td>\n",
       "      <td>0</td>\n",
       "      <td>0</td>\n",
       "      <td>0</td>\n",
       "      <td>0</td>\n",
       "      <td>0</td>\n",
       "      <td>0</td>\n",
       "      <td>0</td>\n",
       "      <td>0</td>\n",
       "      <td>0</td>\n",
       "      <td>0</td>\n",
       "    </tr>\n",
       "    <tr>\n",
       "      <th>...</th>\n",
       "      <td>...</td>\n",
       "      <td>...</td>\n",
       "      <td>...</td>\n",
       "      <td>...</td>\n",
       "      <td>...</td>\n",
       "      <td>...</td>\n",
       "      <td>...</td>\n",
       "      <td>...</td>\n",
       "      <td>...</td>\n",
       "      <td>...</td>\n",
       "      <td>...</td>\n",
       "      <td>...</td>\n",
       "      <td>...</td>\n",
       "      <td>...</td>\n",
       "      <td>...</td>\n",
       "      <td>...</td>\n",
       "      <td>...</td>\n",
       "      <td>...</td>\n",
       "      <td>...</td>\n",
       "      <td>...</td>\n",
       "      <td>...</td>\n",
       "    </tr>\n",
       "    <tr>\n",
       "      <th>103068</th>\n",
       "      <td>0</td>\n",
       "      <td>0</td>\n",
       "      <td>0</td>\n",
       "      <td>0</td>\n",
       "      <td>0</td>\n",
       "      <td>0</td>\n",
       "      <td>0</td>\n",
       "      <td>0</td>\n",
       "      <td>0</td>\n",
       "      <td>0</td>\n",
       "      <td>...</td>\n",
       "      <td>0</td>\n",
       "      <td>0</td>\n",
       "      <td>1</td>\n",
       "      <td>0</td>\n",
       "      <td>0</td>\n",
       "      <td>0</td>\n",
       "      <td>0</td>\n",
       "      <td>0</td>\n",
       "      <td>0</td>\n",
       "      <td>0</td>\n",
       "    </tr>\n",
       "    <tr>\n",
       "      <th>103071</th>\n",
       "      <td>0</td>\n",
       "      <td>0</td>\n",
       "      <td>0</td>\n",
       "      <td>0</td>\n",
       "      <td>0</td>\n",
       "      <td>0</td>\n",
       "      <td>0</td>\n",
       "      <td>0</td>\n",
       "      <td>0</td>\n",
       "      <td>0</td>\n",
       "      <td>...</td>\n",
       "      <td>0</td>\n",
       "      <td>0</td>\n",
       "      <td>1</td>\n",
       "      <td>0</td>\n",
       "      <td>0</td>\n",
       "      <td>0</td>\n",
       "      <td>0</td>\n",
       "      <td>0</td>\n",
       "      <td>0</td>\n",
       "      <td>0</td>\n",
       "    </tr>\n",
       "    <tr>\n",
       "      <th>103073</th>\n",
       "      <td>0</td>\n",
       "      <td>0</td>\n",
       "      <td>0</td>\n",
       "      <td>0</td>\n",
       "      <td>0</td>\n",
       "      <td>0</td>\n",
       "      <td>0</td>\n",
       "      <td>0</td>\n",
       "      <td>0</td>\n",
       "      <td>0</td>\n",
       "      <td>...</td>\n",
       "      <td>0</td>\n",
       "      <td>1</td>\n",
       "      <td>0</td>\n",
       "      <td>0</td>\n",
       "      <td>0</td>\n",
       "      <td>0</td>\n",
       "      <td>0</td>\n",
       "      <td>0</td>\n",
       "      <td>0</td>\n",
       "      <td>0</td>\n",
       "    </tr>\n",
       "    <tr>\n",
       "      <th>103074</th>\n",
       "      <td>0</td>\n",
       "      <td>0</td>\n",
       "      <td>0</td>\n",
       "      <td>0</td>\n",
       "      <td>0</td>\n",
       "      <td>0</td>\n",
       "      <td>0</td>\n",
       "      <td>0</td>\n",
       "      <td>0</td>\n",
       "      <td>0</td>\n",
       "      <td>...</td>\n",
       "      <td>0</td>\n",
       "      <td>1</td>\n",
       "      <td>0</td>\n",
       "      <td>0</td>\n",
       "      <td>0</td>\n",
       "      <td>0</td>\n",
       "      <td>0</td>\n",
       "      <td>0</td>\n",
       "      <td>0</td>\n",
       "      <td>0</td>\n",
       "    </tr>\n",
       "    <tr>\n",
       "      <th>103075</th>\n",
       "      <td>0</td>\n",
       "      <td>0</td>\n",
       "      <td>0</td>\n",
       "      <td>0</td>\n",
       "      <td>0</td>\n",
       "      <td>0</td>\n",
       "      <td>0</td>\n",
       "      <td>0</td>\n",
       "      <td>0</td>\n",
       "      <td>0</td>\n",
       "      <td>...</td>\n",
       "      <td>0</td>\n",
       "      <td>0</td>\n",
       "      <td>0</td>\n",
       "      <td>0</td>\n",
       "      <td>0</td>\n",
       "      <td>0</td>\n",
       "      <td>0</td>\n",
       "      <td>0</td>\n",
       "      <td>1</td>\n",
       "      <td>0</td>\n",
       "    </tr>\n",
       "  </tbody>\n",
       "</table>\n",
       "<p>78728 rows × 39 columns</p>\n",
       "</div>"
      ],
      "text/plain": [
       "        product_category_Battery/charger/adapter  \\\n",
       "0                                              0   \n",
       "2                                              0   \n",
       "3                                              0   \n",
       "4                                              0   \n",
       "5                                              0   \n",
       "...                                          ...   \n",
       "103068                                         0   \n",
       "103071                                         0   \n",
       "103073                                         0   \n",
       "103074                                         0   \n",
       "103075                                         0   \n",
       "\n",
       "        product_category_Coffee maker  product_category_DSLR/video camera  \\\n",
       "0                                   1                                   0   \n",
       "2                                   0                                   0   \n",
       "3                                   0                                   0   \n",
       "4                                   0                                   0   \n",
       "5                                   0                                   0   \n",
       "...                               ...                                 ...   \n",
       "103068                              0                                   0   \n",
       "103071                              0                                   0   \n",
       "103073                              0                                   0   \n",
       "103074                              0                                   0   \n",
       "103075                              0                                   0   \n",
       "\n",
       "        product_category_Decorative or safety lights  \\\n",
       "0                                                  0   \n",
       "2                                                  0   \n",
       "3                                                  0   \n",
       "4                                                  0   \n",
       "5                                                  0   \n",
       "...                                              ...   \n",
       "103068                                             0   \n",
       "103071                                             0   \n",
       "103073                                             0   \n",
       "103074                                             0   \n",
       "103075                                             0   \n",
       "\n",
       "        product_category_Desktop computer  \\\n",
       "0                                       0   \n",
       "2                                       0   \n",
       "3                                       0   \n",
       "4                                       0   \n",
       "5                                       0   \n",
       "...                                   ...   \n",
       "103068                                  0   \n",
       "103071                                  0   \n",
       "103073                                  0   \n",
       "103074                                  0   \n",
       "103075                                  0   \n",
       "\n",
       "        product_category_Digital compact camera  product_category_Fan  \\\n",
       "0                                             0                     0   \n",
       "2                                             0                     0   \n",
       "3                                             0                     0   \n",
       "4                                             0                     0   \n",
       "5                                             0                     0   \n",
       "...                                         ...                   ...   \n",
       "103068                                        0                     0   \n",
       "103071                                        0                     0   \n",
       "103073                                        0                     0   \n",
       "103074                                        0                     0   \n",
       "103075                                        0                     0   \n",
       "\n",
       "        product_category_Flat screen  product_category_Food processor  \\\n",
       "0                                  0                                0   \n",
       "2                                  0                                0   \n",
       "3                                  0                                0   \n",
       "4                                  0                                0   \n",
       "5                                  0                                0   \n",
       "...                              ...                              ...   \n",
       "103068                             0                                0   \n",
       "103071                             0                                0   \n",
       "103073                             0                                0   \n",
       "103074                             0                                0   \n",
       "103075                             0                                0   \n",
       "\n",
       "        product_category_Games console  ...  product_category_Projector  \\\n",
       "0                                    0  ...                           0   \n",
       "2                                    0  ...                           0   \n",
       "3                                    0  ...                           0   \n",
       "4                                    0  ...                           0   \n",
       "5                                    0  ...                           0   \n",
       "...                                ...  ...                         ...   \n",
       "103068                               0  ...                           0   \n",
       "103071                               0  ...                           0   \n",
       "103073                               0  ...                           0   \n",
       "103074                               0  ...                           0   \n",
       "103075                               0  ...                           0   \n",
       "\n",
       "        product_category_Sewing machine  \\\n",
       "0                                     0   \n",
       "2                                     0   \n",
       "3                                     0   \n",
       "4                                     0   \n",
       "5                                     0   \n",
       "...                                 ...   \n",
       "103068                                0   \n",
       "103071                                0   \n",
       "103073                                1   \n",
       "103074                                1   \n",
       "103075                                0   \n",
       "\n",
       "        product_category_Small home electrical  \\\n",
       "0                                            0   \n",
       "2                                            0   \n",
       "3                                            0   \n",
       "4                                            0   \n",
       "5                                            0   \n",
       "...                                        ...   \n",
       "103068                                       1   \n",
       "103071                                       1   \n",
       "103073                                       0   \n",
       "103074                                       0   \n",
       "103075                                       0   \n",
       "\n",
       "        product_category_Small kitchen item  \\\n",
       "0                                         0   \n",
       "2                                         0   \n",
       "3                                         0   \n",
       "4                                         0   \n",
       "5                                         0   \n",
       "...                                     ...   \n",
       "103068                                    0   \n",
       "103071                                    0   \n",
       "103073                                    0   \n",
       "103074                                    0   \n",
       "103075                                    0   \n",
       "\n",
       "        product_category_TV and gaming-related accessories  \\\n",
       "0                                                       0    \n",
       "2                                                       0    \n",
       "3                                                       0    \n",
       "4                                                       0    \n",
       "5                                                       0    \n",
       "...                                                   ...    \n",
       "103068                                                  0    \n",
       "103071                                                  0    \n",
       "103073                                                  0    \n",
       "103074                                                  0    \n",
       "103075                                                  0    \n",
       "\n",
       "        product_category_Tablet  product_category_Toaster  \\\n",
       "0                             0                         0   \n",
       "2                             0                         0   \n",
       "3                             0                         0   \n",
       "4                             0                         0   \n",
       "5                             0                         0   \n",
       "...                         ...                       ...   \n",
       "103068                        0                         0   \n",
       "103071                        0                         0   \n",
       "103073                        0                         0   \n",
       "103074                        0                         0   \n",
       "103075                        0                         0   \n",
       "\n",
       "        product_category_Toy  product_category_Vacuum  \\\n",
       "0                          0                        0   \n",
       "2                          0                        0   \n",
       "3                          0                        0   \n",
       "4                          0                        0   \n",
       "5                          0                        0   \n",
       "...                      ...                      ...   \n",
       "103068                     0                        0   \n",
       "103071                     0                        0   \n",
       "103073                     0                        0   \n",
       "103074                     0                        0   \n",
       "103075                     0                        1   \n",
       "\n",
       "        product_category_Watch/clock  \n",
       "0                                  0  \n",
       "2                                  0  \n",
       "3                                  0  \n",
       "4                                  0  \n",
       "5                                  0  \n",
       "...                              ...  \n",
       "103068                             0  \n",
       "103071                             0  \n",
       "103073                             0  \n",
       "103074                             0  \n",
       "103075                             0  \n",
       "\n",
       "[78728 rows x 39 columns]"
      ]
     },
<<<<<<< HEAD
     "execution_count": 148,
=======
     "execution_count": 76,
>>>>>>> 27c223d9e5a175188b20e39dbab80ac857f6abf6
     "metadata": {},
     "output_type": "execute_result"
    }
   ],
   "source": [
    "X = X[X.columns[~X.columns.isin(['repair_status'])]]\n",
    "X"
   ]
  },
  {
   "cell_type": "code",
<<<<<<< HEAD
   "execution_count": 149,
=======
   "execution_count": 77,
>>>>>>> 27c223d9e5a175188b20e39dbab80ac857f6abf6
   "metadata": {},
   "outputs": [
    {
     "data": {
      "text/plain": [
       "0         0\n",
       "2         1\n",
       "3         0\n",
       "4         0\n",
       "5         0\n",
       "         ..\n",
       "103068    0\n",
       "103071    1\n",
       "103073    1\n",
       "103074    1\n",
       "103075    1\n",
       "Name: repair_status_encoded, Length: 78728, dtype: int32"
      ]
     },
<<<<<<< HEAD
     "execution_count": 149,
=======
     "execution_count": 77,
>>>>>>> 27c223d9e5a175188b20e39dbab80ac857f6abf6
     "metadata": {},
     "output_type": "execute_result"
    }
   ],
   "source": [
    "y"
   ]
  },
  {
<<<<<<< HEAD
   "cell_type": "markdown",
   "metadata": {},
   "source": [
    "## modeling results {\"Modeling Results\"}"
   ]
  },
  {
   "cell_type": "code",
   "execution_count": 150,
=======
   "cell_type": "code",
   "execution_count": 78,
>>>>>>> 27c223d9e5a175188b20e39dbab80ac857f6abf6
   "metadata": {},
   "outputs": [],
   "source": [
    "from sklearn.model_selection import train_test_split\n",
    "from sklearn.tree import DecisionTreeClassifier\n",
    "from sklearn.metrics import accuracy_score\n",
    "from sklearn.metrics import confusion_matrix, ConfusionMatrixDisplay"
   ]
  },
  {
   "cell_type": "code",
<<<<<<< HEAD
   "execution_count": 151,
=======
   "execution_count": 79,
>>>>>>> 27c223d9e5a175188b20e39dbab80ac857f6abf6
   "metadata": {},
   "outputs": [
    {
     "name": "stdout",
     "output_type": "stream",
     "text": [
      "Accuracy: 0.6909691350184174\n"
     ]
    }
   ],
   "source": [
    "X_train, X_test, y_train, y_test = train_test_split(X, y, test_size=0.1, random_state=42)\n",
    "\n",
    "# Create and fit the decision tree model\n",
    "clf = DecisionTreeClassifier(random_state=42)\n",
    "clf.fit(X_train, y_train)\n",
    "\n",
    "# Make predictions\n",
    "y_pred = clf.predict(X_test)\n",
    "\n",
    "# Calculate accuracy\n",
    "accuracy = accuracy_score(y_test, y_pred)\n",
    "print(\"Accuracy:\", accuracy)"
   ]
  },
  {
   "cell_type": "code",
<<<<<<< HEAD
   "execution_count": 152,
=======
   "execution_count": 80,
>>>>>>> 27c223d9e5a175188b20e39dbab80ac857f6abf6
   "metadata": {},
   "outputs": [
    {
     "data": {
      "text/html": [
<<<<<<< HEAD
       "<style>#sk-container-id-4 {color: black;}#sk-container-id-4 pre{padding: 0;}#sk-container-id-4 div.sk-toggleable {background-color: white;}#sk-container-id-4 label.sk-toggleable__label {cursor: pointer;display: block;width: 100%;margin-bottom: 0;padding: 0.3em;box-sizing: border-box;text-align: center;}#sk-container-id-4 label.sk-toggleable__label-arrow:before {content: \"▸\";float: left;margin-right: 0.25em;color: #696969;}#sk-container-id-4 label.sk-toggleable__label-arrow:hover:before {color: black;}#sk-container-id-4 div.sk-estimator:hover label.sk-toggleable__label-arrow:before {color: black;}#sk-container-id-4 div.sk-toggleable__content {max-height: 0;max-width: 0;overflow: hidden;text-align: left;background-color: #f0f8ff;}#sk-container-id-4 div.sk-toggleable__content pre {margin: 0.2em;color: black;border-radius: 0.25em;background-color: #f0f8ff;}#sk-container-id-4 input.sk-toggleable__control:checked~div.sk-toggleable__content {max-height: 200px;max-width: 100%;overflow: auto;}#sk-container-id-4 input.sk-toggleable__control:checked~label.sk-toggleable__label-arrow:before {content: \"▾\";}#sk-container-id-4 div.sk-estimator input.sk-toggleable__control:checked~label.sk-toggleable__label {background-color: #d4ebff;}#sk-container-id-4 div.sk-label input.sk-toggleable__control:checked~label.sk-toggleable__label {background-color: #d4ebff;}#sk-container-id-4 input.sk-hidden--visually {border: 0;clip: rect(1px 1px 1px 1px);clip: rect(1px, 1px, 1px, 1px);height: 1px;margin: -1px;overflow: hidden;padding: 0;position: absolute;width: 1px;}#sk-container-id-4 div.sk-estimator {font-family: monospace;background-color: #f0f8ff;border: 1px dotted black;border-radius: 0.25em;box-sizing: border-box;margin-bottom: 0.5em;}#sk-container-id-4 div.sk-estimator:hover {background-color: #d4ebff;}#sk-container-id-4 div.sk-parallel-item::after {content: \"\";width: 100%;border-bottom: 1px solid gray;flex-grow: 1;}#sk-container-id-4 div.sk-label:hover label.sk-toggleable__label {background-color: #d4ebff;}#sk-container-id-4 div.sk-serial::before {content: \"\";position: absolute;border-left: 1px solid gray;box-sizing: border-box;top: 0;bottom: 0;left: 50%;z-index: 0;}#sk-container-id-4 div.sk-serial {display: flex;flex-direction: column;align-items: center;background-color: white;padding-right: 0.2em;padding-left: 0.2em;position: relative;}#sk-container-id-4 div.sk-item {position: relative;z-index: 1;}#sk-container-id-4 div.sk-parallel {display: flex;align-items: stretch;justify-content: center;background-color: white;position: relative;}#sk-container-id-4 div.sk-item::before, #sk-container-id-4 div.sk-parallel-item::before {content: \"\";position: absolute;border-left: 1px solid gray;box-sizing: border-box;top: 0;bottom: 0;left: 50%;z-index: -1;}#sk-container-id-4 div.sk-parallel-item {display: flex;flex-direction: column;z-index: 1;position: relative;background-color: white;}#sk-container-id-4 div.sk-parallel-item:first-child::after {align-self: flex-end;width: 50%;}#sk-container-id-4 div.sk-parallel-item:last-child::after {align-self: flex-start;width: 50%;}#sk-container-id-4 div.sk-parallel-item:only-child::after {width: 0;}#sk-container-id-4 div.sk-dashed-wrapped {border: 1px dashed gray;margin: 0 0.4em 0.5em 0.4em;box-sizing: border-box;padding-bottom: 0.4em;background-color: white;}#sk-container-id-4 div.sk-label label {font-family: monospace;font-weight: bold;display: inline-block;line-height: 1.2em;}#sk-container-id-4 div.sk-label-container {text-align: center;}#sk-container-id-4 div.sk-container {/* jupyter's `normalize.less` sets `[hidden] { display: none; }` but bootstrap.min.css set `[hidden] { display: none !important; }` so we also need the `!important` here to be able to override the default hidden behavior on the sphinx rendered scikit-learn.org. See: https://github.com/scikit-learn/scikit-learn/issues/21755 */display: inline-block !important;position: relative;}#sk-container-id-4 div.sk-text-repr-fallback {display: none;}</style><div id=\"sk-container-id-4\" class=\"sk-top-container\"><div class=\"sk-text-repr-fallback\"><pre>DecisionTreeClassifier()</pre><b>In a Jupyter environment, please rerun this cell to show the HTML representation or trust the notebook. <br />On GitHub, the HTML representation is unable to render, please try loading this page with nbviewer.org.</b></div><div class=\"sk-container\" hidden><div class=\"sk-item\"><div class=\"sk-estimator sk-toggleable\"><input class=\"sk-toggleable__control sk-hidden--visually\" id=\"sk-estimator-id-4\" type=\"checkbox\" checked><label for=\"sk-estimator-id-4\" class=\"sk-toggleable__label sk-toggleable__label-arrow\">DecisionTreeClassifier</label><div class=\"sk-toggleable__content\"><pre>DecisionTreeClassifier()</pre></div></div></div></div></div>"
=======
       "<style>#sk-container-id-1 {color: black;}#sk-container-id-1 pre{padding: 0;}#sk-container-id-1 div.sk-toggleable {background-color: white;}#sk-container-id-1 label.sk-toggleable__label {cursor: pointer;display: block;width: 100%;margin-bottom: 0;padding: 0.3em;box-sizing: border-box;text-align: center;}#sk-container-id-1 label.sk-toggleable__label-arrow:before {content: \"▸\";float: left;margin-right: 0.25em;color: #696969;}#sk-container-id-1 label.sk-toggleable__label-arrow:hover:before {color: black;}#sk-container-id-1 div.sk-estimator:hover label.sk-toggleable__label-arrow:before {color: black;}#sk-container-id-1 div.sk-toggleable__content {max-height: 0;max-width: 0;overflow: hidden;text-align: left;background-color: #f0f8ff;}#sk-container-id-1 div.sk-toggleable__content pre {margin: 0.2em;color: black;border-radius: 0.25em;background-color: #f0f8ff;}#sk-container-id-1 input.sk-toggleable__control:checked~div.sk-toggleable__content {max-height: 200px;max-width: 100%;overflow: auto;}#sk-container-id-1 input.sk-toggleable__control:checked~label.sk-toggleable__label-arrow:before {content: \"▾\";}#sk-container-id-1 div.sk-estimator input.sk-toggleable__control:checked~label.sk-toggleable__label {background-color: #d4ebff;}#sk-container-id-1 div.sk-label input.sk-toggleable__control:checked~label.sk-toggleable__label {background-color: #d4ebff;}#sk-container-id-1 input.sk-hidden--visually {border: 0;clip: rect(1px 1px 1px 1px);clip: rect(1px, 1px, 1px, 1px);height: 1px;margin: -1px;overflow: hidden;padding: 0;position: absolute;width: 1px;}#sk-container-id-1 div.sk-estimator {font-family: monospace;background-color: #f0f8ff;border: 1px dotted black;border-radius: 0.25em;box-sizing: border-box;margin-bottom: 0.5em;}#sk-container-id-1 div.sk-estimator:hover {background-color: #d4ebff;}#sk-container-id-1 div.sk-parallel-item::after {content: \"\";width: 100%;border-bottom: 1px solid gray;flex-grow: 1;}#sk-container-id-1 div.sk-label:hover label.sk-toggleable__label {background-color: #d4ebff;}#sk-container-id-1 div.sk-serial::before {content: \"\";position: absolute;border-left: 1px solid gray;box-sizing: border-box;top: 0;bottom: 0;left: 50%;z-index: 0;}#sk-container-id-1 div.sk-serial {display: flex;flex-direction: column;align-items: center;background-color: white;padding-right: 0.2em;padding-left: 0.2em;position: relative;}#sk-container-id-1 div.sk-item {position: relative;z-index: 1;}#sk-container-id-1 div.sk-parallel {display: flex;align-items: stretch;justify-content: center;background-color: white;position: relative;}#sk-container-id-1 div.sk-item::before, #sk-container-id-1 div.sk-parallel-item::before {content: \"\";position: absolute;border-left: 1px solid gray;box-sizing: border-box;top: 0;bottom: 0;left: 50%;z-index: -1;}#sk-container-id-1 div.sk-parallel-item {display: flex;flex-direction: column;z-index: 1;position: relative;background-color: white;}#sk-container-id-1 div.sk-parallel-item:first-child::after {align-self: flex-end;width: 50%;}#sk-container-id-1 div.sk-parallel-item:last-child::after {align-self: flex-start;width: 50%;}#sk-container-id-1 div.sk-parallel-item:only-child::after {width: 0;}#sk-container-id-1 div.sk-dashed-wrapped {border: 1px dashed gray;margin: 0 0.4em 0.5em 0.4em;box-sizing: border-box;padding-bottom: 0.4em;background-color: white;}#sk-container-id-1 div.sk-label label {font-family: monospace;font-weight: bold;display: inline-block;line-height: 1.2em;}#sk-container-id-1 div.sk-label-container {text-align: center;}#sk-container-id-1 div.sk-container {/* jupyter's `normalize.less` sets `[hidden] { display: none; }` but bootstrap.min.css set `[hidden] { display: none !important; }` so we also need the `!important` here to be able to override the default hidden behavior on the sphinx rendered scikit-learn.org. See: https://github.com/scikit-learn/scikit-learn/issues/21755 */display: inline-block !important;position: relative;}#sk-container-id-1 div.sk-text-repr-fallback {display: none;}</style><div id=\"sk-container-id-1\" class=\"sk-top-container\"><div class=\"sk-text-repr-fallback\"><pre>DecisionTreeClassifier()</pre><b>In a Jupyter environment, please rerun this cell to show the HTML representation or trust the notebook. <br />On GitHub, the HTML representation is unable to render, please try loading this page with nbviewer.org.</b></div><div class=\"sk-container\" hidden><div class=\"sk-item\"><div class=\"sk-estimator sk-toggleable\"><input class=\"sk-toggleable__control sk-hidden--visually\" id=\"sk-estimator-id-1\" type=\"checkbox\" checked><label for=\"sk-estimator-id-1\" class=\"sk-toggleable__label sk-toggleable__label-arrow\">DecisionTreeClassifier</label><div class=\"sk-toggleable__content\"><pre>DecisionTreeClassifier()</pre></div></div></div></div></div>"
>>>>>>> 27c223d9e5a175188b20e39dbab80ac857f6abf6
      ],
      "text/plain": [
       "DecisionTreeClassifier()"
      ]
     },
<<<<<<< HEAD
     "execution_count": 152,
=======
     "execution_count": 80,
>>>>>>> 27c223d9e5a175188b20e39dbab80ac857f6abf6
     "metadata": {},
     "output_type": "execute_result"
    }
   ],
   "source": [
    "from sklearn.tree import DecisionTreeClassifier\n",
    "classifier = DecisionTreeClassifier()\n",
    "classifier.fit(X_train, y_train)"
   ]
  },
  {
   "cell_type": "code",
<<<<<<< HEAD
   "execution_count": 153,
=======
   "execution_count": 81,
>>>>>>> 27c223d9e5a175188b20e39dbab80ac857f6abf6
   "metadata": {},
   "outputs": [],
   "source": [
    "y_pred = classifier.predict(X_test)"
   ]
  },
  {
   "cell_type": "code",
<<<<<<< HEAD
   "execution_count": 154,
=======
   "execution_count": 82,
>>>>>>> 27c223d9e5a175188b20e39dbab80ac857f6abf6
   "metadata": {},
   "outputs": [
    {
     "name": "stdout",
     "output_type": "stream",
     "text": [
      "[[  87 2331]\n",
      " [ 102 5353]]\n",
      "              precision    recall  f1-score   support\n",
      "\n",
      "           0       0.46      0.04      0.07      2418\n",
      "           1       0.70      0.98      0.81      5455\n",
      "\n",
      "    accuracy                           0.69      7873\n",
      "   macro avg       0.58      0.51      0.44      7873\n",
      "weighted avg       0.62      0.69      0.59      7873\n",
      "\n"
     ]
    }
   ],
   "source": [
    "from sklearn.metrics import classification_report, confusion_matrix\n",
    "print(confusion_matrix(y_test, y_pred))\n",
    "print(classification_report(y_test, y_pred))"
   ]
  },
  {
   "cell_type": "code",
<<<<<<< HEAD
   "execution_count": 160,
=======
   "execution_count": 83,
>>>>>>> 27c223d9e5a175188b20e39dbab80ac857f6abf6
   "metadata": {},
   "outputs": [
    {
     "data": {
      "text/plain": [
<<<<<<< HEAD
       "<sklearn.metrics._plot.confusion_matrix.ConfusionMatrixDisplay at 0x22b8f5af220>"
      ]
     },
     "execution_count": 160,
=======
       "<sklearn.metrics._plot.confusion_matrix.ConfusionMatrixDisplay at 0x22b84cb3f40>"
      ]
     },
     "execution_count": 83,
>>>>>>> 27c223d9e5a175188b20e39dbab80ac857f6abf6
     "metadata": {},
     "output_type": "execute_result"
    },
    {
     "data": {
<<<<<<< HEAD
      "image/png": "iVBORw0KGgoAAAANSUhEUgAAAg0AAAG1CAYAAAB6accRAAAABHNCSVQICAgIfAhkiAAAAAlwSFlzAAAPYQAAD2EBqD+naQAAADh0RVh0U29mdHdhcmUAbWF0cGxvdGxpYiB2ZXJzaW9uMy4yLjIsIGh0dHA6Ly9tYXRwbG90bGliLm9yZy+WH4yJAAAgAElEQVR4nOzde3hU5bn38e+QEyEmQ0JI4mhAVIwc1UYKAVugIAEN8bBbtLEpWBpoUWLKQau+KlohHoFuqYpsdqGAxe5aPNYIqMVSCEgw2gCiaIQEEhIlTEgISZhZ7x/IokNAZ1gTAqzf57rWdTlr3c+aZ6Im99zPYTkMwzAQERER+Q7t2roDIiIicnZQ0iAiIiJ+UdIgIiIiflHSICIiIn5R0iAiIiJ+UdIgIiIiflHSICIiIn5R0iAiIiJ+UdIgIiIiflHSICIiIn5R0iAiItIK3n//fUaPHo3L5cLhcPDKK6+0iNm2bRuZmZk4nU6io6MZMGAAu3btMq83NjYyefJk4uPjiYqKIjMzk/Lycp971NTUkJ2djdPpxOl0kp2dzf79+31idu3axejRo4mKiiI+Pp7c3FyampoC/kxKGkRERFpBfX09V1xxBfPmzTvh9c8//5xrrrmGyy+/nH/84x989NFHPPDAA7Rv396MycvLY8WKFSxfvpy1a9dSV1dHRkYGHo/HjMnKyqK4uJiCggIKCgooLi4mOzvbvO7xeLj++uupr69n7dq1LF++nJdffpmpU6cG/JkcZ/MDq7xeL3v27CE6OhqHw9HW3RERkQAZhsGBAwdwuVy0a9d632MPHTp0St+sjxceHu7zR91fDoeDFStWcOONN5rnbr31VsLCwliyZMkJ27jdbjp37sySJUu45ZZbANizZw/Jycn8/e9/Jz09nW3bttGzZ08KCwvp378/AIWFhaSlpfHJJ5+QkpLCW2+9RUZGBmVlZbhcLgCWL1/OuHHjqKqqIiYmxv8PYpzFysrKDECHDh06dJzlR1lZWav9rWhoaDCSEkKC0s+kpCRj7969htvtNo9Dhw59Zx8AY8WKFeZrj8djnHfeecYjjzxijBgxwujcubPx/e9/3yfmnXfeMQBj3759Pvfq27ev8eCDDxqGYRgLFy40nE5ni/dzOp3G//7v/xqGYRgPPPCA0bdvX5/r+/btMwDj3Xff9f8HaRhGKGex6OhoAK7hOkIJa+PeiLSOst/2b+suiLQab+MhSuc8Yv4+bw1NTU1UVnnYWXQRMdGnXs2oPeCla+qXJCYm+px/6KGHmDFjRkD3qqqqoq6ujscee4xHH32Uxx9/nIKCAm6++Wbee+89Bg8eTGVlJeHh4cTGxvq0TUxMpLKyEoDKykoSEhJa3D8hIcEn5vg+x8bGEh4ebsb466xOGo4OSYQSRqhDSYOcm0IiAi+FipxtTscQ83nRDs6LPvX38XKkbVlZmU9JPyIiIvB7eb0A3HDDDfzmN78B4Morr2TdunU8//zzDB48+KRtDcPw+Xmd6Gd3KjH+0ERIERGRAMTExPgcp5I0xMfHExoaSs+ePX3O9+jRw1w9kZSURFNTEzU1NT4xVVVVZuUgKSmJvXv3trh/dXW1T8zxFYWamhqam5tbVCC+i5IGERGxBY/htXwES3h4OP369WP79u0+5z/99FO6du0KQGpqKmFhYaxatcq8XlFRQUlJCQMHDgQgLS0Nt9vNxo0bzZgNGzbgdrt9YkpKSqioqDBjVq5cSUREBKmpqQH1+6wenhAREfGXFwMvhqX2gairq2PHjh3m69LSUoqLi4mLi6NLly5Mnz6dW265hR/+8IcMHTqUgoICXn/9df7xj38A4HQ6GT9+PFOnTqVTp07ExcUxbdo0+vTpw/Dhw4EjlYmRI0eSk5PD/PnzAZgwYQIZGRmkpKQAMGLECHr27El2djZPPvkk+/btY9q0aeTk5AS2cgIlDSIiYhNevFipFQTaetOmTQwdOtR8PWXKFADGjh3LokWLuOmmm3j++efJz88nNzeXlJQUXn75Za655hqzzZw5cwgNDWXMmDE0NDQwbNgwFi1aREhIiBmzbNkycnNzGTFiBACZmZk+e0OEhITw5ptvMmnSJAYNGkRkZCRZWVk89dRTAf8Mzup9Gmpra3E6nQzhBk2ElHPWrgcHtnUXRFqNp/EQnz92H263O+Bvvf46+rdiz/YLLa+ecKWUt2pfz3SqNIiIiC14DAOPhe/JVtqeK5Q0iIiILZzuOQ3nIq2eEBEREb+o0iAiIrbgxcCjSoMlShpERMQWNDxhnYYnRERExC+qNIiIiC1o9YR1ShpERMQWvN8cVtrbnYYnRERExC+qNIiIiC14LK6esNL2XKGkQUREbMFjHDmstLc7JQ0iImILmtNgneY0iIiIiF9UaRAREVvw4sCDw1J7u1PSICIituA1jhxW2tudhidERETEL6o0iIiILXgsDk9YaXuuUNIgIiK2oKTBOg1PiIiIiF9UaRAREVvwGg68hoXVExbaniuUNIiIiC1oeMI6JQ0iImILHtrhsTAq7wliX85WmtMgIiIiflGlQUREbMGwOKfB0JwGJQ0iImIPmtNgnYYnRERExC+qNIiIiC14jHZ4DAsTIfXsCSUNIiJiD14ceC0U2L0oa9DwhIiIiPhFlQYREbEFTYS0TkmDiIjYgvU5DRqe0PCEiIiI+EWVBhERsYUjEyEtPLBKwxNKGkRExB68Fp89odUTShpERMQmNKfBOs1pEBEREb8oaRAREVvw0s7yEYj333+f0aNH43K5cDgcvPLKKyeNnThxIg6Hg7lz5/qcb2xsZPLkycTHxxMVFUVmZibl5eU+MTU1NWRnZ+N0OnE6nWRnZ7N//36fmF27djF69GiioqKIj48nNzeXpqamgD4PKGkQERGb8BgOy0cg6uvrueKKK5g3b963xr3yyits2LABl8vV4lpeXh4rVqxg+fLlrF27lrq6OjIyMvB4PGZMVlYWxcXFFBQUUFBQQHFxMdnZ2cc+t8fD9ddfT319PWvXrmX58uW8/PLLTJ06NaDPA5rTICIi0ipGjRrFqFGjvjVm9+7d3Hnnnbz99ttcf/31PtfcbjcLFy5kyZIlDB8+HIClS5eSnJzM6tWrSU9PZ9u2bRQUFFBYWEj//v0BWLBgAWlpaWzfvp2UlBRWrlzJ1q1bKSsrMxOTp59+mnHjxjFz5kxiYmL8/kyqNIiIiC14vlk9YeUAqK2t9TkaGxtPqT9er5fs7GymT59Or169WlwvKiqiubmZESNGmOdcLhe9e/dm3bp1AKxfvx6n02kmDAADBgzA6XT6xPTu3dunkpGenk5jYyNFRUUB9VlJg4iI2ILXaGf5AEhOTjbnDzidTvLz80+pP48//jihoaHk5uae8HplZSXh4eHExsb6nE9MTKSystKMSUhIaNE2ISHBJyYxMdHnemxsLOHh4WaMvzQ8ISIiEoCysjKfkn5ERETA9ygqKuL3v/89mzdvxuEIbK6EYRg+bU7U/lRi/KFKg4iI2EKwhidiYmJ8jlNJGv75z39SVVVFly5dCA0NJTQ0lJ07dzJ16lQuuugiAJKSkmhqaqKmpsanbVVVlVk5SEpKYu/evS3uX11d7RNzfEWhpqaG5ubmFhWI76KkQUREbMGLtRUU3iD2JTs7m48//pji4mLzcLlcTJ8+nbfffhuA1NRUwsLCWLVqldmuoqKCkpISBg4cCEBaWhput5uNGzeaMRs2bMDtdvvElJSUUFFRYcasXLmSiIgIUlNTA+q3hidERERaQV1dHTt27DBfl5aWUlxcTFxcHF26dKFTp04+8WFhYSQlJZGSkgKA0+lk/PjxTJ06lU6dOhEXF8e0adPo06ePuZqiR48ejBw5kpycHObPnw/AhAkTyMjIMO8zYsQIevbsSXZ2Nk8++ST79u1j2rRp5OTkBLRyApQ0iIiITZzKBk3Htw/Epk2bGDp0qPl6ypQpAIwdO5ZFixb5dY85c+YQGhrKmDFjaGhoYNiwYSxatIiQkBAzZtmyZeTm5pqrLDIzM332hggJCeHNN99k0qRJDBo0iMjISLKysnjqqacC+jwADsM4ezfTrq2txel0MoQbCHWEtXV3RFrFrgcHtnUXRFqNp/EQnz92H263O+Bvvf46+rdiXlF/Is879e/KDXWHuTN1Q6v29UynSoOIiNiCHo1tnSZCioiIiF9UaRAREVuw/mhsfc9W0iAiIrbwn3stnGp7u9NPQERERPyiSoOIiNiC13DgDfDx1se3tzslDSIiYgtei8MTVvZ4OFfoJyAiIiJ+UaVBRERs4T8fb32q7e1OSYOIiNiCBwceCxs0WWl7rlDaJCIiIn5RpUFERGxBwxPWKWkQERFb8GBtiMETvK6ctZQ0iIiILajSYJ1+AiIiIuIXVRpERMQW9MAq65Q0iIiILRg48FqY02BoyaWGJ0RERMQ/qjSIiIgtaHjCOiUNIiJiC3rKpXVKm0RERMQvqjSIiIgteCw+GttK23OFkgYREbEFDU9Yp7RJRERE/KJKg4iI2IKXdngtfFe20vZcoaRBRERswWM48FgYYrDS9lyhpEFERGxBcxqsU61FRERE/KJKg4iI2IJh8dHYhnaEVNIgIiL24MGBx8JDp6y0PVcobRIRERG/qNIgIiK24DWsTWb0GkHszFlKSYPN3XLnXgZd5yb50kaaDrVj66YOLJx5PuWft/eJS770EOP/XwV9B9ThaAc7t7dn5q+6Ur07HIAn/rqDKwbW+7T5x6sdyf9119P2WUQAVt+2lAuiD7Q4/2JJL3639oeAwR1Xb2JMj63ERDTycVUiv/vnD9hRE3eCuxnMv+5NftiljDsLRvLOl918rg7uspNfp24ipdPXNDSHsanifHJXjmydDyaWeS3OabDS9lyhpMHm+qbV8/qieD4t7kBIqMG4eyqY9ecvyBmcQmNDCADnd21k9is7KFgex5KnEqmvDaFL90aaDvlm7H9fGsefnkwyXzce0v9gcvr95OX/IsRx7Cth97h9/O/o1yn44hIAfnllMeP6fsR97/2IL/c7+VXqZhZmvM6o5T/lYHO4z73G9v0YTjKOfW23z3lk8BrmbuzPht0XAAaXddrXWh9L5IzQ5r/Vn332Wbp160b79u1JTU3ln//8Z1t3yVbuv+1iVv0ljp2ftueLrZE8/ZsuJF7YTPe+DWbMuN9WsvHdGBY+6uLzkg5U7opg4zsxuL8O87lXY0M7aqrDzOPggZDT/XFEqDkUyVcNHcxjSNcv2emO4YM9LsDg530+Zv7mVFaVXsxnNZ347bs/on3oYTIu/cznPimdvmJs34+4/72hLd4jxOHlvkH/4qnCNF7a2osv3R350h3Lym8SEzkzeXFYPuyuTZOGl156iby8PO6//34+/PBDfvCDHzBq1Ch27drVlt2ytagYDwAH9h/5g+9wGHx/WC27v4hg5ouf89LHW/j9G5+RNtLdou3Qm2v4S0kJL7z3CTkP7iEyynNa+y5yvLB2HkZ3/4y/fXI54ODC6AN0jjrIv8ouNGOavSF8sMfFVUmV5rn2oc08NWw1j679AV81dGhx356dq0k6rx6v4eDlH/8f72cvZv51b3BprCoNZ7KjO0JaOeyuTZOG2bNnM378eH75y1/So0cP5s6dS3JyMs8991xbdsvGDCbM2EPJhih2bo8EoGP8YTqc5+WWO6vY9F4M9/70Yv5VEMOD//MlfQbUmS3f+1ssj03qyvT/uoRlcxO55jo3Dy78so0+h8gRw7qVEh3RyIrtlwMQ3+EgQItE4OuGSOI7HKuu/XbgOor3JvLucXMYjkqOrgXgzqs/4Pmi7/Grt66jtjGCP2W+ijPiUGt8FDkLvf/++4wePRqXy4XD4eCVV14xrzU3N3PPPffQp08foqKicLlc/PznP2fPnj0+92hsbGTy5MnEx8cTFRVFZmYm5eXlPjE1NTVkZ2fjdDpxOp1kZ2ezf/9+n5hdu3YxevRooqKiiI+PJzc3l6ampoA/U5slDU1NTRQVFTFixAif8yNGjGDdunUnbNPY2Ehtba3PIcFzx6zddOvRQP6kLuY5xzf/hax/O4YVCzrzxZZI/jIvkQ2rY7j+51+bcW+92IkP/xnNzu2RrHk1lt/ldOV7P6zj0j4HT/fHEDH91+Wf8M9dXag+GPWtcQ4HGN9MgxjatZQBF+wm/1/XfEv8keDnN6eyqvQStn7Vmfve+xEGkH7x58HqvgTZ0YmQVo5A1NfXc8UVVzBv3rwW1w4ePMjmzZt54IEH2Lx5M3/729/49NNPyczM9InLy8tjxYoVLF++nLVr11JXV0dGRgYez7FKblZWFsXFxRQUFFBQUEBxcTHZ2dnmdY/Hw/XXX099fT1r165l+fLlvPzyy0ydOjXAn2AbToT86quv8Hg8JCYm+pxPTEyksrLyhG3y8/N5+OGHT0f3bGfSo+Wkjahl6k2X8FXFsclgtftCONwMOz/1XU1R9lkEvb5ff/xtTDv+HUlzk4MLujWy498ty7sirc113gHSLignd2W6ee6rg0f+W4yPPOiTSMS1b+DrhiPVtQEX7CY5xs2GXyz0ud/vR7xNUeX5jH3tBrPt5zWx5vVmbwhltTGcH12HnJm8WHz2xDdzGo7/whoREUFERESL+FGjRjFq1KgT3svpdLJq1Sqfc8888wzf//732bVrF126dMHtdrNw4UKWLFnC8OHDAVi6dCnJycmsXr2a9PR0tm3bRkFBAYWFhfTv3x+ABQsWkJaWxvbt20lJSWHlypVs3bqVsrIyXC4XAE8//TTjxo1j5syZxMTE+P0zaPOJkA6H779AwzBanDvq3nvvxe12m0dZWdnp6OI5zuCOmeUMGuXm7p9cwt4y3//wDze349OPOnDhJY0+5y+4uJGqct+Z5v+pa8ohwsINvt4bdtIYkdZ00+WfsK8hkjU7jy37LT8QTXV9BwYmHyvvhrXz0M+1hw8rj6z8WfDh97jxL2O4+f9+Yh4Aj60byH3fTIrcUt2ZxsMhdOt4rAQc2s7DBdEH2HMg+nR8PDkFhsVJkMY3SUNycrI5FOB0OsnPzw9K/9xuNw6Hg44dOwJQVFREc3OzT0Xe5XLRu3dvsyK/fv16nE6nmTAADBgwAKfT6RPTu3dvM2EASE9Pp7GxkaKiooD62GaVhvj4eEJCQlpUFaqqqlpUH446WTYnp+7OWbsZelMNM27vRkNdO2I7NwNQfyCEpm+WTP7fswnc9/xOSgqj+GjdeVw99AADrq1l+o+PzBQ/v2sjP7q5ho3vxFC7L5Qulx1iwkN7+OzfkWz94NvLwiKtwYHBzSmf8MqnKXh8SsoO/vTvvky4ajM79zvZ6XYy4XubOXQ4lDd2dAcwV10cr6Iumt0Hjnwjq28O56WtPbnz6g+oqDuPPQfOY/yVxQC8/blWUJzrysrKfL6dB+Pv0qFDh/jtb39LVlaWee/KykrCw8OJjY31if3PinxlZSUJCQkt7peQkOATc/zf1djYWMLDw09a2T+ZNksawsPDSU1NZdWqVdx0003m+VWrVnHDDTe0VbdsZ/S4I/MSnvqb7zjsU3nJrPrLkc1u1hU4+e/fXsCtd1bx69/tpvyLCH6XcxFbNp4HwOFmB1deU8eN47+ifZSXr/aEseGdGJbNTsTr1WxjOf3SLizHFV33zaoJX/9TfCURoYd58Af//GZzpwR++UZGiz0avsuThWkc9rbj8R+9Q/vQw3xclcjtr2dS26QvNmeqYD0aOyYmJqCS/ndpbm7m1ltvxev18uyzz35n/PEV+RNV508lxh9turnTlClTyM7O5uqrryYtLY0XXniBXbt28atf/aotu2Ur6a4r/IpbubwTK5d3OuG16j3hTP+vS4PZLRFL1pUn0+P5X5/kqoM/bOrHHzb18/t+J7rXYW8ITxYO5MnCgafYSzndzsQdIZubmxkzZgylpaW8++67PslIUlISTU1N1NTU+FQbqqqqGDhwoBmzd+/eFvetrq42qwtJSUls2LDB53pNTQ3Nzc0nreyfTJvOabjllluYO3cujzzyCFdeeSXvv/8+f//73+naVVsPi4jIue1owvDZZ5+xevVqOnXy/WKWmppKWFiYz4TJiooKSkpKzKQhLS0Nt9vNxo0bzZgNGzbgdrt9YkpKSqioqDBjVq5cSUREBKmpqQH1uc23kZ40aRKTJk1q626IiMg5LljDE/6qq6tjx44d5uvS0lKKi4uJi4vD5XLx4x//mM2bN/PGG2/g8XjM+QVxcXGEh4fjdDoZP348U6dOpVOnTsTFxTFt2jT69Oljrqbo0aMHI0eOJCcnh/nz5wMwYcIEMjIySElJAY5sZdCzZ0+ys7N58skn2bdvH9OmTSMnJyfgYZY2TxpEREROB6tbQQfadtOmTQwdemwb8ilTpgAwduxYZsyYwWuvvQbAlVde6dPuvffeY8iQIQDMmTOH0NBQxowZQ0NDA8OGDWPRokWEhBzbpn/ZsmXk5uaaqywyMzN99oYICQnhzTffZNKkSQwaNIjIyEiysrJ46qmnAvo8oKRBRESkVQwZMgTDOPnztL/t2lHt27fnmWee4ZlnnjlpTFxcHEuXLv3W+3Tp0oU33njjO9/vuyhpEBERWzjdwxPnIiUNIiJiC0oarGvzHSFFRETk7KBKg4iI2IIqDdYpaRAREVtQ0mCdkgYREbEFg8CXTR7f3u40p0FERET8okqDiIjYgoYnrFPSICIitqCkwToNT4iIiIhfVGkQERFbUKXBOiUNIiJiC0oarNPwhIiIiPhFlQYREbEFw3BgWKgWWGl7rlDSICIituDFYWlzJyttzxUanhARERG/qNIgIiK2oImQ1ilpEBERW9CcBuuUNIiIiC2o0mCd5jSIiIiIX1RpEBERW9DwhHVKGkRExBYMi8MTSho0PCEiIiJ+UqVBRERswQAMw1p7u1PSICIituDFgUM7Qlqi4QkRERHxiyoNIiJiC1o9YZ2SBhERsQWv4cChzZ0s0fCEiIiI+EWVBhERsQXDsLh6QssnlDSIiIg9aE6DdUoaRETEFpQ0WKc5DSIiIuIXVRpERMQWtHrCOiUNIiJiC5oIaZ2GJ0RERMQvShpERMQWjlQaHBaOwN7v/fffZ/To0bhcLhwOB6+88spx/TGYMWMGLpeLyMhIhgwZwpYtW3xiGhsbmTx5MvHx8URFRZGZmUl5eblPTE1NDdnZ2TidTpxOJ9nZ2ezfv98nZteuXYwePZqoqCji4+PJzc2lqakpsA+EkgYREbEJawlD4Csv6uvrueKKK5g3b94Jrz/xxBPMnj2befPm8cEHH5CUlMS1117LgQMHzJi8vDxWrFjB8uXLWbt2LXV1dWRkZODxeMyYrKwsiouLKSgooKCggOLiYrKzs83rHo+H66+/nvr6etauXcvy5ct5+eWXmTp1aoA/Qc1pEBERCUhtba3P64iICCIiIlrEjRo1ilGjRp3wHoZhMHfuXO6//35uvvlmABYvXkxiYiIvvvgiEydOxO12s3DhQpYsWcLw4cMBWLp0KcnJyaxevZr09HS2bdtGQUEBhYWF9O/fH4AFCxaQlpbG9u3bSUlJYeXKlWzdupWysjJcLhcATz/9NOPGjWPmzJnExMT4/dlVaRAREVswgnAAJCcnm0MBTqeT/Pz8gPtSWlpKZWUlI0aMMM9FREQwePBg1q1bB0BRURHNzc0+MS6Xi969e5sx69evx+l0mgkDwIABA3A6nT4xvXv3NhMGgPT0dBobGykqKgqo36o0iIiILQRrc6eysjKfb+cnqjJ8l8rKSgASExN9zicmJrJz504zJjw8nNjY2BYxR9tXVlaSkJDQ4v4JCQk+Mce/T2xsLOHh4WaMv5Q0iIiIBCAmJiagkv63cTh8kxjDMFqcO97xMSeKP5UYf2h4QkRE7CFY4xNBkJSUBNDim35VVZVZFUhKSqKpqYmamppvjdm7d2+L+1dXV/vEHP8+NTU1NDc3t6hAfBclDSIiYg9WV04EcUfIbt26kZSUxKpVq8xzTU1NrFmzhoEDBwKQmppKWFiYT0xFRQUlJSVmTFpaGm63m40bN5oxGzZswO12+8SUlJRQUVFhxqxcuZKIiAhSU1MD6reGJ0RExBZO946QdXV17Nixw3xdWlpKcXExcXFxdOnShby8PGbNmkX37t3p3r07s2bNokOHDmRlZQHgdDoZP348U6dOpVOnTsTFxTFt2jT69Oljrqbo0aMHI0eOJCcnh/nz5wMwYcIEMjIySElJAWDEiBH07NmT7OxsnnzySfbt28e0adPIyckJeJhFSYOIiEgr2LRpE0OHDjVfT5kyBYCxY8eyaNEi7r77bhoaGpg0aRI1NTX079+flStXEh0dbbaZM2cOoaGhjBkzhoaGBoYNG8aiRYsICQkxY5YtW0Zubq65yiIzM9Nnb4iQkBDefPNNJk2axKBBg4iMjCQrK4unnnoq4M/kMIyzdzft2tpanE4nQ7iBUEdYW3dHpFXsenBgW3dBpNV4Gg/x+WP34Xa7gza58HhH/1Zc9L//j3Yd2p/yfbwHD/HlLx5t1b6e6VRpEBERe7A6L0FPudRESBEREfGPKg0iImILejS2dUoaRETEHqzutaCkQcMTIiIi4h+/Kg3//d//7fcNc3NzT7kzIiIirSVYz56wM7+Shjlz5vh1M4fDoaRBRETOXBpisMSvpKG0tLS1+yEiIiJnuFOe09DU1MT27ds5fPhwMPsjIiLSKqw8d8Lq0Ma5IuCk4eDBg4wfP54OHTrQq1cvdu3aBRyZy/DYY48FvYMiIiJBcQY95fJsFXDScO+99/LRRx/xj3/8g/btj23HOXz4cF566aWgdk5ERCR4HEE47C3gfRpeeeUVXnrpJQYMGIDDcewH2LNnTz7//POgdk5ERETOHAEnDdXV1SQkJLQ4X19f75NEiIiInFG0uZNlAQ9P9OvXjzfffNN8fTRRWLBgAWlpacHrmYiISDBpToNlAVca8vPzGTlyJFu3buXw4cP8/ve/Z8uWLaxfv541a9a0Rh9FRETkDBBwpWHgwIH861//4uDBg1xyySWsXLmSxMRE1q9fT2pqamv0UURExLqjj8a2ctjcKT2wqk+fPixevDjYfREREWk1esqldaeUNHg8Hk5NAfAAACAASURBVFasWMG2bdtwOBz06NGDG264gdBQPTRTRETkXBXwX/mSkhJuuOEGKisrSUlJAeDTTz+lc+fOvPbaa/Tp0yfonRQREbFMqycsC3hOwy9/+Ut69epFeXk5mzdvZvPmzZSVldG3b18mTJjQGn0UERGxTnMaLAu40vDRRx+xadMmYmNjzXOxsbHMnDmTfv36BbVzIiIicuYIuNKQkpLC3r17W5yvqqri0ksvDUqnREREgs1hWD/szq9KQ21trfnPs2bNIjc3lxkzZjBgwAAACgsLeeSRR3j88cdbp5ciIiJWaU6DZX4lDR07dvTZItowDMaMGWOeM75ZhzJ69Gg8Hk8rdFNERMQiq/MSNKfBv6Thvffea+1+iIiIyBnOr6Rh8ODBrd0PERGR1qXhCctOeTemgwcPsmvXLpqamnzO9+3b13KnREREgk5Jg2Wn9Gjs22+/nbfeeuuE1zWnQURE5NwU8JLLvLw8ampqKCwsJDIykoKCAhYvXkz37t157bXXWqOPIiIi1unR2JYFXGl49913efXVV+nXrx/t2rWja9euXHvttcTExJCfn8/111/fGv0UERGxRqsnLAu40lBfX09CQgIAcXFxVFdXA0eefLl58+bg9k5ERETOGKe0I+T27dsBuPLKK5k/fz67d+/m+eef5/zzzw96B0VERIJBO0JaF/DwRF5eHhUVFQA89NBDpKens2zZMsLDw1m0aFGw+yciIhIcWj1hWcBJw2233Wb+81VXXcWXX37JJ598QpcuXYiPjw9q50REROTMccr7NBzVoUMHvve97wWjLyIiInIG8ytpmDJlit83nD179il3RkREpLU4sDYvQWsn/EwaPvzwQ79u9p8PtRKR4Nj2q2fbugsirab2gJfYx07Tm53mJZeHDx9mxowZLFu2jMrKSs4//3zGjRvH//t//4927Y6sQzAMg4cffpgXXniBmpoa+vfvzx/+8Ad69epl3qexsZFp06bx5z//mYaGBoYNG8azzz7LhRdeaMbU1NSQm5tr7peUmZnJM888Q8eOHU/9856AHlglIiLSCh5//HGef/55Fi9eTK9evdi0aRO33347TqeTu+66C4AnnniC2bNns2jRIi677DIeffRRrr32WrZv3050dDRwZAHC66+/zvLly+nUqRNTp04lIyODoqIiQkJCAMjKyqK8vJyCggIAJkyYQHZ2Nq+//npQP5PlOQ0iIiJnhSCtnqitrfU5HRERQURERIvw9evXc8MNN5ibHl500UX8+c9/ZtOmTUduZxjMnTuX+++/n5tvvhmAxYsXk5iYyIsvvsjEiRNxu90sXLiQJUuWMHz4cACWLl1KcnIyq1evJj09nW3btlFQUEBhYSH9+/cHYMGCBaSlpbF9+3ZSUlIsfGhfAe/TICIiclYK0jbSycnJOJ1O88jPzz/h211zzTW88847fPrppwB89NFHrF27luuuuw6A0tJSKisrGTFihNkmIiKCwYMHs27dOgCKiopobm72iXG5XPTu3duMWb9+PU6n00wYAAYMGIDT6TRjgkWVBhERkQCUlZURExNjvj5RlQHgnnvuwe12c/nllxMSEoLH42HmzJn89Kc/BaCyshKAxMREn3aJiYns3LnTjAkPDyc2NrZFzNH2lZWV5k7N/ykhIcGMCRYlDSIiYgtWd3U82jYmJsYnaTiZl156iaVLl/Liiy/Sq1cviouLycvLw+VyMXbs2GP3PW4RgWEY37mw4PiYE8X7c59AKWkQERF7OM07Qk6fPp3f/va33HrrrcCRZzTt3LmT/Px8xo4dS1JSEoC5suKoqqoqs/qQlJREU1MTNTU1PtWGqqoqBg4caMbs3bu3xftXV1e3qGJYdUpzGpYsWcKgQYNwuVxmCWXu3Lm8+uqrQe2ciIjI2ergwYPm0sqjQkJC8Hq9AHTr1o2kpCRWrVplXm9qamLNmjVmQpCamkpYWJhPTEVFBSUlJWZMWloabrebjRs3mjEbNmzA7XabMcEScNLw3HPPMWXKFK677jr279+Px+MBoGPHjsydOzeonRMREQmaIE2E9Nfo0aOZOXMmb775Jl9++SUrVqxg9uzZ3HTTTcCRIYW8vDxmzZrFihUrKCkpYdy4cXTo0IGsrCwAnE4n48ePZ+rUqbzzzjt8+OGH/OxnP6NPnz7maooePXowcuRIcnJyKCwspLCwkJycHDIyMoK6cgJOYXjimWeeYcGCBdx444089tixHTmuvvpqpk2bFtTOiYiIBEuw5jT465lnnuGBBx5g0qRJVFVV4XK5mDhxIg8++KAZc/fdd9PQ0MCkSZPMzZ1Wrlxp7tEAMGfOHEJDQxkzZoy5udOiRYvMPRoAli1bRm5urrnKIjMzk3nz5p36hz0Jh2EYAf0YIiMj+eSTT+jatSvR0dF89NFHXHzxxXz22Wf07duXhoaGoHfyZGpra3E6nQzhBkIdYaftfUVOp7f3FLd1F0RaTe0BL7GXfYHb7fZrcuEpvcc3fyu6PTKTdu3bn/J9vIcOUfrg/a3a1zNdwMMT3bp1o7i45S+xt956i549ewalUyIiIkF3dBtpK4fNBTw8MX36dO644w4OHTqEYRhs3LiRP//5z+Tn5/M///M/rdFHERER607z6olzUcBJw+23387hw4e5++67OXjwIFlZWVxwwQX8/ve/N5eViIiInGlO95yGc9Ep7dOQk5NDTk4OX331FV6v94Q7UYmIiMi5xdLmTvHx8cHqh4iISOvS8IRlAScN3bp1+9ZtKb/44gtLHRIREWkVFocnlDScQtKQl5fn87q5uZkPP/yQgoICpk+fHrSOiYiIyJkl4KThrrvuOuH5P/zhD+YzwkVERM44Gp6w7JSePXEio0aN4uWXXw7W7URERILrNG8jfS4KWtLw17/+lbi4uGDdTkRERM4wAQ9PXHXVVT4TIQ3DoLKykurqap599tmgdk5ERCRYtE+DdQEnDTfeeKPP63bt2tG5c2eGDBnC5ZdfHrSOiYiIyJkloKTh8OHDXHTRRaSnp5OUlNRafRIREZEzUEBzGkJDQ/n1r39NY2Nja/VHRESkdWgipGUBT4Ts378/H374YWv0RUREpNUcndNg5bC7gOc0TJo0ialTp1JeXk5qaipRUVE+1/v27Ru0zomIiASV/vBb4nfS8Itf/IK5c+dyyy23AJCbm2teczgcGIaBw+HA4/EEv5ciIiLS5vxOGhYvXsxjjz1GaWlpa/ZHRESkdWhHSMv8ThoM48hPq2vXrq3WGRERkdaifRqsC2gi5Lc93VJERETObQFNhLzsssu+M3HYt2+fpQ6JiIi0Cg1PWBZQ0vDwww/jdDpbqy8iIiKtRsMT1gWUNNx6660kJCS0Vl9ERETkDOZ30qD5DCIiclbT8IRlAa+eEBEROSspabDM76TB6/W2Zj9ERETkDBfwNtIiIiJnI02EtE5Jg4iI2IOGJyxT0iAiIvagpMGygB+NLSIiIvakSoOIiNiC5jRYp6RBRETsQcMTlml4QkRERPyiSoOIiNiChiesU9IgIiL2oOEJyzQ8ISIiIn5R0iAiIvZgBOEI0O7du/nZz35Gp06d6NChA1deeSVFRUXHumQYzJgxA5fLRWRkJEOGDGHLli0+92hsbGTy5MnEx8cTFRVFZmYm5eXlPjE1NTVkZ2fjdDpxOp1kZ2ezf//+wDv8HZQ0iIiILTiCcASipqaGQYMGERYWxltvvcXWrVt5+umn6dixoxnzxBNPMHv2bObNm8cHH3xAUlIS1157LQcOHDBj8vLyWLFiBcuXL2ft2rXU1dWRkZGBx+MxY7KysiguLqagoICCggKKi4vJzs4O9Ef0nTSnQUREJAC1tbU+ryMiIoiIiGgR9/jjj5OcnMwf//hH89xFF11k/rNhGMydO5f777+fm2++GYDFixeTmJjIiy++yMSJE3G73SxcuJAlS5YwfPhwAJYuXUpycjKrV68mPT2dbdu2UVBQQGFhIf379wdgwYIFpKWlsX37dlJSUoL22VVpEBERewjS8ERycrI5DOB0OsnPzz/h27322mtcffXV/OQnPyEhIYGrrrqKBQsWmNdLS0uprKxkxIgR5rmIiAgGDx7MunXrACgqKqK5udknxuVy0bt3bzNm/fr1OJ1OM2EAGDBgAE6n04wJFlUaRETEFoK15LKsrIyYmBjz/ImqDABffPEFzz33HFOmTOG+++5j48aN5ObmEhERwc9//nMqKysBSExM9GmXmJjIzp07AaisrCQ8PJzY2NgWMUfbV1ZWkpCQ0OL9ExISzJhgUdIgIiL2EKQllzExMT5Jw8l4vV6uvvpqZs2aBcBVV13Fli1beO655/j5z39uxjkcvrMlDMNoca5FV46LOVG8P/cJlIYnREREWsH5559Pz549fc716NGDXbt2AZCUlATQohpQVVVlVh+SkpJoamqipqbmW2P27t3b4v2rq6tbVDGsUtIgIiL2cRqXWw4aNIjt27f7nPv000/p2rUrAN26dSMpKYlVq1aZ15uamlizZg0DBw4EIDU1lbCwMJ+YiooKSkpKzJi0tDTcbjcbN240YzZs2IDb7TZjgkXDEyIiYgunexvp3/zmNwwcOJBZs2YxZswYNm7cyAsvvMALL7xw5H4OB3l5ecyaNYvu3bvTvXt3Zs2aRYcOHcjKygLA6XQyfvx4pk6dSqdOnYiLi2PatGn06dPHXE3Ro0cPRo4cSU5ODvPnzwdgwoQJZGRkBHXlBChpEBERaRX9+vVjxYoV3HvvvTzyyCN069aNuXPnctttt5kxd999Nw0NDUyaNImamhr69+/PypUriY6ONmPmzJlDaGgoY8aMoaGhgWHDhrFo0SJCQkLMmGXLlpGbm2uussjMzGTevHlB/0wOwzDO2t20a2trcTqdDOEGQh1hbd0dkVbx9p7itu6CSKupPeAl9rIvcLvdfk0uPKX3+OZvRe+cWYSEtz/l+3iaDlGy4L5W7euZTpUGERGxBT3l0jpNhBQRERG/qNIgIiL2oEdjW6akQUREbEHDE9ZpeEJERET8okqDiIjYg4YnLFPSICIi9qCkwTIlDSIiYgua02Cd5jSIiIiIX1RpEBERe9DwhGVKGkRExBYchoHDwpMTrLQ9V2h4QkRERPyiSoOIiNiDhicsU9IgIiK2oNUT1ml4QkRERPyiSoOIiNiDhicsU9IgIiK2oOEJ65Q0iIiIPajSYJnmNIiIiIhfVGkQERFb0PCEdUoaRETEHjQ8YZmGJ0RERMQvqjSIiIhtaIjBGiUNIiJiD4Zx5LDS3uY0PCEiIiJ+UaVBRERsQasnrFPSICIi9qDVE5ZpeEJERET8okqDiIjYgsN75LDS3u6UNNjcLXfuZdB1bpIvbaTpUDu2burAwpnnU/55ezOmfQcP4++vIC29lpjYw+wtD+fVhfG88ad4M+aJv+7gioH1Pvf+x6sdyf9119P2WcSe/l0Yxf89m8Bn/+7Avr1hPLSwlIGj3D4xuz6LYOGjLj4uPA/DC11TDnH/81+ScGEzAE2NDhY84uIfr8TSeMjBVdfUcWd+OZ1dR65XloXz4pxEiv91HjXVYXRKbOZHN9fw07v2EhZ+pGZduy+Ex+7sSum2SA7UhODsdJi0dDe331tBVLT+2pwRNDxhmZIGm+ubVs/ri+L5tLgDIaEG4+6pYNafvyBncAqNDSEA/OrhPVwxsI4nJndhb1k43xt8gMn55Xy9N4z1bzvNe/19aRx/ejLJfN14SKNf0voOHWzHxb0aGHHrPn73y24tru/5MpwpN3Zn5K1fkz2tkqgYD7s+a094+2N/AZ5/6AI2rIrh3ue+JCbWwwuPuHjw5xcz7+3thIRA2Y4IvF646/FyXN0a+fKT9sydnsyhg+2Y8NAeABztIC3dzbh7KnB2Osye0gjm3XchB/aHcu+zO0/bz0NOThMhrWvTpOH999/nySefpKioiIqKClasWMGNN97Yll2ynftvu9jn9dO/6cJfSrbQvW8DJRvOA6BH6kFW/V8cH68/8vqtZZ24Pvtruvc96JM0NDa0o6Y67PR1XgTo96MD9PvRgZNeX/TY+Xz/R7X88oEK89z5XZvMf66vbcfbf45j+n/v4ns/rAPgnmd28rOre/HhP6O5esgB+g09cvxn+/LPq3jjT/Fm0hDd0cPosV+bMYkXNjN67Ff833MJQfusIm2tTb8K1tfXc8UVVzBv3ry27Ib8h6gYDwAH9oeY57ZsjGLACDedkpoBgysG1nHBxY0UrYn2aTv05hr+UlLCC+99Qs6De4iM8pzOrou04PXCxndiuODiRu776cWM6dOL3Ou7s+6tY8nuZx934HBzO1IHH0sKOiUdpuvlh9j6QdRJ711/IITojif/b/zrylD+9VZH+qbVBefDiHVHN3eycthcm1YaRo0axahRo/yOb2xspLGx0XxdW1vbGt2yMYMJM/ZQsiGKndsjzbPPPuAi78lyXty8lcPN4PU6mDvtQrZsPM+Mee9vsVSWhbOvKpSLLj/EL+6t5OKeDdx76yVt8UFEANj/VSgN9SG8NC+BcfdUMv7+Cja9F80jv7yIJ/66g75p9eyrCiUs3NsiAYiNb6am+sS/Ivd8Gc6r/9uZCQ/ubnEt/9ddWf+2k8ZD7RhwrZvfPFXWKp9NAqfhCevOqjkN+fn5PPzww23djXPWHbN2061HA1NvvNTn/I3jv+Ly1IM8OPYiqsrD6TOgnjvzd7OvKowP/3mk2vDWi53M+J3bI9n9RQR/ePszLu1zkB3/7nBaP4fIUcY38w/T0mu5eUI1AJf0bmDrpije/FM8fdPqT97WcICj5fmvK0O5/7ZL+GHGfkbdtq/F9YkP7+a2KZWUfx7BHx87n/kPX8Dk/PKgfB6RtnZWzVS79957cbvd5lFWpgw+WCY9Wk7aiFru/vElfFURbp4Pb+9l3G8reWGGiw2rnJRui+S1P8az5rWO/PhX1Se9345/R9Lc5OCCbo0njRFpbTFxHkJCDbpedsjnfHL3Q1TtPjL/Ji7hMM1N7XyG5AD2fx1KbPxhn3NfV4Zy948vpUdqPXc9eeLfP3EJh+nSvZGBI2u56/Fy3lgcz9d7z6rvZ+cuIwjHKcrPz8fhcJCXl3esO4bBjBkzcLlcREZGMmTIELZs2eLTrrGxkcmTJxMfH09UVBSZmZmUl/smoTU1NWRnZ+N0OnE6nWRnZ7N///5T7+y3OKuShoiICGJiYnwOscrgjpnlDBrl5u6fXMLesgifq6GhBmHhBt7jVox5PeBod/L/g7qmHCIs3ODrvZoYKW0nLNzgsisOUv6573/Xu7+IMJdbdu97kNAwL5vfPzZH5+u9oez8pD09+x2rRHxVEcb0H1/KpX0amDpnF+38+O159P+Q5qaz6lftOevo8ISV41R88MEHvPDCC/Tt29fn/BNPPMHs2bOZN28eH3zwAUlJSVx77bUcOHBsfk1eXh4rVqxg+fLlrF27lrq6OjIyMvB4jg2nZWVlUVxcTEFBAQUFBRQXF5OdnX1qnf0OSn9t7s5Zuxl6Uw0zbu9GQ107Yjsf+UVafyCEpkPtOFgXwkfrosh5oIKmQ+3YWx5G37R6hv+4hhcedgFwftdGfnRzDRvfiaF2XyhdLjvEhIf28Nm/I791IplIMDTUt2NP6bGkoLIsnM9LIonueJiEC5v5yaQqZv2qK70H1HHFwDo2vRdD4SonT/51BwBRMV7Sf7qPFx52ERN7mOiOHhb8zsVFlx/iqh8c+eX9dWUo0398KQkXNJHz4B7cXx/71RmXcKQasfGdaGqqw0i58iDto7zs+jSC/3nURa9+dSQlNyH2VFdXx2233caCBQt49NFHzfOGYTB37lzuv/9+br75ZgAWL15MYmIiL774IhMnTsTtdrNw4UKWLFnC8OHDAVi6dCnJycmsXr2a9PR0tm3bRkFBAYWFhfTv3x+ABQsWkJaWxvbt20lJSQnq51HSYHOjxx1ZIvbU3z73Of9UXjKr/hIHHJnY9Yv7Krhn3k6iO3qo2h3OosfP540/HZnHcLjZwZXX1HHj+K9oH+Xlqz1hbHgnhmWzE/F6TzAoLBJEn37Ugbt/fGwezvwZFwBw7Zh9TJu7i0Gj3OQ+Vs7yeYk898CFXHhxIw8sKKV3/2NVhF/N2E1IiMHMX11EU0M7rrzmAA8v/oKQb0YsitbEsKc0gj2lEdyW2svn/d/eUwxAeHuDt5Z1Yv6MC2huctDZ1cSgUW5uubOqlX8C4rcgPRr7+En4ERERREREnKgFd9xxB9dffz3Dhw/3SRpKS0uprKxkxIgRPvcZPHgw69atY+LEiRQVFdHc3OwT43K56N27N+vWrSM9PZ3169fjdDrNhAFgwIABOJ1O1q1bd24lDXV1dezYscN8XVpaSnFxMXFxcXTp0qUNe2Yf6a4rvjOmpjqMp39z8n8f1XvCmf5fl570ukhrumJgnfmH+2TSf7qP9J+2nLR4VHh7gztm7uaOmS1XQwCMuGUfI245eXuAKwfVMff1z767w9JmgrV6Ijk52ef8Qw89xIwZM1rEL1++nM2bN/PBBx+0uFZZWQlAYmKiz/nExER27txpxoSHhxMbG9si5mj7yspKEhJa7gWSkJBgxgRTmyYNmzZtYujQoebrKVOmADB27FgWLVrURr0SERE5ubKyMp85dSeqMpSVlXHXXXexcuVK2rdv3+L6UQ6HbzXWMIwW5453fMyJ4v25z6lo06RhyJAhGNosQ0RETocgPXvCn4n4RUVFVFVVkZqaap7zeDy8//77zJs3j+3btwNHKgXnn3++GVNVVWVWH5KSkmhqaqKmpsan2lBVVcXAgQPNmL1797Z4/+rq6hZVjGDQlF4REbGF07l6YtiwYfz73/+muLjYPK6++mpuu+02iouLufjii0lKSmLVqlVmm6amJtasWWMmBKmpqYSFhfnEVFRUUFJSYsakpaXhdrvZuHGjGbNhwwbcbrcZE0yaCCkiIvbgNY4cVtr7KTo6mt69e/uci4qKolOnTub5vLw8Zs2aRffu3enevTuzZs2iQ4cOZGVlAeB0Ohk/fjxTp06lU6dOxMXFMW3aNPr06WOupujRowcjR44kJyeH+fPnAzBhwgQyMjKCPgkSlDSIiIi0ibvvvpuGhgYmTZpETU0N/fv3Z+XKlURHH9szZM6cOYSGhjJmzBgaGhoYNmwYixYtIiTk2GZky5YtIzc311xlkZmZ2WrPdHIYZ/GkgtraWpxOJ0O4gVCHNhGSc9N3rQwQOZvVHvASe9kXuN3uVtuw7+jfioHDHyY07OSTEr/L4eZDrFv9UKv29UynSoOIiNiCA4tLLoPWk7OXJkKKiIiIX1RpEBERewjSjpB2pqRBRERsIVg7QtqZhidERETEL6o0iIiIPQRpR0g7U9IgIiK24DAMHBbmJVhpe67Q8ISIiIj4RZUGERGxB+83h5X2NqekQUREbEHDE9YpaRAREXvQREjLNKdBRERE/KJKg4iI2IN2hLRMSYOIiNiCdoS0TsMTIiIi4hdVGkRExB40PGGZkgYREbEFh/fIYaW93Wl4QkRERPyiSoOIiNiDhicsU9IgIiL2oM2dLNPwhIiIiPhFlQYREbEFPXvCOiUNIiJiD5rTYJmSBhERsQcDa4+3Vs6gOQ0iIiLiH1UaRETEFjSnwTolDSIiYg8GFuc0BK0nZy0NT4iIiIhfVGkQERF70OoJy5Q0iIiIPXgBh8X2NqfhCREREfGLKg0iImILWj1hnZIGERGxB81psEzDEyIiIuIXVRpERMQeVGmwTEmDiIjYg5IGyzQ8ISIi9uANwhGA/Px8+vXrR3R0NAkJCdx4441s377dJ8YwDGbMmIHL5SIyMpIhQ4awZcsWn5jGxkYmT55MfHw8UVFRZGZmUl5e7hNTU1NDdnY2TqcTp9NJdnY2+/fvD6zDflDSICIi0grWrFnDHXfcQWFhIatWreLw4cOMGDGC+vp6M+aJJ55g9uzZzJs3jw8++ICkpCSuvfZaDhw4YMbk5eWxYsUKli9fztq1a6mrqyMjIwOPx2PGZGVlUVxcTEFBAQUFBRQXF5OdnR30z+QwjLO33lJbW4vT6WQINxDqCGvr7oi0irf3FLd1F0RaTe0BL7GXfYHb7SYmJqZ13uObvxXDL5tCaEjEKd/nsKeR1Z/OPuW+VldXk5CQwJo1a/jhD3+IYRi4XC7y8vK45557gCNVhcTERB5//HEmTpyI2+2mc+fOLFmyhFtuuQWAPXv2kJyczN///nfS09PZtm0bPXv2pLCwkP79+wNQWFhIWloan3zyCSkpKaf8mY+nSoOIiNjD0TkNVg6OJCH/eTQ2Nvr19m63G4C4uDgASktLqaysZMSIEWZMREQEgwcPZt26dQAUFRXR3NzsE+Nyuejdu7cZs379epxOp5kwAAwYMACn02nGBIuSBhERkQAkJyebcwecTif5+fnf2cYwDKZMmcI111xD7969AaisrAQgMTHRJzYxMdG8VllZSXh4OLGxsd8ak5CQ0OI9ExISzJhg0eoJERGxB68BDgsj8t4jbcvKynyGJyIivnvI48477+Tjjz9m7dq1La45HL4PxDAMo8W54x0fc6J4f+4TKFUaRETEHoI0PBETE+NzfFfSMHnyZF577TXee+89LrzwQvN8UlISQItqQFVVlVl9SEpKoqmpiZqamm+N2bt3b4v3ra6ublHFsEpJg4iISCswDIM777yTv/3tb7z77rt069bN53q3bt1ISkpi1apV5rmmpibWrFnDwIEDAUhNTSUsLMwnpqKigpKSEjMmLS0Nt9vNxo0bzZgNGzbgdrvNmGDR8ISIiNiExc2dCKztHXfcwYsvvsirr75KdHS0WVFwOp1ERkbicDjIy8tj1qxZdO/ene7duzNr1iw6dOhAVlaWGTt+/HimTp1Kp06diIuLY9q0afTp04fhw4cD0KNHD0aOHElOTg7z588HYMKECWRk9KwdRwAADJVJREFUZAR15QQoaRAREbs4zTtCPvfccwAMGTLE5/wf//hHxo0bB8Ddd99NQ0MDkyZNoqamhv79+7Ny5Uqio6PN+Dlz5hAaGsqYMWNoaGhg2LBhLFq0iJCQEDNm2bJl5ObmmqssMjMzmTdv3il8yG+nfRpEznDap0HOZad1n4ZukwltZ2GfBm8jq0ufadW+nulUaRAREXvwGgQ6xNCyvb0paRAREXswvEcOK+1tTkmDiIjYg55yaZmWXIqIiIhfVGkQERF70JwGy5Q0iIiIPWh4wjINT4iIiIhfVGkQERF7MLBYaQhaT85aShpERMQeNDxhmYYnRERExC+qNIiIiD14vYCFDZq82txJSYOIiNiDhics0/CEiIiI+EWVBhERsQdVGixT0iAiIvagHSEtU9IgIiK2YBheDAtPqrTS9lyhOQ0iIiLiF1UaRETEHgzD2hCD5jQoaRAREZswLM5pUNKg4QkRERHxjyoNIiJiD14vOCxMZtRESCUNIiJiExqesEzDEyIiIuIXVRpERMQWDK8Xw8LwhPZpUNIgIiJ2oeEJyzQ8ISIiIn5RpUHk/7d3/zFR138cwJ+fk7v7nOjhF8oD8kTREJoOgUu8Ssssy9JxaysdVriOGrWyZk7WiB/OwK4VFjaIbHHM6YqtZNOxGpkutWFxw37Izc0SZVOGrR8Hp4d33vv7B/lZJ5gfOuT48Xz893m/3/f+vDhvfp68358PR0QTQ1AAElcawsHQQEREE4MQAMJ55JKhgaGBiIgmBBEUEGGsNAiGBt7TQEREROpwpYGIiCYGEUR42xN85JKhgYiIJgRuT4SP2xNERESkypheabia+gLwh/X3OohGM08Pl0Rp/PL09n++R+K3+IDoC2uLIQD/MFYzNo3p0NDT0wMAOIKmCFdCdPP8LyXSFRDdfD09PYiJibkpc+t0OsTHx+NIV/jXivj4eOh0umGoamySxBjepAkGgzh37hymTp0KSZIiXc6E4PF4YDab0dnZCaPRGOlyiIYVP98jTwiBnp4eJCYmQqO5eTvmPp8Ply9fDnsenU4HWZaHoaKxaUyvNGg0GsyYMSPSZUxIRqOR/6nSuMXP98i6WSsM/yTL8oS+2A8X3ghJREREqjA0EBERkSoMDTQker0epaWl0Ov1kS6FaNjx803078b0jZBEREQ0crjSQERERKowNBAREZEqDA1ERESkCkMDERERqcLQQKpVV1dj9uzZkGUZWVlZOHz4cKRLIhoW33zzDVavXo3ExERIkoTGxsZIl0Q0KjE0kCqffvopXnnlFRQVFaGtrQ1LlizBypUrcfbs2UiXRhQ2r9eL9PR0vP/++5EuhWhU4yOXpEp2djYyMzNRU1OjtKWlpcFms2Hbtm0RrIxoeEmShL1798Jms0W6FKJRhysNdEOXL1+Gy+XCihUrQtpXrFiBb7/9NkJVERHRSGNooBv67bffcOXKFZhMppB2k8mErq6uCFVFREQjjaGBVLv268eFEPxKciKiCYShgW7olltuwaRJkwasKnR3dw9YfSAiovGLoYFuSKfTISsrC83NzSHtzc3NuOuuuyJUFRERjbSoSBdAY8PGjRvx1FNPwWKxwGq14sMPP8TZs2dRUFAQ6dKIwtbb24tTp04px6dPn8bx48cRGxuLmTNnRrAyotGFj1ySatXV1Xjrrbdw/vx5zJ8/H9u3b8fSpUsjXRZR2A4dOoRly5YNaM/Ly4PT6Rz5gohGKYYGIiIiUoX3NBAREZEqDA1ERESkCkMDERERqcLQQERERKowNBAREZEqDA1ERESkCkMDERERqcLQQERERKowNBCFqaysDAsXLlSO169fD5vNNuJ1dHR0QJIkHD9+/LpjZs2ahXfffVf1nE6nE9OmTQu7NkmS0NjYGPY8RBRZDA00Lq1fvx6SJEGSJGi1WiQnJ2PTpk3wer03/dzvvfee6j89rOZCT0Q0WvALq2jcevjhh1FXVwe/34/Dhw8jPz8fXq8XNTU1A8b6/X5otdphOW9MTMywzENENNpwpYHGLb1ej/j4eJjNZuTm5mLdunXKEvnVLYWPP/4YycnJ0Ov1EELgr7/+wnPPPYfp06fDaDTi/vvvxw8//BAy75tvvgmTyYSpU6fCbrfD5/OF9F+7PREMBuFwODB37lzo9XrMnDkT5eXlAIDZs2cDADIyMiBJEu677z7ldXV1dUhLS4Msy0hNTUV1dXXIeb777jtkZGRAlmVYLBa0tbUN+T2qrKzEggULEB0dDbPZjBdeeAG9vb0DxjU2NiIlJQWyLOPBBx9EZ2dnSP++ffuQlZUFWZaRnJyMLVu2IBAIDLkeIhrdGBpowjAYDPD7/crxqVOn0NDQgM8++0zZHnj00UfR1dWFpqYmuFwuZGZmYvny5fj9998BAA0NDSgtLUV5eTlaW1uRkJAw4GJ+rddeew0OhwPFxcVob2/Hnj17YDKZAPRf+AHgq6++wvnz5/H5558DAHbu3ImioiKUl5fD7XajoqICxcXFqK+vBwB4vV6sWrUK8+bNg8vlQllZGTZt2jTk90Sj0aCqqgo///wz6uvr8fXXX2Pz5s0hYy5evIjy8nLU19fj6NGj8Hg8WLt2rdL/5Zdf4sknn8SGDRvQ3t6O2tpaOJ1OJRgR0TgiiMahvLw8kZOToxwfO3ZMxMXFiSeeeEIIIURpaanQarWiu7tbGXPgwAFhNBqFz+cLmWvOnDmitrZWCCGE1WoVBQUFIf3Z2dkiPT190HN7PB6h1+vFzp07B63z9OnTAoBoa2sLaTebzWLPnj0hbVu3bhVWq1UIIURtba2IjY0VXq9X6a+pqRl0rn9KSkoS27dvv25/Q0ODiIuLU47r6uoEANHS0qK0ud1uAUAcO3ZMCCHEkiVLREVFRcg8u3btEgkJCcoxALF3797rnpeIxgbe00Dj1v79+zFlyhQEAgH4/X7k5ORgx44dSn9SUhJuvfVW5djlcqG3txdxcXEh81y6dAm//PILAMDtdqOgoCCk32q14uDBg4PW4Ha70dfXh+XLl6uu+8KFC+js7ITdbsezzz6rtAcCAeV+CbfbjfT0dEyePDmkjqE6ePAgKioq0N7eDo/Hg0AgAJ/PB6/Xi+joaABAVFQULBaL8prU1FRMmzYNbrcbixYtgsvlwvfffx+ysnDlyhX4fD5cvHgxpEYiGtsYGmjcWrZsGWpqaqDVapGYmDjgRserF8WrgsEgEhIScOjQoQFz/dfHDg0Gw5BfEwwGAfRvUWRnZ4f0TZo0CQAghPhP9fzTmTNn8Mgjj6CgoABbt25FbGwsjhw5ArvdHrKNA/Q/Mnmtq23BYBBbtmzBY489NmCMLMth10lEowdDA41b0dHRmDt3rurxmZmZ6OrqQlRUFGbNmjXomLS0NLS0tODpp59W2lpaWq475+233w6DwYADBw4gPz9/QL9OpwPQ/5v5VSaTCbfddht+/fVXrFu3btB577jjDuzatQuXLl1Sgsm/1TGY1tZWBAIBvPPOO9Bo+m9vamhoGDAuEAigtbUVixYtAgCcPHkSf/75J1JTUwH0v28nT54c0ntNRGMTQwPR3x544AFYrVbYbDY4HA7MmzcP586dQ1NTE2w2GywWC15++WXk5eXBYrHgnnvuwe7du3HixAkkJycPOqcsyygsLMTmzZuh0+lw991348KFCzhx4gTsdjumT58Og8GAL774AjNmzIAsy4iJiUFZWRk2bNgAo9GIlStXoq+vD62trfjjjz+wceNG5ObmoqioCHa7Ha+//jo6Ojrw9ttvD+nnnTNnDgKBAHbs2IHVq1fj6NGj+OCDDwaM02q1eOmll1BVVQWtVosXX3wRixcvVkJESUkJVq1aBbPZjMcffxwajQY//vgjfvrpJ7zxxhtD/4cgolGLT08Q/U2SJDQ1NWHp0qV45plnkJKSgrVr16Kjo0N52mHNmjUoKSlBYWEhsrKycObMGTz//PP/Om9xcTFeffVVlJSUIC0tDWvWrEF3dzeA/vsFqqqqUFtbi8TEROTk5AAA8vPz8dFHH8HpdGLBggW499574XQ6lUc0p0yZgn379qG9vR0ZGRkoKiqCw+EY0s+7cOFCVFZWwuFwYP78+di9eze2bds2YNzkyZNRWFiI3NxcWK1WGAwGfPLJJ0r/Qw89hP3796O5uRl33nknFi9ejMrKSiQlJQ2pHiIa/SQxHJujRERENO5xpYGIiIhUYWggIiIiVRgaiIiISBWGBiIiIlKFoYGIiIhUYWggIiIiVRgaiIiISBWGBiIiIlKFoYGIiIhUYWggIiIiVRgaiIiISJX/A2YUruq551ltAAAAAElFTkSuQmCC",
=======
      "image/png": "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",
>>>>>>> 27c223d9e5a175188b20e39dbab80ac857f6abf6
      "text/plain": [
       "<Figure size 640x480 with 2 Axes>"
      ]
     },
     "metadata": {},
     "output_type": "display_data"
    }
   ],
   "source": [
    "y_pred = clf.predict(X_test)\n",
    "cm = confusion_matrix(y_test, y_pred)\n",
    "ConfusionMatrixDisplay(cm).plot()"
   ]
  },
  {
   "cell_type": "code",
<<<<<<< HEAD
   "execution_count": 161,
=======
   "execution_count": 84,
>>>>>>> 27c223d9e5a175188b20e39dbab80ac857f6abf6
   "metadata": {},
   "outputs": [],
   "source": [
    "def PlotBoundaries(model, X, Y, dot_size=20, figsize=(10,7)) :\n",
    "    '''\n",
    "    Helper function that plots the decision boundaries of a model and data (X,Y)\n",
    "    code modified from: https://scikit-learn.org/stable/auto_examples/neighbors/plot_classification.html\n",
    "    '''\n",
    "    \n",
    "    x_min, x_max = X[:, 0].min() - 1, X[:, 0].max() + 1\n",
    "    y_min, y_max = X[:, 1].min() - 1,X[:, 1].max() + 1\n",
    "    xx, yy = np.meshgrid(np.arange(x_min, x_max, 0.01), np.arange(y_min, y_max, 0.01))\n",
    "\n",
    "    Z = model.predict(np.c_[xx.ravel(), yy.ravel()])\n",
    "    Z = Z.reshape(xx.shape)\n",
    "\n",
    "    plt.figure(figsize=figsize)\n",
    "    plt.contourf(xx, yy, Z, alpha=0.4)\n",
    "\n",
    "    #Plot\n",
    "    plt.scatter(X[:, 0], X[:, 1], c=Y, s=dot_size, edgecolor='k')\n",
    "    plt.show()"
   ]
  },
  {
   "cell_type": "code",
<<<<<<< HEAD
   "execution_count": 159,
=======
   "execution_count": 85,
>>>>>>> 27c223d9e5a175188b20e39dbab80ac857f6abf6
   "metadata": {},
   "outputs": [
    {
     "ename": "InvalidIndexError",
     "evalue": "(slice(None, None, None), 0)",
     "output_type": "error",
     "traceback": [
      "\u001b[1;31m---------------------------------------------------------------------------\u001b[0m",
      "\u001b[1;31mTypeError\u001b[0m                                 Traceback (most recent call last)",
      "File \u001b[1;32mc:\\Users\\User\\anaconda3\\lib\\site-packages\\pandas\\core\\indexes\\base.py:3802\u001b[0m, in \u001b[0;36mIndex.get_loc\u001b[1;34m(self, key, method, tolerance)\u001b[0m\n\u001b[0;32m   3801\u001b[0m \u001b[39mtry\u001b[39;00m:\n\u001b[1;32m-> 3802\u001b[0m     \u001b[39mreturn\u001b[39;00m \u001b[39mself\u001b[39;49m\u001b[39m.\u001b[39;49m_engine\u001b[39m.\u001b[39;49mget_loc(casted_key)\n\u001b[0;32m   3803\u001b[0m \u001b[39mexcept\u001b[39;00m \u001b[39mKeyError\u001b[39;00m \u001b[39mas\u001b[39;00m err:\n",
      "File \u001b[1;32mc:\\Users\\User\\anaconda3\\lib\\site-packages\\pandas\\_libs\\index.pyx:138\u001b[0m, in \u001b[0;36mpandas._libs.index.IndexEngine.get_loc\u001b[1;34m()\u001b[0m\n",
      "File \u001b[1;32mc:\\Users\\User\\anaconda3\\lib\\site-packages\\pandas\\_libs\\index.pyx:144\u001b[0m, in \u001b[0;36mpandas._libs.index.IndexEngine.get_loc\u001b[1;34m()\u001b[0m\n",
      "\u001b[1;31mTypeError\u001b[0m: '(slice(None, None, None), 0)' is an invalid key",
      "\nDuring handling of the above exception, another exception occurred:\n",
      "\u001b[1;31mInvalidIndexError\u001b[0m                         Traceback (most recent call last)",
<<<<<<< HEAD
      "\u001b[1;32mc:\\Users\\User\\Desktop\\BrainStation-Data-Science-Capstone\\Notebooks\\Andrew_Chau_BrainStation_DS_Capstone.ipynb Cell 101\u001b[0m in \u001b[0;36m<cell line: 12>\u001b[1;34m()\u001b[0m\n\u001b[0;32m      <a href='vscode-notebook-cell:/c%3A/Users/User/Desktop/BrainStation-Data-Science-Capstone/Notebooks/Andrew_Chau_BrainStation_DS_Capstone.ipynb#Y200sZmlsZQ%3D%3D?line=8'>9</a>\u001b[0m LR_model\u001b[39m.\u001b[39mfit(X_train, y_train)\n\u001b[0;32m     <a href='vscode-notebook-cell:/c%3A/Users/User/Desktop/BrainStation-Data-Science-Capstone/Notebooks/Andrew_Chau_BrainStation_DS_Capstone.ipynb#Y200sZmlsZQ%3D%3D?line=10'>11</a>\u001b[0m \u001b[39m# Visualize its results\u001b[39;00m\n\u001b[1;32m---> <a href='vscode-notebook-cell:/c%3A/Users/User/Desktop/BrainStation-Data-Science-Capstone/Notebooks/Andrew_Chau_BrainStation_DS_Capstone.ipynb#Y200sZmlsZQ%3D%3D?line=11'>12</a>\u001b[0m PlotBoundaries(LR_model, X_train, y_train) \n\u001b[0;32m     <a href='vscode-notebook-cell:/c%3A/Users/User/Desktop/BrainStation-Data-Science-Capstone/Notebooks/Andrew_Chau_BrainStation_DS_Capstone.ipynb#Y200sZmlsZQ%3D%3D?line=13'>14</a>\u001b[0m \u001b[39m# Evaluate its classification accuracy (Just on the training set for now)\u001b[39;00m\n\u001b[0;32m     <a href='vscode-notebook-cell:/c%3A/Users/User/Desktop/BrainStation-Data-Science-Capstone/Notebooks/Andrew_Chau_BrainStation_DS_Capstone.ipynb#Y200sZmlsZQ%3D%3D?line=14'>15</a>\u001b[0m \u001b[39mprint\u001b[39m(\u001b[39mf\u001b[39m\u001b[39m\"\u001b[39m\u001b[39mTrain set accuracy: \u001b[39m\u001b[39m{\u001b[39;00mLR_model\u001b[39m.\u001b[39mscore(X_train,\u001b[39m \u001b[39my_train)\u001b[39m}\u001b[39;00m\u001b[39m\"\u001b[39m)\n",
      "\u001b[1;32mc:\\Users\\User\\Desktop\\BrainStation-Data-Science-Capstone\\Notebooks\\Andrew_Chau_BrainStation_DS_Capstone.ipynb Cell 101\u001b[0m in \u001b[0;36mPlotBoundaries\u001b[1;34m(model, X, Y, dot_size, figsize)\u001b[0m\n\u001b[0;32m      <a href='vscode-notebook-cell:/c%3A/Users/User/Desktop/BrainStation-Data-Science-Capstone/Notebooks/Andrew_Chau_BrainStation_DS_Capstone.ipynb#Y200sZmlsZQ%3D%3D?line=0'>1</a>\u001b[0m \u001b[39mdef\u001b[39;00m \u001b[39mPlotBoundaries\u001b[39m(model, X, Y, dot_size\u001b[39m=\u001b[39m\u001b[39m20\u001b[39m, figsize\u001b[39m=\u001b[39m(\u001b[39m10\u001b[39m,\u001b[39m7\u001b[39m)) :\n\u001b[0;32m      <a href='vscode-notebook-cell:/c%3A/Users/User/Desktop/BrainStation-Data-Science-Capstone/Notebooks/Andrew_Chau_BrainStation_DS_Capstone.ipynb#Y200sZmlsZQ%3D%3D?line=1'>2</a>\u001b[0m \u001b[39m    \u001b[39m\u001b[39m'''\u001b[39;00m\n\u001b[0;32m      <a href='vscode-notebook-cell:/c%3A/Users/User/Desktop/BrainStation-Data-Science-Capstone/Notebooks/Andrew_Chau_BrainStation_DS_Capstone.ipynb#Y200sZmlsZQ%3D%3D?line=2'>3</a>\u001b[0m \u001b[39m    Helper function that plots the decision boundaries of a model and data (X,Y)\u001b[39;00m\n\u001b[0;32m      <a href='vscode-notebook-cell:/c%3A/Users/User/Desktop/BrainStation-Data-Science-Capstone/Notebooks/Andrew_Chau_BrainStation_DS_Capstone.ipynb#Y200sZmlsZQ%3D%3D?line=3'>4</a>\u001b[0m \u001b[39m    code modified from: https://scikit-learn.org/stable/auto_examples/neighbors/plot_classification.html\u001b[39;00m\n\u001b[0;32m      <a href='vscode-notebook-cell:/c%3A/Users/User/Desktop/BrainStation-Data-Science-Capstone/Notebooks/Andrew_Chau_BrainStation_DS_Capstone.ipynb#Y200sZmlsZQ%3D%3D?line=4'>5</a>\u001b[0m \u001b[39m    '''\u001b[39;00m\n\u001b[1;32m----> <a href='vscode-notebook-cell:/c%3A/Users/User/Desktop/BrainStation-Data-Science-Capstone/Notebooks/Andrew_Chau_BrainStation_DS_Capstone.ipynb#Y200sZmlsZQ%3D%3D?line=6'>7</a>\u001b[0m     x_min, x_max \u001b[39m=\u001b[39m X[:, \u001b[39m0\u001b[39;49m]\u001b[39m.\u001b[39mmin() \u001b[39m-\u001b[39m \u001b[39m1\u001b[39m, X[:, \u001b[39m0\u001b[39m]\u001b[39m.\u001b[39mmax() \u001b[39m+\u001b[39m \u001b[39m1\u001b[39m\n\u001b[0;32m      <a href='vscode-notebook-cell:/c%3A/Users/User/Desktop/BrainStation-Data-Science-Capstone/Notebooks/Andrew_Chau_BrainStation_DS_Capstone.ipynb#Y200sZmlsZQ%3D%3D?line=7'>8</a>\u001b[0m     y_min, y_max \u001b[39m=\u001b[39m X[:, \u001b[39m1\u001b[39m]\u001b[39m.\u001b[39mmin() \u001b[39m-\u001b[39m \u001b[39m1\u001b[39m,X[:, \u001b[39m1\u001b[39m]\u001b[39m.\u001b[39mmax() \u001b[39m+\u001b[39m \u001b[39m1\u001b[39m\n\u001b[0;32m      <a href='vscode-notebook-cell:/c%3A/Users/User/Desktop/BrainStation-Data-Science-Capstone/Notebooks/Andrew_Chau_BrainStation_DS_Capstone.ipynb#Y200sZmlsZQ%3D%3D?line=8'>9</a>\u001b[0m     xx, yy \u001b[39m=\u001b[39m np\u001b[39m.\u001b[39mmeshgrid(np\u001b[39m.\u001b[39marange(x_min, x_max, \u001b[39m0.01\u001b[39m), np\u001b[39m.\u001b[39marange(y_min, y_max, \u001b[39m0.01\u001b[39m))\n",
=======
      "\u001b[1;32mc:\\Users\\User\\Desktop\\BrainStation-Data-Science-Capstone\\Notebooks\\Andrew_Chau_BrainStation_DS_Capstone.ipynb Cell 100\u001b[0m in \u001b[0;36m<cell line: 12>\u001b[1;34m()\u001b[0m\n\u001b[0;32m      <a href='vscode-notebook-cell:/c%3A/Users/User/Desktop/BrainStation-Data-Science-Capstone/Notebooks/Andrew_Chau_BrainStation_DS_Capstone.ipynb#Y200sZmlsZQ%3D%3D?line=8'>9</a>\u001b[0m LR_model\u001b[39m.\u001b[39mfit(X_train, y_train)\n\u001b[0;32m     <a href='vscode-notebook-cell:/c%3A/Users/User/Desktop/BrainStation-Data-Science-Capstone/Notebooks/Andrew_Chau_BrainStation_DS_Capstone.ipynb#Y200sZmlsZQ%3D%3D?line=10'>11</a>\u001b[0m \u001b[39m# Visualize its results\u001b[39;00m\n\u001b[1;32m---> <a href='vscode-notebook-cell:/c%3A/Users/User/Desktop/BrainStation-Data-Science-Capstone/Notebooks/Andrew_Chau_BrainStation_DS_Capstone.ipynb#Y200sZmlsZQ%3D%3D?line=11'>12</a>\u001b[0m PlotBoundaries(LR_model, X_train, y_train) \n\u001b[0;32m     <a href='vscode-notebook-cell:/c%3A/Users/User/Desktop/BrainStation-Data-Science-Capstone/Notebooks/Andrew_Chau_BrainStation_DS_Capstone.ipynb#Y200sZmlsZQ%3D%3D?line=13'>14</a>\u001b[0m \u001b[39m# Evaluate its classification accuracy (Just on the training set for now)\u001b[39;00m\n\u001b[0;32m     <a href='vscode-notebook-cell:/c%3A/Users/User/Desktop/BrainStation-Data-Science-Capstone/Notebooks/Andrew_Chau_BrainStation_DS_Capstone.ipynb#Y200sZmlsZQ%3D%3D?line=14'>15</a>\u001b[0m \u001b[39mprint\u001b[39m(\u001b[39mf\u001b[39m\u001b[39m\"\u001b[39m\u001b[39mTrain set accuracy: \u001b[39m\u001b[39m{\u001b[39;00mLR_model\u001b[39m.\u001b[39mscore(X_train,\u001b[39m \u001b[39my_train)\u001b[39m}\u001b[39;00m\u001b[39m\"\u001b[39m)\n",
      "\u001b[1;32mc:\\Users\\User\\Desktop\\BrainStation-Data-Science-Capstone\\Notebooks\\Andrew_Chau_BrainStation_DS_Capstone.ipynb Cell 100\u001b[0m in \u001b[0;36mPlotBoundaries\u001b[1;34m(model, X, Y, dot_size, figsize)\u001b[0m\n\u001b[0;32m      <a href='vscode-notebook-cell:/c%3A/Users/User/Desktop/BrainStation-Data-Science-Capstone/Notebooks/Andrew_Chau_BrainStation_DS_Capstone.ipynb#Y200sZmlsZQ%3D%3D?line=0'>1</a>\u001b[0m \u001b[39mdef\u001b[39;00m \u001b[39mPlotBoundaries\u001b[39m(model, X, Y, dot_size\u001b[39m=\u001b[39m\u001b[39m20\u001b[39m, figsize\u001b[39m=\u001b[39m(\u001b[39m10\u001b[39m,\u001b[39m7\u001b[39m)) :\n\u001b[0;32m      <a href='vscode-notebook-cell:/c%3A/Users/User/Desktop/BrainStation-Data-Science-Capstone/Notebooks/Andrew_Chau_BrainStation_DS_Capstone.ipynb#Y200sZmlsZQ%3D%3D?line=1'>2</a>\u001b[0m \u001b[39m    \u001b[39m\u001b[39m'''\u001b[39;00m\n\u001b[0;32m      <a href='vscode-notebook-cell:/c%3A/Users/User/Desktop/BrainStation-Data-Science-Capstone/Notebooks/Andrew_Chau_BrainStation_DS_Capstone.ipynb#Y200sZmlsZQ%3D%3D?line=2'>3</a>\u001b[0m \u001b[39m    Helper function that plots the decision boundaries of a model and data (X,Y)\u001b[39;00m\n\u001b[0;32m      <a href='vscode-notebook-cell:/c%3A/Users/User/Desktop/BrainStation-Data-Science-Capstone/Notebooks/Andrew_Chau_BrainStation_DS_Capstone.ipynb#Y200sZmlsZQ%3D%3D?line=3'>4</a>\u001b[0m \u001b[39m    code modified from: https://scikit-learn.org/stable/auto_examples/neighbors/plot_classification.html\u001b[39;00m\n\u001b[0;32m      <a href='vscode-notebook-cell:/c%3A/Users/User/Desktop/BrainStation-Data-Science-Capstone/Notebooks/Andrew_Chau_BrainStation_DS_Capstone.ipynb#Y200sZmlsZQ%3D%3D?line=4'>5</a>\u001b[0m \u001b[39m    '''\u001b[39;00m\n\u001b[1;32m----> <a href='vscode-notebook-cell:/c%3A/Users/User/Desktop/BrainStation-Data-Science-Capstone/Notebooks/Andrew_Chau_BrainStation_DS_Capstone.ipynb#Y200sZmlsZQ%3D%3D?line=6'>7</a>\u001b[0m     x_min, x_max \u001b[39m=\u001b[39m X[:, \u001b[39m0\u001b[39;49m]\u001b[39m.\u001b[39mmin() \u001b[39m-\u001b[39m \u001b[39m1\u001b[39m, X[:, \u001b[39m0\u001b[39m]\u001b[39m.\u001b[39mmax() \u001b[39m+\u001b[39m \u001b[39m1\u001b[39m\n\u001b[0;32m      <a href='vscode-notebook-cell:/c%3A/Users/User/Desktop/BrainStation-Data-Science-Capstone/Notebooks/Andrew_Chau_BrainStation_DS_Capstone.ipynb#Y200sZmlsZQ%3D%3D?line=7'>8</a>\u001b[0m     y_min, y_max \u001b[39m=\u001b[39m X[:, \u001b[39m1\u001b[39m]\u001b[39m.\u001b[39mmin() \u001b[39m-\u001b[39m \u001b[39m1\u001b[39m,X[:, \u001b[39m1\u001b[39m]\u001b[39m.\u001b[39mmax() \u001b[39m+\u001b[39m \u001b[39m1\u001b[39m\n\u001b[0;32m      <a href='vscode-notebook-cell:/c%3A/Users/User/Desktop/BrainStation-Data-Science-Capstone/Notebooks/Andrew_Chau_BrainStation_DS_Capstone.ipynb#Y200sZmlsZQ%3D%3D?line=8'>9</a>\u001b[0m     xx, yy \u001b[39m=\u001b[39m np\u001b[39m.\u001b[39mmeshgrid(np\u001b[39m.\u001b[39marange(x_min, x_max, \u001b[39m0.01\u001b[39m), np\u001b[39m.\u001b[39marange(y_min, y_max, \u001b[39m0.01\u001b[39m))\n",
>>>>>>> 27c223d9e5a175188b20e39dbab80ac857f6abf6
      "File \u001b[1;32mc:\\Users\\User\\anaconda3\\lib\\site-packages\\pandas\\core\\frame.py:3807\u001b[0m, in \u001b[0;36mDataFrame.__getitem__\u001b[1;34m(self, key)\u001b[0m\n\u001b[0;32m   3805\u001b[0m \u001b[39mif\u001b[39;00m \u001b[39mself\u001b[39m\u001b[39m.\u001b[39mcolumns\u001b[39m.\u001b[39mnlevels \u001b[39m>\u001b[39m \u001b[39m1\u001b[39m:\n\u001b[0;32m   3806\u001b[0m     \u001b[39mreturn\u001b[39;00m \u001b[39mself\u001b[39m\u001b[39m.\u001b[39m_getitem_multilevel(key)\n\u001b[1;32m-> 3807\u001b[0m indexer \u001b[39m=\u001b[39m \u001b[39mself\u001b[39;49m\u001b[39m.\u001b[39;49mcolumns\u001b[39m.\u001b[39;49mget_loc(key)\n\u001b[0;32m   3808\u001b[0m \u001b[39mif\u001b[39;00m is_integer(indexer):\n\u001b[0;32m   3809\u001b[0m     indexer \u001b[39m=\u001b[39m [indexer]\n",
      "File \u001b[1;32mc:\\Users\\User\\anaconda3\\lib\\site-packages\\pandas\\core\\indexes\\base.py:3809\u001b[0m, in \u001b[0;36mIndex.get_loc\u001b[1;34m(self, key, method, tolerance)\u001b[0m\n\u001b[0;32m   3804\u001b[0m         \u001b[39mraise\u001b[39;00m \u001b[39mKeyError\u001b[39;00m(key) \u001b[39mfrom\u001b[39;00m \u001b[39merr\u001b[39;00m\n\u001b[0;32m   3805\u001b[0m     \u001b[39mexcept\u001b[39;00m \u001b[39mTypeError\u001b[39;00m:\n\u001b[0;32m   3806\u001b[0m         \u001b[39m# If we have a listlike key, _check_indexing_error will raise\u001b[39;00m\n\u001b[0;32m   3807\u001b[0m         \u001b[39m#  InvalidIndexError. Otherwise we fall through and re-raise\u001b[39;00m\n\u001b[0;32m   3808\u001b[0m         \u001b[39m#  the TypeError.\u001b[39;00m\n\u001b[1;32m-> 3809\u001b[0m         \u001b[39mself\u001b[39;49m\u001b[39m.\u001b[39;49m_check_indexing_error(key)\n\u001b[0;32m   3810\u001b[0m         \u001b[39mraise\u001b[39;00m\n\u001b[0;32m   3812\u001b[0m \u001b[39m# GH#42269\u001b[39;00m\n",
      "File \u001b[1;32mc:\\Users\\User\\anaconda3\\lib\\site-packages\\pandas\\core\\indexes\\base.py:5925\u001b[0m, in \u001b[0;36mIndex._check_indexing_error\u001b[1;34m(self, key)\u001b[0m\n\u001b[0;32m   5921\u001b[0m \u001b[39mdef\u001b[39;00m \u001b[39m_check_indexing_error\u001b[39m(\u001b[39mself\u001b[39m, key):\n\u001b[0;32m   5922\u001b[0m     \u001b[39mif\u001b[39;00m \u001b[39mnot\u001b[39;00m is_scalar(key):\n\u001b[0;32m   5923\u001b[0m         \u001b[39m# if key is not a scalar, directly raise an error (the code below\u001b[39;00m\n\u001b[0;32m   5924\u001b[0m         \u001b[39m# would convert to numpy arrays and raise later any way) - GH29926\u001b[39;00m\n\u001b[1;32m-> 5925\u001b[0m         \u001b[39mraise\u001b[39;00m InvalidIndexError(key)\n",
      "\u001b[1;31mInvalidIndexError\u001b[0m: (slice(None, None, None), 0)"
     ]
    }
   ],
   "source": [
    "from sklearn.model_selection import train_test_split\n",
    "from sklearn.linear_model import LogisticRegression\n",
    "\n",
    "# Splitting the data\n",
    "X_train, X_test, y_train, y_test = train_test_split(X, y, test_size=0.3)\n",
    "\n",
    "# Fitting the linear model\n",
    "LR_model = LogisticRegression()\n",
    "LR_model.fit(X_train, y_train)\n",
    "\n",
    "# Visualize its results\n",
    "PlotBoundaries(LR_model, X_train, y_train) \n",
    "\n",
    "# Evaluate its classification accuracy (Just on the training set for now)\n",
    "print(f\"Train set accuracy: {LR_model.score(X_train, y_train)}\")"
   ]
  },
  {
   "cell_type": "markdown",
   "metadata": {},
   "source": [
    "## Natural Langauge Processing {#NLP}"
   ]
  },
  {
   "cell_type": "code",
   "execution_count": 3,
   "metadata": {},
   "outputs": [],
   "source": [
    "import pandas as pd\n",
    "import numpy as np\n",
    "from sklearn.linear_model import LogisticRegression"
   ]
  },
  {
   "cell_type": "markdown",
   "metadata": {},
   "source": [
    "Loading the dataset into a pandas dataframe with pd.read_csv()\n",
    "then reducing it down to just the 'repair_status' and 'problem' columns"
   ]
  },
  {
   "cell_type": "code",
   "execution_count": 51,
   "metadata": {},
   "outputs": [
    {
     "data": {
      "text/html": [
       "<div>\n",
       "<style scoped>\n",
       "    .dataframe tbody tr th:only-of-type {\n",
       "        vertical-align: middle;\n",
       "    }\n",
       "\n",
       "    .dataframe tbody tr th {\n",
       "        vertical-align: top;\n",
       "    }\n",
       "\n",
       "    .dataframe thead th {\n",
       "        text-align: right;\n",
       "    }\n",
       "</style>\n",
       "<table border=\"1\" class=\"dataframe\">\n",
       "  <thead>\n",
       "    <tr style=\"text-align: right;\">\n",
       "      <th></th>\n",
       "      <th>repair_status</th>\n",
       "      <th>problem</th>\n",
       "    </tr>\n",
       "  </thead>\n",
       "  <tbody>\n",
       "    <tr>\n",
       "      <th>0</th>\n",
       "      <td>End of life</td>\n",
       "      <td>Pumpe defekt</td>\n",
       "    </tr>\n",
       "    <tr>\n",
       "      <th>1</th>\n",
       "      <td>Repairable</td>\n",
       "      <td>Akku lädt nicht</td>\n",
       "    </tr>\n",
       "    <tr>\n",
       "      <th>2</th>\n",
       "      <td>Fixed</td>\n",
       "      <td>Ohne Funktion</td>\n",
       "    </tr>\n",
       "    <tr>\n",
       "      <th>3</th>\n",
       "      <td>End of life</td>\n",
       "      <td>Netzteilbuchse und Grafikkarte defekt</td>\n",
       "    </tr>\n",
       "    <tr>\n",
       "      <th>4</th>\n",
       "      <td>End of life</td>\n",
       "      <td>Getriebeschaden</td>\n",
       "    </tr>\n",
       "    <tr>\n",
       "      <th>...</th>\n",
       "      <td>...</td>\n",
       "      <td>...</td>\n",
       "    </tr>\n",
       "    <tr>\n",
       "      <th>103071</th>\n",
       "      <td>Fixed</td>\n",
       "      <td>Extension cable for PAT testing.</td>\n",
       "    </tr>\n",
       "    <tr>\n",
       "      <th>103072</th>\n",
       "      <td>Repairable</td>\n",
       "      <td>Broken mirror.</td>\n",
       "    </tr>\n",
       "    <tr>\n",
       "      <th>103073</th>\n",
       "      <td>Fixed</td>\n",
       "      <td>Cotton reel spindle needs replacing.</td>\n",
       "    </tr>\n",
       "    <tr>\n",
       "      <th>103074</th>\n",
       "      <td>Fixed</td>\n",
       "      <td>Bobbin not working.</td>\n",
       "    </tr>\n",
       "    <tr>\n",
       "      <th>103075</th>\n",
       "      <td>Fixed</td>\n",
       "      <td>It doesn’t turn on.</td>\n",
       "    </tr>\n",
       "  </tbody>\n",
       "</table>\n",
       "<p>103076 rows × 2 columns</p>\n",
       "</div>"
      ],
      "text/plain": [
       "       repair_status                                problem\n",
       "0        End of life                           Pumpe defekt\n",
       "1         Repairable                        Akku lädt nicht\n",
       "2              Fixed                          Ohne Funktion\n",
       "3        End of life  Netzteilbuchse und Grafikkarte defekt\n",
       "4        End of life                        Getriebeschaden\n",
       "...              ...                                    ...\n",
       "103071         Fixed       Extension cable for PAT testing.\n",
       "103072    Repairable                         Broken mirror.\n",
       "103073         Fixed   Cotton reel spindle needs replacing.\n",
       "103074         Fixed                    Bobbin not working.\n",
       "103075         Fixed                    It doesn’t turn on.\n",
       "\n",
       "[103076 rows x 2 columns]"
      ]
     },
     "execution_count": 51,
     "metadata": {},
     "output_type": "execute_result"
    }
   ],
   "source": [
    "ldf = pd.read_csv(\"data/OpenRepairData_v0.3_aggregate_202303.csv\")\n",
    "ldf = ldf[['repair_status', 'problem']]\n",
    "ldf"
   ]
  },
  {
   "cell_type": "markdown",
   "metadata": {},
   "source": [
    "looking for total \"na\" values in 'repair_status' column with .isna().sum() - found 0"
   ]
  },
  {
   "cell_type": "code",
   "execution_count": 52,
   "metadata": {},
   "outputs": [
    {
     "data": {
      "text/plain": [
       "0"
      ]
     },
     "execution_count": 52,
     "metadata": {},
     "output_type": "execute_result"
    }
   ],
   "source": [
    "ldf['repair_status'].isna().sum()"
   ]
  },
  {
   "cell_type": "markdown",
   "metadata": {},
   "source": [
    "looking for total \"na\" values in 'problem' column using .isna().sum() - found 15,045"
   ]
  },
  {
   "cell_type": "code",
   "execution_count": 57,
   "metadata": {},
   "outputs": [
    {
     "data": {
      "text/plain": [
       "0"
      ]
     },
     "execution_count": 57,
     "metadata": {},
     "output_type": "execute_result"
    }
   ],
   "source": [
    "ldf['problem'].isna().sum()"
   ]
  },
  {
   "cell_type": "markdown",
   "metadata": {},
   "source": [
    "replace all \"Na\" values with \"blank\""
   ]
  },
  {
   "cell_type": "code",
   "execution_count": 56,
   "metadata": {},
   "outputs": [],
   "source": [
    "ldf = ldf.fillna('blank')"
   ]
  },
  {
   "cell_type": "markdown",
   "metadata": {},
   "source": [
    "use .drop to remove all rows with \"Unknown\" in the 'repair_status' column to simplify modeling\n",
    "and check to see that it took effect"
   ]
  },
  {
   "cell_type": "code",
   "execution_count": 58,
   "metadata": {},
   "outputs": [
    {
     "data": {
      "text/plain": [
       "0         End of life\n",
       "1          Repairable\n",
       "2               Fixed\n",
       "3         End of life\n",
       "4         End of life\n",
       "             ...     \n",
       "103071          Fixed\n",
       "103072     Repairable\n",
       "103073          Fixed\n",
       "103074          Fixed\n",
       "103075          Fixed\n",
       "Name: repair_status, Length: 99676, dtype: object"
      ]
     },
     "execution_count": 58,
     "metadata": {},
     "output_type": "execute_result"
    }
   ],
   "source": [
    "ldf = ldf.drop(ldf[ldf['repair_status'] == 'Unknown'].index)\n",
    "ldf['repair_status']"
   ]
  },
  {
   "cell_type": "markdown",
   "metadata": {},
   "source": [
    "use .drop to remove all rows with \"Repairable\" in the 'repair_status' column to simplify modeling\n",
    "and check to see that it took effect"
   ]
  },
  {
   "cell_type": "code",
   "execution_count": 59,
   "metadata": {},
   "outputs": [
    {
     "data": {
      "text/plain": [
       "0         End of life\n",
       "2               Fixed\n",
       "3         End of life\n",
       "4         End of life\n",
       "5         End of life\n",
       "             ...     \n",
       "103068    End of life\n",
       "103071          Fixed\n",
       "103073          Fixed\n",
       "103074          Fixed\n",
       "103075          Fixed\n",
       "Name: repair_status, Length: 78728, dtype: object"
      ]
     },
     "execution_count": 59,
     "metadata": {},
     "output_type": "execute_result"
    }
   ],
   "source": [
    "ldf = ldf.drop(ldf[ldf['repair_status'] == 'Repairable'].index)\n",
    "ldf['repair_status']"
   ]
  },
  {
   "cell_type": "markdown",
   "metadata": {},
   "source": [
    "use .loc to find all rows with \"Fixed\" in the 'repair_status' column"
   ]
  },
  {
   "cell_type": "code",
   "execution_count": 60,
   "metadata": {},
   "outputs": [
    {
     "data": {
      "text/html": [
       "<div>\n",
       "<style scoped>\n",
       "    .dataframe tbody tr th:only-of-type {\n",
       "        vertical-align: middle;\n",
       "    }\n",
       "\n",
       "    .dataframe tbody tr th {\n",
       "        vertical-align: top;\n",
       "    }\n",
       "\n",
       "    .dataframe thead th {\n",
       "        text-align: right;\n",
       "    }\n",
       "</style>\n",
       "<table border=\"1\" class=\"dataframe\">\n",
       "  <thead>\n",
       "    <tr style=\"text-align: right;\">\n",
       "      <th></th>\n",
       "      <th>repair_status</th>\n",
       "      <th>problem</th>\n",
       "    </tr>\n",
       "  </thead>\n",
       "  <tbody>\n",
       "    <tr>\n",
       "      <th>2</th>\n",
       "      <td>Fixed</td>\n",
       "      <td>Ohne Funktion</td>\n",
       "    </tr>\n",
       "    <tr>\n",
       "      <th>10</th>\n",
       "      <td>Fixed</td>\n",
       "      <td>Softwareproblem</td>\n",
       "    </tr>\n",
       "    <tr>\n",
       "      <th>11</th>\n",
       "      <td>Fixed</td>\n",
       "      <td>Klappe klemmt</td>\n",
       "    </tr>\n",
       "    <tr>\n",
       "      <th>12</th>\n",
       "      <td>Fixed</td>\n",
       "      <td>ohne Funktion</td>\n",
       "    </tr>\n",
       "    <tr>\n",
       "      <th>13</th>\n",
       "      <td>Fixed</td>\n",
       "      <td>Schalter defekt</td>\n",
       "    </tr>\n",
       "    <tr>\n",
       "      <th>...</th>\n",
       "      <td>...</td>\n",
       "      <td>...</td>\n",
       "    </tr>\n",
       "    <tr>\n",
       "      <th>103063</th>\n",
       "      <td>Fixed</td>\n",
       "      <td>Dab radiodoesn't switch on.</td>\n",
       "    </tr>\n",
       "    <tr>\n",
       "      <th>103071</th>\n",
       "      <td>Fixed</td>\n",
       "      <td>Extension cable for PAT testing.</td>\n",
       "    </tr>\n",
       "    <tr>\n",
       "      <th>103073</th>\n",
       "      <td>Fixed</td>\n",
       "      <td>Cotton reel spindle needs replacing.</td>\n",
       "    </tr>\n",
       "    <tr>\n",
       "      <th>103074</th>\n",
       "      <td>Fixed</td>\n",
       "      <td>Bobbin not working.</td>\n",
       "    </tr>\n",
       "    <tr>\n",
       "      <th>103075</th>\n",
       "      <td>Fixed</td>\n",
       "      <td>It doesn’t turn on.</td>\n",
       "    </tr>\n",
       "  </tbody>\n",
       "</table>\n",
       "<p>54295 rows × 2 columns</p>\n",
       "</div>"
      ],
      "text/plain": [
       "       repair_status                               problem\n",
       "2              Fixed                         Ohne Funktion\n",
       "10             Fixed                       Softwareproblem\n",
       "11             Fixed                         Klappe klemmt\n",
       "12             Fixed                         ohne Funktion\n",
       "13             Fixed                       Schalter defekt\n",
       "...              ...                                   ...\n",
       "103063         Fixed           Dab radiodoesn't switch on.\n",
       "103071         Fixed      Extension cable for PAT testing.\n",
       "103073         Fixed  Cotton reel spindle needs replacing.\n",
       "103074         Fixed                   Bobbin not working.\n",
       "103075         Fixed                   It doesn’t turn on.\n",
       "\n",
       "[54295 rows x 2 columns]"
      ]
     },
     "execution_count": 60,
     "metadata": {},
     "output_type": "execute_result"
    }
   ],
   "source": [
    "fixed_df = ldf.loc[ldf['repair_status'] == 'Fixed']\n",
    "fixed_df"
   ]
  },
  {
   "cell_type": "markdown",
   "metadata": {},
   "source": [
    "choosing a random sample of 1000 rows to make processing faster"
   ]
  },
  {
   "cell_type": "code",
   "execution_count": 61,
   "metadata": {},
   "outputs": [
    {
     "data": {
      "text/html": [
       "<div>\n",
       "<style scoped>\n",
       "    .dataframe tbody tr th:only-of-type {\n",
       "        vertical-align: middle;\n",
       "    }\n",
       "\n",
       "    .dataframe tbody tr th {\n",
       "        vertical-align: top;\n",
       "    }\n",
       "\n",
       "    .dataframe thead th {\n",
       "        text-align: right;\n",
       "    }\n",
       "</style>\n",
       "<table border=\"1\" class=\"dataframe\">\n",
       "  <thead>\n",
       "    <tr style=\"text-align: right;\">\n",
       "      <th></th>\n",
       "      <th>repair_status</th>\n",
       "      <th>problem</th>\n",
       "    </tr>\n",
       "  </thead>\n",
       "  <tbody>\n",
       "    <tr>\n",
       "      <th>37832</th>\n",
       "      <td>Fixed</td>\n",
       "      <td>brandt nt peertje kapot alles doorgemeten en m...</td>\n",
       "    </tr>\n",
       "    <tr>\n",
       "      <th>29129</th>\n",
       "      <td>Fixed</td>\n",
       "      <td>DVD schijfje komt er niet uit - snaar  snaar v...</td>\n",
       "    </tr>\n",
       "    <tr>\n",
       "      <th>36257</th>\n",
       "      <td>Fixed</td>\n",
       "      <td>Na half uurtje draaien komt er rook uit de mot...</td>\n",
       "    </tr>\n",
       "    <tr>\n",
       "      <th>14313</th>\n",
       "      <td>Fixed</td>\n",
       "      <td>needs to be put back together loose parts put ...</td>\n",
       "    </tr>\n",
       "    <tr>\n",
       "      <th>69024</th>\n",
       "      <td>Fixed</td>\n",
       "      <td>Broken Screen</td>\n",
       "    </tr>\n",
       "    <tr>\n",
       "      <th>...</th>\n",
       "      <td>...</td>\n",
       "      <td>...</td>\n",
       "    </tr>\n",
       "    <tr>\n",
       "      <th>39824</th>\n",
       "      <td>Fixed</td>\n",
       "      <td>kabelbreuk</td>\n",
       "    </tr>\n",
       "    <tr>\n",
       "      <th>52932</th>\n",
       "      <td>Fixed</td>\n",
       "      <td>Op toestel bevindt zich een schermpje(zie foto...</td>\n",
       "    </tr>\n",
       "    <tr>\n",
       "      <th>45527</th>\n",
       "      <td>Fixed</td>\n",
       "      <td>Hapert Filters vervuild Filters schoongemaakt</td>\n",
       "    </tr>\n",
       "    <tr>\n",
       "      <th>21943</th>\n",
       "      <td>Fixed</td>\n",
       "      <td>Not working Faulty battery</td>\n",
       "    </tr>\n",
       "    <tr>\n",
       "      <th>79529</th>\n",
       "      <td>Fixed</td>\n",
       "      <td>Cosses de l’interrupteur oxydées, réparation OK.</td>\n",
       "    </tr>\n",
       "  </tbody>\n",
       "</table>\n",
       "<p>1000 rows × 2 columns</p>\n",
       "</div>"
      ],
      "text/plain": [
       "      repair_status                                            problem\n",
       "37832         Fixed  brandt nt peertje kapot alles doorgemeten en m...\n",
       "29129         Fixed  DVD schijfje komt er niet uit - snaar  snaar v...\n",
       "36257         Fixed  Na half uurtje draaien komt er rook uit de mot...\n",
       "14313         Fixed  needs to be put back together loose parts put ...\n",
       "69024         Fixed                                      Broken Screen\n",
       "...             ...                                                ...\n",
       "39824         Fixed                                         kabelbreuk\n",
       "52932         Fixed  Op toestel bevindt zich een schermpje(zie foto...\n",
       "45527         Fixed      Hapert Filters vervuild Filters schoongemaakt\n",
       "21943         Fixed                         Not working Faulty battery\n",
       "79529         Fixed   Cosses de l’interrupteur oxydées, réparation OK.\n",
       "\n",
       "[1000 rows x 2 columns]"
      ]
     },
     "execution_count": 61,
     "metadata": {},
     "output_type": "execute_result"
    }
   ],
   "source": [
    "simple_data_f = fixed_df.sample(n=1000, random_state=1)\n",
    "simple_data_f"
   ]
  },
  {
   "cell_type": "markdown",
   "metadata": {},
   "source": [
    "tokenizing the text data using str.split() to create lists of words from every sentence"
   ]
  },
  {
   "cell_type": "code",
   "execution_count": 62,
   "metadata": {},
   "outputs": [
    {
     "data": {
      "text/plain": [
       "37832    [brandt, nt, peertje, kapot, alles, doorgemete...\n",
       "29129    [DVD, schijfje, komt, er, niet, uit, -, snaar,...\n",
       "36257    [Na, half, uurtje, draaien, komt, er, rook, ui...\n",
       "14313    [needs, to, be, put, back, together, loose, pa...\n",
       "69024                                     [Broken, Screen]\n",
       "                               ...                        \n",
       "39824                                         [kabelbreuk]\n",
       "52932    [Op, toestel, bevindt, zich, een, schermpje(zi...\n",
       "45527    [Hapert, Filters, vervuild, Filters, schoongem...\n",
       "21943                      [Not, working, Faulty, battery]\n",
       "79529    [Cosses, de, l’interrupteur, oxydées,, réparat...\n",
       "Name: problem, Length: 1000, dtype: object"
      ]
     },
     "execution_count": 62,
     "metadata": {},
     "output_type": "execute_result"
    }
   ],
   "source": [
    "simple_data_f['problem'].str.split(' ')"
   ]
  },
  {
   "cell_type": "code",
   "execution_count": 63,
   "metadata": {},
   "outputs": [],
   "source": [
    "from sklearn.feature_extraction.text import CountVectorizer"
   ]
  },
  {
   "cell_type": "code",
   "execution_count": 64,
   "metadata": {},
   "outputs": [
    {
     "data": {
      "text/plain": [
       "<1000x2777 sparse matrix of type '<class 'numpy.int64'>'\n",
       "\twith 6846 stored elements in Compressed Sparse Row format>"
      ]
     },
     "execution_count": 64,
     "metadata": {},
     "output_type": "execute_result"
    }
   ],
   "source": [
    "bagofwords = CountVectorizer()\n",
    "\n",
    "bagofwords.fit(simple_data_f['problem'])\n",
    "\n",
    "small_transformed = bagofwords.transform(simple_data_f['problem'])\n",
    "small_transformed"
   ]
  },
  {
   "cell_type": "code",
   "execution_count": 65,
   "metadata": {},
   "outputs": [
    {
     "data": {
      "text/plain": [
       "array(['10', '100', '11', ..., 'überbrücken', 'überbrückt', 'überprüft'],\n",
       "      dtype=object)"
      ]
     },
     "execution_count": 65,
     "metadata": {},
     "output_type": "execute_result"
    }
   ],
   "source": [
    "bagofwords.get_feature_names_out()"
   ]
  },
  {
   "cell_type": "code",
   "execution_count": 66,
   "metadata": {},
   "outputs": [
    {
     "data": {
      "text/plain": [
       "array([[0, 0, 0, ..., 0, 0, 0],\n",
       "       [0, 0, 0, ..., 0, 0, 0],\n",
       "       [0, 0, 0, ..., 0, 0, 0],\n",
       "       ...,\n",
       "       [0, 0, 0, ..., 0, 0, 0],\n",
       "       [0, 0, 0, ..., 0, 0, 0],\n",
       "       [0, 0, 0, ..., 0, 0, 0]], dtype=int64)"
      ]
     },
     "execution_count": 66,
     "metadata": {},
     "output_type": "execute_result"
    }
   ],
   "source": [
    "small_transformed.toarray()"
   ]
  },
  {
   "cell_type": "code",
   "execution_count": null,
   "metadata": {},
   "outputs": [],
   "source": [
    "# add more features\n",
    "# more markdown\n",
    "# multiple models\n",
    "# hyperparameter tuning\n"
   ]
  },
  {
   "cell_type": "code",
   "execution_count": 67,
   "metadata": {},
   "outputs": [
    {
     "data": {
      "text/html": [
       "<div>\n",
       "<style scoped>\n",
       "    .dataframe tbody tr th:only-of-type {\n",
       "        vertical-align: middle;\n",
       "    }\n",
       "\n",
       "    .dataframe tbody tr th {\n",
       "        vertical-align: top;\n",
       "    }\n",
       "\n",
       "    .dataframe thead th {\n",
       "        text-align: right;\n",
       "    }\n",
       "</style>\n",
       "<table border=\"1\" class=\"dataframe\">\n",
       "  <thead>\n",
       "    <tr style=\"text-align: right;\">\n",
       "      <th></th>\n",
       "      <th>10</th>\n",
       "      <th>100</th>\n",
       "      <th>11</th>\n",
       "      <th>110gr</th>\n",
       "      <th>12</th>\n",
       "      <th>12v</th>\n",
       "      <th>145</th>\n",
       "      <th>146</th>\n",
       "      <th>17</th>\n",
       "      <th>2020</th>\n",
       "      <th>...</th>\n",
       "      <th>één</th>\n",
       "      <th>éénmaal</th>\n",
       "      <th>être</th>\n",
       "      <th>öffnen</th>\n",
       "      <th>ölen</th>\n",
       "      <th>ønstalleerd</th>\n",
       "      <th>über</th>\n",
       "      <th>überbrücken</th>\n",
       "      <th>überbrückt</th>\n",
       "      <th>überprüft</th>\n",
       "    </tr>\n",
       "  </thead>\n",
       "  <tbody>\n",
       "    <tr>\n",
       "      <th>0</th>\n",
       "      <td>0</td>\n",
       "      <td>0</td>\n",
       "      <td>0</td>\n",
       "      <td>0</td>\n",
       "      <td>0</td>\n",
       "      <td>0</td>\n",
       "      <td>0</td>\n",
       "      <td>0</td>\n",
       "      <td>0</td>\n",
       "      <td>0</td>\n",
       "      <td>...</td>\n",
       "      <td>0</td>\n",
       "      <td>0</td>\n",
       "      <td>0</td>\n",
       "      <td>0</td>\n",
       "      <td>0</td>\n",
       "      <td>0</td>\n",
       "      <td>0</td>\n",
       "      <td>0</td>\n",
       "      <td>0</td>\n",
       "      <td>0</td>\n",
       "    </tr>\n",
       "    <tr>\n",
       "      <th>1</th>\n",
       "      <td>0</td>\n",
       "      <td>0</td>\n",
       "      <td>0</td>\n",
       "      <td>0</td>\n",
       "      <td>0</td>\n",
       "      <td>0</td>\n",
       "      <td>0</td>\n",
       "      <td>0</td>\n",
       "      <td>0</td>\n",
       "      <td>0</td>\n",
       "      <td>...</td>\n",
       "      <td>0</td>\n",
       "      <td>0</td>\n",
       "      <td>0</td>\n",
       "      <td>0</td>\n",
       "      <td>0</td>\n",
       "      <td>0</td>\n",
       "      <td>0</td>\n",
       "      <td>0</td>\n",
       "      <td>0</td>\n",
       "      <td>0</td>\n",
       "    </tr>\n",
       "    <tr>\n",
       "      <th>2</th>\n",
       "      <td>0</td>\n",
       "      <td>0</td>\n",
       "      <td>0</td>\n",
       "      <td>0</td>\n",
       "      <td>0</td>\n",
       "      <td>0</td>\n",
       "      <td>0</td>\n",
       "      <td>0</td>\n",
       "      <td>0</td>\n",
       "      <td>0</td>\n",
       "      <td>...</td>\n",
       "      <td>0</td>\n",
       "      <td>0</td>\n",
       "      <td>0</td>\n",
       "      <td>0</td>\n",
       "      <td>0</td>\n",
       "      <td>0</td>\n",
       "      <td>0</td>\n",
       "      <td>0</td>\n",
       "      <td>0</td>\n",
       "      <td>0</td>\n",
       "    </tr>\n",
       "    <tr>\n",
       "      <th>3</th>\n",
       "      <td>0</td>\n",
       "      <td>0</td>\n",
       "      <td>0</td>\n",
       "      <td>0</td>\n",
       "      <td>0</td>\n",
       "      <td>0</td>\n",
       "      <td>0</td>\n",
       "      <td>0</td>\n",
       "      <td>0</td>\n",
       "      <td>0</td>\n",
       "      <td>...</td>\n",
       "      <td>0</td>\n",
       "      <td>0</td>\n",
       "      <td>0</td>\n",
       "      <td>0</td>\n",
       "      <td>0</td>\n",
       "      <td>0</td>\n",
       "      <td>0</td>\n",
       "      <td>0</td>\n",
       "      <td>0</td>\n",
       "      <td>0</td>\n",
       "    </tr>\n",
       "    <tr>\n",
       "      <th>4</th>\n",
       "      <td>0</td>\n",
       "      <td>0</td>\n",
       "      <td>0</td>\n",
       "      <td>0</td>\n",
       "      <td>0</td>\n",
       "      <td>0</td>\n",
       "      <td>0</td>\n",
       "      <td>0</td>\n",
       "      <td>0</td>\n",
       "      <td>0</td>\n",
       "      <td>...</td>\n",
       "      <td>0</td>\n",
       "      <td>0</td>\n",
       "      <td>0</td>\n",
       "      <td>0</td>\n",
       "      <td>0</td>\n",
       "      <td>0</td>\n",
       "      <td>0</td>\n",
       "      <td>0</td>\n",
       "      <td>0</td>\n",
       "      <td>0</td>\n",
       "    </tr>\n",
       "    <tr>\n",
       "      <th>...</th>\n",
       "      <td>...</td>\n",
       "      <td>...</td>\n",
       "      <td>...</td>\n",
       "      <td>...</td>\n",
       "      <td>...</td>\n",
       "      <td>...</td>\n",
       "      <td>...</td>\n",
       "      <td>...</td>\n",
       "      <td>...</td>\n",
       "      <td>...</td>\n",
       "      <td>...</td>\n",
       "      <td>...</td>\n",
       "      <td>...</td>\n",
       "      <td>...</td>\n",
       "      <td>...</td>\n",
       "      <td>...</td>\n",
       "      <td>...</td>\n",
       "      <td>...</td>\n",
       "      <td>...</td>\n",
       "      <td>...</td>\n",
       "      <td>...</td>\n",
       "    </tr>\n",
       "    <tr>\n",
       "      <th>995</th>\n",
       "      <td>0</td>\n",
       "      <td>0</td>\n",
       "      <td>0</td>\n",
       "      <td>0</td>\n",
       "      <td>0</td>\n",
       "      <td>0</td>\n",
       "      <td>0</td>\n",
       "      <td>0</td>\n",
       "      <td>0</td>\n",
       "      <td>0</td>\n",
       "      <td>...</td>\n",
       "      <td>0</td>\n",
       "      <td>0</td>\n",
       "      <td>0</td>\n",
       "      <td>0</td>\n",
       "      <td>0</td>\n",
       "      <td>0</td>\n",
       "      <td>0</td>\n",
       "      <td>0</td>\n",
       "      <td>0</td>\n",
       "      <td>0</td>\n",
       "    </tr>\n",
       "    <tr>\n",
       "      <th>996</th>\n",
       "      <td>0</td>\n",
       "      <td>0</td>\n",
       "      <td>0</td>\n",
       "      <td>0</td>\n",
       "      <td>0</td>\n",
       "      <td>0</td>\n",
       "      <td>0</td>\n",
       "      <td>0</td>\n",
       "      <td>0</td>\n",
       "      <td>0</td>\n",
       "      <td>...</td>\n",
       "      <td>1</td>\n",
       "      <td>0</td>\n",
       "      <td>0</td>\n",
       "      <td>0</td>\n",
       "      <td>0</td>\n",
       "      <td>0</td>\n",
       "      <td>0</td>\n",
       "      <td>0</td>\n",
       "      <td>0</td>\n",
       "      <td>0</td>\n",
       "    </tr>\n",
       "    <tr>\n",
       "      <th>997</th>\n",
       "      <td>0</td>\n",
       "      <td>0</td>\n",
       "      <td>0</td>\n",
       "      <td>0</td>\n",
       "      <td>0</td>\n",
       "      <td>0</td>\n",
       "      <td>0</td>\n",
       "      <td>0</td>\n",
       "      <td>0</td>\n",
       "      <td>0</td>\n",
       "      <td>...</td>\n",
       "      <td>0</td>\n",
       "      <td>0</td>\n",
       "      <td>0</td>\n",
       "      <td>0</td>\n",
       "      <td>0</td>\n",
       "      <td>0</td>\n",
       "      <td>0</td>\n",
       "      <td>0</td>\n",
       "      <td>0</td>\n",
       "      <td>0</td>\n",
       "    </tr>\n",
       "    <tr>\n",
       "      <th>998</th>\n",
       "      <td>0</td>\n",
       "      <td>0</td>\n",
       "      <td>0</td>\n",
       "      <td>0</td>\n",
       "      <td>0</td>\n",
       "      <td>0</td>\n",
       "      <td>0</td>\n",
       "      <td>0</td>\n",
       "      <td>0</td>\n",
       "      <td>0</td>\n",
       "      <td>...</td>\n",
       "      <td>0</td>\n",
       "      <td>0</td>\n",
       "      <td>0</td>\n",
       "      <td>0</td>\n",
       "      <td>0</td>\n",
       "      <td>0</td>\n",
       "      <td>0</td>\n",
       "      <td>0</td>\n",
       "      <td>0</td>\n",
       "      <td>0</td>\n",
       "    </tr>\n",
       "    <tr>\n",
       "      <th>999</th>\n",
       "      <td>0</td>\n",
       "      <td>0</td>\n",
       "      <td>0</td>\n",
       "      <td>0</td>\n",
       "      <td>0</td>\n",
       "      <td>0</td>\n",
       "      <td>0</td>\n",
       "      <td>0</td>\n",
       "      <td>0</td>\n",
       "      <td>0</td>\n",
       "      <td>...</td>\n",
       "      <td>0</td>\n",
       "      <td>0</td>\n",
       "      <td>0</td>\n",
       "      <td>0</td>\n",
       "      <td>0</td>\n",
       "      <td>0</td>\n",
       "      <td>0</td>\n",
       "      <td>0</td>\n",
       "      <td>0</td>\n",
       "      <td>0</td>\n",
       "    </tr>\n",
       "  </tbody>\n",
       "</table>\n",
       "<p>1000 rows × 2777 columns</p>\n",
       "</div>"
      ],
      "text/plain": [
       "     10  100  11  110gr  12  12v  145  146  17  2020  ...  één  éénmaal  être  \\\n",
       "0     0    0   0      0   0    0    0    0   0     0  ...    0        0     0   \n",
       "1     0    0   0      0   0    0    0    0   0     0  ...    0        0     0   \n",
       "2     0    0   0      0   0    0    0    0   0     0  ...    0        0     0   \n",
       "3     0    0   0      0   0    0    0    0   0     0  ...    0        0     0   \n",
       "4     0    0   0      0   0    0    0    0   0     0  ...    0        0     0   \n",
       "..   ..  ...  ..    ...  ..  ...  ...  ...  ..   ...  ...  ...      ...   ...   \n",
       "995   0    0   0      0   0    0    0    0   0     0  ...    0        0     0   \n",
       "996   0    0   0      0   0    0    0    0   0     0  ...    1        0     0   \n",
       "997   0    0   0      0   0    0    0    0   0     0  ...    0        0     0   \n",
       "998   0    0   0      0   0    0    0    0   0     0  ...    0        0     0   \n",
       "999   0    0   0      0   0    0    0    0   0     0  ...    0        0     0   \n",
       "\n",
       "     öffnen  ölen  ønstalleerd  über  überbrücken  überbrückt  überprüft  \n",
       "0         0     0            0     0            0           0          0  \n",
       "1         0     0            0     0            0           0          0  \n",
       "2         0     0            0     0            0           0          0  \n",
       "3         0     0            0     0            0           0          0  \n",
       "4         0     0            0     0            0           0          0  \n",
       "..      ...   ...          ...   ...          ...         ...        ...  \n",
       "995       0     0            0     0            0           0          0  \n",
       "996       0     0            0     0            0           0          0  \n",
       "997       0     0            0     0            0           0          0  \n",
       "998       0     0            0     0            0           0          0  \n",
       "999       0     0            0     0            0           0          0  \n",
       "\n",
       "[1000 rows x 2777 columns]"
      ]
     },
     "metadata": {},
     "output_type": "display_data"
    }
   ],
   "source": [
    "df = pd.DataFrame(columns=bagofwords.get_feature_names_out(), data=small_transformed.toarray())\n",
    "display(df)"
   ]
  },
  {
   "cell_type": "markdown",
   "metadata": {},
   "source": [
    "## NLP ROUND 2"
   ]
  },
  {
   "cell_type": "markdown",
   "metadata": {},
   "source": [
    "dividing the data between train and test sections using sklearn's train_test_split "
   ]
  },
  {
   "cell_type": "code",
<<<<<<< HEAD
   "execution_count": 126,
   "metadata": {},
   "outputs": [],
   "source": [
    "from sklearn.model_selection import train_test_split\n",
    "from matplotlib import pyplot as plt"
=======
   "execution_count": 91,
   "metadata": {},
   "outputs": [],
   "source": [
    "from sklearn.model_selection import train_test_split"
>>>>>>> 27c223d9e5a175188b20e39dbab80ac857f6abf6
   ]
  },
  {
   "cell_type": "code",
   "execution_count": 92,
   "metadata": {},
   "outputs": [
    {
     "data": {
      "text/html": [
       "<div>\n",
       "<style scoped>\n",
       "    .dataframe tbody tr th:only-of-type {\n",
       "        vertical-align: middle;\n",
       "    }\n",
       "\n",
       "    .dataframe tbody tr th {\n",
       "        vertical-align: top;\n",
       "    }\n",
       "\n",
       "    .dataframe thead th {\n",
       "        text-align: right;\n",
       "    }\n",
       "</style>\n",
       "<table border=\"1\" class=\"dataframe\">\n",
       "  <thead>\n",
       "    <tr style=\"text-align: right;\">\n",
       "      <th></th>\n",
       "      <th>repair_status</th>\n",
       "      <th>problem</th>\n",
       "    </tr>\n",
       "  </thead>\n",
       "  <tbody>\n",
       "    <tr>\n",
       "      <th>0</th>\n",
       "      <td>End of life</td>\n",
       "      <td>Pumpe defekt</td>\n",
       "    </tr>\n",
       "    <tr>\n",
       "      <th>1</th>\n",
       "      <td>Repairable</td>\n",
       "      <td>Akku lädt nicht</td>\n",
       "    </tr>\n",
       "    <tr>\n",
       "      <th>2</th>\n",
       "      <td>Fixed</td>\n",
       "      <td>Ohne Funktion</td>\n",
       "    </tr>\n",
       "    <tr>\n",
       "      <th>3</th>\n",
       "      <td>End of life</td>\n",
       "      <td>Netzteilbuchse und Grafikkarte defekt</td>\n",
       "    </tr>\n",
       "    <tr>\n",
       "      <th>4</th>\n",
       "      <td>End of life</td>\n",
       "      <td>Getriebeschaden</td>\n",
       "    </tr>\n",
       "    <tr>\n",
       "      <th>...</th>\n",
       "      <td>...</td>\n",
       "      <td>...</td>\n",
       "    </tr>\n",
       "    <tr>\n",
       "      <th>103071</th>\n",
       "      <td>Fixed</td>\n",
       "      <td>Extension cable for PAT testing.</td>\n",
       "    </tr>\n",
       "    <tr>\n",
       "      <th>103072</th>\n",
       "      <td>Repairable</td>\n",
       "      <td>Broken mirror.</td>\n",
       "    </tr>\n",
       "    <tr>\n",
       "      <th>103073</th>\n",
       "      <td>Fixed</td>\n",
       "      <td>Cotton reel spindle needs replacing.</td>\n",
       "    </tr>\n",
       "    <tr>\n",
       "      <th>103074</th>\n",
       "      <td>Fixed</td>\n",
       "      <td>Bobbin not working.</td>\n",
       "    </tr>\n",
       "    <tr>\n",
       "      <th>103075</th>\n",
       "      <td>Fixed</td>\n",
       "      <td>It doesn’t turn on.</td>\n",
       "    </tr>\n",
       "  </tbody>\n",
       "</table>\n",
       "<p>103076 rows × 2 columns</p>\n",
       "</div>"
      ],
      "text/plain": [
       "       repair_status                                problem\n",
       "0        End of life                           Pumpe defekt\n",
       "1         Repairable                        Akku lädt nicht\n",
       "2              Fixed                          Ohne Funktion\n",
       "3        End of life  Netzteilbuchse und Grafikkarte defekt\n",
       "4        End of life                        Getriebeschaden\n",
       "...              ...                                    ...\n",
       "103071         Fixed       Extension cable for PAT testing.\n",
       "103072    Repairable                         Broken mirror.\n",
       "103073         Fixed   Cotton reel spindle needs replacing.\n",
       "103074         Fixed                    Bobbin not working.\n",
       "103075         Fixed                    It doesn’t turn on.\n",
       "\n",
       "[103076 rows x 2 columns]"
      ]
     },
     "execution_count": 92,
     "metadata": {},
     "output_type": "execute_result"
    }
   ],
   "source": [
    "ndf = pd.read_csv(\"data/OpenRepairData_v0.3_aggregate_202303.csv\")\n",
    "ndf = ndf[['repair_status', 'problem']]\n",
    "ndf"
   ]
  },
  {
   "cell_type": "code",
   "execution_count": 98,
   "metadata": {},
   "outputs": [],
   "source": [
    "ndf = ndf.fillna('blank')"
   ]
  },
  {
   "cell_type": "code",
   "execution_count": 99,
   "metadata": {},
   "outputs": [],
   "source": [
    "X = ndf['problem']\n",
    "y = ndf['repair_status']"
   ]
  },
  {
   "cell_type": "code",
   "execution_count": 100,
   "metadata": {},
   "outputs": [],
   "source": [
    "X_train, X_test, y_train, y_test = train_test_split(X, y, test_size=0.33, random_state=42)"
   ]
  },
  {
   "cell_type": "code",
   "execution_count": 101,
   "metadata": {},
   "outputs": [
    {
     "data": {
      "text/plain": [
       "(69060,)"
      ]
     },
     "execution_count": 101,
     "metadata": {},
     "output_type": "execute_result"
    }
   ],
   "source": [
    "X_train.shape"
   ]
  },
  {
   "cell_type": "code",
   "execution_count": 102,
   "metadata": {},
   "outputs": [
    {
     "data": {
      "text/plain": [
       "<69060x37257 sparse matrix of type '<class 'numpy.int64'>'\n",
       "\twith 502197 stored elements in Compressed Sparse Row format>"
      ]
     },
     "execution_count": 102,
     "metadata": {},
     "output_type": "execute_result"
    }
   ],
   "source": [
    "bagofwords = CountVectorizer()\n",
    "\n",
    "bagofwords.fit (X_train)\n",
    "\n",
    "X_train_transformed = bagofwords.transform(X_train)\n",
    "X_train_transformed"
   ]
  },
  {
   "cell_type": "code",
   "execution_count": 103,
   "metadata": {},
   "outputs": [
    {
     "name": "stdout",
     "output_type": "stream",
     "text": [
      "['000', '110volt', '15mins', '1n4007', '24cm', '352', '4c', '61', '85awasserleitungszufuhr', 'aandrijfsnoertje']\n"
     ]
    }
   ],
   "source": [
    "words = bagofwords.get_feature_names_out()\n",
    "some_indices = range(1, 1000, round(1000/10))\n",
    "\n",
    "samples = [words[i] for i in some_indices]\n",
    "print(samples)"
   ]
  },
  {
   "cell_type": "code",
   "execution_count": 104,
   "metadata": {},
   "outputs": [
    {
     "data": {
      "text/html": [
       "<div>\n",
       "<style scoped>\n",
       "    .dataframe tbody tr th:only-of-type {\n",
       "        vertical-align: middle;\n",
       "    }\n",
       "\n",
       "    .dataframe tbody tr th {\n",
       "        vertical-align: top;\n",
       "    }\n",
       "\n",
       "    .dataframe thead th {\n",
       "        text-align: right;\n",
       "    }\n",
       "</style>\n",
       "<table border=\"1\" class=\"dataframe\">\n",
       "  <thead>\n",
       "    <tr style=\"text-align: right;\">\n",
       "      <th></th>\n",
       "      <th>000</th>\n",
       "      <th>110volt</th>\n",
       "      <th>15mins</th>\n",
       "      <th>1n4007</th>\n",
       "      <th>24cm</th>\n",
       "      <th>352</th>\n",
       "      <th>4c</th>\n",
       "      <th>61</th>\n",
       "      <th>85awasserleitungszufuhr</th>\n",
       "      <th>aandrijfsnoertje</th>\n",
       "    </tr>\n",
       "  </thead>\n",
       "  <tbody>\n",
       "    <tr>\n",
       "      <th>total_corpus_count</th>\n",
       "      <td>1</td>\n",
       "      <td>2</td>\n",
       "      <td>1</td>\n",
       "      <td>1</td>\n",
       "      <td>1</td>\n",
       "      <td>1</td>\n",
       "      <td>1</td>\n",
       "      <td>2</td>\n",
       "      <td>1</td>\n",
       "      <td>1</td>\n",
       "    </tr>\n",
       "  </tbody>\n",
       "</table>\n",
       "</div>"
      ],
      "text/plain": [
       "                    000  110volt  15mins  1n4007  24cm  352  4c  61  \\\n",
       "total_corpus_count    1        2       1       1     1    1   1   2   \n",
       "\n",
       "                    85awasserleitungszufuhr  aandrijfsnoertje  \n",
       "total_corpus_count                        1                 1  "
      ]
     },
     "metadata": {},
     "output_type": "display_data"
    }
   ],
   "source": [
    "counts = np.array(X_train_transformed[:, some_indices].sum(axis = 0))\n",
    "\n",
    "display(pd.DataFrame({\"total_corpus_count\": counts[0]}, index=samples).T)"
   ]
  },
  {
   "cell_type": "code",
   "execution_count": 105,
   "metadata": {},
   "outputs": [
    {
     "data": {
      "text/plain": [
       "37257"
      ]
     },
     "execution_count": 105,
     "metadata": {},
     "output_type": "execute_result"
    }
   ],
   "source": [
    "len(bagofwords.get_feature_names_out())"
   ]
  },
  {
   "cell_type": "code",
   "execution_count": 106,
   "metadata": {},
   "outputs": [
    {
     "data": {
      "text/plain": [
       "array([6, 1, 1, ..., 1, 1, 2], dtype=int64)"
      ]
     },
     "execution_count": 106,
     "metadata": {},
     "output_type": "execute_result"
    }
   ],
   "source": [
    "X_train_transformed.toarray().sum(axis=0)"
   ]
  },
  {
   "cell_type": "markdown",
   "metadata": {},
   "source": [
    "bar graph of the Top 20 most frequently occurring words"
   ]
  },
  {
   "cell_type": "code",
<<<<<<< HEAD
   "execution_count": 127,
   "metadata": {},
   "outputs": [
    {
     "data": {
      "image/png": "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",
=======
   "execution_count": 107,
   "metadata": {},
   "outputs": [
    {
     "ename": "NameError",
     "evalue": "name 'plt' is not defined",
     "output_type": "error",
     "traceback": [
      "\u001b[1;31m---------------------------------------------------------------------------\u001b[0m",
      "\u001b[1;31mNameError\u001b[0m                                 Traceback (most recent call last)",
      "\u001b[1;32mc:\\Users\\User\\Desktop\\BrainStation-Data-Science-Capstone\\Notebooks\\Andrew_Chau_BrainStation_DS_Capstone.ipynb Cell 141\u001b[0m in \u001b[0;36m<cell line: 7>\u001b[1;34m()\u001b[0m\n\u001b[0;32m      <a href='vscode-notebook-cell:/c%3A/Users/User/Desktop/BrainStation-Data-Science-Capstone/Notebooks/Andrew_Chau_BrainStation_DS_Capstone.ipynb#Y234sZmlsZQ%3D%3D?line=0'>1</a>\u001b[0m word_counts \u001b[39m=\u001b[39m pd\u001b[39m.\u001b[39mDataFrame(\n\u001b[0;32m      <a href='vscode-notebook-cell:/c%3A/Users/User/Desktop/BrainStation-Data-Science-Capstone/Notebooks/Andrew_Chau_BrainStation_DS_Capstone.ipynb#Y234sZmlsZQ%3D%3D?line=1'>2</a>\u001b[0m     {\u001b[39m\"\u001b[39m\u001b[39mcounts\u001b[39m\u001b[39m\"\u001b[39m: X_train_transformed\u001b[39m.\u001b[39mtoarray()\u001b[39m.\u001b[39msum(axis\u001b[39m=\u001b[39m\u001b[39m0\u001b[39m)},\n\u001b[0;32m      <a href='vscode-notebook-cell:/c%3A/Users/User/Desktop/BrainStation-Data-Science-Capstone/Notebooks/Andrew_Chau_BrainStation_DS_Capstone.ipynb#Y234sZmlsZQ%3D%3D?line=2'>3</a>\u001b[0m     index\u001b[39m=\u001b[39mbagofwords\u001b[39m.\u001b[39mget_feature_names_out()\n\u001b[0;32m      <a href='vscode-notebook-cell:/c%3A/Users/User/Desktop/BrainStation-Data-Science-Capstone/Notebooks/Andrew_Chau_BrainStation_DS_Capstone.ipynb#Y234sZmlsZQ%3D%3D?line=3'>4</a>\u001b[0m )\u001b[39m.\u001b[39msort_values(\u001b[39m\"\u001b[39m\u001b[39mcounts\u001b[39m\u001b[39m\"\u001b[39m, ascending\u001b[39m=\u001b[39m\u001b[39mFalse\u001b[39;00m)\n\u001b[0;32m      <a href='vscode-notebook-cell:/c%3A/Users/User/Desktop/BrainStation-Data-Science-Capstone/Notebooks/Andrew_Chau_BrainStation_DS_Capstone.ipynb#Y234sZmlsZQ%3D%3D?line=5'>6</a>\u001b[0m word_counts\u001b[39m.\u001b[39mhead(\u001b[39m20\u001b[39m)\u001b[39m.\u001b[39mplot(kind\u001b[39m=\u001b[39m\u001b[39m\"\u001b[39m\u001b[39mbar\u001b[39m\u001b[39m\"\u001b[39m, figsize\u001b[39m=\u001b[39m(\u001b[39m15\u001b[39m, \u001b[39m5\u001b[39m), legend\u001b[39m=\u001b[39m\u001b[39mFalse\u001b[39;00m)\n\u001b[1;32m----> <a href='vscode-notebook-cell:/c%3A/Users/User/Desktop/BrainStation-Data-Science-Capstone/Notebooks/Andrew_Chau_BrainStation_DS_Capstone.ipynb#Y234sZmlsZQ%3D%3D?line=6'>7</a>\u001b[0m plt\u001b[39m.\u001b[39mtitle(\u001b[39m\"\u001b[39m\u001b[39mTop 20 most frequently occurring words\u001b[39m\u001b[39m\"\u001b[39m)\n\u001b[0;32m      <a href='vscode-notebook-cell:/c%3A/Users/User/Desktop/BrainStation-Data-Science-Capstone/Notebooks/Andrew_Chau_BrainStation_DS_Capstone.ipynb#Y234sZmlsZQ%3D%3D?line=7'>8</a>\u001b[0m plt\u001b[39m.\u001b[39mylabel(\u001b[39m\"\u001b[39m\u001b[39mCount\u001b[39m\u001b[39m\"\u001b[39m)\n\u001b[0;32m      <a href='vscode-notebook-cell:/c%3A/Users/User/Desktop/BrainStation-Data-Science-Capstone/Notebooks/Andrew_Chau_BrainStation_DS_Capstone.ipynb#Y234sZmlsZQ%3D%3D?line=8'>9</a>\u001b[0m plt\u001b[39m.\u001b[39mxticks(rotation\u001b[39m=\u001b[39m\u001b[39m45\u001b[39m)\n",
      "\u001b[1;31mNameError\u001b[0m: name 'plt' is not defined"
     ]
    },
    {
     "data": {
      "image/png": "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",
>>>>>>> 27c223d9e5a175188b20e39dbab80ac857f6abf6
      "text/plain": [
       "<Figure size 1500x500 with 1 Axes>"
      ]
     },
     "metadata": {},
     "output_type": "display_data"
    }
   ],
   "source": [
    "word_counts = pd.DataFrame(\n",
    "    {\"counts\": X_train_transformed.toarray().sum(axis=0)},\n",
    "    index=bagofwords.get_feature_names_out()\n",
    ").sort_values(\"counts\", ascending=False)\n",
    "\n",
    "word_counts.head(20).plot(kind=\"bar\", figsize=(15, 5), legend=False)\n",
    "plt.title(\"Top 20 most frequently occurring words\")\n",
    "plt.ylabel(\"Count\")\n",
    "plt.xticks(rotation=45)\n",
    "plt.show()"
   ]
  },
  {
   "cell_type": "markdown",
   "metadata": {},
   "source": [
    "removing English stop words"
   ]
  },
  {
   "cell_type": "code",
<<<<<<< HEAD
   "execution_count": 128,
=======
   "execution_count": 108,
>>>>>>> 27c223d9e5a175188b20e39dbab80ac857f6abf6
   "metadata": {},
   "outputs": [
    {
     "data": {
      "text/plain": [
       "(69060, 36997)"
      ]
     },
<<<<<<< HEAD
     "execution_count": 128,
=======
     "execution_count": 108,
>>>>>>> 27c223d9e5a175188b20e39dbab80ac857f6abf6
     "metadata": {},
     "output_type": "execute_result"
    }
   ],
   "source": [
    "bagofwords = CountVectorizer(stop_words=\"english\")\n",
    "bagofwords.fit(X_train)\n",
    "\n",
    "X_train_transformed = bagofwords.transform(X_train) \n",
    "X_test_transformed = bagofwords.transform(X_test) \n",
    "\n",
    "X_train_transformed.shape"
   ]
  },
  {
   "cell_type": "markdown",
   "metadata": {},
   "source": [
    "bar graph of the Top 20 most frequently occurring words"
   ]
  },
  {
   "cell_type": "code",
<<<<<<< HEAD
   "execution_count": 129,
   "metadata": {},
   "outputs": [
    {
     "data": {
      "image/png": "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",
=======
   "execution_count": 109,
   "metadata": {},
   "outputs": [
    {
     "ename": "NameError",
     "evalue": "name 'plt' is not defined",
     "output_type": "error",
     "traceback": [
      "\u001b[1;31m---------------------------------------------------------------------------\u001b[0m",
      "\u001b[1;31mNameError\u001b[0m                                 Traceback (most recent call last)",
      "\u001b[1;32mc:\\Users\\User\\Desktop\\BrainStation-Data-Science-Capstone\\Notebooks\\Andrew_Chau_BrainStation_DS_Capstone.ipynb Cell 145\u001b[0m in \u001b[0;36m<cell line: 7>\u001b[1;34m()\u001b[0m\n\u001b[0;32m      <a href='vscode-notebook-cell:/c%3A/Users/User/Desktop/BrainStation-Data-Science-Capstone/Notebooks/Andrew_Chau_BrainStation_DS_Capstone.ipynb#Y241sZmlsZQ%3D%3D?line=0'>1</a>\u001b[0m word_counts \u001b[39m=\u001b[39m pd\u001b[39m.\u001b[39mDataFrame(\n\u001b[0;32m      <a href='vscode-notebook-cell:/c%3A/Users/User/Desktop/BrainStation-Data-Science-Capstone/Notebooks/Andrew_Chau_BrainStation_DS_Capstone.ipynb#Y241sZmlsZQ%3D%3D?line=1'>2</a>\u001b[0m     {\u001b[39m\"\u001b[39m\u001b[39mcounts\u001b[39m\u001b[39m\"\u001b[39m: X_train_transformed\u001b[39m.\u001b[39mtoarray()\u001b[39m.\u001b[39msum(axis\u001b[39m=\u001b[39m\u001b[39m0\u001b[39m)},\n\u001b[0;32m      <a href='vscode-notebook-cell:/c%3A/Users/User/Desktop/BrainStation-Data-Science-Capstone/Notebooks/Andrew_Chau_BrainStation_DS_Capstone.ipynb#Y241sZmlsZQ%3D%3D?line=2'>3</a>\u001b[0m     index\u001b[39m=\u001b[39mbagofwords\u001b[39m.\u001b[39mget_feature_names_out()\n\u001b[0;32m      <a href='vscode-notebook-cell:/c%3A/Users/User/Desktop/BrainStation-Data-Science-Capstone/Notebooks/Andrew_Chau_BrainStation_DS_Capstone.ipynb#Y241sZmlsZQ%3D%3D?line=3'>4</a>\u001b[0m )\u001b[39m.\u001b[39msort_values(\u001b[39m\"\u001b[39m\u001b[39mcounts\u001b[39m\u001b[39m\"\u001b[39m, ascending\u001b[39m=\u001b[39m\u001b[39mFalse\u001b[39;00m)\n\u001b[0;32m      <a href='vscode-notebook-cell:/c%3A/Users/User/Desktop/BrainStation-Data-Science-Capstone/Notebooks/Andrew_Chau_BrainStation_DS_Capstone.ipynb#Y241sZmlsZQ%3D%3D?line=5'>6</a>\u001b[0m word_counts\u001b[39m.\u001b[39mhead(\u001b[39m20\u001b[39m)\u001b[39m.\u001b[39mplot(kind\u001b[39m=\u001b[39m\u001b[39m\"\u001b[39m\u001b[39mbar\u001b[39m\u001b[39m\"\u001b[39m, figsize\u001b[39m=\u001b[39m(\u001b[39m15\u001b[39m, \u001b[39m5\u001b[39m), legend\u001b[39m=\u001b[39m\u001b[39mFalse\u001b[39;00m)\n\u001b[1;32m----> <a href='vscode-notebook-cell:/c%3A/Users/User/Desktop/BrainStation-Data-Science-Capstone/Notebooks/Andrew_Chau_BrainStation_DS_Capstone.ipynb#Y241sZmlsZQ%3D%3D?line=6'>7</a>\u001b[0m plt\u001b[39m.\u001b[39mtitle(\u001b[39m\"\u001b[39m\u001b[39mTop 20 most frequently occurring words\u001b[39m\u001b[39m\"\u001b[39m)\n\u001b[0;32m      <a href='vscode-notebook-cell:/c%3A/Users/User/Desktop/BrainStation-Data-Science-Capstone/Notebooks/Andrew_Chau_BrainStation_DS_Capstone.ipynb#Y241sZmlsZQ%3D%3D?line=7'>8</a>\u001b[0m plt\u001b[39m.\u001b[39mylabel(\u001b[39m\"\u001b[39m\u001b[39mCount\u001b[39m\u001b[39m\"\u001b[39m)\n\u001b[0;32m      <a href='vscode-notebook-cell:/c%3A/Users/User/Desktop/BrainStation-Data-Science-Capstone/Notebooks/Andrew_Chau_BrainStation_DS_Capstone.ipynb#Y241sZmlsZQ%3D%3D?line=8'>9</a>\u001b[0m plt\u001b[39m.\u001b[39mxticks(rotation\u001b[39m=\u001b[39m\u001b[39m45\u001b[39m)\n",
      "\u001b[1;31mNameError\u001b[0m: name 'plt' is not defined"
     ]
    },
    {
     "data": {
      "image/png": "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",
>>>>>>> 27c223d9e5a175188b20e39dbab80ac857f6abf6
      "text/plain": [
       "<Figure size 1500x500 with 1 Axes>"
      ]
     },
     "metadata": {},
     "output_type": "display_data"
    }
   ],
   "source": [
    "word_counts = pd.DataFrame(\n",
    "    {\"counts\": X_train_transformed.toarray().sum(axis=0)},\n",
    "    index=bagofwords.get_feature_names_out()\n",
    ").sort_values(\"counts\", ascending=False)\n",
    "\n",
    "word_counts.head(20).plot(kind=\"bar\", figsize=(15, 5), legend=False)\n",
    "plt.title(\"Top 20 most frequently occurring words\")\n",
    "plt.ylabel(\"Count\")\n",
    "plt.xticks(rotation=45)\n",
    "plt.show()"
   ]
  },
  {
   "cell_type": "code",
   "execution_count": 111,
   "metadata": {},
   "outputs": [
    {
     "data": {
      "text/plain": [
       "<34016x36997 sparse matrix of type '<class 'numpy.int64'>'\n",
       "\twith 211298 stored elements in Compressed Sparse Row format>"
      ]
     },
     "execution_count": 111,
     "metadata": {},
     "output_type": "execute_result"
    }
   ],
   "source": [
    "X_test_transformed = bagofwords.transform(X_test)\n",
    "X_test_transformed"
   ]
  },
  {
   "cell_type": "code",
   "execution_count": 116,
   "metadata": {},
   "outputs": [
    {
     "name": "stdout",
     "output_type": "stream",
     "text": [
      "['000', '220', '70', 'abdichten', 'activer', 'akkoord', 'angeboten', 'appartaat', 'aufheizungsstellen', 'außenuhr', 'bassausgang', 'bekannte', 'beule', 'blockiertdrehkoachsen', 'branchement', 'burned', 'cassettedoesn', 'chuté', 'componant', 'controller', 'custyomer', 'defektes', 'dew', 'disponible', 'draaiende', 'durchgängen', 'e10', 'einschaltimpuls', 'enclencher', 'erhältlich', 'example', 'faultes', 'finding', 'foodprocessor', 'funktionkontakte', 'gecontroleerd', 'gemeinsamen', 'gestagneerd', 'goes', 'haarschneidemaschine', 'heitelement', 'hjapert', 'idde', 'ingesmeerd', 'internetverbinding', 'joy', 'ken', 'knethaken', 'koolstoffilter', 'laadde', 'lautsprechers', 'lichtblitz', 'loquet', 'magentic', 'mearly', 'mid', 'montagepunt', 'naaigaren', 'netzfilter', 'noticeable', 'omega', 'opgegeten', 'outputs', 'partiellement', 'pick', 'pocos', 'presenter', 'provisoire', 'radiowecker', 'recognising', 'rekstrook', 'resets', 'ritdisplay', 'réduction', 'schaalwijzer', 'schnürre', 'segni', 'shut', 'sluitingen', 'soto', 'spoor', 'steckerstecker', 'straightners', 'superglued', 'tandriempje', 'teruggewurmd', 'tischlampe', 'transporteren', 'türschalter', 'universalmixer', 'vanop', 'vergleich', 'versnellingskabel', 'vindbaar', 'vorgefunden', 'wandlampe', 'weile', 'wirkung', 'zeige', 'zuverlässige']\n"
     ]
    }
   ],
   "source": [
    "words = bagofwords.get_feature_names_out()\n",
    "some_indices = range(1, 36997, round(36997/100))\n",
    "\n",
    "samples = [words[i] for i in some_indices]\n",
    "print(samples)"
   ]
  },
  {
   "cell_type": "code",
   "execution_count": 117,
   "metadata": {},
   "outputs": [
    {
     "data": {
      "text/html": [
       "<div>\n",
       "<style scoped>\n",
       "    .dataframe tbody tr th:only-of-type {\n",
       "        vertical-align: middle;\n",
       "    }\n",
       "\n",
       "    .dataframe tbody tr th {\n",
       "        vertical-align: top;\n",
       "    }\n",
       "\n",
       "    .dataframe thead th {\n",
       "        text-align: right;\n",
       "    }\n",
       "</style>\n",
       "<table border=\"1\" class=\"dataframe\">\n",
       "  <thead>\n",
       "    <tr style=\"text-align: right;\">\n",
       "      <th></th>\n",
       "      <th>000</th>\n",
       "      <th>220</th>\n",
       "      <th>70</th>\n",
       "      <th>abdichten</th>\n",
       "      <th>activer</th>\n",
       "      <th>akkoord</th>\n",
       "      <th>angeboten</th>\n",
       "      <th>appartaat</th>\n",
       "      <th>aufheizungsstellen</th>\n",
       "      <th>außenuhr</th>\n",
       "      <th>...</th>\n",
       "      <th>vanop</th>\n",
       "      <th>vergleich</th>\n",
       "      <th>versnellingskabel</th>\n",
       "      <th>vindbaar</th>\n",
       "      <th>vorgefunden</th>\n",
       "      <th>wandlampe</th>\n",
       "      <th>weile</th>\n",
       "      <th>wirkung</th>\n",
       "      <th>zeige</th>\n",
       "      <th>zuverlässige</th>\n",
       "    </tr>\n",
       "  </thead>\n",
       "  <tbody>\n",
       "    <tr>\n",
       "      <th>total_corpus_count</th>\n",
       "      <td>1</td>\n",
       "      <td>15</td>\n",
       "      <td>11</td>\n",
       "      <td>1</td>\n",
       "      <td>5</td>\n",
       "      <td>1</td>\n",
       "      <td>2</td>\n",
       "      <td>1</td>\n",
       "      <td>1</td>\n",
       "      <td>1</td>\n",
       "      <td>...</td>\n",
       "      <td>1</td>\n",
       "      <td>1</td>\n",
       "      <td>1</td>\n",
       "      <td>4</td>\n",
       "      <td>1</td>\n",
       "      <td>1</td>\n",
       "      <td>11</td>\n",
       "      <td>1</td>\n",
       "      <td>1</td>\n",
       "      <td>1</td>\n",
       "    </tr>\n",
       "  </tbody>\n",
       "</table>\n",
       "<p>1 rows × 100 columns</p>\n",
       "</div>"
      ],
      "text/plain": [
       "                    000  220  70  abdichten  activer  akkoord  angeboten  \\\n",
       "total_corpus_count    1   15  11          1        5        1          2   \n",
       "\n",
       "                    appartaat  aufheizungsstellen  außenuhr  ...  vanop  \\\n",
       "total_corpus_count          1                   1         1  ...      1   \n",
       "\n",
       "                    vergleich  versnellingskabel  vindbaar  vorgefunden  \\\n",
       "total_corpus_count          1                  1         4            1   \n",
       "\n",
       "                    wandlampe  weile  wirkung  zeige  zuverlässige  \n",
       "total_corpus_count          1     11        1      1             1  \n",
       "\n",
       "[1 rows x 100 columns]"
      ]
     },
     "metadata": {},
     "output_type": "display_data"
    }
   ],
   "source": [
    "counts = np.array(X_train_transformed[:, some_indices].sum(axis = 0))\n",
    "display(pd.DataFrame({\"total_corpus_count\": counts[0]}, index=samples).T)"
   ]
  },
  {
   "cell_type": "code",
   "execution_count": 118,
   "metadata": {},
   "outputs": [
    {
     "data": {
      "text/plain": [
       "36997"
      ]
     },
     "execution_count": 118,
     "metadata": {},
     "output_type": "execute_result"
    }
   ],
   "source": [
    "len(bagofwords.get_feature_names_out())"
   ]
  },
  {
   "cell_type": "code",
   "execution_count": 119,
   "metadata": {},
   "outputs": [
    {
     "data": {
      "text/plain": [
       "array([6, 1, 1, ..., 1, 1, 2], dtype=int64)"
      ]
     },
     "execution_count": 119,
     "metadata": {},
     "output_type": "execute_result"
    }
   ],
   "source": [
    "X_train_transformed.toarray().sum(axis=0)"
   ]
  },
  {
   "cell_type": "code",
<<<<<<< HEAD
   "execution_count": 130,
   "metadata": {},
   "outputs": [
    {
     "data": {
      "image/png": "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",
=======
   "execution_count": 122,
   "metadata": {},
   "outputs": [
    {
     "ename": "NameError",
     "evalue": "name 'plt' is not defined",
     "output_type": "error",
     "traceback": [
      "\u001b[1;31m---------------------------------------------------------------------------\u001b[0m",
      "\u001b[1;31mNameError\u001b[0m                                 Traceback (most recent call last)",
      "\u001b[1;32mc:\\Users\\User\\Desktop\\BrainStation-Data-Science-Capstone\\Notebooks\\Andrew_Chau_BrainStation_DS_Capstone.ipynb Cell 151\u001b[0m in \u001b[0;36m<cell line: 7>\u001b[1;34m()\u001b[0m\n\u001b[0;32m      <a href='vscode-notebook-cell:/c%3A/Users/User/Desktop/BrainStation-Data-Science-Capstone/Notebooks/Andrew_Chau_BrainStation_DS_Capstone.ipynb#Y344sZmlsZQ%3D%3D?line=0'>1</a>\u001b[0m word_counts \u001b[39m=\u001b[39m pd\u001b[39m.\u001b[39mDataFrame(\n\u001b[0;32m      <a href='vscode-notebook-cell:/c%3A/Users/User/Desktop/BrainStation-Data-Science-Capstone/Notebooks/Andrew_Chau_BrainStation_DS_Capstone.ipynb#Y344sZmlsZQ%3D%3D?line=1'>2</a>\u001b[0m     {\u001b[39m\"\u001b[39m\u001b[39mcounts\u001b[39m\u001b[39m\"\u001b[39m: X_train_transformed\u001b[39m.\u001b[39mtoarray()\u001b[39m.\u001b[39msum(axis\u001b[39m=\u001b[39m\u001b[39m0\u001b[39m)},\n\u001b[0;32m      <a href='vscode-notebook-cell:/c%3A/Users/User/Desktop/BrainStation-Data-Science-Capstone/Notebooks/Andrew_Chau_BrainStation_DS_Capstone.ipynb#Y344sZmlsZQ%3D%3D?line=2'>3</a>\u001b[0m     index\u001b[39m=\u001b[39mbagofwords\u001b[39m.\u001b[39mget_feature_names_out()\n\u001b[0;32m      <a href='vscode-notebook-cell:/c%3A/Users/User/Desktop/BrainStation-Data-Science-Capstone/Notebooks/Andrew_Chau_BrainStation_DS_Capstone.ipynb#Y344sZmlsZQ%3D%3D?line=3'>4</a>\u001b[0m )\u001b[39m.\u001b[39msort_values(\u001b[39m\"\u001b[39m\u001b[39mcounts\u001b[39m\u001b[39m\"\u001b[39m, ascending\u001b[39m=\u001b[39m\u001b[39mFalse\u001b[39;00m)\n\u001b[0;32m      <a href='vscode-notebook-cell:/c%3A/Users/User/Desktop/BrainStation-Data-Science-Capstone/Notebooks/Andrew_Chau_BrainStation_DS_Capstone.ipynb#Y344sZmlsZQ%3D%3D?line=5'>6</a>\u001b[0m word_counts\u001b[39m.\u001b[39mhead(\u001b[39m50\u001b[39m)\u001b[39m.\u001b[39mplot(kind\u001b[39m=\u001b[39m\u001b[39m\"\u001b[39m\u001b[39mbar\u001b[39m\u001b[39m\"\u001b[39m, figsize\u001b[39m=\u001b[39m(\u001b[39m15\u001b[39m, \u001b[39m5\u001b[39m), legend\u001b[39m=\u001b[39m\u001b[39mFalse\u001b[39;00m)\n\u001b[1;32m----> <a href='vscode-notebook-cell:/c%3A/Users/User/Desktop/BrainStation-Data-Science-Capstone/Notebooks/Andrew_Chau_BrainStation_DS_Capstone.ipynb#Y344sZmlsZQ%3D%3D?line=6'>7</a>\u001b[0m plt\u001b[39m.\u001b[39mtitle(\u001b[39m\"\u001b[39m\u001b[39mTop 20 most frequently occurring words\u001b[39m\u001b[39m\"\u001b[39m)\n\u001b[0;32m      <a href='vscode-notebook-cell:/c%3A/Users/User/Desktop/BrainStation-Data-Science-Capstone/Notebooks/Andrew_Chau_BrainStation_DS_Capstone.ipynb#Y344sZmlsZQ%3D%3D?line=7'>8</a>\u001b[0m plt\u001b[39m.\u001b[39mylabel(\u001b[39m\"\u001b[39m\u001b[39mCount\u001b[39m\u001b[39m\"\u001b[39m)\n\u001b[0;32m      <a href='vscode-notebook-cell:/c%3A/Users/User/Desktop/BrainStation-Data-Science-Capstone/Notebooks/Andrew_Chau_BrainStation_DS_Capstone.ipynb#Y344sZmlsZQ%3D%3D?line=8'>9</a>\u001b[0m plt\u001b[39m.\u001b[39mxticks(rotation\u001b[39m=\u001b[39m\u001b[39m45\u001b[39m)\n",
      "\u001b[1;31mNameError\u001b[0m: name 'plt' is not defined"
     ]
    },
    {
     "data": {
      "image/png": "iVBORw0KGgoAAAANSUhEUgAABNQAAAINCAYAAAD2qSJUAAAABHNCSVQICAgIfAhkiAAAAAlwSFlzAAAPYQAAD2EBqD+naQAAADh0RVh0U29mdHdhcmUAbWF0cGxvdGxpYiB2ZXJzaW9uMy4yLjIsIGh0dHA6Ly9tYXRwbG90bGliLm9yZy+WH4yJAAAgAElEQVR4nOz9f5xWdZ0//j/GGfn5hpEfb2Zko8AisrAiLAR7K77FXwuR63u1Ft9TpoG9LQkVTW5UNywFl12QXbnlormCodFum7ulG4JWtAb+CEPFCG8ZKLQgVsOgRoDj+f7hh+vrgJiHmQHR+/12Oze5znlez+t1Lq+55lyPeZ3rVBVFUQQAAAAAeF0OO9gDAAAAAIBDiUANAAAAAEoQqAEAAABACQI1AAAAAChBoAYAAAAAJQjUAAAAAKAEgRoAAAAAlFBzsAdwML300kv57//+73Tr1i1VVVUHezgAAAAAHERFUeS5555L3759c9hh+56H9pYO1P77v/87/fr1O9jDAAAAAOANZMOGDXnb2962z+1v6UCtW7duSV5+krp3736QRwMAAADAwbRt27b069evkhnty1s6UNt9mmf37t0FagAAAAAkyZ/9ajAXJQAAAACAEgRqAAAAAFCCQA0AAAAAShCoAQAAAEAJAjUAAAAAKEGgBgAAAAAlCNQAAAAAoASBGgAAAACUIFADAAAAgBIEagAAAABQgkANAAAAAEoQqAEAAABACQI1AAAAAChBoAYAAAAAJQjUAAAAAKAEgRoAAAAAlFBzsAfwRtX/yrtK1a+/dnQ7jQQAAACANxIz1AAAAACgBIEaAAAAAJQgUAMAAACAEgRqAAAAAFCCQA0AAAAAShCoAQAAAEAJAjUAAAAAKEGgBgAAAAAlCNQAAAAAoASBGgAAAACUIFADAAAAgBIEagAAAABQgkANAAAAAEoQqAEAAABACQI1AAAAAChBoAYAAAAAJQjUAAAAAKAEgRoAAAAAlCBQAwAAAIASBGoAAAAAUIJADQAAAABKEKgBAAAAQAkCNQAAAAAoQaAGAAAAACUI1AAAAACgBIEaAAAAAJQgUAMAAACAEgRqAAAAAFBCzcEewFtR/yvvKlW//trR7TQSAAAAAMoqPUPtpz/9aT72sY+lb9++qaqqyr//+7+32F4URaZNm5a+ffumc+fOGTlyZB5//PEWNTt27MjFF1+c3r17p2vXrhk7dmw2btzYoqaxsTENDQ2pra1NbW1tGhoasnXr1hY1Tz/9dD72sY+la9eu6d27dyZOnJidO3eW3SUAAAAAeN1KB2ovvPBCPvCBD2Tu3Lmvun3mzJmZPXt25s6dm4ceeij19fU55ZRT8txzz1VqJk2alDvuuCOLFi3Kfffdl+effz5jxoxJc3NzpWbcuHFZtWpVFi9enMWLF2fVqlVpaGiobG9ubs7o0aPzwgsv5L777suiRYvyb//2b7nsssvK7hIAAAAAvG6lT/k844wzcsYZZ7zqtqIoMmfOnEydOjVnnXVWkmTBggWpq6vL7bffngsvvDBNTU25+eab861vfSujRo1KkixcuDD9+vXLPffck9NOOy1r1qzJ4sWLc//992fYsGFJkptuuinDhw/P2rVrM2jQoCxZsiS//OUvs2HDhvTt2zdJMmvWrJx33nm55ppr0r179/16QgAAAADgtbTpRQnWrVuXzZs359RTT62s69ixY0488cQsX748SbJy5crs2rWrRU3fvn0zePDgSs2KFStSW1tbCdOS5LjjjkttbW2LmsGDB1fCtCQ57bTTsmPHjqxcufJVx7djx45s27atxQIAAAAAZbRpoLZ58+YkSV1dXYv1dXV1lW2bN29Ohw4d0qNHj9es6dOnz179+/Tp06Jmz8fp0aNHOnToUKnZ04wZMyrfyVZbW5t+/frtx14CAAAA8FbWpoHablVVVS1uF0Wx17o97VnzavX7U/NKU6ZMSVNTU2XZsGHDa44JAAAAAPbUpoFafX19kuw1Q2zLli2V2WT19fXZuXNnGhsbX7PmmWee2av/s88+26Jmz8dpbGzMrl279pq5tlvHjh3TvXv3FgsAAAAAlNGmgdqAAQNSX1+fpUuXVtbt3Lkzy5Yty4gRI5IkQ4cOzeGHH96iZtOmTVm9enWlZvjw4WlqasqDDz5YqXnggQfS1NTUomb16tXZtGlTpWbJkiXp2LFjhg4d2pa7BQAAAAAVpa/y+fzzz+fXv/515fa6deuyatWq9OzZM29/+9szadKkTJ8+PQMHDszAgQMzffr0dOnSJePGjUuS1NbW5oILLshll12WXr16pWfPnpk8eXKOOeaYylU/jz766Jx++ukZP3585s2blySZMGFCxowZk0GDBiVJTj311Lz3ve9NQ0ND/u7v/i5/+MMfMnny5IwfP97MMwAAAADaTelA7ec//3lOOumkyu1LL700SfLpT3868+fPzxVXXJHt27fnoosuSmNjY4YNG5YlS5akW7dulftcd911qampyTnnnJPt27fn5JNPzvz581NdXV2pue222zJx4sTK1UDHjh2buXPnVrZXV1fnrrvuykUXXZTjjz8+nTt3zrhx4/L3f//35Z8FAAAAAHidqoqiKA72IA6Wbdu2pba2Nk1NTXvNaut/5V2leq2/dvTrrm3P3gAAAADsn9fKil6pXa7yCQAAAABvVgI1AAAAAChBoAYAAAAAJQjUAAAAAKAEgRoAAAAAlCBQAwAAAIASBGoAAAAAUIJADQAAAABKEKgBAAAAQAkCNQAAAAAoQaAGAAAAACUI1AAAAACgBIEaAAAAAJQgUAMAAACAEgRqAAAAAFCCQA0AAAAAShCoAQAAAEAJAjUAAAAAKEGgBgAAAAAlCNQAAAAAoASBGgAAAACUIFADAAAAgBIEagAAAABQgkANAAAAAEoQqAEAAABACQI1AAAAAChBoAYAAAAAJQjUAAAAAKAEgRoAAAAAlCBQAwAAAIASBGoAAAAAUIJADQAAAABKEKgBAAAAQAkCNQAAAAAoQaAGAAAAACUI1AAAAACgBIEaAAAAAJQgUAMAAACAEgRqAAAAAFCCQA0AAAAAShCoAQAAAEAJAjUAAAAAKEGgBgAAAAAlCNQAAAAAoASBGgAAAACUIFADAAAAgBIEagAAAABQgkANAAAAAEoQqAEAAABACQI1AAAAAChBoAYAAAAAJQjUAAAAAKAEgRoAAAAAlCBQAwAAAIASBGoAAAAAUEKbB2ovvvhivvzlL2fAgAHp3LlzjjrqqHzta1/LSy+9VKkpiiLTpk1L375907lz54wcOTKPP/54iz47duzIxRdfnN69e6dr164ZO3ZsNm7c2KKmsbExDQ0Nqa2tTW1tbRoaGrJ169a23iUAAAAAqGjzQO1v//Zv80//9E+ZO3du1qxZk5kzZ+bv/u7vcv3111dqZs6cmdmzZ2fu3Ll56KGHUl9fn1NOOSXPPfdcpWbSpEm54447smjRotx33315/vnnM2bMmDQ3N1dqxo0bl1WrVmXx4sVZvHhxVq1alYaGhrbeJQAAAACoqGnrhitWrMjHP/7xjB49OknSv3//fPvb387Pf/7zJC/PTpszZ06mTp2as846K0myYMGC1NXV5fbbb8+FF16Ypqam3HzzzfnWt76VUaNGJUkWLlyYfv365Z577slpp52WNWvWZPHixbn//vszbNiwJMlNN92U4cOHZ+3atRk0aFBb7xoAAAAAtP0MtY9+9KO5995788QTTyRJHnnkkdx33335y7/8yyTJunXrsnnz5px66qmV+3Ts2DEnnnhili9fniRZuXJldu3a1aKmb9++GTx4cKVmxYoVqa2trYRpSXLccceltra2UrOnHTt2ZNu2bS0WAAAAACijzWeofelLX0pTU1Pe8573pLq6Os3NzbnmmmvyN3/zN0mSzZs3J0nq6upa3K+uri5PPfVUpaZDhw7p0aPHXjW777958+b06dNnr8fv06dPpWZPM2bMyFVXXdW6HQQAAADgLa3NZ6h95zvfycKFC3P77bfn4YcfzoIFC/L3f//3WbBgQYu6qqqqFreLothr3Z72rHm1+tfqM2XKlDQ1NVWWDRs2vN7dAgAAAIAk7TBD7fLLL8+VV16ZT37yk0mSY445Jk899VRmzJiRT3/606mvr0/y8gyzI488snK/LVu2VGat1dfXZ+fOnWlsbGwxS23Lli0ZMWJEpeaZZ57Z6/GfffbZvWa/7daxY8d07NixbXYUAAAAgLekNp+h9sc//jGHHdaybXV1dV566aUkyYABA1JfX5+lS5dWtu/cuTPLli2rhGVDhw7N4Ycf3qJm06ZNWb16daVm+PDhaWpqyoMPPlipeeCBB9LU1FSpAQAAAIC21uYz1D72sY/lmmuuydvf/va8733vyy9+8YvMnj07559/fpKXT9OcNGlSpk+fnoEDB2bgwIGZPn16unTpknHjxiVJamtrc8EFF+Syyy5Lr1690rNnz0yePDnHHHNM5aqfRx99dE4//fSMHz8+8+bNS5JMmDAhY8aMcYVPAAAAANpNmwdq119/fb7yla/koosuypYtW9K3b99ceOGF+epXv1qpueKKK7J9+/ZcdNFFaWxszLBhw7JkyZJ069atUnPdddelpqYm55xzTrZv356TTz458+fPT3V1daXmtttuy8SJEytXAx07dmzmzp3b1rsEAAAAABVVRVEUB3sQB8u2bdtSW1ubpqamdO/evcW2/lfeVarX+mtHv+7a9uwNAAAAwP55razoldr8O9QAAAAA4M1MoAYAAAAAJQjUAAAAAKAEgRoAAAAAlCBQAwAAAIASBGoAAAAAUIJADQAAAABKEKgBAAAAQAkCNQAAAAAoQaAGAAAAACUI1AAAAACgBIEaAAAAAJQgUAMAAACAEgRqAAAAAFCCQA0AAAAAShCoAQAAAEAJAjUAAAAAKEGgBgAAAAAlCNQAAAAAoASBGgAAAACUIFADAAAAgBIEagAAAABQgkANAAAAAEoQqAEAAABACQI1AAAAAChBoAYAAAAAJQjUAAAAAKAEgRoAAAAAlCBQAwAAAIASBGoAAAAAUIJADQAAAABKEKgBAAAAQAkCNQAAAAAoQaAGAAAAACUI1AAAAACgBIEaAAAAAJQgUAMAAACAEgRqAAAAAFCCQA0AAAAAShCoAQAAAEAJAjUAAAAAKEGgBgAAAAAlCNQAAAAAoASBGgAAAACUIFADAAAAgBIEagAAAABQgkANAAAAAEoQqAEAAABACQI1AAAAAChBoAYAAAAAJQjUAAAAAKAEgRoAAAAAlCBQAwAAAIASBGoAAAAAUIJADQAAAABKEKgBAAAAQAntEqj99re/zf/9v/83vXr1SpcuXfLBD34wK1eurGwviiLTpk1L375907lz54wcOTKPP/54ix47duzIxRdfnN69e6dr164ZO3ZsNm7c2KKmsbExDQ0Nqa2tTW1tbRoaGrJ169b22CUAAAAASNIOgVpjY2OOP/74HH744fnhD3+YX/7yl5k1a1aOOOKISs3MmTMze/bszJ07Nw899FDq6+tzyimn5LnnnqvUTJo0KXfccUcWLVqU++67L88//3zGjBmT5ubmSs24ceOyatWqLF68OIsXL86qVavS0NDQ1rsEAAAAABU1bd3wb//2b9OvX7/ccsstlXX9+/ev/LsoisyZMydTp07NWWedlSRZsGBB6urqcvvtt+fCCy9MU1NTbr755nzrW9/KqFGjkiQLFy5Mv379cs899+S0007LmjVrsnjx4tx///0ZNmxYkuSmm27K8OHDs3bt2gwaNKitdw0AAAAA2n6G2ve///0ce+yxOfvss9OnT58MGTIkN910U2X7unXrsnnz5px66qmVdR07dsyJJ56Y5cuXJ0lWrlyZXbt2tajp27dvBg8eXKlZsWJFamtrK2Fakhx33HGpra2t1Oxpx44d2bZtW4sFAAAAAMpo80DtN7/5TW644YYMHDgwd999dz73uc9l4sSJufXWW5MkmzdvTpLU1dW1uF9dXV1l2+bNm9OhQ4f06NHjNWv69Omz1+P36dOnUrOnGTNmVL5vrba2Nv369WvdzgIAAADwltPmgdpLL72UD33oQ5k+fXqGDBmSCy+8MOPHj88NN9zQoq6qqqrF7aIo9lq3pz1rXq3+tfpMmTIlTU1NlWXDhg2vd7cAAAAAIEk7BGpHHnlk3vve97ZYd/TRR+fpp59OktTX1yfJXrPItmzZUpm1Vl9fn507d6axsfE1a5555pm9Hv/ZZ5/da/bbbh07dkz37t1bLAAAAABQRpsHascff3zWrl3bYt0TTzyRd7zjHUmSAQMGpL6+PkuXLq1s37lzZ5YtW5YRI0YkSYYOHZrDDz+8Rc2mTZuyevXqSs3w4cPT1NSUBx98sFLzwAMPpKmpqVIDAAAAAG2tza/yeckll2TEiBGZPn16zjnnnDz44IO58cYbc+ONNyZ5+TTNSZMmZfr06Rk4cGAGDhyY6dOnp0uXLhk3blySpLa2NhdccEEuu+yy9OrVKz179szkyZNzzDHHVK76efTRR+f000/P+PHjM2/evCTJhAkTMmbMGFf4BAAAAKDdtHmg9uEPfzh33HFHpkyZkq997WsZMGBA5syZk3PPPbdSc8UVV2T79u256KKL0tjYmGHDhmXJkiXp1q1bpea6665LTU1NzjnnnGzfvj0nn3xy5s+fn+rq6krNbbfdlokTJ1auBjp27NjMnTu3rXcJAAAAACqqiqIoDvYgDpZt27altrY2TU1Ne32fWv8r7yrVa/21o193bXv2BgAAAGD/vFZW9Ept/h1qAAAAAPBmJlADAAAAgBIEagAAAABQgkANAAAAAEoQqAEAAABACQI1AAAAAChBoAYAAAAAJQjUAAAAAKAEgRoAAAAAlCBQAwAAAIASBGoAAAAAUIJADQAAAABKEKgBAAAAQAkCNQAAAAAoQaAGAAAAACUI1AAAAACgBIEaAAAAAJQgUAMAAACAEgRqAAAAAFCCQA0AAAAAShCoAQAAAEAJAjUAAAAAKEGgBgAAAAAlCNQAAAAAoASBGgAAAACUIFADAAAAgBIEagAAAABQgkANAAAAAEoQqAEAAABACQI1AAAAAChBoAYAAAAAJQjUAAAAAKCEmoM9ANpW/yvvKlW//trR7TQSAAAAgDcnM9QAAAAAoASBGgAAAACUIFADAAAAgBIEagAAAABQgkANAAAAAEoQqAEAAABACQI1AAAAAChBoAYAAAAAJQjUAAAAAKAEgRoAAAAAlCBQAwAAAIASBGoAAAAAUIJADQAAAABKEKgBAAAAQAkCNQAAAAAoQaAGAAAAACUI1AAAAACgBIEaAAAAAJQgUAMAAACAEgRqAAAAAFCCQA0AAAAASqg52APg0NL/yrted+36a0e340gAAAAADo52n6E2Y8aMVFVVZdKkSZV1RVFk2rRp6du3bzp37pyRI0fm8ccfb3G/HTt25OKLL07v3r3TtWvXjB07Nhs3bmxR09jYmIaGhtTW1qa2tjYNDQ3ZunVre+8SAAAAAG9h7TpD7aGHHsqNN96Y97///S3Wz5w5M7Nnz878+fPz7ne/O1dffXVOOeWUrF27Nt26dUuSTJo0KT/4wQ+yaNGi9OrVK5dddlnGjBmTlStXprq6Okkybty4bNy4MYsXL06STJgwIQ0NDfnBD37QnrtFOykz+y0xAw4AAAA4ONpthtrzzz+fc889NzfddFN69OhRWV8URebMmZOpU6fmrLPOyuDBg7NgwYL88Y9/zO23354kaWpqys0335xZs2Zl1KhRGTJkSBYuXJjHHnss99xzT5JkzZo1Wbx4cb75zW9m+PDhGT58eG666abceeedWbt2bXvtFgAAAABvce0WqH3+85/P6NGjM2rUqBbr161bl82bN+fUU0+trOvYsWNOPPHELF++PEmycuXK7Nq1q0VN3759M3jw4ErNihUrUltbm2HDhlVqjjvuuNTW1lZq9rRjx45s27atxQIAAAAAZbTLKZ+LFi3Kww8/nIceemivbZs3b06S1NXVtVhfV1eXp556qlLToUOHFjPbdtfsvv/mzZvTp0+fvfr36dOnUrOnGTNm5Kqrriq/QwAAAADw/2nzQG3Dhg354he/mCVLlqRTp077rKuqqmpxuyiKvdbtac+aV6t/rT5TpkzJpZdeWrm9bdu29OvX7zUfkzcH388GAAAAtJU2P+Vz5cqV2bJlS4YOHZqamprU1NRk2bJl+cd//MfU1NRUZqbtOYtsy5YtlW319fXZuXNnGhsbX7PmmWee2evxn3322b1mv+3WsWPHdO/evcUCAAAAAGW0eaB28skn57HHHsuqVasqy7HHHptzzz03q1atylFHHZX6+vosXbq0cp+dO3dm2bJlGTFiRJJk6NChOfzww1vUbNq0KatXr67UDB8+PE1NTXnwwQcrNQ888ECampoqNQAAAADQ1tr8lM9u3bpl8ODBLdZ17do1vXr1qqyfNGlSpk+fnoEDB2bgwIGZPn16unTpknHjxiVJamtrc8EFF+Syyy5Lr1690rNnz0yePDnHHHNM5SIHRx99dE4//fSMHz8+8+bNS5JMmDAhY8aMyaBBg9p6twAAAAAgSTtdlODPueKKK7J9+/ZcdNFFaWxszLBhw7JkyZJ069atUnPdddelpqYm55xzTrZv356TTz458+fPT3V1daXmtttuy8SJEytXAx07dmzmzp17wPeHtzbfzwYAAABvLQckUPvJT37S4nZVVVWmTZuWadOm7fM+nTp1yvXXX5/rr79+nzU9e/bMwoUL22iUAAAAAPDntfl3qAEAAADAm5lADQAAAABKEKgBAAAAQAkCNQAAAAAoQaAGAAAAACUI1AAAAACgBIEaAAAAAJQgUAMAAACAEgRqAAAAAFCCQA0AAAAAShCoAQAAAEAJAjUAAAAAKEGgBgAAAAAlCNQAAAAAoISagz0A4LX1v/Ku1127/trR7TgSAAAAIDFDDQAAAABKEagBAAAAQAkCNQAAAAAoQaAGAAAAACUI1AAAAACgBIEaAAAAAJQgUAMAAACAEgRqAAAAAFCCQA0AAAAAShCoAQAAAEAJAjUAAAAAKEGgBgAAAAAlCNQAAAAAoASBGgAAAACUIFADAAAAgBJqDvYAgIOn/5V3lapff+3odhoJAAAAHDrMUAMAAACAEgRqAAAAAFCCQA0AAAAAShCoAQAAAEAJAjUAAAAAKEGgBgAAAAAlCNQAAAAAoASBGgAAAACUIFADAAAAgBIEagAAAABQgkANAAAAAEoQqAEAAABACQI1AAAAAChBoAYAAAAAJQjUAAAAAKAEgRoAAAAAlCBQAwAAAIASag72AIA3p/5X3lWqfv21o9tpJAAAANC2zFADAAAAgBLMUAMOOWa/AQAAcDAJ1AD2UCawE9YBAAC89TjlEwAAAABKEKgBAAAAQAlO+QQ4gHz/GwAAwKFPoAbwJiGsAwAAODDa/JTPGTNm5MMf/nC6deuWPn365Mwzz8zatWtb1BRFkWnTpqVv377p3LlzRo4cmccff7xFzY4dO3LxxRend+/e6dq1a8aOHZuNGze2qGlsbExDQ0Nqa2tTW1ubhoaGbN26ta13CQAAAAAq2nyG2rJly/L5z38+H/7wh/Piiy9m6tSpOfXUU/PLX/4yXbt2TZLMnDkzs2fPzvz58/Pud787V199dU455ZSsXbs23bp1S5JMmjQpP/jBD7Jo0aL06tUrl112WcaMGZOVK1emuro6STJu3Lhs3LgxixcvTpJMmDAhDQ0N+cEPftDWuwXwlmb2GwAAwP9fmwdqu8Ot3W655Zb06dMnK1euzAknnJCiKDJnzpxMnTo1Z511VpJkwYIFqaury+23354LL7wwTU1Nufnmm/Otb30ro0aNSpIsXLgw/fr1yz333JPTTjsta9asyeLFi3P//fdn2LBhSZKbbropw4cPz9q1azNo0KC23jUA2kmZwE5YBwAAHGztfpXPpqamJEnPnj2TJOvWrcvmzZtz6qmnVmo6duyYE088McuXL0+SrFy5Mrt27WpR07dv3wwePLhSs2LFitTW1lbCtCQ57rjjUltbW6nZ044dO7Jt27YWCwAAAACU0a6BWlEUufTSS/PRj340gwcPTpJs3rw5SVJXV9eitq6urrJt8+bN6dChQ3r06PGaNX369NnrMfv06VOp2dOMGTMq37dWW1ubfv36tW4HAQAAAHjLaddA7Qtf+EIeffTRfPvb395rW1VVVYvbRVHstW5Pe9a8Wv1r9ZkyZUqampoqy4YNG17PbgAAAABARbsFahdffHG+//3v58c//nHe9ra3VdbX19cnyV6zyLZs2VKZtVZfX5+dO3emsbHxNWueeeaZvR732Wef3Wv2224dO3ZM9+7dWywAAAAAUEabB2pFUeQLX/hCvve97+VHP/pRBgwY0GL7gAEDUl9fn6VLl1bW7dy5M8uWLcuIESOSJEOHDs3hhx/eombTpk1ZvXp1pWb48OFpamrKgw8+WKl54IEH0tTUVKkBAAAAgLbW5lf5/PznP5/bb789//Ef/5Fu3bpVZqLV1tamc+fOqaqqyqRJkzJ9+vQMHDgwAwcOzPTp09OlS5eMGzeuUnvBBRfksssuS69evdKzZ89Mnjw5xxxzTOWqn0cffXROP/30jB8/PvPmzUuSTJgwIWPGjHGFTwAqylxBNHEVUQAA4M9r80DthhtuSJKMHDmyxfpbbrkl5513XpLkiiuuyPbt23PRRRelsbExw4YNy5IlS9KtW7dK/XXXXZeampqcc8452b59e04++eTMnz8/1dXVlZrbbrstEydOrFwNdOzYsZk7d25b7xIAvCphHQAAvDW1eaBWFMWframqqsq0adMybdq0fdZ06tQp119/fa6//vp91vTs2TMLFy7cn2ECwBtae4d1ZfoLAgEAoKU2D9QAgLc2M/cAAHiza7erfAIAAADAm5EZagDAIcPsNwAA3gjMUAMAAACAEsxQAwCIC0EAAPD6maEGAAAAACUI1AAAAACgBKd8AgAc4trzdNVDtTcAQHsyQw0AAAAASjBDDQCANyUXggAA2otADQAASjpUT4V1mi0AtA2BGgAA0CbMCgTgrfYe5NMAACAASURBVEKgBgAAvOGZXQfAG4mLEgAAAABACWaoAQAAb2lmvwFQlkANAACgnQjrAN6cBGoAAACHqPa8EIQwEGDffIcaAAAAAJRghhoAAAAHVHvOfmvvmXXtOSsQOHQI1AAAAOANwGm2cOgQqAEAAMCbnLAO2pZADQAAANhvh/JptoJG9pdADQAAAKCN+a7A1vcu2/9ABqSu8gkAAAAAJQjUAAAAAKAEgRoAAAAAlCBQAwAAAIASBGoAAAAAUIJADQAAAABKEKgBAAAAQAkCNQAAAAAoQaAGAAAAACUI1AAAAACgBIEaAAAAAJQgUAMAAACAEgRqAAAAAFCCQA0AAAAAShCoAQAAAEAJAjUAAAAAKEGgBgAAAAAlCNQAAAAAoASBGgAAAACUIFADAAAAgBIEagAAAABQgkANAAAAAEoQqAEAAABACQI1AAAAAChBoAYAAAAAJQjUAAAAAKAEgRoAAAAAlCBQAwAAAIASBGoAAAAAUIJADQAAAABKEKgBAAAAQAkCNQAAAAAoQaAGAAAAACUc8oHaN77xjQwYMCCdOnXK0KFD81//9V8He0gAAAAAvIkd0oHad77znUyaNClTp07NL37xi/yv//W/csYZZ+Tpp58+2EMDAAAA4E2q5mAPoDVmz56dCy64IJ/97GeTJHPmzMndd9+dG264ITNmzNirfseOHdmxY0fldlNTU5Jk27Zte9W+tOOPpcbyaj325VDtXbZ/e/Yu2/9Q7V22v+e89b3L9vect7532f6e89b3Ltvfc9763mX7e85b37tsf89563uX7e85b33vsv09563vXba/57z1vcv295y3vnfZ/m+253z3uqIoXvO+VcWfq3iD2rlzZ7p06ZJ//dd/zV/91V9V1n/xi1/MqlWrsmzZsr3uM23atFx11VUHcpgAAAAAHGI2bNiQt73tbfvcfsjOUPvd736X5ubm1NXVtVhfV1eXzZs3v+p9pkyZkksvvbRy+6WXXsof/vCH9OrVK1VVVX/2Mbdt25Z+/fplw4YN6d69e+t2QO+D3l/vA99f7wPfX+8D31/vA99f7wPfX+8D31/vA99f7wPfX+8D31/vA99f7wPfv2zvoijy3HPPpW/fvq9Zd8gGarvtGYQVRbHPcKxjx47p2LFji3VHHHFE6cfs3r17u7yA9D44/fU+8P31PvD99T7w/fU+8P31PvD99T7w/fU+8P31PvD99T7w/fU+8P31PvD9y/Sura39szWH7EUJevfunerq6r1mo23ZsmWvWWsAAAAA0FYO2UCtQ4cOGTp0aJYuXdpi/dKlSzNixIiDNCoAAAAA3uyqp02bNu1gD2J/de/ePV/5ylfyF3/xF+nUqVOmT5+eH//4x7nlllv261TO16O6ujojR45MTU3bny2r94Hvr/eB76/3ge+v94Hvr/eB76/3ge+v94Hvr/eB76/3ge+v94Hvr/eB76/3ge/fHr0P2at87vaNb3wjM2fOzKZNmzJ48OBcd911OeGEEw72sAAAAAB4kzrkAzUAAAAAOJAO2e9QAwAAAICDQaAGAAAAACUI1AAAAACgBIEaAAAAAJQgUAMOSUVR5Kmnnsr27dsP9lDgkPX000/n1a5NVBRFnn766YMwImA3v+feXJqbm7Ns2bI0NjYe7KHwBrdr16585jOfyW9+85uDPRQ4pG3YsGGf2+6///42eQxX+fwzfvrTn2bEiBGpqalpsf7FF1/M8uXLc8IJJ7TL4xZFkaqqqv2+/6233ppPfOIT6dixY4v1O3fuzKJFi/KpT32qtUPMzp07s2XLlrz00kst1r/97W/f757Nzc2577778v73vz89evRo7RD38vTTT6dfv357PbdFUWTDhg2tGnt1dXU2bdqUPn36tFj/+9//Pn369Elzc/N+9z6UHXXUUXnooYfSq1evFuu3bt2aD33oQ/t9sPDSSy+lU6dOefzxxzNw4MC2GGoL559/fv7hH/4h3bp1a7H+hRdeyMUXX5x//ud/blX/rVu35rvf/W6efPLJXH755enZs2cefvjh1NXV5S/+4i9a1ftAaI+f/yR54okn8pOf/ORVe3/1q19tVe/21tzcnDvuuCNr1qxJVVVV3vOe9+TMM8/c6/fHG8mh+r61a9eunHrqqZk3b17e/e53H+zhlPLiiy/mmmuuyfnnn59+/fq1y2P8+te/zpNPPpkTTjghnTt3btUxxaOPPvq6a9///vfv12O8GbTHe2J7/55rT//7f//vfO9738sRRxzRYv22bdty5pln5kc/+tF+9X3xxRfTqVOnrFq1KoMHD26LoR5QnTp1ypo1azJgwICDPZQ2sXXr1r3+H7/RLFiwIL17987o0aOTJFdccUVuvPHGvPe97823v/3tvOMd72hV/3vvvTf33nvvq/78t+ZY8YgjjsjDDz+co446qlXje6V//Md/fN21EydO3O/Hac/PW0n7HSu29zFRe3+2aE/t9Trfl7Z6b3nPe96Tn/3sZ3t9Dv3Zz36W0aNHZ+vWra1+jBS8psMOO6x45pln9lr/u9/9rjjssMNa1Xv69Omvuv7FF18sPvnJT7aqd3uO+4knnig++tGPFocddliLpaqqqtW9i6IoOnbsWPzmN79pdZ9X057PS1VV1av2/u1vf1t06tSpVb2POOKIokePHnstPXv2LPr27VuccMIJxT//8z+X6tnU1PS6l9bY1/OyefPmokOHDq3q/d73vrdYsWJFq3rsy75eK88++2xRXV3dqt6PPPJI8T//5/8s3vWudxU1NTXFk08+WRRFUXz5y18uGhoaWtV7t8bGxuKmm24qrrzyyuL3v/99URRFsXLlymLjxo2t6tueP/833nhjUV1dXdTV1RUf+MAHig9+8IOVZciQIa3qvds999xTTJkypbjggguKz3zmMy2W1njssceKo446qujSpUsxZMiQYsiQIUXXrl2L/v37F48++mires+fP7+48847K7cvv/zyora2thg+fHixfv36VvWuqqoqtmzZstf69evXF126dGlV76IoiiOPPLL4m7/5m2LevHnFr371q1b3e6XevXsXTzzxRJv23NMLL7xQrFmzpnjkkUdaLK3VtWvXYt26da0f4B5+97vfFSeffHLl53H3e8v5559fXHrppfvVc3ev3f99raU1nn/++eLLX/5yMXz48OKd73xnMWDAgBZLW/j1r39dTJ06tfjkJz9ZeX//4Q9/WKxevXq/e7b3MVF7/Z7btWtXUV1dXTz22GNt3rso9v27/5lnnilqampa1fuoo44qVq1a1aoer+WWW24pXnjhhXbpfeyxxxb33HNPu/QuivY9zr322muLRYsWVW6fffbZxWGHHVb07du31f8/TjrppKKxsXGv9U1NTcVJJ53Uqt7vfve7i3vvvbcoiqJYvnx50blz52LevHnFxz72seKv/uqvWtV72rRpxWGHHVZ85CMfKT7+8Y8XZ555ZoulNc4777xi1qxZreqxp/79+7dYunbtWlRVVVU+V1RVVRVdu3Zt9Xtue74O2/NYsT0/yxVF+362aM9jxfZ8nRdF+763fPazny0+9KEPFdu2bausW7ZsWdG9e/di9uzZreq92xv3z+ZvEMU+/qr7+9//Pl27dm1V7zlz5qRXr16ZMGFCZV1zc3M++clPZvXq1a3qva9xb9y4MbW1ta3qfd5556WmpiZ33nlnjjzyyFbNpHs1xxxzTH7zm9+0y1/v9vW8PP/88+nUqdN+9dz9156qqqp885vfzP/4H/+jsq25uTk//elP8573vGf/Bvz/+epXv5prrrkmZ5xxRj7ykY+kKIo89NBDWbx4cT7/+c9n3bp1+X//7//lxRdfzPjx419XzyOOOOJ1/7/bn7/IfP/736/8++67727xumtubs69996b/v37l+77SjNnzszll1+eG264oc3+Ur1t27YURZGiKPLcc8+1eF00NzfnP//zP/f6y1VZl156ac4777zMnDmzxV+pzjjjjIwbN65VvZOXZ5SMGjUqtbW1Wb9+fcaPH5+ePXvmjjvuyFNPPZVbb711v3u358//1VdfnWuuuSZf+tKX2qznK1111VX52te+lmOPPbbNx/7Zz34273vf+/Lzn/+8Mru2sbEx5513XiZMmJAVK1bsd+/p06fnhhtuSJKsWLEic+fOzZw5c3LnnXfmkksuyfe+973SPS+99NIkL79vfeUrX0mXLl0q25qbm/PAAw/kgx/84H6PebdZs2Zl2bJlmT17dj73uc+lrq4uJ554YkaOHJkTTzwxRx999H73/tSnPpWbb7451157bavHuadnn302n/nMZ/LDH/7wVbe39q/Uo0aNyk9+8pOcd955reqzp0suuSQ1NTV5+umnWzy3n/jEJ3LJJZdk1qxZpXuuW7eu8u9f/OIXmTx5ci6//PIMHz48ycuvyVmzZmXmzJmtGvtnP/vZLFu2LA0NDe1ybLFs2bKcccYZOf744/PTn/4011xzTfr06ZNHH3003/zmN/Pd7353v/q29zFRe/yeS5Kampq84x3vaPNZqK+c0fjLX/4ymzdvrtxubm7O4sWLWz0L+8tf/nKmTJmShQsXpmfPnq3q9WqmTJmSiRMn5uyzz84FF1yQESNGtFnva665JpMnT87Xv/71DB06dK/PEt27d29V/2IfJx7t2LEjHTp0aFXvefPmZeHChUmSpUuXZunSpfnhD3+Yf/mXf8nll1+eJUuW7Hfvn/zkJ9m5c+de6//0pz/lv/7rv/a7b/LyKV/vete7kiT//u//nr/+67/OhAkTcvzxx2fkyJGt6v1P//RPmT9/fhoaGlrV59W8613vyte//vUsX778VV8r+zOD7JXv57fffnu+8Y1v5Oabb86gQYOSJGvXrs348eNz4YUXtmrs7fF5a7f2OFZs789yB+KzRXscK+7Wnq/zpH3fW2688cacffbZGT16dJYsWZIVK1Zk7Nixufrqq/PFL36xTcbvlM99OOuss5Ik//Ef/5HTTz+9xamTzc3NefTRRzNo0KAsXrx4vx9j5cqVGTVqVObNm5dzzjknu3btyic+8Yn86le/yo9+9KPU19eX7jlkyJBUVVXlkUceyfve974Wpxo1Nzdn3bp1Of300/Mv//Iv+z3url27ZuXKla0OifZlyZIl+dKXvtSmBxu7Pzz+wz/8Q8aPH/+qHx6rq6vzs5/9rHTv3cHfU089lbe97W2prq6ubOvQoUP69++fr33taxk2bFjp3rv9n//zf3LKKafkc5/7XIv18+bNy5IlS/Jv//Zvuf7663PjjTfmsccee109ly1bVvn3+vXrc+WVV+a8885r8SFpwYIFmTFjRj796U+XHvNhh738FY1VVVV7HeAdfvjh6d+/f2bNmpUxY8aU7r1bjx498sc//jEvvvhiOnTokM6dO7fY/oc//GG/xv1aH4iqqqpy1VVXZerUqaV771ZbW5uHH34473znO9OtW7c88sgjOeqoo/LUU09l0KBB+dOf/rTfvZOXP6x/6EMfqgR2u/svX74848aNy/r16/e7d3v+/Hfv3j2rVq1q09MbXunII4/MzJkz2+WAoHPnzvn5z3+e973vfS3Wr169Oh/+8Idb9R1IXbp0ya9+9au8/e1vz5e+9KVs2rQpt956ax5//PGMHDkyzz77bOmeJ510UpKX3weGDx/e4oPW7vetyZMnt+lpZs8880x+/OMf584778x3vvOdvPTSS636MH/xxRfn1ltvzbve9a4ce+yxe/2umD179n73Pvfcc7N+/frMmTMnJ510Uu64444888wzufrqqzNr1qzKqUP7a968eZk2bVrOPffcV/09N3bs2P3qW19fn7vvvjsf+MAHWvzsr1u3Lsccc0yef/75Vo37Ix/5SKZNm5a//Mu/bLH+P//zP/OVr3wlK1eu3O/eRxxxRO66664cf/zxrRrjvgwfPjxnn312Lr300hbPzUMPPZQzzzwzv/3tb/erb3sfE7XH77ndbrnllvzrv/5rmwZTr/wd+mofMTp37pzrr78+559//n4/xpAhQ/LrX/86u3btyjve8Y69fn4efvjh/e6dvHxceNddd2X+/Pm56667MmDAgHzmM5/Jpz/96f06Nn+l3cdGSVoca+wOIPb3PXF3IHDJJZfk61//+qsGAuvXr88vfvGL/Rz5y//vnnjiifTr1y9f/OIX86c//Snz5s3LE088kWHDhu3Xd8PtDmA/+MEP5kc/+lGL1+HuAHbevHmtOm7p06dP7r777gwZMiRDhgzJJZdckk996lN58skn84EPfKBV74u9evXKgw8+mHe+85373WNfXmtiQVVVVau/X+2d73xnvvvd72bIkCEt1q9cuTJ//dd/3SJ8e73a8/PWbu1xrNjen+UOxGeL9jhW3K09X+dJ+7y3vNKuXbsyevTovPDCC3n00UczY8aMfOELX2ij0SdmqO3D7tk0RVGkW7duLQ5gOnTokOOOO+51zwTal6FDh+aOO+7Ixz/+8XTs2DE333xznnzyyfz4xz9OXV3dfvU888wzk+T/x96Zx1OZvn/8c4gkZIn2Eg0hlUxalKVFiylqpk0zYkTLhJS2KZWlfUH7Htr3bdpLiKKFKJW1aJFKO5os1+8Pr/P8HOe0OM/zWObr/Xqd1+Q+5npu59zPc9/3dV/X58KdO3cwYMAAkQlV+ED49ddfWfXb0NAQr1+/ZmXjWwwcOBBA2YaCq8WGcAFBRLh7967Y5rFTp07w9vaWqr/CCcfa2hpHjx7lRfvt/PnzWLZsmVh73759MX36dADA4MGDMXv27B+2aWlpyfzbz88Pq1evxpgxY5i2oUOHwtjYGFu2bJHKoSbMr2/bti1u3ryJxo0bV9rG9wgKCuLc5pUrV0BE6NOnD44cOSKyuJOXl0ebNm3QvHlzVtdQUFDAhw8fxNpTUlKgqanJyjYA3Lx5E5s3bxZrb9GihUi0gDTwef+PGDECFy5cEHMcc8WXL184jTQoj76+PnJzc8Ucai9fvmROxqVFSUkJeXl5aN26NS5cuAAvLy8AZeNIWkfdlStXAADOzs4IDg5mHRXxLT59+oTo6GhERkYiIiICCQkJMDY2FnkGScO9e/fQpUsXAGV6KuVhGyUUHh6OEydOoGvXrpCRkUGbNm3Qv39/qKioYMmSJawdapMmTQIg2enHZlOdn58vsoER8vr1azFNVWm4e/euxE1e27Ztcf/+fVa21dTUeIk2EnL37l3s3btXrF1TUxN5eXlS2+V7TcTHPCdkzZo1SE9PR/PmzTlzTD169AhEBB0dHdy4cUNkTpOXl4eWlpbIZlUahGtdvpCVlcXQoUMxdOhQvHz5Ert370ZISAh8fHwwcOBAuLi4YMiQISLOsR9F+OzlmsDAQABl69xNmzZJdAhs2rSJ1TXU1NTw5MkTtGrVCufOnUNAQABzTWmfWZ07d4ZAIIBAIECfPn3E3hc6YNnQv39/jB8/HiYmJkhNTWWe38nJyawzJcaPH4+9e/fCx8eHlR1JSOPQqgw5OTkoKioSay8pKUFubq5UNvncbwnhY61Yfi937NgxznUBq2JvwcdaUQif4xzg/tkiSft1wYIFGDNmDH7//XdYWFgwv8OF9mudQ+0r7Ny5EwCYU3q26Z1fw8rKCrt27cKvv/4KAwMDREZGsnI8LFiwAEBZv0eNGsU6rFYSy5Ytw8yZM7F48WIYGxtDTk5O5H22GzM+FhtVsXkUXuPLly949OgRdHV1ORMjV1dXx6lTp5iHo5BTp04xD+X8/Hwxkcsf5fr16xIXWj///DPGjx8vlU0hUVFRXx3TsbGx6N69u9S2pXH0fQ/hJv/Ro0do3bo15+k7AGBnZwc/Pz8mUlQgECA7OxuzZ89m7fAG+HXY8Xn/t2vXDj4+PoiNjZVom41ALsDvgmDx4sXw8PDAwoULmTEdGxsLPz8/LFu2TOT7qOxnxOdm4Pfff/9qf9atW8f6BK9bt25ISkpChw4dYGVlhb///hu9e/fmZLHK18YUKHueCtMv1NXV8erVK+jp6cHY2Jh19AsAMUFfrrCwsEBYWBj8/f0BlD1bSktLsWLFCiYqkQ0GBgYICAjA9u3bmfXFv//+i4CAAFbpuwDg7++P+fPnIzQ0VKJTkC2qqqrIyckRcwgmJCRUOgWx/P3M95qIj3lOCB+OKaHAO19jHPj/tW5VoKWlBXNzc6SkpCA1NRV3796Fk5MTVFVVsXPnzkqnDFpaWuLq1avYvHkzMjIycPjwYbRo0QK7du1iJXVSFYe7w4cPh4ODA3766Sfk5eVh0KBBAMoO8aU9OKoKB+z69esxb948PHnyBEeOHGHEyW/fvi1ykCwNnz9/xpYtW3Dp0iV07NhR7P5nEykthI99BVB2KO/q6ort27fD1NQUAoEAt27dwoQJE9CvXz+pbFbFfovPtWLnzp3h5+cn1i4QCKCgoIB27drBzs6u0oc/wr3FgwcP8NNPP0l0xr9+/ZqVD4DPtSLf45zrZ4vQUV8+Slr48+bNm7FlyxbWUcHlqUv5/AGKi4sRERGBjIwMODg4QFlZGc+fP4eKiopIBNiPIEwlrUhsbCzatWsnciOxyXUG+KsiyFe4em2nsLAQU6ZMQWhoKICyiAkdHR14eHigefPmlYoeq8jWrVsxadIkDB48GGZmZhAIBLhx4wbOnDmDTZs2wcXFBatWrcKNGzdw4MCBStvX19fHL7/8IqavM336dPzzzz9ISUmRuu98V1fJyMjAzp07kZGRgeDgYGhpaeHcuXNo1aqVWLRQZdi5cyeUlJQwYsQIkfZDhw6hoKCA1Sbnw4cPGDx4MJKTk/Hx40c0b94cL168QI8ePXDmzBnWDnw3Nze8evUKBw8ehLq6OpKSkiArKwt7e3tYWFiwingon8pbHi7uf77TGzw9PREWFoaOHTtyviCQ9FwUTq/lf5bmM3r37h2zGZg0aRITxbtgwQLIy8uzShFQU1PDhQsX0LVrV5H2oKAgzJ8/X6JjtjKoq6tDIBCgX79+sLKygpWVFWvHiySePn0KgUDAWYXcrl27IiAgAAMGDIC9vT0TmbZmzRpmXq2J3L9/H1ZWVjA1NUV4eDiGDh2K5ORkvHnzBjExMazTNW7cuIEhQ4agtLQUnTp1AgAkJiZCIBDgn3/+gZmZmdS2TUxMkJGRASKCtra22P3J1pE5c+ZMXL9+HYcOHYKenh7i4+ORm5sLR0dHODo6VspJUzF9R5JeEB9rosLCQrGIEj6jS9mwZMkSNGnSRCy1c8eOHXj16hVvWplckZubi127dmHnzp3IzMyEvb09XFxc0K9fPxQWFmLevHk4fPgwsrKyKmX3yJEj+OOPPzB27Fjs2rUL9+/fh46ODjZs2IB//vkHZ86c4exvqDgHsaWoqAjBwcF48uQJnJycmFTBoKAgKCkpsT6ArY1866BCIBBIXc0WAAoKCuDu7s7LvgIo0wodN24czp07xzxvi4uLMWDAAISEhLDW9AK4rTgthM+1orW1NeLj41FSUgJ9fX0QEdLS0iArK4v27dsjJSUFAoEA0dHRMDQ0rLR9e3t7HD16VMyhlpubi759+7LSUOdzrcjnOAe4f7ZU5rnMtsovUOdQ+y5ZWVkYOHAgsrOz8e+//zIPs6lTp+Lz58+VDp92dnb+4d8VRslJQ0VR8pSUFOjo6MDHx4e1KHl57S1JsE3jAcCc3mVmZuLQoUMip3e9evWS2m5+fj6WLl361bK/bB7Cnp6eiImJQVBQEAYOHIikpCTo6Ojg5MmTWLBgASvdCqDMAbVu3TqkpKSAiNC+fXu4u7tzksJ25swZ/Prrr9DV1RWJrsnIyMCRI0fE9HIqg6urK+Lj4xEREcFE0EVFRWHIkCFYuHChWNRdZagoMv3gwQPo6Ohg+fLluHHjhtQi00CZk3HTpk1ik0hkZCTc3NxYORmFhIeHIz4+HqWlpejSpYvUJ4IV+ZrDrnv37jh79iwrh11V3P98weeC4HufS3lq0me0c+dOzJw5E5GRkczicOXKlfD398c///yD3r17s75GUlISIiIiEBkZiatXr0JGRgaWlpawtrZmlbJRWlrKaJoJNXCUlZUxffp0zJ07V6p0LCF79uxBUVERnJyckJCQgAEDBuD169eQl5dHaGgoRo0aJbVtIXyUoM/Ozka9evWwefNm3L59m3m2/PXXXygqKkLr1q1Z97ugoAC7d+/Gw4cPQUQwNDSEg4MD64MAX1/fb77PNipJ+H3u378fRIR69eqhuLgYY8eORUhISKWiYKryfs/Pz8esWbNw8OBBiampbB12fB2+amtrY+/evWJrlLi4OIwePbrS6Wzq6upITU1F48aNoaam9s1NORtdOQAYMmQIzp8/Dz09PYwfPx6Ojo5iESnPnz9Hy5YtKx2JV17Dq7yW3507dzBw4EDWsgwAEBYWhhUrViAtLQ0AoKenhxkzZvAmKC4tJ0+exKBBgyAnJydSyEoS0upKlqegoADZ2dlixQ+4SPniA773FUJSU1OZ57mBgQH09PRY23zz5g1GjBiBK1euQCAQIC0tDTo6OnBxcYGqqqpUBXKqgqCgIFy9ehU7d+5kDis+fPgAFxcX9OrVC66urnBwcEBhYSHOnz9fafvdunWDoaGhyB4/JycHffr0gZGREat9S20mKioKPXv2FIvALC4uxrVr12BhYSGV3aKiIri5ucHHx4c3fWagzqH2Xezt7aGsrIzt27dDQ0ODmfgiIyMxfvx4ZrKqafTt2xempqa8iJID+Ga4OhuHF8Dv6d2YMWO+WUWMTbWPNm3a4MCBA+jevbvIZ56eno4uXbqwjvTgm6dPn2LDhg0im6SJEyeiVatWrOwSEUaMGIGXL19yXl2FL5FpoCxt8uHDh2Jh0o8fP4aBgQFrPYKq4MqVKyKbaq4cdnzDV3oD37x79w7bt2/HgwcPIBAIYGBgABcXF9aVlaOior75vrQLDSErV65EF0EvdQAAIABJREFUUFAQoqOjceDAASxevBhnz57lRW/u9u3bWLduHXbv3s26KMGcOXOwfft2+Pr6wtzcHESEmJgYLFy4EK6urli0aBFn/S4oKGDEfrnQg/xexdljx45JZVdWVhY5OTlikQV5eXnQ0tJi7Xyp7VFHQNnBmfAgw8TEhNPCG3zw119/4cqVK/Dz84OjoyPWr1+PZ8+eYfPmzVi6dCnGjh0rtW0+D18VFBTw4MEDsWiSzMxMGBoaVrr4TmhoKEaPHo369eszETtfg22arIuLC8aPH88UaZIEESE7O7vS0Q2Kioq4f/8+tLW1RdYt0n4uFVm9ejV8fHwwZcoUkefi+vXrERAQUOlDzO85uspTWaeXjIwMXrx4AS0trW8egLCN9Hz16hWcnJy+WkiOyyjSDx8+IDw8HO3bt2ddqKSq9hV8rLkcHR3x8uVLbNu2DQYGBkzfhdpeycnJnFyHa1q0aIGLFy+KRZ8lJyfDxsYGz549Q3x8PGxsbKTSzszLy4OFhQVsbGwQGBiIZ8+eoU+fPujUqRP279/P6iBQCJ+OYz4iDgF+1y6qqqqIj4/n1aFWe3Yq1UR0dDRiYmLESk23adOG1Wadb27duoUtW7aItXMhSl7e4ZWQkIB///0XAPDx40csXryYdbh6QEAANm3aBEdHR+zfv59p79mzp8S89spw9uxZ3qqIvXr1SmJ4dH5+PicPm9LSUqSnp0uMZmC7oQaAli1bYvHixaztVEQgEGDfvn2wtbVF3759Oa2uwpfINFCmm5KUlCTmUEtMTBRLX/0R1qxZAzc3NygoKDDVuL4GW60wQDz65eHDh8xnJW30ixC+Ikj5Tm8QwseC4NatWxg4cCAUFBRgZmYGIkJgYCAWL16MCxcuMOL50iBJo6d8f9luBry9vZGXl4eff/4ZJSUluHDhAquqxOVJSEhAREQEIiIicPXqVXz8+BGdOnWCp6cna02v0NBQbNu2TWQT16lTJ7Ro0QKTJ0+utENNWJ3sR2CrF8JXCfqvnZF++vSJE03VzZs3S3zmGhkZYfTo0TXOofa97zQ2Npb5t7TfKZ/yAECZVmpYWBisrKzw559/onfv3mjXrh3atGmDPXv2sHKoTZs2DU5OTszhq5BBgwbBwcGBVb9btWqFmJgYMYdaTEyMVOLb5T/HCxcuwNLSElZWVpxE05SnqKgImZmZ353nBQKBVKlCzZo1Q3p6utjaIjo6mpMN39q1a7Fx40Y4OjoybXZ2djAyMpIqK6Cizp4kXSIhlZ2Lyq9l+dTcmzp1Kt69e4fY2FiJVZvZMHLkSFhYWGDKlCkoLCzEzz//jMePH4OIsH//fla6uHzvK/hcc124cAHnz59Hy5YtRdp/+umnSqdJS+Lp06c4efKkRMcRm/n5/fv3ePnypZhD7dWrV4wDU1VVVeyaP4qGhgbOnz/PrJVPnz6NLl26YM+ePaydaXw6jvPy8jBy5EixiMPx48dzEnH4tXV4Xl4e6+j3YcOG4fjx45Va41WWOofad/jaCfrTp0+lFoAXkpubC29vb2bTW3EhzGbg8ylKzqfDCyjroyQHkYqKCmu9LT6riHXt2hWnT5+Gu7s7gP9fZGzduvWbp5w/QmxsLBwcHJCVlSU2TrjSaHn37h1u3Lgh0WFXfmH2I1RVdRUuRaYrMnr0aHh4eEBZWZkZj5GRkfD09MTo0aMrbS8wMBBjx46FgoICU41LEgKBgLVD7XvRL2wo71CPj4/n1KE+Z84cJCYmIiIigtF+AIB+/fphwYIFrB1qfC4IvLy8MGTIEGzdupU54S0uLsb48eMxderU70aZfYuK5cKLioqQkJAAHx8fqaKwJDl0mzVrBkVFRVhYWCAuLg5xcXEA2Dt3u3btChMTE1haWsLV1RUWFhacaT69efNGYgRA+/btpUr5+tH0GS7uJ64rzgoXigKBAPPnzxcR9S8pKUFcXBw6d+7M+jovXrxAs2bNxNo1NTWRk5PDynZJSQkCAwNx8OBBiZukmvqdLl26VKL8h5aWFtzc3Fg71N68ecPMcSoqKszn0KtXL6ZarLTwWRFa+OwrKipiqjdevnwZM2fOZKqTS4uysjJWr16NiRMnomnTprC0tGQcbGyjguTk5HDv3j1eChIBwIQJE+Dp6YkdO3ZAIBDg+fPnuH79Ory9vTF//nzW9nNyciQ+W3r27CnVPVp+PXjp0iXMmjULixcvRo8ePSAQCHDt2jXMmzeP9YHst/YPAoGAVTEhPqs2R0VFMdpUx44dAxHh3bt3CA0NRUBAACuHGp/7CoDfNRefFacvX76MoUOHom3btkhJSUGHDh0YJyabw0ugzPn8559/YtWqVejatSujWe3t7c04l2/cuMHKkd+yZUtcvHgRvXr1Qv/+/bFr1y5Onjd8Oo69vLwgJyeH7OxsER3cUaNGwcvLS2r7Qm15gUAAJycnkbFRUlKCpKQk1muldu3awd/fH9euXYOpqamYg46LIAZQHd9k5MiR5OrqSkRESkpKlJmZSR8/fqQ+ffqQk5MTK9sDBw4kQ0ND2rBhAx07doyOHz8u8mKDq6sr2dvb05cvX5h+Z2VlkYmJCXl6erKy3aBBA3r06BERlX0mGRkZRESUkZFB9evXZ2WbiEhHR4cuXrwoZj80NJQMDAxY2d61axf99ttvlJ+fz7qfFYmJiSFlZWWaOHEiKSgokKenJ/Xr148aNmxIt27dYmW7U6dONGLECLp//z69ffuW3r17J/Jiy8mTJ0lZWZlkZGSoUaNGpKqqyrzU1NQqbU8gEJCMjAwJBALmVf5n4b9lZGRY9XvGjBnUq1cvysnJIWVlZUpLS6Po6GjS0dGhhQsXsrL977//0siRI0kgEJCcnBzJycmRrKwsOTs707///svKNt80bdqUwsLCeLHduXNnCg0NJSLR+zMhIYGaNGnCynbr1q3p+vXrYrbT0tJIWVmZlW0ioj/++IMGDBhAT548EbF//vx5MjQ0ZGVbQUGBHjx4INaenJxMDRo0YGX7a0RGRlKXLl0q/f9pa2v/0Ktt27as+/j+/XvWNr6GmZkZubu7i7VPmTKFunXrxtt1uWDmzJnk5+fHmT0rKyuysrIigUBAPXv2ZH62srIiGxsbcnNzo9TUVNbXadeuHe3atUusPSwsjPV48fHxoWbNmtGKFStIQUGB/P39ycXFhTQ0NCg4OJiVbT6pX78+syYqz6NHj0hBQYG1fWNjY4qIiCAiov79+9P06dOJiCg4OJhatGjByraWlhbFx8cTEYk9E1u2bMnKdmlpKc2cOZMUFBRIRkaGZGRkSFFRkXx9fVnZLU9OTg7t27ePJkyYQO3btycZGRlq2rQpa7vTpk2jWbNmcdBDyfz999/UoEEDZk2koKBA8+bN48S2kZERLVq0SKzd39+fOnTowNr21atXxdqjoqKoffv2rGx37txZ5GVkZESKioqkoqJCJiYmrGwrKysz92ibNm0oOjqaiIgyMzNZz88KCgqUnZ1NRGVrDOG4ycrKooYNG7Kyzee+gojfNdfgwYOZMS3ch5aUlNCIESPo119/ZWW7a9eu5OPjI9Lvjx8/0tChQ2nDhg2sbH/8+JHGjx9P8vLyzHNLXl6eXF1d6dOnT0RUtt5NSEj4YZvCvVTFV/369UlFRUWkjQ1NmzaluLg4Iiob8ykpKUREdOLECTI3N2dlu0mTJnTnzh0iEh0rmZmZrMa5k5MTOTk5kUAgoFGjRjE/Ozk5kZubGy1evJhevXrFqu98r3OJiOoi1L5DYGAgrK2tGV0DBwcHpKWloXHjxti3bx8r29HR0bh69Sonp8YVWblyJQYPHgwtLS0UFhbC0tKSESVnqyvDd7g616d3JiYmIp7/9PR0NGnShPMqYj179kRMTAxWrlwJXV1dJs3r+vXrMDY2ltouAKSlpeHw4cNSlyX/HtOnT8eff/6JxYsXSzxRqiyVFRuWlkWLFsHJyQktWrRgdN+EItPz5s1jZVteXh4HDhyAv78/EhMT0aBBAxgbG0tdDeZHQ40FAgHrkySuo1/Kw2cEKd/pDXymIKioqCA7O1ssOuLJkyeso5m/hqamplTFMarq/gT+f1zwIXq+fPly2Nra4tKlSyLREk+ePOG0Uh5XlH8GlJaWclqC/sqVKwDKCh8FBwfzVvmRz6ijPXv2YOvWrbC1tYWvry/GjBkDXV1ddOzYEbGxsdycIvMA1/IAFXF2dkZiYiIsLS0xZ84c2NraYu3atSguLmademxnZwc/Pz8cPHgQQNn8k52djdmzZ7OKrBHaWrZsGXx8fPDgwQM0aNAAP/30E+volPIoKytDTU0NampqUFVVRb169dC0aVPWdr98+YJt27bh4sWL+Pnnn8UiGth+7osWLcLcuXNx//59lJaWwtDQEEpKSqxsCvH19cWoUaMQFRUFc3NzpiLh5cuXme9ZWjIyMiRqggo1+NggKZr0w4cPcHJywrBhw1jZ1tfXR0pKCrS1tdG5c2ds3rwZ2tra2LRpk8SI28rQqlUrXL9+Herq6jh37hyTufP27VvWafZ87isAftdcK1asgJWVFW7duoUvX75g5syZIhWn2fDgwQNmD16vXj0UFhZCSUkJfn5+sLOzYxW5q6SkhK1btyIwMBCZmZkgIujq6orcn5XdtwcFBUndn8qQn5/PfJ/q6up49eoV9PT0YGxszLpKNl8Rh8LiDNra2vD29mad3imJqljz1jnUvkPz5s1x584d7Nu3jxGxdXFxwdixY9GgQQNWtlu1avVVvRO2qKioIDo6mhdRcr7D1WfOnIn379/D2toanz9/hoWFBerXrw9vb2+pdLcq6j/wibGx8XfFcqWhW7duSE9P582h9uzZM3h4eHDiTAP+vwQx39VV5OTksGfPHvj7+/MmMq2trc1MqGzEWisuFm/fvs2U5QbKtCtkZWVhamrKqr9A2aZ37969rFIkvgafDnW+0xv4TEEYNWoUXFxcsHLlSvTs2ZPZxMyYMQNjxoxhZbtiCjURIScnB0uXLkWnTp1Y2RbCVyGIpKQk9O3bF6qqqnj8+DFcXV2hrq6OY8eOsRY9t7S0RGpqKtavX88UUxk+fDgmT54slUYT31R8BggX5ffu3RNpZ7ORYVMd/EeYOXMm3rx5g8mTJzMpmQoKCpg1axbmzJnDyvaLFy+YTaKSkhLev38PAPjll194eZZxBdfyABUpr3llbW2Nhw8f4tatW9DV1WV9/3/t8LVHjx6cFfVQUlJC165dObElZNasWYiMjERiYiI6dOgACwsLzJkzBxYWFlBVVWVt/969e0zqWGpqqsh7XKWCKioq4ueff+bEVnl+/fVXxMXFITAwEMePH2cOG2/cuAETExNWtrt27YqpU6di9+7djCPqxYsXmD59OszMzLjovggqKirw8/PDL7/8wkpvcurUqUy664IFCzBgwADs3r2bqdrMhqlTp2Ls2LFQUlJC69atGc3TqKgoTpxefO0rAH7XXIaGhkhMTMSmTZsgKyuL/Px8DB8+HH/99RdrJ2bDhg0ZuZHmzZsjIyMDRkZGACBVoQBJKCkpcVb9lW3a/4/Cp+PYwsICYWFh8Pf3B1A2VkpLS7FixQrWerhA2X1ZXFyMS5cuISMjAw4ODlBWVsbz58+hoqLC2YGD0O/CdUp/XZXPauTChQtYtWoVM+C5pqIoeXnYipLPnTsXgYGBTDUiocNLeKNxQUFBAS+nd3xSUlKC48ePM1X+DA0NMXToUMjKyrKye+zYMcybNw8zZsyAsbGxWDQD24f+8OHDMXr0aIwcOZKVHUlwXV2lqoTD+RRrXb16NSIiIhAaGgo1NTUAZaeZzs7O6N27N+tID09PT4SFhaFjx46cRL+UZ/ny5QgNDcWOHTvQv39/nDlzBllZWfDy8sL8+fNZFZu4du0aBg4ciLFjxyIkJAQTJkxAcnIyrl+/jsjISNbORltbW3Tp0gX+/v5QVlZGUlIS2rRpg9GjR6O0tJRVufIvX75gxowZ2LRpE4qLiwGUOXwnTZqEpUuXsnLYycjIiAlBA0D37t2xY8cOVppBfBeC6NevH7p06cJLxens7Gy0atVK4sIoOzsbrVu3ZtHzOr7Fp0+fOI860tfXR1hYGLp164bevXvD1tYWs2fPxoEDB+Du7o6XL19y0HPu+fLlC/744w8cOnSIcUaXlpbC0dERGzdu5DQiiy/Cw8OZQykuK0LfvHkThw4dkqiJd/ToUantysjIQFNTE15eXrCzsxPR9KmDP9LT0zFs2DCkpKQwz9fs7Gzo6enh+PHjvBz6RkdHY8iQIWJaomzgumrzrVu38OTJE/Tv35/Zq5w+fRqqqqqsi6Dxta8A+F9zff78GUlJSRL3oZWtCFsee3t72NrawtXVFTNnzsSxY8fg5OSEo0ePQk1NDZcuXWLV76qisLAQRUVFIm1sosv37NmDoqIiODk5ISEhAQMGDMDr168Zx/GoUaOktn3//n1YWVnB1NQU4eHhGDp0KJKTk5GXl4dr165BV1dXatsAkJWVhYEDByI7Oxv//vsvsxadOnUqPn/+LFGntDKEhYVhxYoVSEtLAwDo6elhxowZnBWGqnOoSeDkyZMYNGgQ5OTkvlsums0DQU1NDQUFBSguLoaioqLYplcaAV4h3xMlP3bsmNS2hfDt8OKjEt/NmzdRWloqVsEuLi4OsrKyrE4L09PTYWtri6dPn0JfXx9EhNTUVLRq1QqnT59m9bCRVPlFuMHmoijB9u3b4efnB2dnZ4kOOzbjXGiTq+oqFU9CvhXpFR4eLvV1PD09ERMTg6CgIAwcOBBJSUnQ0dHByZMnsWDBgh8Wu5ZEixYtcOHCBeZETci9e/dgY2OD58+fS20bEP+MyiMQCFh9LgC/DvW7d+9i5cqVIpG1s2bN4uSk92sLAmEKAtsFAVD2XMzIyAARoV27dpxEfVZMRxVuJrmo2sjnOAfKUoHi4+Ohq6sr4lDLysqCvr4+M4akgc8y61UFXyXoayOzZ8+GiooK/v77bxw+fBhjxoyBtrY2srOz4eXlhaVLl1Z3F79JWloa7ty5w1oeQBL5+fmIjIyU6JhikwpbUFDAWWR6Rfbv3w9HR0fY2Njg4sWLsLGxQVpaGl68eIFhw4axiqZMTExEZGQkUz1YVlaWKUpgZWXFmYOttt6fJSUlOHbsGOOEMTAwgJ2dHSfRx0SEixcvMlHBhoaG6NevH+vPpWKxHGEk9q5du2BhYVFpmZ2qrNoM8BPlzee+Qghfa65z587B0dEReXl5nBdTy8zMxKdPn9CxY0cUFBTA29sb0dHRaNeuHQIDAzl99nJNfn4+Zs2ahYMHDyIvL0/sfa7WLUSEwsJCTh3HL168wMaNG0XGChcRh0CZk1RZWRnbt2+HhoYGs1aMjIzE+PHjGUeYNKxevRo+Pj6YMmUKzM3NQUSIiYnB+vXrERAQUOnKxxLhRIntP4ZAIKDc3Fzm3197sRVUDwkJ+eaLDXyKkvPN69evqU+fPsxnLBQ+/PPPP2natGmsbHft2pUOHTok1n7kyBEyMzNjZXvQoEE0cOBAysvLY9pev35NAwcOpMGDB7Oy/fjx42++2MLnOA8ICCBVVVX69ddfafHixRQcHCzyYsOqVatoyJAh9ObNG6btzZs3ZGdnRytXrmRlm0+xViUlJbp8+bJY++XLl0lJSYmV7aoiPz+fbt68SXFxcfTx48fq7s4Pk5OTQ/PnzydbW1saNGgQzZ07l54/f17d3ao2+C4EwafouUAgoJcvX4q1P378mBQVFVnZ5hs+57n/CrGxsbRq1So6ceJEdXflm/j6+kosdFRQUMCJAH98fDw1bdqUVFRUSFZWljQ1NUkgEFDDhg1ZCyrLyclRjx49aM6cOXT+/HlGdJsLjI2Nad26dUT0//d+aWkpubq60vz58zm7DhHRnTt3yMnJierVq8d6zUJUu+/Pu3fvko6ODikqKpKJiQmZmJhQw4YNSVtbm5KSkji7TmFhIZWWlnJmr6JYuI6ODnXr1o3mzJlDHz58qLS98oVZrKysSFlZWewzUVFRIWtra1b9zs/Ppz///JNkZWVJVlaWGSvu7u60ZMkSVrb53Ffwja6uLk2ePJlevHjBuW0nJye6dOkSp+Ovqpg8eTIZGBjQoUOHqEGDBrRjxw7y9/enli1b0u7du1nb37ZtGxkZGZG8vDzJy8uTkZERbd26lYOelxUfcXBwoO7du9PTp0+JqKwgkaRCJZVFQ0ODHj58SESia8VHjx6xLhyira3NFFMrT0hICGlra7OyLaTOofYfRV1dndLT06u7G1LBZyW+hg0bMvbKk5mZydqRoaioKHGxcufOHdaVfmozfFZXad68Od27d0+s/e7du9SsWTNWths0aMCMlfLj8M6dO6SiosLK9h9//EGtW7emQ4cO0ZMnT+jJkyd06NAh0tbWJkdHR1a2azvp6ek0d+5cGjNmDHOwcfbsWYnfc2W5dOnSV99bu3Yta/tcUtHx/K0XG/gc50T8VJz28vIiLy8vkpGRoQkTJjA/e3l5kYeHB3Xr1o169uzJuu98wuc8V9tJTk6ms2fP0okTJ0ReNRUZGRnmWVWe169fc+LcsbS0JFdXVyouLmbGSnZ2NllYWNCRI0dY2b527RotWbKEBgwYQMrKyiQnJ0fdunWjWbNm0ZkzZ1jZVlRUZCoramhoMOuj+/fvc1KJMz4+nlavXk1Dhw4lNTU1kpWVJVNTU/L29mZtuzbfn926dZN40Dh06FDq3r07K9slJSXk5+dHzZs3F3EezZs3j7Zt28bKNp/wefjq4eFBpqamdPXqVZE9xokTJ6hz586sbFfFvqK4uJgOHz5M/v7+FBAQQEePHqXi4mLWdpWVlXnbhw4ZMoTq169PzZs3p2nTplWq4mZ106pVK7py5QoRlX1GaWlpRFTmmBo0aBAr2/PmzaOGDRvS7NmzmXlz9uzZpKSkRHPnzmVl+/Dhw9SgQQMaP3481a9fnxnn69evZ91vIiI1NTVKTk4mItG16NWrV0lLS4uV7fr16zOfc3lSU1Opfv36rGwLqXOo/QCXLl2iOXPmkIuLCzk7OzOvP//8k7NrFBQU0Pv370VebJg5cyb5+flx1Luqha/SvERljsZr166JtcfExJCqqior22pqahQTEyPWHh0dLVUp5BMnTtCXL1+Yf3/rxRZfX9+vvmryOOIz0svCwoLWrFnDXCczM5OIiP766y8aMGAAK9v5+fk0adIkql+/vkhZ7kmTJnEaIcAH9vb2NGzYMLHX8OHDycHBgebPn8+cMlWWiIgIatCgAfXr14/k5eWZe3/ZsmWsy6wTETVq1Ihu3Lgh1h4YGMhJNBaXfMsRzaVTms9xTkT0/v17Mjc3J1VVVZKVlaVWrVqRnJwc9e7dW+qxLow4EAgE1LNnT5EoBBsbG3Jzc6PU1FTWfecTPue52kpGRgZ17NiRiQoS/lf4qql8LVLy8uXL1LhxY9b2GzVqxDxTGzVqRPfv3yeisgg+fX191vaFFBcX0/Xr12ncuHGcRHq1bNmScQZ07NiR9u7dS0RlTjy2znpVVVWqV68emZqa0vTp0+nUqVOs183lqc33p4KCwlcPGhUUFFjZ9vX1JR0dHdq9e7fIYcyBAwdYO+v4hM/DVz6jvLneV1QkLS2N9PT0mMi9zp07k6KiIunr67N2hjk7O/PqZH379i1t3ryZLC0tSUZGhgwMDGjRokWME7+m0rBhQyazqEWLFhQXF0dE3DxbNDQ0mOdsefbu3UsaGhqsbHfu3JmJ8io/zhMSEqhJkyasbBMRjRw5klxdXRn7mZmZ9PHjR+rTpw85OTmxsm1kZESLFi0Sa/f396cOHTqwsi2krsrnd/ieFhkbuM6jLq8XUFpaii1btuDSpUuci5LzDZ+V+Pr37485c+bgxIkTTOnvd+/e4e+//0b//v1Z2f7ll1/g5uaG7du3M9WO4uLiMHHiRKk0yOzt7fHixQtoaWl9s1IpFxpqFTX1ioqK8OjRI9SrVw+6urqcVFjjQ19i2LBhcHZ2xqpVq9C9e3cAQGxsLGbMmIHhw4ezsr1kyRIMHDgQ9+/fR3FxMYKDg0XEWtmgqKiIDRs2YMWKFSJ6W3yUi+aaRo0a4fjx41BVVYWpqSmICAkJCXj37h1sbGxw4MABLFu2DJcvX660GO/s2bMREBCAadOmQVlZmWm3trZGcHAw674HBgZi8ODBiIyMhKGhIYCyKnf+/v44ffo0a/tc8rUy38RxhSI+xznAT8XpK1euACjTZwwODmYl4ltd8DnP1VY8PT3Rtm1bXLp0CTo6OoiLi8ObN28wffp0rFy5srq7J4aamhoEAgEEAgH09PRE7smSkhJ8+vQJEydOZH0dOTk5xnaTJk2QnZ0NAwMDNGrUCNnZ2aztP3z4EBEREYwmWVFREYYMGQJLS0tWdnv37o2LFy/C2NgYI0eOhKenJ8LDw3Hx4kX07duXlW2hrhZf935tvj/19fWRm5srptH68uVL1kUDwsLCsGXLFvTt21dkbHfs2BEPHz5kZZtPPnz48NXP5OPHj6xsv3r1SkzHEygbQ2znaa73FRXx8PCAjo4Orl+/DnV1dQBlGqS///47PDw8WK2L1q1bhxEjRuDq1asStZnZaD8CZQXP3Nzc4ObmhqdPn2Lfvn3YsWMH5s+fzxSGqono6Ojg8ePHaNOmDQwNDXHw4EGYmZnh1KlTrCsUl5SUSNQCNzU1Zf2ZpKSkMFWsy6OiooJ3796xsg2Urc+tra1haGiIz58/w8HBAWlpaWjcuHGl9RMr4uvri1GjRiEqKgrm5uYQCASIjo7G5cuXcfDgQdZ9B1CnofY9+NQi4zqPuqJewNdebPUC+Gbw4ME0b948Ivp/L3VJSQmNGDGCdZTK06dPSUdHhxo1asR8HqqqqqSvr0/Z2dmsbL99+5aGDh1KAoGAyV0XCARkb29Pb9++ZWW7Onj//j0NGzaLe3inAAAgAElEQVSM9fjnU1+C70ivpKQkcnR0JCMjIzIwMKCxY8dyqkFSG5k1axZNmjSJSkpKmLaSkhKaMmUKzZkzh0pLS8nNzY3Mzc0rbbthw4ZMhFRFDQWuwrJXrFhBLVq0oEePHtHSpUtJRUVF4glwTYNPXQy+x/nXorydnZ05u8aTJ08YTY/aAJ/zXG1FQ0ODEhMTiYhIRUWFicq6fPky69QpPggJCaGdO3eSQCCg4OBgEQ3cvXv3SoyGl4b+/fvTnj17iIhowoQJZGZmRrt376YBAwaw1n5t0qQJqaur02+//Ubr1q3j9L7Py8ujZ8+eEVHZHLFs2TIaMmQIeXl5iaTe1URq8/15+vRpMjIyEpOUMDY2ptOnT7PKhFFQUGCia8rP0cnJyTU6co9PmQ0+o7wl7StkZGTI3t6e3r17x8o2Eb8ppVu3biVZWVlSUlKiNm3acBpZX54vX77QsWPH6NdffyUFBQVq3rw5Z7b5YPXq1YxUR3h4ODVo0ID5XoOCgljZnjJlCnl5eYm1T58+nSZPnszKto6ODl28eJGIRO/90NBQMjAwYGVbSEFBAW3fvp3++usvmjRpEm3dupUKCgo4sX379m0aO3YsdenShUxMTGjs2LGMvi8X1DnUvgOfWmR85lHXZpKTk0lTU5MGDhxI8vLy9Ntvv5GBgQE1adKEk+/i06dPtHnzZpo8eTJNnz6dQkNDmdRKLkhLS6OTJ0/SiRMnJOZsS8O3nH3CUHM+uHv3LrVp04aVDT71JYR8+vSJEhMT6c6dO6wcaV5eXsz/HxkZSUVFRZz0779E48aNKSUlRaw9JSWFCSlPSkqiRo0aVdp2ixYtGOdW+Qn76NGjpKOjw6LXosyePZs0NDRIVVWVYmNjObPLF1zrYlTlOF+4cCHJyMiQmZkZ2dnZkb29vciLDSUlJeTr60sqKiqMQ71Ro0bk5+cn4vCtifA9z9VGVFVVmXteR0eHwsPDiahMV5GtKDGfREREcLqGqMjNmzeZz+Lly5c0aNAgUlZWJhMTEyYtUVo6depE8vLyZGZmRjNnzqQzZ87UqiIzfFGb78+KRaWE6dMVf5YmpdfU1JR27dpFRKJz9MKFC6lXr16c/h1cwufha0xMDCkrK9PEiRNJQUGBPD09qV+/ftSwYUO6desWJ/1PTU3lfF9BxG9KaZMmTWjRokW8zcXh4eE0fvx4UlNTIxUVFXJycqKLFy/W+Lm/IllZWXTkyBHWz3KiMoeaiooKGRkZkYuLC7m4uJCRkRGpqKgwzjbhq7IsW7aMDA0NKTY2lpSVlenq1au0e/du0tTUrHEaxBVxcHCgLVu2SNy7cIWAqEIt2zpEmDVrFpSUlDhJeauIkpISkpOT0aZNG7Rs2RJHjx6FmZkZHj16BGNjY3z69Inza9YWcnJysGnTJl5K83JJVZXlbt++PWJiYqChoSHSHhMTA1tbW07CbSURHR2NIUOG4O3bt1LbaNOmDQ4cOIDu3btDWVmZKYWcnp6OLl264MOHDxz2mB1ycnJ4+vQpmjRpAllZWeTk5EgM5f9fRk1NDaGhoWLpBidPnsS4cePw9u1bpKWlwczMrNLjZubMmbh+/ToOHToEPT09xMfHIzc3F46OjnB0dMSCBQsq3d81a9ZIbF+5ciUsLCyYNAqAfQoCXzRu3Bhr167FmDFjRNr37dsHd3d3vH79ulL2qnKcN2vWDMuXL8cff/zBue05c+Zg+/bt8PX1FSmFvnDhQri6umLRokWcX5NLass8V1X07t0b06dPh729PRwcHPD27VvMmzcPW7Zswe3bt3Hv3r3q7iLDhw8fmHTD781hNT0l+d27d4iKikJkZCQiIyORnJyMjh07wtraGkuXLpXa7teeLXl5edDS0mItVcE3L168wMaNG2vd/VmZVP3KpvWeOnUKf/zxB+bMmQM/Pz/4+voiJSUFYWFh+Oeff1hLp/BNfn4+LzIbd+/excqVK0XGyqxZs2BsbMyJfb5wdHREfHy8WEqpq6srTE1NERISIrVtdXV13Lx5E7q6uhz19v9p2bIl8vLyMGDAAIwdOxZDhgyBgoIC59epbVhbW//Q7wkEAoSHh1fa/ty5cxEYGIjPnz8DAOrXrw9vb2/4+/tX2hZQtm8YNGgQ5OTkcPLkyW/+LpsU5wkTJiAyMhJpaWlo0qQJLC0tYWlpCSsrK7Rv315qu+Wpc6h9B09PT4SFhaFjx46ca5F17NgRa9euhaWlJWxsbNCxY0esXLkSa9aswfLly/H06VO23a+1fP78GUlJSXj58iVKS0tF3qvsTcXnDVvx4XX79m2UlJRAX18fAJCamgpZWVmYmppK9fAS4urqivj4eERERDDaUlFRURgyZAgWLlwILy8vqW0D4k4HIkJOTg6jU8Imf11RURH37t2Djo6OiEMtMTERFhYWeP/+Pau+c8lPP/2EkSNHwsbGBtbW1jh27BjU1NQk/q4kLYH/BTw8PLBv3z78/fff6Nq1KwQCAW7cuIHFixfDwcEBwcHB2LZtG0JCQhAdHV0p20VFRXBycsL+/ftBRKhXrx6Ki4sxduxYhISEQFZWttL9bdu27Q/9nkAgQGZmZqXtVwVqamq4ceMGfvrpJ5H21NRUmJmZVdqhXpXjXENDAzdu3OBlUd28eXNs2rRJ7Ll94sQJTJ48Gc+ePeP8mlzC5Tz3X+D8+fPIz8/H8OHDkZmZiV9++QUPHz6EhoYGDhw4gD59+lR3FxnKO4tkZGQkaiUREScap1XFmzdvEBERgRMnTmDv3r0oLS1l1XcZGRlGB7Y8z58/h66uLgoLC9l2mTeys7PRqlUrid9rdnY2WrduXQ29qhmcP38eixcvFnEezZ8/HzY2NtXdtf8cJSUlCAkJweXLlyXOE2z2FUCZM33cuHE4deoUs78tKiqCnZ0ddu7cyUrTy8vLC5qamvj7779Z9VESW7ZswYgRI766bqnp5OfnIzIyEtnZ2fjy5YvIezX1YFdIQUEB7t+/j9LSUhgaGkJJSUlqW+XnCBkZma/+Hlfz6IsXLxAREcFohqampkJLSws5OTmsbdc51L7Dt7y90np4hQQGBkJWVhYeHh64cuUKbG1tUVJSguLiYqxevRqenp5S267NnDt3Do6OjsjLy0PF4SnNTVVVN+zq1asRERGB0NBQ5iH/9u1bODs7Myfv0kJEGDFiBF6+fIkLFy7g+vXrGDp0KAICAjgZJxWdDjIyMtDU1ESfPn0wZ84cEYH4ymJpaYnffvsN7u7uUFZWRlJSEtq2bYspU6YgPT0d586dY9t9zjh+/DgmTpyIly9fQiAQiI0/IbVpk8Q1JSUlWLp0KdatW4fc3FwAZULZ7u7umDVrFmRlZZGdnQ0ZGRm0bNlSqmtkZmYiPj4epaWlMDExEXMk/a/h7u4OOTk5sQMcb29vFBYWYv369ZWyV5XjnM8obwUFBSQlJUFPT0+kPSUlBZ07d67RG3au57n/Km/evGHE/2sSkZGRMDc3R7169RAREfHN/kkj7m9iYvLDf3N8fHyl7Qs5duwYs8FITk6GhoYGevfuDSsrK1hbW4uJuP8IwgM6Ly8v+Pv7i2y4SkpKEBUVhcePHyMhIUHqfvNNbY+uA8o2vpI27B07dqymHv13KSkpwfHjx/HgwQMIBAIYGhpi6NChUh0ClmfKlCkICQmBra2txMJ4gYGBrOwLSU9Px4MHD0BEMDQ0ZF28AihzDIWFhaFTp061rjgenyQkJGDw4MEoKChAfn4+1NXV8fr1aygqKkJLS6vGHuz+F8jPz0d0dDQz58XHx8PQ0JCTuajOoVaDyM7Oxq1bt6Crq4tOnTpVd3eqjXbt2mHAgAGYP38+mjRpUt3d+WFatGiBCxcuiC1A7927BxsbGzx//pyV/aKiItja2iI/Px9JSUlYsmQJpkyZwspmVXDt2jUMHDiQiTKaMGGCSBVBU1PT6u6iGJ8+fYKKigpSUlK+mgonrBL7v4ww1YmrlKavpVALBAIoKCigXbt2sLOzY6pRsYE4rpbJJ+7u7ggLC0OrVq1Eqtk+efIEjo6OIgvVyixSq2Kc8xnl3a1bN3Tr1k0swtbd3R03b95EbGys1Lb5prbOc3VUDb6+vj/8u9KkwgvR0tKChYUFrKysYGVlhQ4dOkhtS4jwgC4rKwstW7YUcSrIy8tDW1sbfn5+6NatG+tr8YWMjAxyc3Ohqakp0p6VlQVDQ0Pk5+dXU8++z6tXr+Ds7IyzZ89KfJ+tM/Ddu3c4fPgwMjMz4e3tDXV1dcTHx6NJkyZo0aIFK9u1kfT0dNja2uLp06fQ19cHESE1NRWtWrXC6dOnWUVnN27cGGFhYRg8eDCHPf5/+Fxz8RmQUpuxsrKCnp4eNm7cCFVVVSQmJkJOTg6///47PD09MXz48OruYrVx+fJlidGYAoEA27dvl9rurFmzEBkZicTERHTo0AEWFhawtLSEhYUF68qqTB/rHGp11DRUVFSQkJDAS4oQwN8Nq6ysjBMnToilpYSHh8POzq7SpbmTkpLE2j5+/IgxY8bA1tYWkyZNYtpr+onjvXv3sGLFilqlL1E+AqGOqsHa2hrx8fFM2jQRIS0tDbKysmjfvj1SUlKYcteGhoZSXSMsLAwrVqxAWloaAEBPTw8zZszgReOLK/jUxeB7nPO5qI6MjIStrS1at26NHj16QCAQ4Nq1a8jOzsbZs2fRu3dvqW3zDd/zXB1Vh7m5OaPHYm5uzpkuU23H2toaR48erVVpWUIHQ3BwMFxdXaGoqMi8V1JSgri4OMjKyiImJqa6uvhdxo4di8ePHyMoKIhJ6c/NzUVAQABWrVoFW1tbqW0nJSWhX79+aNSoER4/foyUlBTo6OjAx8cHWVlZCAsL4/AvqR0MHjwYRIQ9e/Ywjqe8vDz8/vvvkJGRwenTp6W23bx5c0RERIhFYXNFVay56hBFVVUVcXFx0NfXh6qqKq5fvw4DAwPExcVh3LhxePjwYXV3sVrw9fWFn58ffv75Z4nRmMeOHZPatjDrysvLC3Z2djAwMGDbXTHqHGpVzNcEsiVR0/Oo+eLPP/+Eubk5XFxcOLfN5w3r6OiIyMhIrFq1SiSKZMaMGbCwsEBoaGil7Al1WcrfouV/Fv67pqcHjR07FlZWVrC0tORtUcAXGRkZ2LlzJzIyMhAcHAwtLS2cO3cOrVq1kioV5r9Abm4uvL29Gad0xSmEzVgMCgrC1atXsXPnThHBbxcXF/Tq1Quurq5wcHBAYWEhzp8/X2n7q1evho+PD6ZMmSIiYr9+/XoEBASw1iKsrdTmcf7s2TNs3LhRJF1l8uTJaN68eXV37ZvwOc/VUbUsWbIEkZGRuHbtGj5//gxTU1PGwdarVy9WGjNChFFBGRkZmDFjBqdRQRXT1QwMDGBnZ8c6Xa02IjwAiIyMRI8ePSAvL8+8J4yu8/b2rtEyBM2aNcOJEydgZmYGFRUV3Lp1C3p6ejh58iSWL19eaW3T8vTr1w9dunTB8uXLRTRxr127BgcHBzx+/Ji7P6SW0LBhQ8TGxoodECcmJsLc3JxVgblVq1YhMzMT69at4yWanu81Vx3iaGpqIiYmBnp6etDX18eaNWswYMAAPHz4EF26dEFBQUF1d7Fa4LOAVWJiIiIjIxEREYGrV69CVlaWmaOtrKw4cbDVOdSqmP+CQDbfFBQUYMSIEdDU1ISxsbFYihAbRyOfN2xBQQG8vb2xY8cOFBUVAQDq1asHFxcXrFixotKn1llZWT/8u23atKmU7aqkKqqr8EFkZCQGDRoEc3NzREVF4cGDB9DR0cHy5ctx48YNHD58uLq7WC0MGjQI2dnZmDJlikSntJ2dndS2W7RogYsXL4qdhCYnJ8PGxgbPnj1DfHw8bGxsKl3ZEih7/vr6+sLR0VGkPTQ0FAsXLsSjR4+k7nttpbaP89oq7M/nPFdH9VBSUoKbN28y+izh4eEQCAT4999/WdnlMyooPT0dgwcPxrNnzzhPV+NbUJ1PnJ2dERwcXOMrtEpCRUUFSUlJ0NbWhra2Nvbs2QNzc3M8evQIRkZGrDbsjRo1Qnx8PHR1dUUcallZWdDX12eq//0voa6ujn/++Qc9e/YUaY+JicGQIUPw5s0bqW0PGzYMV65cgbq6OoyMjMTmiaNHj0ptG+B/zVWHODY2NnBycoKDgwMmTpyIhIQEeHh4YNeuXXj79i3i4uKqu4vVAp8FrCqSmJiIoKAg7N69m3XxHSF1uUxVzNc2bLVJz4dv9u7di/Pnz6NBgwZiYr8CgYDVRuPLly9ikx5XKCoqYsOGDVixYgUnZbmFTrKioiK4ubnBx8cHOjo6XHa5Sti8eTMA0eoqwcHB+OuvvzirrsIHs2fPRkBAAKZNmyZSlMHa2hrBwcHV2LPqJTo6GlevXkXnzp05t/3+/Xu8fPlSbHH36tUrRq9NVVVVTGT5R8nJyZF4//fs2bPGjkO+qc3jvDYL+/M5z9VRPaSlpSExMRGJiYlISkqCiooKJ2nH06ZNg5OTExMVJGTQoEFwcHBgZdvDwwO6urqIjY0VS1fz8PBgla7m6enJCKp36NChVq1vBQKBxP7m5+fD3d0dO3bsqIZe/Rj6+vpISUmBtrY2OnfujM2bN0NbWxubNm1C06ZNWdlWUFBg5uLypKSkiOnN/a/wyy+/wM3NDdu3b4eZmRkAIC4uDhMnTmR9qKOqqophw4Zx0U2J8L3mqkOcxYsXMxJA/v7+GDduHCZNmoR27dph586d1dy76mP8+PHYu3cvLwWsgLJiEMI96NWrV/Hhwwd07tz5hyVVvgvVUa1s27aNjIyMSF5enuTl5cnIyIi2bt1a3d2qVpo0aUKLFi2ikpISzm3PnDmT/Pz8OLfLN40aNaKMjIzq7gYrPn36ROfOnaPZs2dT9+7dSV5enjp37lzd3foqDRs2pMzMTCIiUlJSYj7/R48eUf369auza9WKgYEBxcfH82LbwcGB2rZtS0ePHqUnT57Q06dP6ejRo6Sjo0O///47ERHt27ePTE1NpbJvZGREixYtEmv39/enDh06sOp7baU2j3NdXV2aPHkyvXjxorq7Umn4nOfqqFpGjhxJTZs2JS0tLfrtt99ozZo1lJiYyJl9FRUVSk9PJyLRe/Tx48es71FFRUVKSkoSa79z5w41bNiQlW0NDQ06ffo0KxvVhYyMDOXm5oq1v3r1imRlZauhRz/O7t27aefOnUREFB8fT5qamiQjI0P169en/fv3s7Lt6upK9vb29OXLF1JSUqLMzEzKysoiExMT8vT05KD3tY+3b9/S0KFDSSAQMHs5gUBA9vb29PbtW1a2CwoK6NOnT8zPjx49osDAQDp37hzbbhMR/2uuOur4UTw8PEhVVZUsLCxoypQp5OXlJfJig6qqKtWrV49MTU1p+vTpdOrUKXr//j1HPS+jLkKtGvHx8UFgYCDc3d3Ro0cPAMD169fh5eWFx48fIyAgoJp7WD18+fIFo0aNgoyMDOe2P3/+jC1btuDSpUu1qozzsGHDcPz48a9W5KnJSKquMmfOHE6rq/CBqqoqcnJyxNK0ExIS/icrWQkJCgrC7NmzmVNvLtm8eTO8vLwwevRoFBcXAyhLmx43bhxTHr59+/bYtm2bVPZ9fX0xatQoREVFwdzcnBHbvXz5Mg4ePMjZ31GbqM3j/OXLl5g2bVqtrJLJ5zxXR9Vy6NAhNG7cGE5OTrC2tkbv3r050U0TwmdUUP369SUWTPr06ZOIfpg0yMvLo127dqxsVDUfPnwAEYGI8PHjRygoKDDvlZSU4MyZM1+tiFxTICI4OTkBAExMTPD48WM8fPgQrVu3xrJlyzBq1Cipba9cuRKDBw+GlpYWCgsLYWlpiRcvXqB79+5YtGgRR39B7UJVVRUnTpxAenq6iJYnF2Pfzs4Ow4cPx8SJE/Hu3Tt0794dcnJyeP36NVavXi1SnEwa+F5z1VHHj5KUlMRkvty7d0/kPbbRzbt27YKFhQWvKfx1GmrVSOPGjbF27VqMGTNGpH3fvn1wd3f/n81X9/LygqamJv7++2/ObdfWMs6LFi3CypUr0bdvX5iamoqlkdbk9KCqqK7CBzNnzsT169dx6NAh6OnpIT4+Hrm5uXB0dISjoyMWLFhQ3V2sFtTU1FBQUIDi4mIoKiqKOaXZ6IUI+fTpEzIzM0FE0NXV5XRzGh8fj9WrV4ssfKdPnw4TExPOrlGbqM3jvDYL+/M5z9VRtbx79w5RUVGIiIhAZGQkkpOT0alTJ0bweNCgQazsu7m54dWrVzh48CDU1dWRlJQEWVlZ2Nvbw8LCAkFBQVLbdnR0RHx8vFi6mqurK0xNTRESEiK1bb4F1flAWAzqawgEAvj6+mLu3LlV2KvKoaqqit27d+OXX34RaZ82bRr27dvHibzBlStXRKq29+vXj7XN2kRlDrfZHNQ3btwYkZGRMDIywrZt27B27VokJCTgyJEjmD9/Ph48eCC17fLwueaqQ5S8vDzMnz8fV65ckagtycUauo6qp86hVo2oqanhxo0bYtWCUlNTYWZmhnfv3lVTz6oXDw8PhIWFoVOnTrUqioxPvlXMoqYXsKiK6ip8UFRUBCcnJ+zfvx9EhHr16qG4uBhjx45FSEjI/2QFNADfrVY7bty4KupJ5ajtWoR8UZvHeW0W9q+b5/67ZGRkICAggDPB4w8fPmDw4MFITk7Gx48f0bx5c7x48QI9evTAmTNnpNZpBcqcgePGjcOpU6eYMVhUVAQ7OzuEhISgUaNGUtvmW1CdDyIjI0FE6NOnD44cOcLoygFlEXdt2rSp8RWEz507h9GjR+PkyZOwsLAAALi7u+PIkSMIDw9nXQzq8uXLXy00UZO15bik4uH87du3UVJSAn19fQBl+zhZWVmYmpqyOqhXVFRkogtHjhwJIyMjLFiwAE+ePIG+vv7/bEXI2sygQYOQkZEBFxcXNGnSRMyBX1PX0HV8mzqHWjXi7u4OOTk5sYWzt7c3CgsLsX79+mrqWfVSW6PI6vgx+KiuwieZmZmIj49HaWkpTExMxBzgddQeVFVVER8fX+dQk0BtHOfbtm3DxIkT0aBBA2hoaIgJ+9fkg4a6ee6/w5s3b5hDo4iICCQnJ0NdXR0WFhawtrbGX3/9xcl1wsPDmXtUGBVERJxEf6Wnp+P+/fsAwFm6mrOz8zffr8kC3FlZWWjVqlWtTcnev38/Jk+ejAsXLmDHjh04ceIErly5Aj09PVZ2fX194efnh59//llile9jx46xsl8bWb16NSIiIhAaGgo1NTUAwNu3b+Hs7IzevXtj+vTpUtvu2LEjxo8fj2HDhqFDhw44d+4cevTogdu3b8PW1hYvXrzg6s+oo4pQVlZGdHQ0OnXqVN1dqYND6hxqVUz5MOHi4mKEhISgdevW6N69OwAgNjYWT548gaOjI9auXVtd3ayjBkO1sCLst6qrrFixorq7x1BVYfz/FQoLC1FUVCTSxqdGAVucnZ1hbGxcK7UIueS/Ms6bNm0KDw8PzJ49u9ZufOuo/cjKyqJx48bo3bs3E3ndoUMHzuwvWbIEc+bMEWsvKSnB77//jn379rGyv337dgQGBiItLQ0A8NNPP2Hq1KkYP348K7v/BQoKCpCdnS1W5bBjx47V1KMfZ+PGjUxq+ZUrVzhxkjZr1gzLly/HH3/8wUEP/xu0aNECFy5cgJGRkUj7vXv3YGNjg+fPn0tt+/Dhw3BwcEBJSQn69u2LCxcuACh7JkRFReHs2bOs+l5H1dO1a1esXbuW2ffX8d+grihBFZOQkCDys6mpKYCyFAEA0NTUhKamJpKTk6u8b3XUbMLCwrBixQpm0aunp4cZM2bU+IWNmpoaPn36xGjKuLq68i4OKS0V789vhfH/r5Kfn49Zs2bh4MGDyMvLE3u/JkcctmvXDv7+/rh27Vqt0yLkkv/KOK8T9q+jJpCQkAAdHR1GdygrKwtBQUEwNDSEjY0Na/tBQUHQ0NCAm5sb01ZSUoLRo0eLiTdXlqoojvXq1SukpKRAIBBAT0+PdSGFquDVq1dwdnb+qsOips1zXzsk0dLSgomJCTZs2MC0sTkk+fLlC3r27Cn1//9f5MOHD8jNzRVzqL18+VJiwY/K8Ntvv6FXr17IyckRiWjq27cvhg0bxsp2HdXDhg0bMHv2bMyfPx8dOnQQS4WviXujOr5PXYRaHXXUAlavXg0fHx9MmTIF5ubmICLExMT8X3t3HhT1ff9x/LUIETCsmkRRWwXpVgkdilesR414RKY68SCTeCwSz4kxnvEaazyqoo53LAbxyohRIwFrxImReGA82lAEE1rFGOqBxgOktglgFdjfH/mFKV01sLB+WXw+ZjLjfL7M+vpjZTLv7+f9fmv9+vVavHixpk6danTEh9q/f3+NLaA9ijOv8buyt956S0ePHtXChQsVGRmp9evX69q1a4qNjdWyZctktVqNjvhQrjyL0Flc+XvOYH/UBH369Cm3iS8wMLBaN/GdPn1avXv3VmxsrF577TXdv39fgwcPVlZWlo4cOaImTZo4/NnOXI5VUFCgiRMnKi4urmzWVp06dco6MLy9vR3+bGezWq26dOmS1q5dqx49euhPf/qTbt68qcWLF2vVqlXq16+f0RHLeVQL+X+rajv5rFmz9PTTT2vu3LkOf0ZtExkZqWPHjmnVqlXluo1mzJihF1988SfnzuLJcuHCBQ0dOtTuxeaP7fs1rViPiqGgBriAli1b6g9/+IMiIyPLnW/btk0LFizQxYsXDUpWeznzGr8ra9GiheLi4hQaGiqz2az09HRZLBZt375du3bt0ieffGJ0xApxxdZpZ3Dl7zmD/VETPI5NfCkpKRowYIDi4uK0ZcsWZWdn68iRI/L19a3S5zpzOdYbb7yhQ4cOKTo6Wl27dpUknThxQpMmTdJLL72kmJiYKmV3pqZNm+rjjz9Wx44dZTablZaWplatWmnfvjmBQM8AABQpSURBVH1avny5Tpw4YXREQ0yePFlxcXH69a9/ze/c/1dYWKjp06dr69atZSMw3N3dNXr0aK1YsaJKS0NQ+3Ts2FHu7u6aPHnyA5cSdO/e3aBkqApaPgEXcP369Qdes+/SpUu1rECHPWde43dl+fn5ZTe9zGZz2Yrv3/72t1W+ifE4MC+oPFf+nmdmZqpt27aSZNf69qQXSvH4FBYWysfHR5KUnJys8PBwubm5qVOnTrp8+XK1/B2hoaHavn27XnnlFT3//PM6duyYnnvuuSp/bkREhGJiYuwKIRs3bqzybePExEQlJCQoNDS07Kxv377y8vLSa6+9VqMLagUFBWrcuLEk6ZlnnlFubq5atWql4OBgpaenG5zOOF999ZXatGkjid+5P/L29tZ7772nFStWKDs7WzabTRaLhUIaHuhvf/ubMjIyykZsoHagoAa4AIvFovj4eLvWpt27d7vENj5XNGjQII0cOfKB1/jDw8MNTmecgIAAXbp0SX5+fgoKClJ8fLw6duyopKQkNWjQwOh4j/Q45gW5Glf+nh89etToCIAsFov27t2rQYMG6eDBg2UjGG7duuXwqIOH/dtr1KiRGjRoUG6e2p49exz6O360ZcsWJScnP3A51n/P5qrs7aPCwsIH3qBr3LixCgsLq5TZ2Vq3bq3z58/L399fbdq0UWxsrPz9/bVhwwY1bdrU6HiG4Xfuw9WrV88lllXAWB06dFBOTg4FtVqGlk/ABSQmJmrw4MHq3bu3unbtKpPJpBMnTujw4cOKj49nOKkTcI3/wdasWaM6depo0qRJOnr0qPr166eSkhIVFxdr9erVmjx5stERH8qZ84JcFd9zoGqcsYlv5MiRFf7Z999/v9Kf/yNnzt7q1auXnn32WcXFxcnT01PSD5uhX3/9deXn5+vQoUOVzvu47NixQ/fv39eIESOUkZGhsLAw5eXl6amnntK2bds0ePBgoyMCcEEfffSRFixYoBkzZig4ONiubZqirGuioAa4iPT0dK1evVrnzp2TzWZTUFCQpk2bVtbyBOcoKCjgGv8jXLlyRWlpafrFL35RbgtVTeTMeUGuju854LgbN26UbeL7cetsamqqzGazAgMDDU5njMzMTP3ud7/T3bt3FRISIpPJpDNnzqhu3boPnNtYU9lsNhUVFSkrK0stWrSollZbAE+mB20lN5lMLCVwcRTUABdgtVoVGhqq7t27q1WrVkbHwRPs0qVL8vf3NzqGQyZOnCgPDw+71qXp06erqKhI69evNygZANQ+RUVF+uCDD5SVlVX2ItBqtcrLy8voaD+JeZsAqttPzdX08/N7TElQnZihBriAp59+WqtWrdK4cePk6+ur7t27q3v37goNDX1i337DGAEBAerSpYuGDx+uV199Vc8884zRkR7pv2cAmUwmbd68+aHzggCgJkpISFB8fLyuXLmie/fulXtWU4fkL126VL6+vho7dmy5861btyo3N1ezZs0yKNlPY94mAGegYFY7cUMNcCE3btxQSkqKUlJSdOzYMX399ddq3Lgxmz7x2KSnp2vXrl368MMPlZubq7CwMEVERKh///6qW7eu0fHsOHNGEAA427p16zRnzhy9/vrr2rRpk0aOHKns7Gz99a9/1VtvvaWoqCijIz6Qv7+/du7cabeh/IsvvtCQIUN08eJFg5L9NOZtAnCW7du3a8OGDbp48aL+/Oc/y8/PT2vXrlXLli01YMAAo+PBAdxQA1yIj4+PGjZsqIYNG6pBgwZyd3dXkyZNjI6FJ0i7du3Url07LV++XCkpKdq5c6feeOMNjRkzRq+88oq2bt1qdMRy2EoGwJW999572rhxo4YOHapt27Zp5syZCggI0Lx585Sfn290vIe6cePGAzdiNmrUqMa/BCwpKVGHDh3sztu3b6/i4mIDEgGoDWJiYjRv3jxNmTJFUVFRZTPTGjRooLVr11JQc1H2k/EA1DizZs1Sp06d9Nxzz+mdd97RvXv3NHv2bN28eVMZGRlGx8MTyGQyqUePHtq0aZMOHTqkgIAAbdu2zehYAFCrXLlypeyWl5eXl7777jtJ0vDhw7Vr1y4joz1S8+bNdfLkSbvzkydPqlmzZgYkqriIiAjFxMTYnW/cuFFWq9WARABqgz/+8Y/atGmT5syZozp16pSdd+jQQZmZmQYmQ1VwQw1wAStWrFCjRo00f/58DRgwQM8//7zRkfCEy8nJ0a5du7Rz505lZmaqc+fOio6ONjoWANQqTZo00e3bt+Xn5yc/Pz/95S9/UUhIiC5evKiaPLVlzJgxmjJliu7fv6+ePXtKkg4fPqyZM2dq2rRpBqezx7xNAM528eJFtW3b1u68bt26KigoMCARqgMFNcAFZGRk6NixY0pJSdGqVatUp06dsqUEoaGhFNjw2GzcuFE7duzQyZMn1bp1a1mtVu3du9dlN38CQE3Ws2dPJSUlqV27dho9erSmTp2qhIQEpaWlKTw83Oh4DzVz5kzl5+dr/PjxZYsUPD09NWvWLM2ePdvgdPb+97Z/+/btJUnZ2dmSfmhVbdSokf7+978/9mwAaoeWLVvqzJkzdssJDhw4oKCgIINSoapYSgC4oC+//FJr167VBx98oNLS0rIefMDZmjdvriFDhshqtapNmzZGxwGAWq20tFSlpaVyd//hHXh8fLxOnDghi8WicePG6amnnjI44aN9//33OnfunLy8vPTLX/6yRi6vAYDH4f3339fcuXO1atUqjR49Wps3b1Z2draWLl2qzZs3a8iQIUZHhAMoqAEuIiMjo2zD5/Hjx/Xvf/9bbdq0UY8ePbRixQqj4+EJUFxcrIULF2rs2LFq3ry50XEAAAAAl7Fp0yYtXrxYOTk5kqSf/exnWrBggUaPHm1wMjiKghrgAho2bKjvv/9eISEhZW2eL774osxms9HR8ITx8fFRZmYmLZ4A8JjcuXNHqampunXrlkpLS8s9Y6YXALievLw8lZaWqnHjxkZHQRVRUANcwP79+ymgoUYYOHCgBg4cqBEjRhgdBQBqvaSkJFmtVhUUFMjHx0cmk6nsmclkUn5+voHpAAB4slFQAwBUWGxsrBYsWCCr1ar27durXr165Z7379/foGQAUPu0atVKffv21ZIlS+Tt7W10HACAg9q2bVvupciPTCaTPD09ZbFYNGLECPXo0cOAdHAUBTUAQIW5ubk99JnJZGJBBgBUo3r16ikzM1MBAQFGRwEAVMHs2bMVExOj4OBgdezYUTabTWlpafrqq680YsQInT17VocPH9aePXs0YMAAo+OigtyNDgAAcB3/O78HAOA8YWFhSktLo6AGAC4uLy9P06ZN09y5c8udL168WJcvX1ZycrLmz5+vRYsWUVBzIdxQAwA45O7du/L09DQ6BgDUKvv27Sv7c25urhYuXKiRI0cqODhYHh4e5X6WNnsAcA3169fX6dOnZbFYyp1/8803at++vf71r38pKytLL7zwgr777juDUqKyuKEGAKiwkpISLVmyRBs2bNDNmzf19ddfKyAgQHPnzpW/vz9rvwGgigYOHGh3tnDhQrsz2uwBwHV4enrq1KlTdgW1U6dOlb2gLi0tVd26dY2IBwdRUAMAVFhUVJS2bdum5cuXa+zYsWXnwcHBWrNmDQU1AKgiWusBoPaZOHGixo0bp9OnT+uFF16QyWRSamqqNm/erN///veSpIMHD6pt27YGJ0Vl0PIJAKgwi8Wi2NhY9erVSz4+Pvryyy8VEBCgrKwsde7cWf/85z+NjggAAADUODt27FB0dLTOnz8vSWrdurUmTpyoYcOGSZKKiorKtn7CNXBDDQBQYdeuXbO7qi79cKPi/v37BiQCgNpr0qRJslgsmjRpUrnz6OhoffPNN1q7dq1ByQAAlWW1WmW1Wh/63MvL6zGmQXVwMzoAAMB1/OpXv9Lx48ftzj/66COuqANANUtMTFTXrl3tzrt06aKEhAQDEgEAquLevXu6evWqrly5Uu4/uCZuqAEAKmz+/PkaPny4rl27ptLSUu3Zs0fnz59XXFyc9u/fb3Q8AKhVbt++rfr169udm81m5eXlGZAIAOCICxcuaNSoUTp16lS5c5vNxpIZF0ZBDQBQYS+//LJ2796tJUuWyGQyad68eWrXrp2SkpL00ksvGR0PAGoVi8WiTz/9VBMmTCh3fuDAAQUEBBiUCgBQWSNGjJC7u7v279+vpk2bymQyGR0J1YCCGgCgwkaOHKmIiAilpKTwPwIA4GRvv/22JkyYoNzcXPXs2VOSdPjwYa1cuVLvvvuuwekAABV15swZnT59WoGBgUZHQTWioAYAqLDbt2+rX79+evbZZzV06FBFRESoTZs2RscCgFpp1KhR+s9//qOoqCgtWrRIktSyZUtt2LBBkZGRBqcDAFRUUFAQrfq1kMlms9mMDgEAcB137txRfHy8du7cqePHj6t169aKiIjQsGHD5O/vb3Q8AKg1ioqKZLPZ5O3trdzcXN28eVOfffaZgoKCFBYWZnQ8AEAFHTlyRO+8846WLFmi4OBgeXh4lHtuNpsNSoaqoKAGAHDY1atXtWvXLm3dulUXLlxQcXGx0ZEAoNbo06ePwsPDNW7cON25c0eBgYHy8PBQXl6eVq9erTfffNPoiACACnBzc5Mku5EpLCVwbbR8AgAccv/+faWlpemLL77QpUuX5Ovra3QkAKhV0tPTtWbNGklSQkKCfH19lZGRocTERM2bN4+CGgC4iKNHjxodAU5AQQ0AUClHjx7Vzp07lZiYqJKSEoWHhyspKalsYDYAoHoUFhbKx8dHkpScnKzw8HC5ubmpU6dOunz5ssHpAAAV1b17d6MjwAkoqAEAKuznP/+5bt++rbCwMMXGxurll1+Wp6en0bEAoFayWCzau3evBg0apIMHD2rq1KmSpFu3bjFvBwBczJ07d7RlyxadO3dOJpNJQUFBGjVqlOrXr290NDiIGWoAgArbuHGjXn31VTVs2NDoKABQ6yUkJGjYsGEqKSlRr169lJycLElaunSpPv/8cx04cMDghACAikhLS1NYWJi8vLzUsWNH2Ww2paWlqaioSMnJyWrXrp3REeEACmoAAABADXXjxg1dv35dISEhZUOtU1NTZTabFRgYaHA6AEBFdOvWTRaLRZs2bZK7+w+NgsXFxRozZoz+8Y9/6PPPPzc4IRxBQQ0AAAAAAMBJvLy8lJGRYfci5OzZs+rQoYMKCwsNSoaqcDM6AAAAAAAAQG1lNpt15coVu/OcnJyy5TNwPRTUAAAAAAAAnGTw4MEaPXq0du/erZycHF29elUffvihxowZo6FDhxodDw5iyycAAAAAAICTrFy5UiaTSZGRkSouLpYkeXh46M0339SyZcsMTgdHMUMNAAAAAADAyQoLC5WdnS2bzSaLxSJvb2+jI6EKuKEGAAAAAADgZN7e3mrYsKFMJhPFtFqAGWoAAAAAAABOUlpaqoULF6p+/fry8/NTixYt1KBBAy1atEilpaVGx4ODuKEGAAAAAADgJHPmzNGWLVu0bNkyde3aVTabTSdPntSCBQt09+5dRUVFGR0RDmCGGgAAAAAAgJM0a9ZMGzZsUP/+/cudf/zxxxo/fryuXbtmUDJUBS2fAAAAAAAATpKfn6/AwEC788DAQOXn5xuQCNWBghoAAAAAAICThISEKDo62u48OjpaISEhBiRCdaDlEwAAAAAAwEmOHTumfv36qUWLFurcubNMJpNOnTqlnJwcffLJJ+rWrZvREeEACmoAAAAAAABO9O2332r9+vXKysqSzWZTUFCQxo8fr2bNmhkdDQ6ioAYAAAAAAABUgrvRAQAAAAAAAGqzO3fuKDU1Vbdu3VJpaWm5Z5GRkQalQlVwQw0AAAAAAMBJkpKSZLVaVVBQIB8fH5lMprJnJpOJTZ8uioIaAAAAAACAk7Rq1Up9+/bVkiVL5O3tbXQcVBMKagAAAAAAAE5Sr149ZWZmKiAgwOgoqEZuRgcAAAAAAACorcLCwpSWlmZ0DFQzlhIAAAAAAABUo3379pX9uV+/fpoxY4bOnj2r4OBgeXh4lPvZ/v37P+54qAa0fAIAAAAAAFQjN7eKNQSaTCaVlJQ4OQ2cgYIaAAAAAAAAUAnMUAMAAAAAAAAqgYIaAAAAAACAk0yaNEnr1q2zO4+OjtaUKVMMSITqQEENAAAAAADASRITE9W1a1e78y5duighIcGARKgOFNQAAAAAAACc5Pbt26pfv77dudlsVl5engGJUB0oqAEAAAAAADiJxWLRp59+and+4MABBQQEGJAI1cHd6AAAAAAAAAC11dtvv60JEyYoNzdXPXv2lCQdPnxYK1eu1LvvvmtwOjjKZLPZbEaHAAAAAAAAqK1iYmIUFRWlb7/9VpLUsmVLzZ8/X5GRkQYng6MoqAEAAAAAADhJUVGRbDabvL29lZubq5s3b+qzzz5TUFCQwsLCjI4HBzFDDQAAAAAAwEkGDBiguLg4SZKHh4d69+6t1atXa+DAgYqJiTE4HRxFQQ0AAAAAAMBJ0tPT1a1bN0lSQkKCfH19dfnyZcXFxWndunUGp4OjKKgBAAAAAAA4SWFhoXx8fCRJycnJCg8Pl5ubmzp16qTLly8bnA6OoqAGAAAAAADgJBaLRXv37lVOTo4OHjyoPn36SJJu3bols9lscDo4ioIaAAAAAACAk8ybN0/Tp0+Xv7+/fvOb36hz586Sfrit1rZtW4PTwVFs+QQAAAAAAHCiGzdu6Pr16woJCZGb2w93m1JTU2U2mxUYGGhwOjiCghoAAAAAAABQCbR8AgAAAAAAAJVAQQ0AAAAAAACoBApqAAAAAAAAQCVQUAMAAAAAAAAqgYIaAAAAAAAAUAkU1AAAAAAAAIBKoKAGAAAAAAAAVML/AfbT6dCSUrPUAAAAAElFTkSuQmCC",
>>>>>>> 27c223d9e5a175188b20e39dbab80ac857f6abf6
      "text/plain": [
       "<Figure size 1500x500 with 1 Axes>"
      ]
     },
     "metadata": {},
     "output_type": "display_data"
    }
   ],
   "source": [
    "word_counts = pd.DataFrame(\n",
    "    {\"counts\": X_train_transformed.toarray().sum(axis=0)},\n",
    "    index=bagofwords.get_feature_names_out()\n",
    ").sort_values(\"counts\", ascending=False)\n",
    "\n",
    "word_counts.head(50).plot(kind=\"bar\", figsize=(15, 5), legend=False)\n",
    "plt.title(\"Top 20 most frequently occurring words\")\n",
    "plt.ylabel(\"Count\")\n",
    "plt.xticks(rotation=45)\n",
    "plt.show()"
   ]
  },
  {
   "cell_type": "code",
   "execution_count": 123,
   "metadata": {},
   "outputs": [
    {
     "name": "stdout",
     "output_type": "stream",
     "text": [
      "Train score: 0.7022444251375616\n",
      "Test score: 0.6610124647224835\n"
     ]
    },
    {
     "name": "stderr",
     "output_type": "stream",
     "text": [
      "c:\\Users\\User\\anaconda3\\lib\\site-packages\\sklearn\\linear_model\\_logistic.py:460: ConvergenceWarning: lbfgs failed to converge (status=1):\n",
      "STOP: TOTAL NO. of ITERATIONS REACHED LIMIT.\n",
      "\n",
      "Increase the number of iterations (max_iter) or scale the data as shown in:\n",
      "    https://scikit-learn.org/stable/modules/preprocessing.html\n",
      "Please also refer to the documentation for alternative solver options:\n",
      "    https://scikit-learn.org/stable/modules/linear_model.html#logistic-regression\n",
      "  n_iter_i = _check_optimize_result(\n"
     ]
    }
   ],
   "source": [
    "# Fitting a model\n",
    "logreg = LogisticRegression(C = 0.1)\n",
    "logreg.fit(X_train_transformed, y_train)\n",
    "\n",
    "# Training and test score\n",
    "print(f\"Train score: {logreg.score(X_train_transformed, y_train)}\")\n",
    "print(f\"Test score: {logreg.score(X_test_transformed, y_test)}\")"
   ]
  },
  {
   "cell_type": "code",
   "execution_count": null,
   "metadata": {},
   "outputs": [],
   "source": []
  },
  {
   "cell_type": "code",
<<<<<<< HEAD
   "execution_count": 131,
   "metadata": {},
   "outputs": [],
   "source": [
    "from sklearn.model_selection import train_test_split\n",
    "from sklearn.tree import DecisionTreeClassifier\n",
    "from sklearn.metrics import accuracy_score\n",
    "from sklearn.metrics import confusion_matrix, ConfusionMatrixDisplay"
=======
   "execution_count": null,
   "metadata": {},
   "outputs": [],
   "source": []
  },
  {
   "cell_type": "markdown",
   "metadata": {},
   "source": [
    "# Logistic Regression"
   ]
  },
  {
   "cell_type": "markdown",
   "metadata": {},
   "source": []
  },
  {
   "cell_type": "markdown",
   "metadata": {},
   "source": [
    "setting up for logistic regression modeling. importing library "
   ]
  },
  {
   "cell_type": "code",
   "execution_count": null,
   "metadata": {},
   "outputs": [],
   "source": [
    "from sklearn.linear_model import LogisticRegression"
   ]
  },
  {
   "cell_type": "markdown",
   "metadata": {},
   "source": [
    "fitting the model and printing the train and test scores"
>>>>>>> 27c223d9e5a175188b20e39dbab80ac857f6abf6
   ]
  },
  {
   "cell_type": "code",
<<<<<<< HEAD
   "execution_count": 134,
   "metadata": {},
   "outputs": [
    {
     "data": {
      "text/html": [
       "<style>#sk-container-id-2 {color: black;}#sk-container-id-2 pre{padding: 0;}#sk-container-id-2 div.sk-toggleable {background-color: white;}#sk-container-id-2 label.sk-toggleable__label {cursor: pointer;display: block;width: 100%;margin-bottom: 0;padding: 0.3em;box-sizing: border-box;text-align: center;}#sk-container-id-2 label.sk-toggleable__label-arrow:before {content: \"▸\";float: left;margin-right: 0.25em;color: #696969;}#sk-container-id-2 label.sk-toggleable__label-arrow:hover:before {color: black;}#sk-container-id-2 div.sk-estimator:hover label.sk-toggleable__label-arrow:before {color: black;}#sk-container-id-2 div.sk-toggleable__content {max-height: 0;max-width: 0;overflow: hidden;text-align: left;background-color: #f0f8ff;}#sk-container-id-2 div.sk-toggleable__content pre {margin: 0.2em;color: black;border-radius: 0.25em;background-color: #f0f8ff;}#sk-container-id-2 input.sk-toggleable__control:checked~div.sk-toggleable__content {max-height: 200px;max-width: 100%;overflow: auto;}#sk-container-id-2 input.sk-toggleable__control:checked~label.sk-toggleable__label-arrow:before {content: \"▾\";}#sk-container-id-2 div.sk-estimator input.sk-toggleable__control:checked~label.sk-toggleable__label {background-color: #d4ebff;}#sk-container-id-2 div.sk-label input.sk-toggleable__control:checked~label.sk-toggleable__label {background-color: #d4ebff;}#sk-container-id-2 input.sk-hidden--visually {border: 0;clip: rect(1px 1px 1px 1px);clip: rect(1px, 1px, 1px, 1px);height: 1px;margin: -1px;overflow: hidden;padding: 0;position: absolute;width: 1px;}#sk-container-id-2 div.sk-estimator {font-family: monospace;background-color: #f0f8ff;border: 1px dotted black;border-radius: 0.25em;box-sizing: border-box;margin-bottom: 0.5em;}#sk-container-id-2 div.sk-estimator:hover {background-color: #d4ebff;}#sk-container-id-2 div.sk-parallel-item::after {content: \"\";width: 100%;border-bottom: 1px solid gray;flex-grow: 1;}#sk-container-id-2 div.sk-label:hover label.sk-toggleable__label {background-color: #d4ebff;}#sk-container-id-2 div.sk-serial::before {content: \"\";position: absolute;border-left: 1px solid gray;box-sizing: border-box;top: 0;bottom: 0;left: 50%;z-index: 0;}#sk-container-id-2 div.sk-serial {display: flex;flex-direction: column;align-items: center;background-color: white;padding-right: 0.2em;padding-left: 0.2em;position: relative;}#sk-container-id-2 div.sk-item {position: relative;z-index: 1;}#sk-container-id-2 div.sk-parallel {display: flex;align-items: stretch;justify-content: center;background-color: white;position: relative;}#sk-container-id-2 div.sk-item::before, #sk-container-id-2 div.sk-parallel-item::before {content: \"\";position: absolute;border-left: 1px solid gray;box-sizing: border-box;top: 0;bottom: 0;left: 50%;z-index: -1;}#sk-container-id-2 div.sk-parallel-item {display: flex;flex-direction: column;z-index: 1;position: relative;background-color: white;}#sk-container-id-2 div.sk-parallel-item:first-child::after {align-self: flex-end;width: 50%;}#sk-container-id-2 div.sk-parallel-item:last-child::after {align-self: flex-start;width: 50%;}#sk-container-id-2 div.sk-parallel-item:only-child::after {width: 0;}#sk-container-id-2 div.sk-dashed-wrapped {border: 1px dashed gray;margin: 0 0.4em 0.5em 0.4em;box-sizing: border-box;padding-bottom: 0.4em;background-color: white;}#sk-container-id-2 div.sk-label label {font-family: monospace;font-weight: bold;display: inline-block;line-height: 1.2em;}#sk-container-id-2 div.sk-label-container {text-align: center;}#sk-container-id-2 div.sk-container {/* jupyter's `normalize.less` sets `[hidden] { display: none; }` but bootstrap.min.css set `[hidden] { display: none !important; }` so we also need the `!important` here to be able to override the default hidden behavior on the sphinx rendered scikit-learn.org. See: https://github.com/scikit-learn/scikit-learn/issues/21755 */display: inline-block !important;position: relative;}#sk-container-id-2 div.sk-text-repr-fallback {display: none;}</style><div id=\"sk-container-id-2\" class=\"sk-top-container\"><div class=\"sk-text-repr-fallback\"><pre>LogisticRegression()</pre><b>In a Jupyter environment, please rerun this cell to show the HTML representation or trust the notebook. <br />On GitHub, the HTML representation is unable to render, please try loading this page with nbviewer.org.</b></div><div class=\"sk-container\" hidden><div class=\"sk-item\"><div class=\"sk-estimator sk-toggleable\"><input class=\"sk-toggleable__control sk-hidden--visually\" id=\"sk-estimator-id-2\" type=\"checkbox\" checked><label for=\"sk-estimator-id-2\" class=\"sk-toggleable__label sk-toggleable__label-arrow\">LogisticRegression</label><div class=\"sk-toggleable__content\"><pre>LogisticRegression()</pre></div></div></div></div></div>"
      ],
      "text/plain": [
       "LogisticRegression()"
      ]
     },
     "execution_count": 134,
     "metadata": {},
     "output_type": "execute_result"
    }
   ],
   "source": [
    "\n",
    "# example of training a final classification model\n",
    "from sklearn.linear_model import LogisticRegression\n",
    "from sklearn.datasets import make_blobs\n",
    "# generate 2d classification dataset\n",
    "X, y = make_blobs(n_samples=100, centers=2, n_features=2, random_state=1)\n",
    "# fit final model\n",
    "model = LogisticRegression()\n",
    "model.fit(X, y)"
   ]
  },
  {
   "cell_type": "code",
   "execution_count": 155,
   "metadata": {},
   "outputs": [],
   "source": [
    "y_pred = classifier.predict(X_test)"
   ]
  },
  {
   "cell_type": "code",
   "execution_count": 156,
   "metadata": {},
   "outputs": [
    {
     "name": "stdout",
     "output_type": "stream",
     "text": [
      "[[  87 2331]\n",
      " [ 102 5353]]\n",
      "              precision    recall  f1-score   support\n",
      "\n",
      "           0       0.46      0.04      0.07      2418\n",
      "           1       0.70      0.98      0.81      5455\n",
      "\n",
      "    accuracy                           0.69      7873\n",
      "   macro avg       0.58      0.51      0.44      7873\n",
      "weighted avg       0.62      0.69      0.59      7873\n",
      "\n"
=======
   "execution_count": null,
   "metadata": {},
   "outputs": [
    {
     "ename": "NameError",
     "evalue": "name 'LogisticRegression' is not defined",
     "output_type": "error",
     "traceback": [
      "\u001b[1;31m---------------------------------------------------------------------------\u001b[0m",
      "\u001b[1;31mNameError\u001b[0m                                 Traceback (most recent call last)",
      "\u001b[1;32mc:\\Users\\User\\Desktop\\BrainStation-Data-Science-Capstone\\Notebooks\\Andrew_Chau_BrainStation_DS_Capstone.ipynb Cell 130\u001b[0m in \u001b[0;36m<cell line: 3>\u001b[1;34m()\u001b[0m\n\u001b[0;32m      <a href='vscode-notebook-cell:/c%3A/Users/User/Desktop/BrainStation-Data-Science-Capstone/Notebooks/Andrew_Chau_BrainStation_DS_Capstone.ipynb#Y250sZmlsZQ%3D%3D?line=0'>1</a>\u001b[0m np\u001b[39m.\u001b[39mrandom\u001b[39m.\u001b[39mseed(\u001b[39m123\u001b[39m)\n\u001b[1;32m----> <a href='vscode-notebook-cell:/c%3A/Users/User/Desktop/BrainStation-Data-Science-Capstone/Notebooks/Andrew_Chau_BrainStation_DS_Capstone.ipynb#Y250sZmlsZQ%3D%3D?line=2'>3</a>\u001b[0m logreg \u001b[39m=\u001b[39m LogisticRegression(C \u001b[39m=\u001b[39m \u001b[39m0.1\u001b[39m)\n\u001b[0;32m      <a href='vscode-notebook-cell:/c%3A/Users/User/Desktop/BrainStation-Data-Science-Capstone/Notebooks/Andrew_Chau_BrainStation_DS_Capstone.ipynb#Y250sZmlsZQ%3D%3D?line=3'>4</a>\u001b[0m logreg\u001b[39m.\u001b[39mfit(X_train_transformed, y_train)\n\u001b[0;32m      <a href='vscode-notebook-cell:/c%3A/Users/User/Desktop/BrainStation-Data-Science-Capstone/Notebooks/Andrew_Chau_BrainStation_DS_Capstone.ipynb#Y250sZmlsZQ%3D%3D?line=5'>6</a>\u001b[0m \u001b[39mprint\u001b[39m(\u001b[39mf\u001b[39m\u001b[39m\"\u001b[39m\u001b[39mTrain score: \u001b[39m\u001b[39m{\u001b[39;00mlogreg\u001b[39m.\u001b[39mscore(X_train_transformed,\u001b[39m \u001b[39my_train)\u001b[39m}\u001b[39;00m\u001b[39m\"\u001b[39m)\n",
      "\u001b[1;31mNameError\u001b[0m: name 'LogisticRegression' is not defined"
>>>>>>> 27c223d9e5a175188b20e39dbab80ac857f6abf6
     ]
    }
   ],
   "source": [
<<<<<<< HEAD
    "from sklearn.metrics import classification_report, confusion_matrix\n",
    "print(confusion_matrix(y_test, y_pred))\n",
    "print(classification_report(y_test, y_pred))"
   ]
  },
  {
   "cell_type": "code",
   "execution_count": 157,
   "metadata": {},
   "outputs": [
    {
     "data": {
      "text/plain": [
       "<sklearn.metrics._plot.confusion_matrix.ConfusionMatrixDisplay at 0x22b8f549ee0>"
      ]
     },
     "execution_count": 157,
     "metadata": {},
     "output_type": "execute_result"
    },
    {
     "data": {
      "image/png": "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",
      "text/plain": [
       "<Figure size 640x480 with 2 Axes>"
      ]
     },
     "metadata": {},
     "output_type": "display_data"
    }
   ],
   "source": [
    "y_pred = clf.predict(X_test)\n",
    "cm = confusion_matrix(y_test, y_pred)\n",
    "ConfusionMatrixDisplay(cm).plot()"
   ]
  },
  {
   "cell_type": "code",
   "execution_count": null,
   "metadata": {},
   "outputs": [],
   "source": []
  },
  {
   "cell_type": "code",
   "execution_count": null,
   "metadata": {},
   "outputs": [],
   "source": []
=======
    "np.random.seed(123)\n",
    "\n",
    "logreg = LogisticRegression(C = 0.1)\n",
    "logreg.fit(X_train_transformed, y_train)\n",
    "\n",
    "print(f\"Train score: {logreg.score(X_train_transformed, y_train)}\")\n",
    "print(f\"Test score: {logreg.score(X_test_transformed, y_test)}\")"
   ]
>>>>>>> 27c223d9e5a175188b20e39dbab80ac857f6abf6
  }
 ],
 "metadata": {
  "kernelspec": {
   "display_name": "Python 3",
   "language": "python",
   "name": "python3"
  },
  "language_info": {
   "codemirror_mode": {
    "name": "ipython",
    "version": 3
   },
   "file_extension": ".py",
   "mimetype": "text/x-python",
   "name": "python",
   "nbconvert_exporter": "python",
   "pygments_lexer": "ipython3",
   "version": "3.8.17"
  }
 },
 "nbformat": 4,
 "nbformat_minor": 4
}
