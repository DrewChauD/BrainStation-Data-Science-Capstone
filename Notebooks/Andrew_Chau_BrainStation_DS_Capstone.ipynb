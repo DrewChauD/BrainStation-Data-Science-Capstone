{
 "cells": [
  {
   "cell_type": "markdown",
   "metadata": {},
   "source": [
    "## Table of Contents\n",
    "- [TO DO](#to-do)\n",
    "- [Introduction](#introduction)\n",
    "- [Exploratory Data Analysis](#exploratory-data-analysis)\n",
    "- [Correlation Heatmap](#correlation-heatmap)\n",
    "- [Translate Attempts](#translate-attempts)\n",
    "- [Data Preprocessing](#data-preprocessing)\n",
    "- [Modeling](#modeling)\n",
    "- [Scratchpad??](#scratchpad??)\n",
    "- [Decision Tree](#decision-tree)\n",
    "- [Pipeline](#pipeline)\n",
    "- [Conclusion](#conclusion)"
   ]
  },
  {
   "cell_type": "markdown",
   "metadata": {},
   "source": [
    "## TO DO {#to-do}\n",
    "### ML pipeline, clustering, hyperparameter tuning, grid search, gradient boost, cross-validation, neural networks\n",
    "### Stretch goals: get translation working. integrate with ifixit datasets and/or API"
   ]
  },
  {
   "cell_type": "markdown",
   "metadata": {},
   "source": [
    "## Introduction {#introduction}\n",
    "\n",
    "Repairability of Consumer Electronics\n",
    "\n",
    "Andrew Chau\n",
    "kuzals@gmail.com\n",
    "Summer 2023\n",
    "BrainStation Toronto Data Science\n",
    "\n",
    "This capstone project explores the success rate of repairing consumer electronics using various statistical modeling methods.\n"
   ]
  },
  {
   "cell_type": "markdown",
   "metadata": {},
   "source": [
    "## Exploratory Data Analysis {#exploratory-data-analysis}"
   ]
  },
  {
   "cell_type": "markdown",
   "metadata": {},
   "source": [
    "importing the required libraries for data manipulation (Pandas and NumPy) and visualization (MatPlotLib and Seaborn)"
   ]
  },
  {
   "cell_type": "code",
   "execution_count": 163,
   "metadata": {},
   "outputs": [],
   "source": [
    "import pandas as pd\n",
    "import numpy as np\n",
    "import matplotlib.pyplot as plt\n",
    "import seaborn as sns"
   ]
  },
  {
   "cell_type": "markdown",
   "metadata": {},
   "source": [
    "loading the dataset into a pandas dataframe using pd.read_csv()"
   ]
  },
  {
   "cell_type": "code",
   "execution_count": 164,
   "metadata": {},
   "outputs": [],
   "source": [
    "df = pd.read_csv('Data/OpenRepairData_v0.3_aggregate_202303.csv')"
   ]
  },
  {
   "cell_type": "markdown",
   "metadata": {},
   "source": [
    "quick look at the first few rows of the dataset using .head()"
   ]
  },
  {
   "cell_type": "code",
   "execution_count": 18,
   "metadata": {},
   "outputs": [
    {
     "data": {
      "text/html": [
       "<div>\n",
       "<style scoped>\n",
       "    .dataframe tbody tr th:only-of-type {\n",
       "        vertical-align: middle;\n",
       "    }\n",
       "\n",
       "    .dataframe tbody tr th {\n",
       "        vertical-align: top;\n",
       "    }\n",
       "\n",
       "    .dataframe thead th {\n",
       "        text-align: right;\n",
       "    }\n",
       "</style>\n",
       "<table border=\"1\" class=\"dataframe\">\n",
       "  <thead>\n",
       "    <tr style=\"text-align: right;\">\n",
       "      <th></th>\n",
       "      <th>id</th>\n",
       "      <th>data_provider</th>\n",
       "      <th>country</th>\n",
       "      <th>partner_product_category</th>\n",
       "      <th>product_category</th>\n",
       "      <th>product_category_id</th>\n",
       "      <th>brand</th>\n",
       "      <th>year_of_manufacture</th>\n",
       "      <th>product_age</th>\n",
       "      <th>repair_status</th>\n",
       "      <th>repair_barrier_if_end_of_life</th>\n",
       "      <th>group_identifier</th>\n",
       "      <th>event_date</th>\n",
       "      <th>problem</th>\n",
       "    </tr>\n",
       "  </thead>\n",
       "  <tbody>\n",
       "    <tr>\n",
       "      <th>0</th>\n",
       "      <td>anstiftung_11539</td>\n",
       "      <td>anstiftung</td>\n",
       "      <td>DEU</td>\n",
       "      <td>Haushaltsgeräte ~ Siebträgermaschine</td>\n",
       "      <td>Coffee maker</td>\n",
       "      <td>36</td>\n",
       "      <td>Krups</td>\n",
       "      <td>1998.0</td>\n",
       "      <td>25.0</td>\n",
       "      <td>End of life</td>\n",
       "      <td>Spare parts too expensive</td>\n",
       "      <td>2711</td>\n",
       "      <td>2023-03-29</td>\n",
       "      <td>Pumpe defekt</td>\n",
       "    </tr>\n",
       "    <tr>\n",
       "      <th>1</th>\n",
       "      <td>anstiftung_11540</td>\n",
       "      <td>anstiftung</td>\n",
       "      <td>DEU</td>\n",
       "      <td>Elektro divers ~ Bluetooth Musik Box</td>\n",
       "      <td>Hi-Fi integrated</td>\n",
       "      <td>12</td>\n",
       "      <td>JBL</td>\n",
       "      <td>2016.0</td>\n",
       "      <td>7.0</td>\n",
       "      <td>Repairable</td>\n",
       "      <td>NaN</td>\n",
       "      <td>2711</td>\n",
       "      <td>2023-03-29</td>\n",
       "      <td>Akku lädt nicht</td>\n",
       "    </tr>\n",
       "    <tr>\n",
       "      <th>2</th>\n",
       "      <td>anstiftung_11541</td>\n",
       "      <td>anstiftung</td>\n",
       "      <td>DEU</td>\n",
       "      <td>Unterhaltungselektronik ~ Lautsprecher(boxen)</td>\n",
       "      <td>Hi-Fi separates</td>\n",
       "      <td>13</td>\n",
       "      <td>Trust</td>\n",
       "      <td>2013.0</td>\n",
       "      <td>10.0</td>\n",
       "      <td>Fixed</td>\n",
       "      <td>NaN</td>\n",
       "      <td>2711</td>\n",
       "      <td>2023-03-29</td>\n",
       "      <td>Ohne Funktion</td>\n",
       "    </tr>\n",
       "    <tr>\n",
       "      <th>3</th>\n",
       "      <td>anstiftung_11542</td>\n",
       "      <td>anstiftung</td>\n",
       "      <td>DEU</td>\n",
       "      <td>Computer ~ Laptop</td>\n",
       "      <td>Laptop</td>\n",
       "      <td>16</td>\n",
       "      <td>Toshiba</td>\n",
       "      <td>2015.0</td>\n",
       "      <td>8.0</td>\n",
       "      <td>End of life</td>\n",
       "      <td>NaN</td>\n",
       "      <td>2711</td>\n",
       "      <td>2023-03-29</td>\n",
       "      <td>Netzteilbuchse und Grafikkarte defekt</td>\n",
       "    </tr>\n",
       "    <tr>\n",
       "      <th>4</th>\n",
       "      <td>anstiftung_11543</td>\n",
       "      <td>anstiftung</td>\n",
       "      <td>DEU</td>\n",
       "      <td>Elektro divers ~ Aktenvernichter</td>\n",
       "      <td>Paper shredder</td>\n",
       "      <td>21</td>\n",
       "      <td>Genie</td>\n",
       "      <td>2018.0</td>\n",
       "      <td>5.0</td>\n",
       "      <td>End of life</td>\n",
       "      <td>NaN</td>\n",
       "      <td>2711</td>\n",
       "      <td>2023-03-29</td>\n",
       "      <td>Getriebeschaden</td>\n",
       "    </tr>\n",
       "    <tr>\n",
       "      <th>5</th>\n",
       "      <td>anstiftung_11544</td>\n",
       "      <td>anstiftung</td>\n",
       "      <td>DEU</td>\n",
       "      <td>Haushaltsgeräte ~ Wasserkocher</td>\n",
       "      <td>Kettle</td>\n",
       "      <td>14</td>\n",
       "      <td>Support Plus</td>\n",
       "      <td>2018.0</td>\n",
       "      <td>5.0</td>\n",
       "      <td>End of life</td>\n",
       "      <td>No way to open product</td>\n",
       "      <td>2711</td>\n",
       "      <td>2023-03-29</td>\n",
       "      <td>ohne Funktion</td>\n",
       "    </tr>\n",
       "    <tr>\n",
       "      <th>6</th>\n",
       "      <td>anstiftung_11545</td>\n",
       "      <td>anstiftung</td>\n",
       "      <td>DEU</td>\n",
       "      <td>Haushaltsgeräte ~ Handrührgerät</td>\n",
       "      <td>Food processor</td>\n",
       "      <td>37</td>\n",
       "      <td>Severin</td>\n",
       "      <td>2020.0</td>\n",
       "      <td>3.0</td>\n",
       "      <td>End of life</td>\n",
       "      <td>Spare parts too expensive</td>\n",
       "      <td>2711</td>\n",
       "      <td>2023-03-29</td>\n",
       "      <td>Läuft zu schnell</td>\n",
       "    </tr>\n",
       "    <tr>\n",
       "      <th>7</th>\n",
       "      <td>anstiftung_11546</td>\n",
       "      <td>anstiftung</td>\n",
       "      <td>DEU</td>\n",
       "      <td>Unterhaltungselektronik ~ Radio</td>\n",
       "      <td>Portable radio</td>\n",
       "      <td>23</td>\n",
       "      <td>Philips</td>\n",
       "      <td>1993.0</td>\n",
       "      <td>30.0</td>\n",
       "      <td>Repairable</td>\n",
       "      <td>NaN</td>\n",
       "      <td>2711</td>\n",
       "      <td>2023-03-29</td>\n",
       "      <td>Kasette spielt nicht</td>\n",
       "    </tr>\n",
       "  </tbody>\n",
       "</table>\n",
       "</div>"
      ],
      "text/plain": [
       "                 id data_provider country  \\\n",
       "0  anstiftung_11539    anstiftung     DEU   \n",
       "1  anstiftung_11540    anstiftung     DEU   \n",
       "2  anstiftung_11541    anstiftung     DEU   \n",
       "3  anstiftung_11542    anstiftung     DEU   \n",
       "4  anstiftung_11543    anstiftung     DEU   \n",
       "5  anstiftung_11544    anstiftung     DEU   \n",
       "6  anstiftung_11545    anstiftung     DEU   \n",
       "7  anstiftung_11546    anstiftung     DEU   \n",
       "\n",
       "                        partner_product_category  product_category  \\\n",
       "0           Haushaltsgeräte ~ Siebträgermaschine      Coffee maker   \n",
       "1           Elektro divers ~ Bluetooth Musik Box  Hi-Fi integrated   \n",
       "2  Unterhaltungselektronik ~ Lautsprecher(boxen)   Hi-Fi separates   \n",
       "3                              Computer ~ Laptop            Laptop   \n",
       "4               Elektro divers ~ Aktenvernichter    Paper shredder   \n",
       "5                 Haushaltsgeräte ~ Wasserkocher            Kettle   \n",
       "6                Haushaltsgeräte ~ Handrührgerät    Food processor   \n",
       "7                Unterhaltungselektronik ~ Radio    Portable radio   \n",
       "\n",
       "   product_category_id         brand  year_of_manufacture  product_age  \\\n",
       "0                   36         Krups               1998.0         25.0   \n",
       "1                   12           JBL               2016.0          7.0   \n",
       "2                   13         Trust               2013.0         10.0   \n",
       "3                   16       Toshiba               2015.0          8.0   \n",
       "4                   21         Genie               2018.0          5.0   \n",
       "5                   14  Support Plus               2018.0          5.0   \n",
       "6                   37       Severin               2020.0          3.0   \n",
       "7                   23       Philips               1993.0         30.0   \n",
       "\n",
       "  repair_status repair_barrier_if_end_of_life group_identifier  event_date  \\\n",
       "0   End of life     Spare parts too expensive             2711  2023-03-29   \n",
       "1    Repairable                           NaN             2711  2023-03-29   \n",
       "2         Fixed                           NaN             2711  2023-03-29   \n",
       "3   End of life                           NaN             2711  2023-03-29   \n",
       "4   End of life                           NaN             2711  2023-03-29   \n",
       "5   End of life        No way to open product             2711  2023-03-29   \n",
       "6   End of life     Spare parts too expensive             2711  2023-03-29   \n",
       "7    Repairable                           NaN             2711  2023-03-29   \n",
       "\n",
       "                                 problem  \n",
       "0                           Pumpe defekt  \n",
       "1                        Akku lädt nicht  \n",
       "2                          Ohne Funktion  \n",
       "3  Netzteilbuchse und Grafikkarte defekt  \n",
       "4                        Getriebeschaden  \n",
       "5                          ohne Funktion  \n",
       "6                       Läuft zu schnell  \n",
       "7                   Kasette spielt nicht  "
      ]
     },
     "execution_count": 18,
     "metadata": {},
     "output_type": "execute_result"
    }
   ],
   "source": [
    "df.head(8)"
   ]
  },
  {
   "cell_type": "markdown",
   "metadata": {},
   "source": [
    "quick look some rows at random in the dataset using .sample()"
   ]
  },
  {
   "cell_type": "code",
   "execution_count": 19,
   "metadata": {},
   "outputs": [
    {
     "data": {
      "text/html": [
       "<div>\n",
       "<style scoped>\n",
       "    .dataframe tbody tr th:only-of-type {\n",
       "        vertical-align: middle;\n",
       "    }\n",
       "\n",
       "    .dataframe tbody tr th {\n",
       "        vertical-align: top;\n",
       "    }\n",
       "\n",
       "    .dataframe thead th {\n",
       "        text-align: right;\n",
       "    }\n",
       "</style>\n",
       "<table border=\"1\" class=\"dataframe\">\n",
       "  <thead>\n",
       "    <tr style=\"text-align: right;\">\n",
       "      <th></th>\n",
       "      <th>id</th>\n",
       "      <th>data_provider</th>\n",
       "      <th>country</th>\n",
       "      <th>partner_product_category</th>\n",
       "      <th>product_category</th>\n",
       "      <th>product_category_id</th>\n",
       "      <th>brand</th>\n",
       "      <th>year_of_manufacture</th>\n",
       "      <th>product_age</th>\n",
       "      <th>repair_status</th>\n",
       "      <th>repair_barrier_if_end_of_life</th>\n",
       "      <th>group_identifier</th>\n",
       "      <th>event_date</th>\n",
       "      <th>problem</th>\n",
       "    </tr>\n",
       "  </thead>\n",
       "  <tbody>\n",
       "    <tr>\n",
       "      <th>79121</th>\n",
       "      <td>restart_16307</td>\n",
       "      <td>The Restart Project</td>\n",
       "      <td>ITA</td>\n",
       "      <td>Lamp</td>\n",
       "      <td>Lamp</td>\n",
       "      <td>15</td>\n",
       "      <td>Unknown</td>\n",
       "      <td>2009.0</td>\n",
       "      <td>10.0</td>\n",
       "      <td>Repairable</td>\n",
       "      <td>NaN</td>\n",
       "      <td>Repair Cafe Pavia</td>\n",
       "      <td>2019-12-15</td>\n",
       "      <td>Doesn't switch on</td>\n",
       "    </tr>\n",
       "    <tr>\n",
       "      <th>73306</th>\n",
       "      <td>restart_15705</td>\n",
       "      <td>The Restart Project</td>\n",
       "      <td>GBR</td>\n",
       "      <td>Portable radio</td>\n",
       "      <td>Portable radio</td>\n",
       "      <td>23</td>\n",
       "      <td>Roberts</td>\n",
       "      <td>2009.0</td>\n",
       "      <td>10.0</td>\n",
       "      <td>Repairable</td>\n",
       "      <td>NaN</td>\n",
       "      <td>Restarters West London</td>\n",
       "      <td>2019-11-09</td>\n",
       "      <td>Won't tune</td>\n",
       "    </tr>\n",
       "    <tr>\n",
       "      <th>29748</th>\n",
       "      <td>rcint_49976</td>\n",
       "      <td>Repair Café International</td>\n",
       "      <td>NLD</td>\n",
       "      <td>Computer equipment / phones ~ Printer</td>\n",
       "      <td>Printer/scanner</td>\n",
       "      <td>25</td>\n",
       "      <td>Canon</td>\n",
       "      <td>2010.0</td>\n",
       "      <td>12.0</td>\n",
       "      <td>End of life</td>\n",
       "      <td>NaN</td>\n",
       "      <td>0036</td>\n",
       "      <td>2022-12-16</td>\n",
       "      <td>printkop zit vast printkop zit vast</td>\n",
       "    </tr>\n",
       "    <tr>\n",
       "      <th>102165</th>\n",
       "      <td>rcwales_6593</td>\n",
       "      <td>Repair Cafe Wales</td>\n",
       "      <td>GBR</td>\n",
       "      <td>Electrical Item ~ Vacuum</td>\n",
       "      <td>Vacuum</td>\n",
       "      <td>34</td>\n",
       "      <td>Hoover</td>\n",
       "      <td>NaN</td>\n",
       "      <td>NaN</td>\n",
       "      <td>Fixed</td>\n",
       "      <td>NaN</td>\n",
       "      <td>Carmarthen</td>\n",
       "      <td>2022-07-09</td>\n",
       "      <td>Very little suction, and dust not going throug...</td>\n",
       "    </tr>\n",
       "    <tr>\n",
       "      <th>41790</th>\n",
       "      <td>rcint_27732</td>\n",
       "      <td>Repair Café International</td>\n",
       "      <td>NLD</td>\n",
       "      <td>Household appliances electric ~ Coffee maker</td>\n",
       "      <td>Coffee maker</td>\n",
       "      <td>36</td>\n",
       "      <td>Philips</td>\n",
       "      <td>NaN</td>\n",
       "      <td>NaN</td>\n",
       "      <td>End of life</td>\n",
       "      <td>NaN</td>\n",
       "      <td>0011</td>\n",
       "      <td>2020-01-11</td>\n",
       "      <td>kortsluiting boiler defect</td>\n",
       "    </tr>\n",
       "    <tr>\n",
       "      <th>14637</th>\n",
       "      <td>rcint_40221</td>\n",
       "      <td>Repair Café International</td>\n",
       "      <td>DEU</td>\n",
       "      <td>Household appliances electric ~ Iron</td>\n",
       "      <td>Iron</td>\n",
       "      <td>40</td>\n",
       "      <td>Siemens</td>\n",
       "      <td>2016.0</td>\n",
       "      <td>6.0</td>\n",
       "      <td>Fixed</td>\n",
       "      <td>NaN</td>\n",
       "      <td>0460</td>\n",
       "      <td>2022-11-05</td>\n",
       "      <td>heizt einmalig auf , dann nicht mehr. Vermutet...</td>\n",
       "    </tr>\n",
       "    <tr>\n",
       "      <th>48674</th>\n",
       "      <td>rcint_3321</td>\n",
       "      <td>Repair Café International</td>\n",
       "      <td>NLD</td>\n",
       "      <td>Display and sound equipment ~ Amplifier</td>\n",
       "      <td>Hi-Fi separates</td>\n",
       "      <td>13</td>\n",
       "      <td>NAD</td>\n",
       "      <td>NaN</td>\n",
       "      <td>NaN</td>\n",
       "      <td>End of life</td>\n",
       "      <td>NaN</td>\n",
       "      <td>0011</td>\n",
       "      <td>2017-11-11</td>\n",
       "      <td>onbekend elektronisch probleem werkt niet</td>\n",
       "    </tr>\n",
       "    <tr>\n",
       "      <th>14457</th>\n",
       "      <td>rcint_45364</td>\n",
       "      <td>Repair Café International</td>\n",
       "      <td>DEU</td>\n",
       "      <td>Household appliances electric ~ Vacuum cleaner</td>\n",
       "      <td>Vacuum</td>\n",
       "      <td>34</td>\n",
       "      <td>Vorwerk</td>\n",
       "      <td>2000.0</td>\n",
       "      <td>22.0</td>\n",
       "      <td>Fixed</td>\n",
       "      <td>NaN</td>\n",
       "      <td>0195</td>\n",
       "      <td>2022-03-19</td>\n",
       "      <td>Bürste sitzt fest Büste sitzt fest Bürste demo...</td>\n",
       "    </tr>\n",
       "  </tbody>\n",
       "</table>\n",
       "</div>"
      ],
      "text/plain": [
       "                   id              data_provider country  \\\n",
       "79121   restart_16307        The Restart Project     ITA   \n",
       "73306   restart_15705        The Restart Project     GBR   \n",
       "29748     rcint_49976  Repair Café International     NLD   \n",
       "102165   rcwales_6593          Repair Cafe Wales     GBR   \n",
       "41790     rcint_27732  Repair Café International     NLD   \n",
       "14637     rcint_40221  Repair Café International     DEU   \n",
       "48674      rcint_3321  Repair Café International     NLD   \n",
       "14457     rcint_45364  Repair Café International     DEU   \n",
       "\n",
       "                              partner_product_category product_category  \\\n",
       "79121                                             Lamp             Lamp   \n",
       "73306                                   Portable radio   Portable radio   \n",
       "29748            Computer equipment / phones ~ Printer  Printer/scanner   \n",
       "102165                        Electrical Item ~ Vacuum           Vacuum   \n",
       "41790     Household appliances electric ~ Coffee maker     Coffee maker   \n",
       "14637             Household appliances electric ~ Iron             Iron   \n",
       "48674          Display and sound equipment ~ Amplifier  Hi-Fi separates   \n",
       "14457   Household appliances electric ~ Vacuum cleaner           Vacuum   \n",
       "\n",
       "        product_category_id    brand  year_of_manufacture  product_age  \\\n",
       "79121                    15  Unknown               2009.0         10.0   \n",
       "73306                    23  Roberts               2009.0         10.0   \n",
       "29748                    25    Canon               2010.0         12.0   \n",
       "102165                   34   Hoover                  NaN          NaN   \n",
       "41790                    36  Philips                  NaN          NaN   \n",
       "14637                    40  Siemens               2016.0          6.0   \n",
       "48674                    13      NAD                  NaN          NaN   \n",
       "14457                    34  Vorwerk               2000.0         22.0   \n",
       "\n",
       "       repair_status repair_barrier_if_end_of_life        group_identifier  \\\n",
       "79121     Repairable                           NaN       Repair Cafe Pavia   \n",
       "73306     Repairable                           NaN  Restarters West London   \n",
       "29748    End of life                           NaN                    0036   \n",
       "102165         Fixed                           NaN              Carmarthen   \n",
       "41790    End of life                           NaN                    0011   \n",
       "14637          Fixed                           NaN                    0460   \n",
       "48674    End of life                           NaN                    0011   \n",
       "14457          Fixed                           NaN                    0195   \n",
       "\n",
       "        event_date                                            problem  \n",
       "79121   2019-12-15                                  Doesn't switch on  \n",
       "73306   2019-11-09                                         Won't tune  \n",
       "29748   2022-12-16                printkop zit vast printkop zit vast  \n",
       "102165  2022-07-09  Very little suction, and dust not going throug...  \n",
       "41790   2020-01-11                         kortsluiting boiler defect  \n",
       "14637   2022-11-05  heizt einmalig auf , dann nicht mehr. Vermutet...  \n",
       "48674   2017-11-11          onbekend elektronisch probleem werkt niet  \n",
       "14457   2022-03-19  Bürste sitzt fest Büste sitzt fest Bürste demo...  "
      ]
     },
     "execution_count": 19,
     "metadata": {},
     "output_type": "execute_result"
    }
   ],
   "source": [
    "df.sample(8)"
   ]
  },
  {
   "cell_type": "markdown",
   "metadata": {},
   "source": [
    "quick look at the last few rows of the dataset using .tail() <br>\n",
    "good to compare and contrast with the first few rows"
   ]
  },
  {
   "cell_type": "code",
   "execution_count": 20,
   "metadata": {},
   "outputs": [
    {
     "data": {
      "text/html": [
       "<div>\n",
       "<style scoped>\n",
       "    .dataframe tbody tr th:only-of-type {\n",
       "        vertical-align: middle;\n",
       "    }\n",
       "\n",
       "    .dataframe tbody tr th {\n",
       "        vertical-align: top;\n",
       "    }\n",
       "\n",
       "    .dataframe thead th {\n",
       "        text-align: right;\n",
       "    }\n",
       "</style>\n",
       "<table border=\"1\" class=\"dataframe\">\n",
       "  <thead>\n",
       "    <tr style=\"text-align: right;\">\n",
       "      <th></th>\n",
       "      <th>id</th>\n",
       "      <th>data_provider</th>\n",
       "      <th>country</th>\n",
       "      <th>partner_product_category</th>\n",
       "      <th>product_category</th>\n",
       "      <th>product_category_id</th>\n",
       "      <th>brand</th>\n",
       "      <th>year_of_manufacture</th>\n",
       "      <th>product_age</th>\n",
       "      <th>repair_status</th>\n",
       "      <th>repair_barrier_if_end_of_life</th>\n",
       "      <th>group_identifier</th>\n",
       "      <th>event_date</th>\n",
       "      <th>problem</th>\n",
       "    </tr>\n",
       "  </thead>\n",
       "  <tbody>\n",
       "    <tr>\n",
       "      <th>103068</th>\n",
       "      <td>rcwales_7496</td>\n",
       "      <td>Repair Cafe Wales</td>\n",
       "      <td>GBR</td>\n",
       "      <td>Electrical Item ~ Small home electrical</td>\n",
       "      <td>Small home electrical</td>\n",
       "      <td>28</td>\n",
       "      <td>Unknown</td>\n",
       "      <td>NaN</td>\n",
       "      <td>NaN</td>\n",
       "      <td>End of life</td>\n",
       "      <td>Item too worn out</td>\n",
       "      <td>Mold</td>\n",
       "      <td>2022-10-30</td>\n",
       "      <td>Malfunction.</td>\n",
       "    </tr>\n",
       "    <tr>\n",
       "      <th>103069</th>\n",
       "      <td>rcwales_7497</td>\n",
       "      <td>Repair Cafe Wales</td>\n",
       "      <td>GBR</td>\n",
       "      <td>Electrical Item ~ Sewing machine</td>\n",
       "      <td>Sewing machine</td>\n",
       "      <td>27</td>\n",
       "      <td>Bernina</td>\n",
       "      <td>NaN</td>\n",
       "      <td>NaN</td>\n",
       "      <td>Repairable</td>\n",
       "      <td>NaN</td>\n",
       "      <td>Mold</td>\n",
       "      <td>2022-10-30</td>\n",
       "      <td>It is stuck on buttonhole mode and is seized up.</td>\n",
       "    </tr>\n",
       "    <tr>\n",
       "      <th>103070</th>\n",
       "      <td>rcwales_7498</td>\n",
       "      <td>Repair Cafe Wales</td>\n",
       "      <td>GBR</td>\n",
       "      <td>Electrical Item ~ Sewing machine</td>\n",
       "      <td>Sewing machine</td>\n",
       "      <td>27</td>\n",
       "      <td>Jones</td>\n",
       "      <td>NaN</td>\n",
       "      <td>NaN</td>\n",
       "      <td>Repairable</td>\n",
       "      <td>NaN</td>\n",
       "      <td>Mold</td>\n",
       "      <td>2022-10-30</td>\n",
       "      <td>Unknown probably motor.</td>\n",
       "    </tr>\n",
       "    <tr>\n",
       "      <th>103071</th>\n",
       "      <td>rcwales_7499</td>\n",
       "      <td>Repair Cafe Wales</td>\n",
       "      <td>GBR</td>\n",
       "      <td>Electrical Item ~ Small home electrical</td>\n",
       "      <td>Small home electrical</td>\n",
       "      <td>28</td>\n",
       "      <td>Permaplug</td>\n",
       "      <td>NaN</td>\n",
       "      <td>NaN</td>\n",
       "      <td>Fixed</td>\n",
       "      <td>NaN</td>\n",
       "      <td>Mold</td>\n",
       "      <td>2022-10-30</td>\n",
       "      <td>Extension cable for PAT testing.</td>\n",
       "    </tr>\n",
       "    <tr>\n",
       "      <th>103072</th>\n",
       "      <td>rcwales_7500</td>\n",
       "      <td>Repair Cafe Wales</td>\n",
       "      <td>GBR</td>\n",
       "      <td>Electrical Item ~ Misc</td>\n",
       "      <td>Misc</td>\n",
       "      <td>18</td>\n",
       "      <td>Unknown</td>\n",
       "      <td>NaN</td>\n",
       "      <td>NaN</td>\n",
       "      <td>Repairable</td>\n",
       "      <td>NaN</td>\n",
       "      <td>Mold</td>\n",
       "      <td>2022-10-30</td>\n",
       "      <td>Broken mirror.</td>\n",
       "    </tr>\n",
       "    <tr>\n",
       "      <th>103073</th>\n",
       "      <td>rcwales_7501</td>\n",
       "      <td>Repair Cafe Wales</td>\n",
       "      <td>GBR</td>\n",
       "      <td>Electrical Item ~ Sewing machine</td>\n",
       "      <td>Sewing machine</td>\n",
       "      <td>27</td>\n",
       "      <td>Toyota</td>\n",
       "      <td>NaN</td>\n",
       "      <td>NaN</td>\n",
       "      <td>Fixed</td>\n",
       "      <td>NaN</td>\n",
       "      <td>Mold</td>\n",
       "      <td>2022-10-30</td>\n",
       "      <td>Cotton reel spindle needs replacing.</td>\n",
       "    </tr>\n",
       "    <tr>\n",
       "      <th>103074</th>\n",
       "      <td>rcwales_7502</td>\n",
       "      <td>Repair Cafe Wales</td>\n",
       "      <td>GBR</td>\n",
       "      <td>Electrical Item ~ Sewing machine</td>\n",
       "      <td>Sewing machine</td>\n",
       "      <td>27</td>\n",
       "      <td>Brother</td>\n",
       "      <td>NaN</td>\n",
       "      <td>NaN</td>\n",
       "      <td>Fixed</td>\n",
       "      <td>NaN</td>\n",
       "      <td>Mold</td>\n",
       "      <td>2022-10-30</td>\n",
       "      <td>Bobbin not working.</td>\n",
       "    </tr>\n",
       "    <tr>\n",
       "      <th>103075</th>\n",
       "      <td>rcwales_7503</td>\n",
       "      <td>Repair Cafe Wales</td>\n",
       "      <td>GBR</td>\n",
       "      <td>Electrical Item ~ Vacuum</td>\n",
       "      <td>Vacuum</td>\n",
       "      <td>34</td>\n",
       "      <td>Hoover</td>\n",
       "      <td>NaN</td>\n",
       "      <td>NaN</td>\n",
       "      <td>Fixed</td>\n",
       "      <td>NaN</td>\n",
       "      <td>Mold</td>\n",
       "      <td>2022-10-30</td>\n",
       "      <td>It doesn’t turn on.</td>\n",
       "    </tr>\n",
       "  </tbody>\n",
       "</table>\n",
       "</div>"
      ],
      "text/plain": [
       "                  id      data_provider country  \\\n",
       "103068  rcwales_7496  Repair Cafe Wales     GBR   \n",
       "103069  rcwales_7497  Repair Cafe Wales     GBR   \n",
       "103070  rcwales_7498  Repair Cafe Wales     GBR   \n",
       "103071  rcwales_7499  Repair Cafe Wales     GBR   \n",
       "103072  rcwales_7500  Repair Cafe Wales     GBR   \n",
       "103073  rcwales_7501  Repair Cafe Wales     GBR   \n",
       "103074  rcwales_7502  Repair Cafe Wales     GBR   \n",
       "103075  rcwales_7503  Repair Cafe Wales     GBR   \n",
       "\n",
       "                       partner_product_category       product_category  \\\n",
       "103068  Electrical Item ~ Small home electrical  Small home electrical   \n",
       "103069         Electrical Item ~ Sewing machine         Sewing machine   \n",
       "103070         Electrical Item ~ Sewing machine         Sewing machine   \n",
       "103071  Electrical Item ~ Small home electrical  Small home electrical   \n",
       "103072                   Electrical Item ~ Misc                   Misc   \n",
       "103073         Electrical Item ~ Sewing machine         Sewing machine   \n",
       "103074         Electrical Item ~ Sewing machine         Sewing machine   \n",
       "103075                 Electrical Item ~ Vacuum                 Vacuum   \n",
       "\n",
       "        product_category_id      brand  year_of_manufacture  product_age  \\\n",
       "103068                   28    Unknown                  NaN          NaN   \n",
       "103069                   27    Bernina                  NaN          NaN   \n",
       "103070                   27      Jones                  NaN          NaN   \n",
       "103071                   28  Permaplug                  NaN          NaN   \n",
       "103072                   18    Unknown                  NaN          NaN   \n",
       "103073                   27     Toyota                  NaN          NaN   \n",
       "103074                   27    Brother                  NaN          NaN   \n",
       "103075                   34     Hoover                  NaN          NaN   \n",
       "\n",
       "       repair_status repair_barrier_if_end_of_life group_identifier  \\\n",
       "103068   End of life             Item too worn out             Mold   \n",
       "103069    Repairable                           NaN             Mold   \n",
       "103070    Repairable                           NaN             Mold   \n",
       "103071         Fixed                           NaN             Mold   \n",
       "103072    Repairable                           NaN             Mold   \n",
       "103073         Fixed                           NaN             Mold   \n",
       "103074         Fixed                           NaN             Mold   \n",
       "103075         Fixed                           NaN             Mold   \n",
       "\n",
       "        event_date                                           problem  \n",
       "103068  2022-10-30                                      Malfunction.  \n",
       "103069  2022-10-30  It is stuck on buttonhole mode and is seized up.  \n",
       "103070  2022-10-30                           Unknown probably motor.  \n",
       "103071  2022-10-30                  Extension cable for PAT testing.  \n",
       "103072  2022-10-30                                    Broken mirror.  \n",
       "103073  2022-10-30              Cotton reel spindle needs replacing.  \n",
       "103074  2022-10-30                               Bobbin not working.  \n",
       "103075  2022-10-30                               It doesn’t turn on.  "
      ]
     },
     "execution_count": 20,
     "metadata": {},
     "output_type": "execute_result"
    }
   ],
   "source": [
    "df.tail(8)"
   ]
  },
  {
   "cell_type": "code",
   "execution_count": 176,
   "metadata": {},
   "outputs": [
    {
     "data": {
      "text/html": [
       "<div>\n",
       "<style scoped>\n",
       "    .dataframe tbody tr th:only-of-type {\n",
       "        vertical-align: middle;\n",
       "    }\n",
       "\n",
       "    .dataframe tbody tr th {\n",
       "        vertical-align: top;\n",
       "    }\n",
       "\n",
       "    .dataframe thead th {\n",
       "        text-align: right;\n",
       "    }\n",
       "</style>\n",
       "<table border=\"1\" class=\"dataframe\">\n",
       "  <thead>\n",
       "    <tr style=\"text-align: right;\">\n",
       "      <th></th>\n",
       "      <th>product_category_id</th>\n",
       "      <th>year_of_manufacture</th>\n",
       "      <th>product_age</th>\n",
       "    </tr>\n",
       "  </thead>\n",
       "  <tbody>\n",
       "    <tr>\n",
       "      <th>count</th>\n",
       "      <td>103076.000000</td>\n",
       "      <td>37117.000000</td>\n",
       "      <td>37117.000000</td>\n",
       "    </tr>\n",
       "    <tr>\n",
       "      <th>mean</th>\n",
       "      <td>23.369417</td>\n",
       "      <td>2008.472452</td>\n",
       "      <td>12.056543</td>\n",
       "    </tr>\n",
       "    <tr>\n",
       "      <th>std</th>\n",
       "      <td>10.205812</td>\n",
       "      <td>14.654064</td>\n",
       "      <td>14.560084</td>\n",
       "    </tr>\n",
       "    <tr>\n",
       "      <th>min</th>\n",
       "      <td>1.000000</td>\n",
       "      <td>1019.000000</td>\n",
       "      <td>-1.000000</td>\n",
       "    </tr>\n",
       "    <tr>\n",
       "      <th>25%</th>\n",
       "      <td>15.000000</td>\n",
       "      <td>2005.000000</td>\n",
       "      <td>4.000000</td>\n",
       "    </tr>\n",
       "    <tr>\n",
       "      <th>50%</th>\n",
       "      <td>24.000000</td>\n",
       "      <td>2013.000000</td>\n",
       "      <td>7.000000</td>\n",
       "    </tr>\n",
       "    <tr>\n",
       "      <th>75%</th>\n",
       "      <td>33.000000</td>\n",
       "      <td>2017.000000</td>\n",
       "      <td>15.000000</td>\n",
       "    </tr>\n",
       "    <tr>\n",
       "      <th>max</th>\n",
       "      <td>40.000000</td>\n",
       "      <td>2023.000000</td>\n",
       "      <td>998.000000</td>\n",
       "    </tr>\n",
       "  </tbody>\n",
       "</table>\n",
       "</div>"
      ],
      "text/plain": [
       "       product_category_id  year_of_manufacture   product_age\n",
       "count        103076.000000         37117.000000  37117.000000\n",
       "mean             23.369417          2008.472452     12.056543\n",
       "std              10.205812            14.654064     14.560084\n",
       "min               1.000000          1019.000000     -1.000000\n",
       "25%              15.000000          2005.000000      4.000000\n",
       "50%              24.000000          2013.000000      7.000000\n",
       "75%              33.000000          2017.000000     15.000000\n",
       "max              40.000000          2023.000000    998.000000"
      ]
     },
     "execution_count": 176,
     "metadata": {},
     "output_type": "execute_result"
    }
   ],
   "source": [
    "df.describe()"
   ]
  },
  {
   "cell_type": "markdown",
   "metadata": {},
   "source": [
    "A few things look out of place from these descriptive statistics: product_category_id is not really a numerical value and should be converted. The column year_of_manufacture has roughly 37,000 entries but is missing 70,000 values. Product age is calculated from year_of_manufacture (exact same number of rows) and will have incorrect values as well."
   ]
  },
  {
   "cell_type": "code",
   "execution_count": 179,
   "metadata": {},
   "outputs": [
    {
     "data": {
      "text/html": [
       "<div>\n",
       "<style scoped>\n",
       "    .dataframe tbody tr th:only-of-type {\n",
       "        vertical-align: middle;\n",
       "    }\n",
       "\n",
       "    .dataframe tbody tr th {\n",
       "        vertical-align: top;\n",
       "    }\n",
       "\n",
       "    .dataframe thead th {\n",
       "        text-align: right;\n",
       "    }\n",
       "</style>\n",
       "<table border=\"1\" class=\"dataframe\">\n",
       "  <thead>\n",
       "    <tr style=\"text-align: right;\">\n",
       "      <th></th>\n",
       "      <th>id</th>\n",
       "      <th>data_provider</th>\n",
       "      <th>country</th>\n",
       "      <th>partner_product_category</th>\n",
       "      <th>product_category</th>\n",
       "      <th>product_category_id</th>\n",
       "      <th>brand</th>\n",
       "      <th>year_of_manufacture</th>\n",
       "      <th>product_age</th>\n",
       "      <th>repair_status</th>\n",
       "      <th>repair_barrier_if_end_of_life</th>\n",
       "      <th>group_identifier</th>\n",
       "      <th>event_date</th>\n",
       "      <th>problem</th>\n",
       "    </tr>\n",
       "  </thead>\n",
       "  <tbody>\n",
       "    <tr>\n",
       "      <th>23855</th>\n",
       "      <td>rcint_3615</td>\n",
       "      <td>Repair Café International</td>\n",
       "      <td>NLD</td>\n",
       "      <td>Household appliances electric ~ Food processor</td>\n",
       "      <td>Food processor</td>\n",
       "      <td>37</td>\n",
       "      <td>KitchenAid</td>\n",
       "      <td>1019.0</td>\n",
       "      <td>998.0</td>\n",
       "      <td>Repairable</td>\n",
       "      <td>NaN</td>\n",
       "      <td>0016</td>\n",
       "      <td>2017-12-02</td>\n",
       "      <td>Vastgelopen  onderdelen bestellen?</td>\n",
       "    </tr>\n",
       "    <tr>\n",
       "      <th>13163</th>\n",
       "      <td>rcint_44808</td>\n",
       "      <td>Repair Café International</td>\n",
       "      <td>AUS</td>\n",
       "      <td>Household appliances electric ~ Paper shredder</td>\n",
       "      <td>Paper shredder</td>\n",
       "      <td>21</td>\n",
       "      <td>Unknown</td>\n",
       "      <td>1900.0</td>\n",
       "      <td>123.0</td>\n",
       "      <td>Fixed</td>\n",
       "      <td>NaN</td>\n",
       "      <td>0333</td>\n",
       "      <td>2023-01-21</td>\n",
       "      <td>Not working Not seated correctly Adjusted the ...</td>\n",
       "    </tr>\n",
       "    <tr>\n",
       "      <th>13155</th>\n",
       "      <td>rcint_44790</td>\n",
       "      <td>Repair Café International</td>\n",
       "      <td>AUS</td>\n",
       "      <td>Display and sound equipment ~ Amplifier</td>\n",
       "      <td>Hi-Fi separates</td>\n",
       "      <td>13</td>\n",
       "      <td>Unknown</td>\n",
       "      <td>1900.0</td>\n",
       "      <td>123.0</td>\n",
       "      <td>Repairable</td>\n",
       "      <td>NaN</td>\n",
       "      <td>0333</td>\n",
       "      <td>2023-01-21</td>\n",
       "      <td>Blown Yes  Advice given</td>\n",
       "    </tr>\n",
       "    <tr>\n",
       "      <th>13154</th>\n",
       "      <td>rcint_44789</td>\n",
       "      <td>Repair Café International</td>\n",
       "      <td>AUS</td>\n",
       "      <td>Clocks / alarm clocks ~ Alarm clock radio</td>\n",
       "      <td>Portable radio</td>\n",
       "      <td>23</td>\n",
       "      <td>Unknown</td>\n",
       "      <td>1900.0</td>\n",
       "      <td>123.0</td>\n",
       "      <td>End of life</td>\n",
       "      <td>No way to open product</td>\n",
       "      <td>0333</td>\n",
       "      <td>2023-01-21</td>\n",
       "      <td>No sound No</td>\n",
       "    </tr>\n",
       "    <tr>\n",
       "      <th>13160</th>\n",
       "      <td>rcint_44795</td>\n",
       "      <td>Repair Café International</td>\n",
       "      <td>AUS</td>\n",
       "      <td>Household appliances electric ~ Electric penci...</td>\n",
       "      <td>Small home electrical</td>\n",
       "      <td>28</td>\n",
       "      <td>Unknown</td>\n",
       "      <td>1900.0</td>\n",
       "      <td>123.0</td>\n",
       "      <td>Fixed</td>\n",
       "      <td>NaN</td>\n",
       "      <td>0333</td>\n",
       "      <td>2023-01-21</td>\n",
       "      <td>Won't sharpen Foreign object inside Taken apar...</td>\n",
       "    </tr>\n",
       "    <tr>\n",
       "      <th>...</th>\n",
       "      <td>...</td>\n",
       "      <td>...</td>\n",
       "      <td>...</td>\n",
       "      <td>...</td>\n",
       "      <td>...</td>\n",
       "      <td>...</td>\n",
       "      <td>...</td>\n",
       "      <td>...</td>\n",
       "      <td>...</td>\n",
       "      <td>...</td>\n",
       "      <td>...</td>\n",
       "      <td>...</td>\n",
       "      <td>...</td>\n",
       "      <td>...</td>\n",
       "    </tr>\n",
       "    <tr>\n",
       "      <th>55380</th>\n",
       "      <td>restart_16900</td>\n",
       "      <td>The Restart Project</td>\n",
       "      <td>GBR</td>\n",
       "      <td>Watch/clock ~ clock</td>\n",
       "      <td>Watch/clock</td>\n",
       "      <td>35</td>\n",
       "      <td>Unknown</td>\n",
       "      <td>1950.0</td>\n",
       "      <td>70.0</td>\n",
       "      <td>End of life</td>\n",
       "      <td>NaN</td>\n",
       "      <td>Share and Repair</td>\n",
       "      <td>2020-02-01</td>\n",
       "      <td>Pendulum snapped</td>\n",
       "    </tr>\n",
       "    <tr>\n",
       "      <th>24069</th>\n",
       "      <td>rcint_647</td>\n",
       "      <td>Repair Café International</td>\n",
       "      <td>NLD</td>\n",
       "      <td>Display and sound equipment ~ Radio</td>\n",
       "      <td>Portable radio</td>\n",
       "      <td>23</td>\n",
       "      <td>Blaupunkt</td>\n",
       "      <td>1950.0</td>\n",
       "      <td>67.0</td>\n",
       "      <td>Repairable</td>\n",
       "      <td>NaN</td>\n",
       "      <td>0007</td>\n",
       "      <td>2017-04-01</td>\n",
       "      <td>Afstem snaar defect Zoekt zenders niet meer  O...</td>\n",
       "    </tr>\n",
       "    <tr>\n",
       "      <th>24068</th>\n",
       "      <td>rcint_2439</td>\n",
       "      <td>Repair Café International</td>\n",
       "      <td>NLD</td>\n",
       "      <td>Other ~ Calculator</td>\n",
       "      <td>Misc</td>\n",
       "      <td>18</td>\n",
       "      <td>Mullo</td>\n",
       "      <td>1950.0</td>\n",
       "      <td>67.0</td>\n",
       "      <td>Fixed</td>\n",
       "      <td>NaN</td>\n",
       "      <td>0002</td>\n",
       "      <td>2017-09-30</td>\n",
       "      <td>vuil schoongemaakt</td>\n",
       "    </tr>\n",
       "    <tr>\n",
       "      <th>24067</th>\n",
       "      <td>rcint_2722</td>\n",
       "      <td>Repair Café International</td>\n",
       "      <td>NLD</td>\n",
       "      <td>Clocks / alarm clocks ~ Clock</td>\n",
       "      <td>Watch/clock</td>\n",
       "      <td>35</td>\n",
       "      <td>Unknown</td>\n",
       "      <td>1950.0</td>\n",
       "      <td>67.0</td>\n",
       "      <td>Repairable</td>\n",
       "      <td>NaN</td>\n",
       "      <td>0011</td>\n",
       "      <td>2017-10-14</td>\n",
       "      <td>loopt niet door  afspraak gemaakt om thuis te ...</td>\n",
       "    </tr>\n",
       "    <tr>\n",
       "      <th>24066</th>\n",
       "      <td>rcint_2885</td>\n",
       "      <td>Repair Café International</td>\n",
       "      <td>NLD</td>\n",
       "      <td>Household appliances electric ~ Sewing machine</td>\n",
       "      <td>Sewing machine</td>\n",
       "      <td>27</td>\n",
       "      <td>Elna</td>\n",
       "      <td>1950.0</td>\n",
       "      <td>67.0</td>\n",
       "      <td>Fixed</td>\n",
       "      <td>NaN</td>\n",
       "      <td>0004</td>\n",
       "      <td>2017-10-26</td>\n",
       "      <td>onbekend bonkt alles nagelopen</td>\n",
       "    </tr>\n",
       "  </tbody>\n",
       "</table>\n",
       "<p>300 rows × 14 columns</p>\n",
       "</div>"
      ],
      "text/plain": [
       "                  id              data_provider country  \\\n",
       "23855     rcint_3615  Repair Café International     NLD   \n",
       "13163    rcint_44808  Repair Café International     AUS   \n",
       "13155    rcint_44790  Repair Café International     AUS   \n",
       "13154    rcint_44789  Repair Café International     AUS   \n",
       "13160    rcint_44795  Repair Café International     AUS   \n",
       "...              ...                        ...     ...   \n",
       "55380  restart_16900        The Restart Project     GBR   \n",
       "24069      rcint_647  Repair Café International     NLD   \n",
       "24068     rcint_2439  Repair Café International     NLD   \n",
       "24067     rcint_2722  Repair Café International     NLD   \n",
       "24066     rcint_2885  Repair Café International     NLD   \n",
       "\n",
       "                                partner_product_category  \\\n",
       "23855     Household appliances electric ~ Food processor   \n",
       "13163     Household appliances electric ~ Paper shredder   \n",
       "13155            Display and sound equipment ~ Amplifier   \n",
       "13154          Clocks / alarm clocks ~ Alarm clock radio   \n",
       "13160  Household appliances electric ~ Electric penci...   \n",
       "...                                                  ...   \n",
       "55380                                Watch/clock ~ clock   \n",
       "24069                Display and sound equipment ~ Radio   \n",
       "24068                                 Other ~ Calculator   \n",
       "24067                      Clocks / alarm clocks ~ Clock   \n",
       "24066     Household appliances electric ~ Sewing machine   \n",
       "\n",
       "            product_category  product_category_id       brand  \\\n",
       "23855         Food processor                   37  KitchenAid   \n",
       "13163         Paper shredder                   21     Unknown   \n",
       "13155        Hi-Fi separates                   13     Unknown   \n",
       "13154         Portable radio                   23     Unknown   \n",
       "13160  Small home electrical                   28     Unknown   \n",
       "...                      ...                  ...         ...   \n",
       "55380            Watch/clock                   35     Unknown   \n",
       "24069         Portable radio                   23   Blaupunkt   \n",
       "24068                   Misc                   18       Mullo   \n",
       "24067            Watch/clock                   35     Unknown   \n",
       "24066         Sewing machine                   27        Elna   \n",
       "\n",
       "       year_of_manufacture  product_age repair_status  \\\n",
       "23855               1019.0        998.0    Repairable   \n",
       "13163               1900.0        123.0         Fixed   \n",
       "13155               1900.0        123.0    Repairable   \n",
       "13154               1900.0        123.0   End of life   \n",
       "13160               1900.0        123.0         Fixed   \n",
       "...                    ...          ...           ...   \n",
       "55380               1950.0         70.0   End of life   \n",
       "24069               1950.0         67.0    Repairable   \n",
       "24068               1950.0         67.0         Fixed   \n",
       "24067               1950.0         67.0    Repairable   \n",
       "24066               1950.0         67.0         Fixed   \n",
       "\n",
       "      repair_barrier_if_end_of_life  group_identifier  event_date  \\\n",
       "23855                           NaN              0016  2017-12-02   \n",
       "13163                           NaN              0333  2023-01-21   \n",
       "13155                           NaN              0333  2023-01-21   \n",
       "13154        No way to open product              0333  2023-01-21   \n",
       "13160                           NaN              0333  2023-01-21   \n",
       "...                             ...               ...         ...   \n",
       "55380                           NaN  Share and Repair  2020-02-01   \n",
       "24069                           NaN              0007  2017-04-01   \n",
       "24068                           NaN              0002  2017-09-30   \n",
       "24067                           NaN              0011  2017-10-14   \n",
       "24066                           NaN              0004  2017-10-26   \n",
       "\n",
       "                                                 problem  \n",
       "23855                 Vastgelopen  onderdelen bestellen?  \n",
       "13163  Not working Not seated correctly Adjusted the ...  \n",
       "13155                            Blown Yes  Advice given  \n",
       "13154                                        No sound No  \n",
       "13160  Won't sharpen Foreign object inside Taken apar...  \n",
       "...                                                  ...  \n",
       "55380                                   Pendulum snapped  \n",
       "24069  Afstem snaar defect Zoekt zenders niet meer  O...  \n",
       "24068                                 vuil schoongemaakt  \n",
       "24067  loopt niet door  afspraak gemaakt om thuis te ...  \n",
       "24066                     onbekend bonkt alles nagelopen  \n",
       "\n",
       "[300 rows x 14 columns]"
      ]
     },
     "execution_count": 179,
     "metadata": {},
     "output_type": "execute_result"
    }
   ],
   "source": [
    "df.sort_values(by='year_of_manufacture', ascending=True).head(300)"
   ]
  },
  {
   "cell_type": "markdown",
   "metadata": {},
   "source": [
    "quick overview of the distribution of the numerical values using .describe()"
   ]
  },
  {
   "cell_type": "code",
   "execution_count": 175,
   "metadata": {},
   "outputs": [
    {
     "name": "stdout",
     "output_type": "stream",
     "text": [
      "<class 'pandas.core.frame.DataFrame'>\n",
      "RangeIndex: 103076 entries, 0 to 103075\n",
      "Data columns (total 14 columns):\n",
      " #   Column                         Non-Null Count   Dtype  \n",
      "---  ------                         --------------   -----  \n",
      " 0   id                             103076 non-null  object \n",
      " 1   data_provider                  103076 non-null  object \n",
      " 2   country                        103076 non-null  object \n",
      " 3   partner_product_category       103076 non-null  object \n",
      " 4   product_category               103076 non-null  object \n",
      " 5   product_category_id            103076 non-null  int64  \n",
      " 6   brand                          103070 non-null  object \n",
      " 7   year_of_manufacture            37117 non-null   float64\n",
      " 8   product_age                    37117 non-null   float64\n",
      " 9   repair_status                  103076 non-null  object \n",
      " 10  repair_barrier_if_end_of_life  7268 non-null    object \n",
      " 11  group_identifier               103076 non-null  object \n",
      " 12  event_date                     103076 non-null  object \n",
      " 13  problem                        88031 non-null   object \n",
      "dtypes: float64(2), int64(1), object(11)\n",
      "memory usage: 11.0+ MB\n"
     ]
    }
   ],
   "source": [
    "df.info()"
   ]
  },
  {
   "cell_type": "markdown",
   "metadata": {},
   "source": [
    "## Correlation Heatmap {#correlation-heatmap}"
   ]
  },
  {
   "cell_type": "code",
   "execution_count": null,
   "metadata": {},
   "outputs": [],
   "source": [
    "#sns.heatmap(df.select_dtypes(include=['int64', 'float64', 'int32']).corr(), annot=True, cmap='coolwarm', fmt=\".2f\")\n",
    "#plt.title(\"Open Repair Data Correlation Heatmap\")\n",
    "#plt.show()"
   ]
  },
  {
   "cell_type": "code",
   "execution_count": null,
   "metadata": {},
   "outputs": [],
   "source": [
    "##??\n",
    "df.loc[df['repair_status'] == 'Fixed']"
   ]
  },
  {
   "cell_type": "code",
   "execution_count": null,
   "metadata": {},
   "outputs": [],
   "source": [
    "# There is very little correlation between any of the columns (besides age of the product and year of manufacture, which are redundant). I'll need to look elsewhere for meaningful insights"
   ]
  },
  {
   "cell_type": "markdown",
   "metadata": {},
   "source": [
    "## Translate Attempts {#translate-attempts}"
   ]
  },
  {
   "cell_type": "code",
   "execution_count": null,
   "metadata": {},
   "outputs": [],
   "source": [
    "# EasyNMT translation library\n",
    "from easynmt import EasyNMT\n",
    "model = EasyNMT(\"opus-mt\")\n",
    "\n",
    "df[\"problem\"] = df.apply(lambda row: model.translate(row[\"problem\"], target_lang=\"en\"), axis=1)"
   ]
  },
  {
   "cell_type": "code",
   "execution_count": null,
   "metadata": {},
   "outputs": [],
   "source": [
    "# trying to isolate language by country\n",
    "df_en = df[df['country']=='GBR']\n",
    "df_en"
   ]
  },
  {
   "cell_type": "code",
   "execution_count": null,
   "metadata": {},
   "outputs": [],
   "source": [
    "#trying to isolate language by country\n",
    "df_g = df[df['country']=='DEU']\n",
    "df_g"
   ]
  },
  {
   "cell_type": "code",
   "execution_count": null,
   "metadata": {},
   "outputs": [],
   "source": [
    "# attempting to use google translation library\n",
    "df_g[\"problem\"] = df_g.apply(lambda row: model.translate(row[\"problem\"], target_lang=\"en\"), axis=1)"
   ]
  },
  {
   "cell_type": "code",
   "execution_count": null,
   "metadata": {},
   "outputs": [],
   "source": [
    "# dropping null values to provide cleaner data to the translator\n",
    "df_g = df_g.dropna()\n",
    "df_g"
   ]
  },
  {
   "cell_type": "code",
   "execution_count": null,
   "metadata": {},
   "outputs": [],
   "source": [
    "# trying to use google translator library instead\n",
    "import googletrans    \n",
    "from googletrans import Translator\n",
    "\n",
    "\n",
    "translator = Translator()\n",
    "df_g['translated'] = df_g['problem'].apply(lambda x: translator.translate(x, dest='en').text)\n"
   ]
  },
  {
   "cell_type": "code",
   "execution_count": null,
   "metadata": {},
   "outputs": [],
   "source": [
    "# trying to use google translator library\n",
    "df_g[\"problem\"] = df.apply(lambda row: model.translate(row[\"problem\"], target_lang=\"en\"), axis=1)"
   ]
  },
  {
   "cell_type": "code",
   "execution_count": null,
   "metadata": {},
   "outputs": [],
   "source": [
    "import googletrans\n",
    "from googletrans import Translator"
   ]
  },
  {
   "cell_type": "code",
   "execution_count": null,
   "metadata": {},
   "outputs": [],
   "source": [
    "#backtracking to check functionality at a more basic level - code source: StackOverflow\n",
    "translator = Translator()\n",
    "langdict = {0: {'English': 'Hello', 'Japanese': 'こんにちは'}, 1: {'English': 'Thanks', 'Japanese': 'ありがとう'}}\n",
    "df = pd.DataFrame(langdict).T\n",
    "df['TranslatedText'] = df['Japanese'].apply(lambda x: translator.translate(x, src='auto', dest='en').text )\n",
    "print(df)"
   ]
  },
  {
   "cell_type": "code",
   "execution_count": null,
   "metadata": {},
   "outputs": [],
   "source": [
    "#attempting a different google translate library\n",
    "pip install google_trans_new"
   ]
  },
  {
   "cell_type": "code",
   "execution_count": null,
   "metadata": {},
   "outputs": [],
   "source": [
    "#attempting a different google translate library\n",
    "from google_trans_new import google_translator"
   ]
  },
  {
   "cell_type": "code",
   "execution_count": null,
   "metadata": {},
   "outputs": [],
   "source": [
    "#attempting a different google translate library\n",
    "translator = google_translator()  \n",
    "translate_text = translator.translate('Hola mundo!', lang_src='es', lang_tgt='en')  \n",
    "print(translate_text)"
   ]
  },
  {
   "cell_type": "code",
   "execution_count": null,
   "metadata": {},
   "outputs": [],
   "source": [
    "#attempting yet another translate library\n",
    "pip install -U deep-translator"
   ]
  },
  {
   "cell_type": "code",
   "execution_count": null,
   "metadata": {},
   "outputs": [],
   "source": [
    "#attempting yet another translate library\n",
    "from deep_translator import GoogleTranslator\n",
    "df['TranslatedText'] = df_g['problem'].apply(lambda x: GoogleTranslator.translate(x, src='auto', target='en').text)\n"
   ]
  },
  {
   "cell_type": "markdown",
   "metadata": {},
   "source": [
    "So far, every translation library has errored out. But I'm making progress and will continue to sort out the 'problem' column to gain more insights"
   ]
  },
  {
   "cell_type": "markdown",
   "metadata": {},
   "source": [
    "## Scratchpad?? {#scratchpad??}"
   ]
  },
  {
   "cell_type": "code",
   "execution_count": null,
   "metadata": {},
   "outputs": [],
   "source": [
    "df"
   ]
  },
  {
   "cell_type": "code",
   "execution_count": null,
   "metadata": {},
   "outputs": [],
   "source": [
    "df2 = pd.read_csv('Data/OpenRepairData_v0.3_aggregate_202303.csv')"
   ]
  },
  {
   "cell_type": "code",
   "execution_count": null,
   "metadata": {},
   "outputs": [],
   "source": [
    "df_quickclean = df2.dropna()"
   ]
  },
  {
   "cell_type": "code",
   "execution_count": null,
   "metadata": {},
   "outputs": [],
   "source": [
    "\n",
    "X = df_quickclean['product_category_id'] # Only use the first two features so we can visualize\n",
    "y = df_quickclean['repair_status']\n",
    "\n",
    "#Plot\n",
    "plt.scatter(X[y==1, 0], X[y==1, 1], s=20, c=\"yellow\", label=\"Fixed\")\n",
    "plt.scatter(X[y==0, 0], X[y==0, 1], s=20, c=\"purple\", label=\"Not fixed\")\n",
    "plt.legend()\n",
    "plt.show()"
   ]
  },
  {
   "cell_type": "code",
   "execution_count": null,
   "metadata": {},
   "outputs": [],
   "source": [
    "df_quickclean\n",
    "\n",
    "# count vectorize NLP\n",
    "# pd crosstab\n",
    "# distribution visualizations\n",
    "# logistic regression modeling\n",
    "# more markdown\n",
    "\n"
   ]
  },
  {
   "cell_type": "code",
   "execution_count": null,
   "metadata": {},
   "outputs": [],
   "source": [
    "import pandas as pd\n",
    "from sklearn.model_selection import train_test_split\n",
    "from sklearn.tree import DecisionTreeClassifier\n",
    "from sklearn.metrics import accuracy_score\n",
    "\n",
    "#fill in na with unknown\n",
    "X = df_quickclean[['product_category','country','product_age','brand']]\n",
    "y = df_quickclean['repair_status']\n",
    "\n",
    "X_encoded = pd.get_dummies(X)\n",
    "\n",
    "X_train, X_test, y_train, y_test = train_test_split(X_encoded, y, test_size=0.25, random_state=12)\n",
    "\n",
    "tree_model = DecisionTreeClassifier(random_state=12)\n",
    "\n",
    "tree_model.fit(X_train, y_train)\n",
    "\n",
    "y_pred = tree_model.predict(X_test)\n",
    "\n",
    "accuracy = accuracy_score(y_test, y_pred)\n",
    "print(f\"Accuracy: {accuracy:.2f}\")\n"
   ]
  },
  {
   "cell_type": "code",
   "execution_count": null,
   "metadata": {},
   "outputs": [],
   "source": [
    "#from sklearn.metrics import accuracy_score, confusion_matrix\n",
    "# Create confusion matrix\n",
    "#confusion = confusion_matrix(y_test, y_pred)\n",
    "\n",
    "# Create a heatmap using Seaborn\n",
    "#plt.figure(figsize=(8, 6))\n",
    "#sns.heatmap(confusion, annot=True, fmt=\"d\", cmap=\"Blues\",\n",
    "           # xticklabels=tree_model.classes_,\n",
    "           # yticklabels=tree_model.classes_)\n",
    "plt.xlabel('Predicted')\n",
    "plt.ylabel('Actual')\n",
    "plt.title('Confusion Matrix')\n",
    "plt.show()"
   ]
  },
  {
   "cell_type": "code",
   "execution_count": null,
   "metadata": {},
   "outputs": [],
   "source": [
    "import pandas as pd\n",
    "from sklearn.preprocessing import MultiLabelBinarizer\n",
    "\n",
    "\n",
    "df_quickclean['problem_tokens'] = df_quickclean['problem'].str.split()\n",
    "\n",
    "mlb = MultiLabelBinarizer()\n",
    "\n",
    "\n",
    "onehot_encoded_words = mlb.fit_transform(df_quickclean['problem_tokens'])\n",
    "\n",
    "\n",
    "onehot_encoded_df = pd.DataFrame(onehot_encoded_words, columns=mlb.classes_)\n",
    "\n",
    "\n",
    "df_encoded = pd.concat([df_quickclean, onehot_encoded_df], axis=1)\n",
    "\n",
    "df_encoded.drop(['problem', 'problem_tokens'], axis=1, inplace=True)"
   ]
  },
  {
   "cell_type": "code",
   "execution_count": null,
   "metadata": {},
   "outputs": [],
   "source": [
    "df_encoded"
   ]
  },
  {
   "cell_type": "code",
   "execution_count": null,
   "metadata": {},
   "outputs": [],
   "source": [
    "import pandas as pd\n",
    "from sklearn.model_selection import train_test_split\n",
    "from sklearn.tree import DecisionTreeClassifier\n",
    "from sklearn.metrics import accuracy_score\n",
    "\n",
    "# Assuming you have your DataFrame 'df_encoded' and 'repair_status' column\n",
    "\n",
    "target_column = 'repair_status'\n",
    "columns_to_exclude = [target_column]  # Add any columns you want to exclude from modeling\n",
    "\n",
    "for column in df_encoded.columns:\n",
    "    if column not in columns_to_exclude:\n",
    "        X = df_encoded[[column]]  # Select the current column as the feature\n",
    "        y = df_encoded[target_column]  # Target variable\n",
    "\n",
    "        X_encoded = pd.get_dummies(X)  # One-hot encode categorical variables if needed\n",
    "\n",
    "        X_train, X_test, y_train, y_test = train_test_split(X_encoded, y, test_size=0.25, random_state=12)\n",
    "\n",
    "        tree_model = DecisionTreeClassifier(random_state=12)\n",
    "        tree_model.fit(X_train, y_train)\n",
    "        y_pred = tree_model.predict(X_test)\n",
    "\n",
    "        accuracy = accuracy_score(y_test, y_pred)\n",
    "        print(f\"Accuracy for column '{column}': {accuracy:.2f}\")\n"
   ]
  },
  {
   "cell_type": "code",
   "execution_count": null,
   "metadata": {},
   "outputs": [],
   "source": [
    "X = df_encoded['']\n",
    "y = df_encoded['repair_status']\n",
    "\n",
    "X_encoded = pd.get_dummies(X)\n",
    "\n",
    "X_train, X_test, y_train, y_test = train_test_split(X_encoded, y, test_size=0.25, random_state=12)\n",
    "\n",
    "tree_model = DecisionTreeClassifier(random_state=12)\n",
    "\n",
    "tree_model.fit(X_train, y_train)\n",
    "\n",
    "y_pred = tree_model.predict(X_test)\n",
    "\n",
    "accuracy = accuracy_score(y_test, y_pred)\n",
    "print(f\"Accuracy: {accuracy:.2f}\")"
   ]
  },
  {
   "cell_type": "code",
   "execution_count": null,
   "metadata": {},
   "outputs": [],
   "source": [
    "from sklearn.cluster import KMeans\n",
    "from sklearn.metrics import silhouette_score"
   ]
  },
  {
   "cell_type": "code",
   "execution_count": null,
   "metadata": {},
   "outputs": [],
   "source": [
    "k=2\n",
    "\n",
    "kmeans = KMeans(n_clusters = k)\n",
    "kmeans.fit(df_quickclean)\n",
    "labels = kmeans.predict(df_quickclean)\n",
    "\n",
    "inertia = kmeans.inertia_\n",
    "sil_score = silhouette_score(df_quickclean, labels)"
   ]
  },
  {
   "cell_type": "code",
   "execution_count": null,
   "metadata": {},
   "outputs": [],
   "source": [
    "conda install XLMRobertaTokenizer from transformers"
   ]
  },
  {
   "cell_type": "code",
   "execution_count": null,
   "metadata": {},
   "outputs": [],
   "source": [
    "import pandas as pd\n",
    "from transformers import XLMRobertaTokenizer\n",
    "\n",
    "# Load the XLM-R tokenizer\n",
    "tokenizer = XLMRobertaTokenizer.from_pretrained(\"xlm-roberta-base\")\n",
    "\n",
    "# Create a sample DataFrame\n",
    "data = {\n",
    "    \"description\": [\n",
    "        \"Hello, how are you?\",\n",
    "        \"Bonjour, comment ça va ?\",\n",
    "        \"Hola, ¿cómo estás?\",\n",
    "        \"Ciao, come stai?\"\n",
    "    ]\n",
    "}\n",
    "df = pd.DataFrame(data)\n",
    "\n",
    "# Tokenize the descriptions in the DataFrame\n",
    "tokenized_descriptions = []\n",
    "\n",
    "for description in df[\"description\"]:\n",
    "    tokens = tokenizer.tokenize(description)\n",
    "    tokenized_descriptions.append(tokens)\n",
    "\n",
    "df[\"tokenized_description\"] = tokenized_descriptions\n",
    "\n",
    "print(df)\n",
    "## In this example, the tokenizer.tokenize method is applied to each description in the \"description\" column of the DataFrame. The resulting tokenized sequences are stored in a new column called \"tokenized_description.\"\n",
    "\n",
    "## Keep in mind that tokenizing large amounts of text can be time-consuming. If you have a large DataFrame, you might want to consider using parallel processing or batching the tokenization process for better performance.\n",
    "\n",
    "\n",
    "\n",
    "\n",
    "\n"
   ]
  },
  {
   "cell_type": "code",
   "execution_count": null,
   "metadata": {},
   "outputs": [],
   "source": [
    "import pandas as pd\n",
    "from transformers import XLMRobertaTokenizer\n",
    "\n",
    "# Load the XLM-R tokenizer\n",
    "tokenizer = XLMRobertaTokenizer.from_pretrained(\"xlm-roberta-base\")\n",
    "\n",
    "# Create a sample DataFrame\n",
    "data = {\n",
    "    \"description\": [\n",
    "        \"Hello, how are you?\",\n",
    "        \"Bonjour, comment ça va ?\",\n",
    "        \"Hola, ¿cómo estás?\",\n",
    "        \"Ciao, come stai?\"\n",
    "    ]\n",
    "}\n",
    "df = pd.DataFrame(data)\n",
    "\n",
    "# Tokenize individual words in the descriptions\n",
    "tokenized_word_lists = []\n",
    "\n",
    "for description in df[\"description\"]:\n",
    "    words = description.split()  # Split text into words\n",
    "    tokens = [tokenizer.tokenize(word) for word in words]\n",
    "    tokenized_word_lists.append(tokens)\n",
    "\n",
    "df[\"tokenized_words\"] = tokenized_word_lists\n",
    "\n",
    "print(df)\n",
    "# In this version of the code, the description text is split into individual words using the split() method. Then, the XLM-R tokenizer is applied to each word separately, resulting in tokenized sequences for individual words. The tokenized word sequences are stored in a new column called \"tokenized_words.\"\n",
    "\n",
    "# Please note that this approach tokenizes words within the text, and words are often broken down into subword tokens. If you want to preserve the original words while tokenizing, you might need to adapt the code accordingly.\n",
    "\n",
    "\n",
    "\n",
    "\n",
    "\n"
   ]
  },
  {
   "cell_type": "code",
   "execution_count": null,
   "metadata": {},
   "outputs": [],
   "source": [
    "import pandas as pd\n",
    "from sklearn.feature_extraction.text import CountVectorizer\n",
    "from sklearn.model_selection import train_test_split\n",
    "from sklearn.linear_model import LinearRegression\n",
    "from sklearn.metrics import mean_squared_error\n",
    "\n",
    "data = {\n",
    "    \"tokenized_words\": [\n",
    "        [[\"Eating\"], [\"a\"], [\"monster\"], [\"sandwich\"]],\n",
    "        [[\"Bonjour\"], [\"comment\"], [\"ça\", \"va\", \"?\"]],\n",
    "        [[\"Hola\"], [\"cómo\"], [\"estás\", \"?\"]],\n",
    "        [[\"Ciao\"], [\"come\"], [\"stai\", \"?\"]]\n",
    "    ],\n",
    "    \"target\": [10, 20, 30, 40]  # Example target values\n",
    "}\n",
    "df = pd.DataFrame(data)\n",
    "\n",
    "# Flatten tokenized words\n",
    "df[\"flat_tokenized_words\"] = df[\"tokenized_words\"].apply(lambda x: [word for sublist in x for word in sublist])\n",
    "\n",
    "# Convert tokenized words to text\n",
    "df[\"text\"] = df[\"flat_tokenized_words\"].apply(lambda x: \" \".join(x))\n",
    "\n",
    "# Convert text to numerical features using CountVectorizer\n",
    "vectorizer = CountVectorizer()\n",
    "X = vectorizer.fit_transform(df[\"text\"])\n",
    "\n",
    "# Split data into train and test sets\n",
    "X_train, X_test, y_train, y_test = train_test_split(X, df[\"target\"], test_size=0.2, random_state=42)\n",
    "\n",
    "# Initialize and train a linear regression model\n",
    "reg_model = LinearRegression()\n",
    "reg_model.fit(X_train, y_train)\n",
    "\n",
    "# Make predictions on the test set\n",
    "y_pred = reg_model.predict(X_test)\n",
    "\n",
    "# Evaluate the model\n",
    "mse = mean_squared_error(y_test, y_pred)\n",
    "print(\"Mean Squared Error:\", mse)"
   ]
  },
  {
   "cell_type": "code",
   "execution_count": null,
   "metadata": {},
   "outputs": [],
   "source": [
    "label_encoders = {}\n",
    "for col in df[\"Product_Category\", \"Age\", \"Country\"]:\n",
    "    le = LabelEncoder()\n",
    "    df[col] = le.fit_transform(df[col])\n",
    "    label_encoders[col] = le\n",
    "\n",
    "# Split data into features and target\n",
    "X = df.drop(\"F\", axis=1)\n",
    "y = df[\"F\"]\n",
    "\n",
    "# Split data into training and testing sets\n",
    "X_train, X_test, y_train, y_test = train_test_split(X, y, test_size=0.2, random_state=42)\n",
    "\n",
    "# Create and fit the decision tree model\n",
    "clf = DecisionTreeClassifier(random_state=42)\n",
    "clf.fit(X_train, y_train)\n",
    "\n",
    "# Make predictions\n",
    "y_pred = clf.predict(X_test)\n",
    "\n",
    "# Calculate accuracy\n",
    "accuracy = accuracy_score(y_test, y_pred)\n",
    "print(\"Accuracy:\", accuracy)"
   ]
  },
  {
   "cell_type": "code",
   "execution_count": null,
   "metadata": {},
   "outputs": [],
   "source": []
  },
  {
   "cell_type": "code",
   "execution_count": null,
   "metadata": {},
   "outputs": [],
   "source": []
  },
  {
   "cell_type": "code",
   "execution_count": null,
   "metadata": {},
   "outputs": [],
   "source": []
  },
  {
   "cell_type": "code",
   "execution_count": null,
   "metadata": {},
   "outputs": [],
   "source": []
  },
  {
   "cell_type": "code",
   "execution_count": null,
   "metadata": {},
   "outputs": [],
   "source": []
  },
  {
   "cell_type": "markdown",
   "metadata": {},
   "source": [
    "to do: grid search, gradient boost, cross-validation"
   ]
  },
  {
   "cell_type": "markdown",
   "metadata": {},
   "source": [
    "## Decision Tree {#decision-tree}"
   ]
  },
  {
   "cell_type": "code",
   "execution_count": 142,
   "metadata": {},
   "outputs": [],
   "source": [
    "wdf = pd.read_csv(\"data/OpenRepairData_v0.3_aggregate_202303.csv\")\n",
    "wdf = wdf[['repair_status', 'product_category']]"
   ]
  },
  {
   "cell_type": "code",
   "execution_count": 143,
   "metadata": {},
   "outputs": [
    {
     "data": {
      "text/plain": [
       "0         End of life\n",
       "1          Repairable\n",
       "2               Fixed\n",
       "3         End of life\n",
       "4         End of life\n",
       "             ...     \n",
       "103071          Fixed\n",
       "103072     Repairable\n",
       "103073          Fixed\n",
       "103074          Fixed\n",
       "103075          Fixed\n",
       "Name: repair_status, Length: 99676, dtype: object"
      ]
     },
     "execution_count": 143,
     "metadata": {},
     "output_type": "execute_result"
    }
   ],
   "source": [
    "wdf = wdf.drop(wdf[wdf['repair_status'] == 'Unknown'].index)\n",
    "wdf['repair_status']"
   ]
  },
  {
   "cell_type": "code",
   "execution_count": 144,
   "metadata": {},
   "outputs": [
    {
     "data": {
      "text/plain": [
       "0         End of life\n",
       "2               Fixed\n",
       "3         End of life\n",
       "4         End of life\n",
       "5         End of life\n",
       "             ...     \n",
       "103068    End of life\n",
       "103071          Fixed\n",
       "103073          Fixed\n",
       "103074          Fixed\n",
       "103075          Fixed\n",
       "Name: repair_status, Length: 78728, dtype: object"
      ]
     },
     "execution_count": 144,
     "metadata": {},
     "output_type": "execute_result"
    }
   ],
   "source": [
    "wdf = wdf.drop(wdf[wdf['repair_status'] == 'Repairable'].index)\n",
    "wdf['repair_status']"
   ]
  },
  {
   "cell_type": "code",
   "execution_count": 147,
   "metadata": {},
   "outputs": [],
   "source": [
    "from sklearn.preprocessing import LabelEncoder, OneHotEncoder\n",
    "\n",
    "label_encoder = LabelEncoder()\n",
    "wdf['repair_status_encoded'] = label_encoder.fit_transform(wdf['repair_status'])\n",
    "\n",
    "# Use one-hot encoding for 'country' and 'product_category'\n",
    "data_encoded = pd.get_dummies(wdf, columns=['product_category'], drop_first=True)\n",
    "\n",
    "# Separate features and target variable\n",
    "X = data_encoded.drop('repair_status_encoded', axis=1)\n",
    "y = data_encoded['repair_status_encoded']"
   ]
  },
  {
   "cell_type": "code",
   "execution_count": 148,
   "metadata": {},
   "outputs": [
    {
     "data": {
      "text/html": [
       "<div>\n",
       "<style scoped>\n",
       "    .dataframe tbody tr th:only-of-type {\n",
       "        vertical-align: middle;\n",
       "    }\n",
       "\n",
       "    .dataframe tbody tr th {\n",
       "        vertical-align: top;\n",
       "    }\n",
       "\n",
       "    .dataframe thead th {\n",
       "        text-align: right;\n",
       "    }\n",
       "</style>\n",
       "<table border=\"1\" class=\"dataframe\">\n",
       "  <thead>\n",
       "    <tr style=\"text-align: right;\">\n",
       "      <th></th>\n",
       "      <th>product_category_Battery/charger/adapter</th>\n",
       "      <th>product_category_Coffee maker</th>\n",
       "      <th>product_category_DSLR/video camera</th>\n",
       "      <th>product_category_Decorative or safety lights</th>\n",
       "      <th>product_category_Desktop computer</th>\n",
       "      <th>product_category_Digital compact camera</th>\n",
       "      <th>product_category_Fan</th>\n",
       "      <th>product_category_Flat screen</th>\n",
       "      <th>product_category_Food processor</th>\n",
       "      <th>product_category_Games console</th>\n",
       "      <th>...</th>\n",
       "      <th>product_category_Projector</th>\n",
       "      <th>product_category_Sewing machine</th>\n",
       "      <th>product_category_Small home electrical</th>\n",
       "      <th>product_category_Small kitchen item</th>\n",
       "      <th>product_category_TV and gaming-related accessories</th>\n",
       "      <th>product_category_Tablet</th>\n",
       "      <th>product_category_Toaster</th>\n",
       "      <th>product_category_Toy</th>\n",
       "      <th>product_category_Vacuum</th>\n",
       "      <th>product_category_Watch/clock</th>\n",
       "    </tr>\n",
       "  </thead>\n",
       "  <tbody>\n",
       "    <tr>\n",
       "      <th>0</th>\n",
       "      <td>0</td>\n",
       "      <td>1</td>\n",
       "      <td>0</td>\n",
       "      <td>0</td>\n",
       "      <td>0</td>\n",
       "      <td>0</td>\n",
       "      <td>0</td>\n",
       "      <td>0</td>\n",
       "      <td>0</td>\n",
       "      <td>0</td>\n",
       "      <td>...</td>\n",
       "      <td>0</td>\n",
       "      <td>0</td>\n",
       "      <td>0</td>\n",
       "      <td>0</td>\n",
       "      <td>0</td>\n",
       "      <td>0</td>\n",
       "      <td>0</td>\n",
       "      <td>0</td>\n",
       "      <td>0</td>\n",
       "      <td>0</td>\n",
       "    </tr>\n",
       "    <tr>\n",
       "      <th>2</th>\n",
       "      <td>0</td>\n",
       "      <td>0</td>\n",
       "      <td>0</td>\n",
       "      <td>0</td>\n",
       "      <td>0</td>\n",
       "      <td>0</td>\n",
       "      <td>0</td>\n",
       "      <td>0</td>\n",
       "      <td>0</td>\n",
       "      <td>0</td>\n",
       "      <td>...</td>\n",
       "      <td>0</td>\n",
       "      <td>0</td>\n",
       "      <td>0</td>\n",
       "      <td>0</td>\n",
       "      <td>0</td>\n",
       "      <td>0</td>\n",
       "      <td>0</td>\n",
       "      <td>0</td>\n",
       "      <td>0</td>\n",
       "      <td>0</td>\n",
       "    </tr>\n",
       "    <tr>\n",
       "      <th>3</th>\n",
       "      <td>0</td>\n",
       "      <td>0</td>\n",
       "      <td>0</td>\n",
       "      <td>0</td>\n",
       "      <td>0</td>\n",
       "      <td>0</td>\n",
       "      <td>0</td>\n",
       "      <td>0</td>\n",
       "      <td>0</td>\n",
       "      <td>0</td>\n",
       "      <td>...</td>\n",
       "      <td>0</td>\n",
       "      <td>0</td>\n",
       "      <td>0</td>\n",
       "      <td>0</td>\n",
       "      <td>0</td>\n",
       "      <td>0</td>\n",
       "      <td>0</td>\n",
       "      <td>0</td>\n",
       "      <td>0</td>\n",
       "      <td>0</td>\n",
       "    </tr>\n",
       "    <tr>\n",
       "      <th>4</th>\n",
       "      <td>0</td>\n",
       "      <td>0</td>\n",
       "      <td>0</td>\n",
       "      <td>0</td>\n",
       "      <td>0</td>\n",
       "      <td>0</td>\n",
       "      <td>0</td>\n",
       "      <td>0</td>\n",
       "      <td>0</td>\n",
       "      <td>0</td>\n",
       "      <td>...</td>\n",
       "      <td>0</td>\n",
       "      <td>0</td>\n",
       "      <td>0</td>\n",
       "      <td>0</td>\n",
       "      <td>0</td>\n",
       "      <td>0</td>\n",
       "      <td>0</td>\n",
       "      <td>0</td>\n",
       "      <td>0</td>\n",
       "      <td>0</td>\n",
       "    </tr>\n",
       "    <tr>\n",
       "      <th>5</th>\n",
       "      <td>0</td>\n",
       "      <td>0</td>\n",
       "      <td>0</td>\n",
       "      <td>0</td>\n",
       "      <td>0</td>\n",
       "      <td>0</td>\n",
       "      <td>0</td>\n",
       "      <td>0</td>\n",
       "      <td>0</td>\n",
       "      <td>0</td>\n",
       "      <td>...</td>\n",
       "      <td>0</td>\n",
       "      <td>0</td>\n",
       "      <td>0</td>\n",
       "      <td>0</td>\n",
       "      <td>0</td>\n",
       "      <td>0</td>\n",
       "      <td>0</td>\n",
       "      <td>0</td>\n",
       "      <td>0</td>\n",
       "      <td>0</td>\n",
       "    </tr>\n",
       "    <tr>\n",
       "      <th>...</th>\n",
       "      <td>...</td>\n",
       "      <td>...</td>\n",
       "      <td>...</td>\n",
       "      <td>...</td>\n",
       "      <td>...</td>\n",
       "      <td>...</td>\n",
       "      <td>...</td>\n",
       "      <td>...</td>\n",
       "      <td>...</td>\n",
       "      <td>...</td>\n",
       "      <td>...</td>\n",
       "      <td>...</td>\n",
       "      <td>...</td>\n",
       "      <td>...</td>\n",
       "      <td>...</td>\n",
       "      <td>...</td>\n",
       "      <td>...</td>\n",
       "      <td>...</td>\n",
       "      <td>...</td>\n",
       "      <td>...</td>\n",
       "      <td>...</td>\n",
       "    </tr>\n",
       "    <tr>\n",
       "      <th>103068</th>\n",
       "      <td>0</td>\n",
       "      <td>0</td>\n",
       "      <td>0</td>\n",
       "      <td>0</td>\n",
       "      <td>0</td>\n",
       "      <td>0</td>\n",
       "      <td>0</td>\n",
       "      <td>0</td>\n",
       "      <td>0</td>\n",
       "      <td>0</td>\n",
       "      <td>...</td>\n",
       "      <td>0</td>\n",
       "      <td>0</td>\n",
       "      <td>1</td>\n",
       "      <td>0</td>\n",
       "      <td>0</td>\n",
       "      <td>0</td>\n",
       "      <td>0</td>\n",
       "      <td>0</td>\n",
       "      <td>0</td>\n",
       "      <td>0</td>\n",
       "    </tr>\n",
       "    <tr>\n",
       "      <th>103071</th>\n",
       "      <td>0</td>\n",
       "      <td>0</td>\n",
       "      <td>0</td>\n",
       "      <td>0</td>\n",
       "      <td>0</td>\n",
       "      <td>0</td>\n",
       "      <td>0</td>\n",
       "      <td>0</td>\n",
       "      <td>0</td>\n",
       "      <td>0</td>\n",
       "      <td>...</td>\n",
       "      <td>0</td>\n",
       "      <td>0</td>\n",
       "      <td>1</td>\n",
       "      <td>0</td>\n",
       "      <td>0</td>\n",
       "      <td>0</td>\n",
       "      <td>0</td>\n",
       "      <td>0</td>\n",
       "      <td>0</td>\n",
       "      <td>0</td>\n",
       "    </tr>\n",
       "    <tr>\n",
       "      <th>103073</th>\n",
       "      <td>0</td>\n",
       "      <td>0</td>\n",
       "      <td>0</td>\n",
       "      <td>0</td>\n",
       "      <td>0</td>\n",
       "      <td>0</td>\n",
       "      <td>0</td>\n",
       "      <td>0</td>\n",
       "      <td>0</td>\n",
       "      <td>0</td>\n",
       "      <td>...</td>\n",
       "      <td>0</td>\n",
       "      <td>1</td>\n",
       "      <td>0</td>\n",
       "      <td>0</td>\n",
       "      <td>0</td>\n",
       "      <td>0</td>\n",
       "      <td>0</td>\n",
       "      <td>0</td>\n",
       "      <td>0</td>\n",
       "      <td>0</td>\n",
       "    </tr>\n",
       "    <tr>\n",
       "      <th>103074</th>\n",
       "      <td>0</td>\n",
       "      <td>0</td>\n",
       "      <td>0</td>\n",
       "      <td>0</td>\n",
       "      <td>0</td>\n",
       "      <td>0</td>\n",
       "      <td>0</td>\n",
       "      <td>0</td>\n",
       "      <td>0</td>\n",
       "      <td>0</td>\n",
       "      <td>...</td>\n",
       "      <td>0</td>\n",
       "      <td>1</td>\n",
       "      <td>0</td>\n",
       "      <td>0</td>\n",
       "      <td>0</td>\n",
       "      <td>0</td>\n",
       "      <td>0</td>\n",
       "      <td>0</td>\n",
       "      <td>0</td>\n",
       "      <td>0</td>\n",
       "    </tr>\n",
       "    <tr>\n",
       "      <th>103075</th>\n",
       "      <td>0</td>\n",
       "      <td>0</td>\n",
       "      <td>0</td>\n",
       "      <td>0</td>\n",
       "      <td>0</td>\n",
       "      <td>0</td>\n",
       "      <td>0</td>\n",
       "      <td>0</td>\n",
       "      <td>0</td>\n",
       "      <td>0</td>\n",
       "      <td>...</td>\n",
       "      <td>0</td>\n",
       "      <td>0</td>\n",
       "      <td>0</td>\n",
       "      <td>0</td>\n",
       "      <td>0</td>\n",
       "      <td>0</td>\n",
       "      <td>0</td>\n",
       "      <td>0</td>\n",
       "      <td>1</td>\n",
       "      <td>0</td>\n",
       "    </tr>\n",
       "  </tbody>\n",
       "</table>\n",
       "<p>78728 rows × 39 columns</p>\n",
       "</div>"
      ],
      "text/plain": [
       "        product_category_Battery/charger/adapter  \\\n",
       "0                                              0   \n",
       "2                                              0   \n",
       "3                                              0   \n",
       "4                                              0   \n",
       "5                                              0   \n",
       "...                                          ...   \n",
       "103068                                         0   \n",
       "103071                                         0   \n",
       "103073                                         0   \n",
       "103074                                         0   \n",
       "103075                                         0   \n",
       "\n",
       "        product_category_Coffee maker  product_category_DSLR/video camera  \\\n",
       "0                                   1                                   0   \n",
       "2                                   0                                   0   \n",
       "3                                   0                                   0   \n",
       "4                                   0                                   0   \n",
       "5                                   0                                   0   \n",
       "...                               ...                                 ...   \n",
       "103068                              0                                   0   \n",
       "103071                              0                                   0   \n",
       "103073                              0                                   0   \n",
       "103074                              0                                   0   \n",
       "103075                              0                                   0   \n",
       "\n",
       "        product_category_Decorative or safety lights  \\\n",
       "0                                                  0   \n",
       "2                                                  0   \n",
       "3                                                  0   \n",
       "4                                                  0   \n",
       "5                                                  0   \n",
       "...                                              ...   \n",
       "103068                                             0   \n",
       "103071                                             0   \n",
       "103073                                             0   \n",
       "103074                                             0   \n",
       "103075                                             0   \n",
       "\n",
       "        product_category_Desktop computer  \\\n",
       "0                                       0   \n",
       "2                                       0   \n",
       "3                                       0   \n",
       "4                                       0   \n",
       "5                                       0   \n",
       "...                                   ...   \n",
       "103068                                  0   \n",
       "103071                                  0   \n",
       "103073                                  0   \n",
       "103074                                  0   \n",
       "103075                                  0   \n",
       "\n",
       "        product_category_Digital compact camera  product_category_Fan  \\\n",
       "0                                             0                     0   \n",
       "2                                             0                     0   \n",
       "3                                             0                     0   \n",
       "4                                             0                     0   \n",
       "5                                             0                     0   \n",
       "...                                         ...                   ...   \n",
       "103068                                        0                     0   \n",
       "103071                                        0                     0   \n",
       "103073                                        0                     0   \n",
       "103074                                        0                     0   \n",
       "103075                                        0                     0   \n",
       "\n",
       "        product_category_Flat screen  product_category_Food processor  \\\n",
       "0                                  0                                0   \n",
       "2                                  0                                0   \n",
       "3                                  0                                0   \n",
       "4                                  0                                0   \n",
       "5                                  0                                0   \n",
       "...                              ...                              ...   \n",
       "103068                             0                                0   \n",
       "103071                             0                                0   \n",
       "103073                             0                                0   \n",
       "103074                             0                                0   \n",
       "103075                             0                                0   \n",
       "\n",
       "        product_category_Games console  ...  product_category_Projector  \\\n",
       "0                                    0  ...                           0   \n",
       "2                                    0  ...                           0   \n",
       "3                                    0  ...                           0   \n",
       "4                                    0  ...                           0   \n",
       "5                                    0  ...                           0   \n",
       "...                                ...  ...                         ...   \n",
       "103068                               0  ...                           0   \n",
       "103071                               0  ...                           0   \n",
       "103073                               0  ...                           0   \n",
       "103074                               0  ...                           0   \n",
       "103075                               0  ...                           0   \n",
       "\n",
       "        product_category_Sewing machine  \\\n",
       "0                                     0   \n",
       "2                                     0   \n",
       "3                                     0   \n",
       "4                                     0   \n",
       "5                                     0   \n",
       "...                                 ...   \n",
       "103068                                0   \n",
       "103071                                0   \n",
       "103073                                1   \n",
       "103074                                1   \n",
       "103075                                0   \n",
       "\n",
       "        product_category_Small home electrical  \\\n",
       "0                                            0   \n",
       "2                                            0   \n",
       "3                                            0   \n",
       "4                                            0   \n",
       "5                                            0   \n",
       "...                                        ...   \n",
       "103068                                       1   \n",
       "103071                                       1   \n",
       "103073                                       0   \n",
       "103074                                       0   \n",
       "103075                                       0   \n",
       "\n",
       "        product_category_Small kitchen item  \\\n",
       "0                                         0   \n",
       "2                                         0   \n",
       "3                                         0   \n",
       "4                                         0   \n",
       "5                                         0   \n",
       "...                                     ...   \n",
       "103068                                    0   \n",
       "103071                                    0   \n",
       "103073                                    0   \n",
       "103074                                    0   \n",
       "103075                                    0   \n",
       "\n",
       "        product_category_TV and gaming-related accessories  \\\n",
       "0                                                       0    \n",
       "2                                                       0    \n",
       "3                                                       0    \n",
       "4                                                       0    \n",
       "5                                                       0    \n",
       "...                                                   ...    \n",
       "103068                                                  0    \n",
       "103071                                                  0    \n",
       "103073                                                  0    \n",
       "103074                                                  0    \n",
       "103075                                                  0    \n",
       "\n",
       "        product_category_Tablet  product_category_Toaster  \\\n",
       "0                             0                         0   \n",
       "2                             0                         0   \n",
       "3                             0                         0   \n",
       "4                             0                         0   \n",
       "5                             0                         0   \n",
       "...                         ...                       ...   \n",
       "103068                        0                         0   \n",
       "103071                        0                         0   \n",
       "103073                        0                         0   \n",
       "103074                        0                         0   \n",
       "103075                        0                         0   \n",
       "\n",
       "        product_category_Toy  product_category_Vacuum  \\\n",
       "0                          0                        0   \n",
       "2                          0                        0   \n",
       "3                          0                        0   \n",
       "4                          0                        0   \n",
       "5                          0                        0   \n",
       "...                      ...                      ...   \n",
       "103068                     0                        0   \n",
       "103071                     0                        0   \n",
       "103073                     0                        0   \n",
       "103074                     0                        0   \n",
       "103075                     0                        1   \n",
       "\n",
       "        product_category_Watch/clock  \n",
       "0                                  0  \n",
       "2                                  0  \n",
       "3                                  0  \n",
       "4                                  0  \n",
       "5                                  0  \n",
       "...                              ...  \n",
       "103068                             0  \n",
       "103071                             0  \n",
       "103073                             0  \n",
       "103074                             0  \n",
       "103075                             0  \n",
       "\n",
       "[78728 rows x 39 columns]"
      ]
     },
     "execution_count": 148,
     "metadata": {},
     "output_type": "execute_result"
    }
   ],
   "source": [
    "X = X[X.columns[~X.columns.isin(['repair_status'])]]\n",
    "X"
   ]
  },
  {
   "cell_type": "code",
   "execution_count": 149,
   "metadata": {},
   "outputs": [
    {
     "data": {
      "text/plain": [
       "0         0\n",
       "2         1\n",
       "3         0\n",
       "4         0\n",
       "5         0\n",
       "         ..\n",
       "103068    0\n",
       "103071    1\n",
       "103073    1\n",
       "103074    1\n",
       "103075    1\n",
       "Name: repair_status_encoded, Length: 78728, dtype: int32"
      ]
     },
     "execution_count": 149,
     "metadata": {},
     "output_type": "execute_result"
    }
   ],
   "source": [
    "y"
   ]
  },
  {
   "cell_type": "markdown",
   "metadata": {},
   "source": [
    "## modeling results {\"Modeling Results\"}"
   ]
  },
  {
   "cell_type": "code",
   "execution_count": 150,
   "metadata": {},
   "outputs": [],
   "source": [
    "from sklearn.model_selection import train_test_split\n",
    "from sklearn.tree import DecisionTreeClassifier\n",
    "from sklearn.metrics import accuracy_score\n",
    "from sklearn.metrics import confusion_matrix, ConfusionMatrixDisplay"
   ]
  },
  {
   "cell_type": "code",
   "execution_count": 151,
   "metadata": {},
   "outputs": [
    {
     "name": "stdout",
     "output_type": "stream",
     "text": [
      "Accuracy: 0.6909691350184174\n"
     ]
    }
   ],
   "source": [
    "X_train, X_test, y_train, y_test = train_test_split(X, y, test_size=0.1, random_state=42)\n",
    "\n",
    "# Create and fit the decision tree model\n",
    "clf = DecisionTreeClassifier(random_state=42)\n",
    "clf.fit(X_train, y_train)\n",
    "\n",
    "# Make predictions\n",
    "y_pred = clf.predict(X_test)\n",
    "\n",
    "# Calculate accuracy\n",
    "accuracy = accuracy_score(y_test, y_pred)\n",
    "print(\"Accuracy:\", accuracy)"
   ]
  },
  {
   "cell_type": "code",
   "execution_count": 152,
   "metadata": {},
   "outputs": [
    {
     "data": {
      "text/html": [
       "<style>#sk-container-id-4 {color: black;}#sk-container-id-4 pre{padding: 0;}#sk-container-id-4 div.sk-toggleable {background-color: white;}#sk-container-id-4 label.sk-toggleable__label {cursor: pointer;display: block;width: 100%;margin-bottom: 0;padding: 0.3em;box-sizing: border-box;text-align: center;}#sk-container-id-4 label.sk-toggleable__label-arrow:before {content: \"▸\";float: left;margin-right: 0.25em;color: #696969;}#sk-container-id-4 label.sk-toggleable__label-arrow:hover:before {color: black;}#sk-container-id-4 div.sk-estimator:hover label.sk-toggleable__label-arrow:before {color: black;}#sk-container-id-4 div.sk-toggleable__content {max-height: 0;max-width: 0;overflow: hidden;text-align: left;background-color: #f0f8ff;}#sk-container-id-4 div.sk-toggleable__content pre {margin: 0.2em;color: black;border-radius: 0.25em;background-color: #f0f8ff;}#sk-container-id-4 input.sk-toggleable__control:checked~div.sk-toggleable__content {max-height: 200px;max-width: 100%;overflow: auto;}#sk-container-id-4 input.sk-toggleable__control:checked~label.sk-toggleable__label-arrow:before {content: \"▾\";}#sk-container-id-4 div.sk-estimator input.sk-toggleable__control:checked~label.sk-toggleable__label {background-color: #d4ebff;}#sk-container-id-4 div.sk-label input.sk-toggleable__control:checked~label.sk-toggleable__label {background-color: #d4ebff;}#sk-container-id-4 input.sk-hidden--visually {border: 0;clip: rect(1px 1px 1px 1px);clip: rect(1px, 1px, 1px, 1px);height: 1px;margin: -1px;overflow: hidden;padding: 0;position: absolute;width: 1px;}#sk-container-id-4 div.sk-estimator {font-family: monospace;background-color: #f0f8ff;border: 1px dotted black;border-radius: 0.25em;box-sizing: border-box;margin-bottom: 0.5em;}#sk-container-id-4 div.sk-estimator:hover {background-color: #d4ebff;}#sk-container-id-4 div.sk-parallel-item::after {content: \"\";width: 100%;border-bottom: 1px solid gray;flex-grow: 1;}#sk-container-id-4 div.sk-label:hover label.sk-toggleable__label {background-color: #d4ebff;}#sk-container-id-4 div.sk-serial::before {content: \"\";position: absolute;border-left: 1px solid gray;box-sizing: border-box;top: 0;bottom: 0;left: 50%;z-index: 0;}#sk-container-id-4 div.sk-serial {display: flex;flex-direction: column;align-items: center;background-color: white;padding-right: 0.2em;padding-left: 0.2em;position: relative;}#sk-container-id-4 div.sk-item {position: relative;z-index: 1;}#sk-container-id-4 div.sk-parallel {display: flex;align-items: stretch;justify-content: center;background-color: white;position: relative;}#sk-container-id-4 div.sk-item::before, #sk-container-id-4 div.sk-parallel-item::before {content: \"\";position: absolute;border-left: 1px solid gray;box-sizing: border-box;top: 0;bottom: 0;left: 50%;z-index: -1;}#sk-container-id-4 div.sk-parallel-item {display: flex;flex-direction: column;z-index: 1;position: relative;background-color: white;}#sk-container-id-4 div.sk-parallel-item:first-child::after {align-self: flex-end;width: 50%;}#sk-container-id-4 div.sk-parallel-item:last-child::after {align-self: flex-start;width: 50%;}#sk-container-id-4 div.sk-parallel-item:only-child::after {width: 0;}#sk-container-id-4 div.sk-dashed-wrapped {border: 1px dashed gray;margin: 0 0.4em 0.5em 0.4em;box-sizing: border-box;padding-bottom: 0.4em;background-color: white;}#sk-container-id-4 div.sk-label label {font-family: monospace;font-weight: bold;display: inline-block;line-height: 1.2em;}#sk-container-id-4 div.sk-label-container {text-align: center;}#sk-container-id-4 div.sk-container {/* jupyter's `normalize.less` sets `[hidden] { display: none; }` but bootstrap.min.css set `[hidden] { display: none !important; }` so we also need the `!important` here to be able to override the default hidden behavior on the sphinx rendered scikit-learn.org. See: https://github.com/scikit-learn/scikit-learn/issues/21755 */display: inline-block !important;position: relative;}#sk-container-id-4 div.sk-text-repr-fallback {display: none;}</style><div id=\"sk-container-id-4\" class=\"sk-top-container\"><div class=\"sk-text-repr-fallback\"><pre>DecisionTreeClassifier()</pre><b>In a Jupyter environment, please rerun this cell to show the HTML representation or trust the notebook. <br />On GitHub, the HTML representation is unable to render, please try loading this page with nbviewer.org.</b></div><div class=\"sk-container\" hidden><div class=\"sk-item\"><div class=\"sk-estimator sk-toggleable\"><input class=\"sk-toggleable__control sk-hidden--visually\" id=\"sk-estimator-id-4\" type=\"checkbox\" checked><label for=\"sk-estimator-id-4\" class=\"sk-toggleable__label sk-toggleable__label-arrow\">DecisionTreeClassifier</label><div class=\"sk-toggleable__content\"><pre>DecisionTreeClassifier()</pre></div></div></div></div></div>"
      ],
      "text/plain": [
       "DecisionTreeClassifier()"
      ]
     },
     "execution_count": 152,
     "metadata": {},
     "output_type": "execute_result"
    }
   ],
   "source": [
    "from sklearn.tree import DecisionTreeClassifier\n",
    "classifier = DecisionTreeClassifier()\n",
    "classifier.fit(X_train, y_train)"
   ]
  },
  {
   "cell_type": "code",
   "execution_count": 153,
   "metadata": {},
   "outputs": [],
   "source": [
    "y_pred = classifier.predict(X_test)"
   ]
  },
  {
   "cell_type": "code",
   "execution_count": 154,
   "metadata": {},
   "outputs": [
    {
     "name": "stdout",
     "output_type": "stream",
     "text": [
      "[[  87 2331]\n",
      " [ 102 5353]]\n",
      "              precision    recall  f1-score   support\n",
      "\n",
      "           0       0.46      0.04      0.07      2418\n",
      "           1       0.70      0.98      0.81      5455\n",
      "\n",
      "    accuracy                           0.69      7873\n",
      "   macro avg       0.58      0.51      0.44      7873\n",
      "weighted avg       0.62      0.69      0.59      7873\n",
      "\n"
     ]
    }
   ],
   "source": [
    "from sklearn.metrics import classification_report, confusion_matrix\n",
    "print(confusion_matrix(y_test, y_pred))\n",
    "print(classification_report(y_test, y_pred))"
   ]
  },
  {
   "cell_type": "code",
   "execution_count": 160,
   "metadata": {},
   "outputs": [
    {
     "data": {
      "text/plain": [
       "<sklearn.metrics._plot.confusion_matrix.ConfusionMatrixDisplay at 0x22b8f5af220>"
      ]
     },
     "execution_count": 160,
     "metadata": {},
     "output_type": "execute_result"
    },
    {
     "data": {
      "image/png": "[encoded data removed]",
      "text/plain": [
       "<Figure size 640x480 with 2 Axes>"
      ]
     },
     "metadata": {},
     "output_type": "display_data"
    }
   ],
   "source": [
    "y_pred = clf.predict(X_test)\n",
    "cm = confusion_matrix(y_test, y_pred)\n",
    "ConfusionMatrixDisplay(cm).plot()"
   ]
  },
  {
   "cell_type": "code",
   "execution_count": 161,
   "metadata": {},
   "outputs": [],
   "source": [
    "def PlotBoundaries(model, X, Y, dot_size=20, figsize=(10,7)) :\n",
    "    '''\n",
    "    Helper function that plots the decision boundaries of a model and data (X,Y)\n",
    "    code modified from: https://scikit-learn.org/stable/auto_examples/neighbors/plot_classification.html\n",
    "    '''\n",
    "    \n",
    "    x_min, x_max = X[:, 0].min() - 1, X[:, 0].max() + 1\n",
    "    y_min, y_max = X[:, 1].min() - 1,X[:, 1].max() + 1\n",
    "    xx, yy = np.meshgrid(np.arange(x_min, x_max, 0.01), np.arange(y_min, y_max, 0.01))\n",
    "\n",
    "    Z = model.predict(np.c_[xx.ravel(), yy.ravel()])\n",
    "    Z = Z.reshape(xx.shape)\n",
    "\n",
    "    plt.figure(figsize=figsize)\n",
    "    plt.contourf(xx, yy, Z, alpha=0.4)\n",
    "\n",
    "    #Plot\n",
    "    plt.scatter(X[:, 0], X[:, 1], c=Y, s=dot_size, edgecolor='k')\n",
    "    plt.show()"
   ]
  },
  {
   "cell_type": "code",
   "execution_count": 159,
   "metadata": {},
   "outputs": [
    {
     "ename": "InvalidIndexError",
     "evalue": "(slice(None, None, None), 0)",
     "output_type": "error",
     "traceback": [
      "\u001b[1;31m---------------------------------------------------------------------------\u001b[0m",
      "\u001b[1;31mTypeError\u001b[0m                                 Traceback (most recent call last)",
      "File \u001b[1;32mc:\\Users\\User\\anaconda3\\lib\\site-packages\\pandas\\core\\indexes\\base.py:3802\u001b[0m, in \u001b[0;36mIndex.get_loc\u001b[1;34m(self, key, method, tolerance)\u001b[0m\n\u001b[0;32m   3801\u001b[0m \u001b[39mtry\u001b[39;00m:\n\u001b[1;32m-> 3802\u001b[0m     \u001b[39mreturn\u001b[39;00m \u001b[39mself\u001b[39;49m\u001b[39m.\u001b[39;49m_engine\u001b[39m.\u001b[39;49mget_loc(casted_key)\n\u001b[0;32m   3803\u001b[0m \u001b[39mexcept\u001b[39;00m \u001b[39mKeyError\u001b[39;00m \u001b[39mas\u001b[39;00m err:\n",
      "File \u001b[1;32mc:\\Users\\User\\anaconda3\\lib\\site-packages\\pandas\\_libs\\index.pyx:138\u001b[0m, in \u001b[0;36mpandas._libs.index.IndexEngine.get_loc\u001b[1;34m()\u001b[0m\n",
      "File \u001b[1;32mc:\\Users\\User\\anaconda3\\lib\\site-packages\\pandas\\_libs\\index.pyx:144\u001b[0m, in \u001b[0;36mpandas._libs.index.IndexEngine.get_loc\u001b[1;34m()\u001b[0m\n",
      "\u001b[1;31mTypeError\u001b[0m: '(slice(None, None, None), 0)' is an invalid key",
      "\nDuring handling of the above exception, another exception occurred:\n",
      "\u001b[1;31mInvalidIndexError\u001b[0m                         Traceback (most recent call last)",
      "\u001b[1;32mc:\\Users\\User\\Desktop\\BrainStation-Data-Science-Capstone\\Notebooks\\Andrew_Chau_BrainStation_DS_Capstone.ipynb Cell 101\u001b[0m in \u001b[0;36m<cell line: 12>\u001b[1;34m()\u001b[0m\n\u001b[0;32m      <a href='vscode-notebook-cell:/c%3A/Users/User/Desktop/BrainStation-Data-Science-Capstone/Notebooks/Andrew_Chau_BrainStation_DS_Capstone.ipynb#Y200sZmlsZQ%3D%3D?line=8'>9</a>\u001b[0m LR_model\u001b[39m.\u001b[39mfit(X_train, y_train)\n\u001b[0;32m     <a href='vscode-notebook-cell:/c%3A/Users/User/Desktop/BrainStation-Data-Science-Capstone/Notebooks/Andrew_Chau_BrainStation_DS_Capstone.ipynb#Y200sZmlsZQ%3D%3D?line=10'>11</a>\u001b[0m \u001b[39m# Visualize its results\u001b[39;00m\n\u001b[1;32m---> <a href='vscode-notebook-cell:/c%3A/Users/User/Desktop/BrainStation-Data-Science-Capstone/Notebooks/Andrew_Chau_BrainStation_DS_Capstone.ipynb#Y200sZmlsZQ%3D%3D?line=11'>12</a>\u001b[0m PlotBoundaries(LR_model, X_train, y_train) \n\u001b[0;32m     <a href='vscode-notebook-cell:/c%3A/Users/User/Desktop/BrainStation-Data-Science-Capstone/Notebooks/Andrew_Chau_BrainStation_DS_Capstone.ipynb#Y200sZmlsZQ%3D%3D?line=13'>14</a>\u001b[0m \u001b[39m# Evaluate its classification accuracy (Just on the training set for now)\u001b[39;00m\n\u001b[0;32m     <a href='vscode-notebook-cell:/c%3A/Users/User/Desktop/BrainStation-Data-Science-Capstone/Notebooks/Andrew_Chau_BrainStation_DS_Capstone.ipynb#Y200sZmlsZQ%3D%3D?line=14'>15</a>\u001b[0m \u001b[39mprint\u001b[39m(\u001b[39mf\u001b[39m\u001b[39m\"\u001b[39m\u001b[39mTrain set accuracy: \u001b[39m\u001b[39m{\u001b[39;00mLR_model\u001b[39m.\u001b[39mscore(X_train,\u001b[39m \u001b[39my_train)\u001b[39m}\u001b[39;00m\u001b[39m\"\u001b[39m)\n",
      "\u001b[1;32mc:\\Users\\User\\Desktop\\BrainStation-Data-Science-Capstone\\Notebooks\\Andrew_Chau_BrainStation_DS_Capstone.ipynb Cell 101\u001b[0m in \u001b[0;36mPlotBoundaries\u001b[1;34m(model, X, Y, dot_size, figsize)\u001b[0m\n\u001b[0;32m      <a href='vscode-notebook-cell:/c%3A/Users/User/Desktop/BrainStation-Data-Science-Capstone/Notebooks/Andrew_Chau_BrainStation_DS_Capstone.ipynb#Y200sZmlsZQ%3D%3D?line=0'>1</a>\u001b[0m \u001b[39mdef\u001b[39;00m \u001b[39mPlotBoundaries\u001b[39m(model, X, Y, dot_size\u001b[39m=\u001b[39m\u001b[39m20\u001b[39m, figsize\u001b[39m=\u001b[39m(\u001b[39m10\u001b[39m,\u001b[39m7\u001b[39m)) :\n\u001b[0;32m      <a href='vscode-notebook-cell:/c%3A/Users/User/Desktop/BrainStation-Data-Science-Capstone/Notebooks/Andrew_Chau_BrainStation_DS_Capstone.ipynb#Y200sZmlsZQ%3D%3D?line=1'>2</a>\u001b[0m \u001b[39m    \u001b[39m\u001b[39m'''\u001b[39;00m\n\u001b[0;32m      <a href='vscode-notebook-cell:/c%3A/Users/User/Desktop/BrainStation-Data-Science-Capstone/Notebooks/Andrew_Chau_BrainStation_DS_Capstone.ipynb#Y200sZmlsZQ%3D%3D?line=2'>3</a>\u001b[0m \u001b[39m    Helper function that plots the decision boundaries of a model and data (X,Y)\u001b[39;00m\n\u001b[0;32m      <a href='vscode-notebook-cell:/c%3A/Users/User/Desktop/BrainStation-Data-Science-Capstone/Notebooks/Andrew_Chau_BrainStation_DS_Capstone.ipynb#Y200sZmlsZQ%3D%3D?line=3'>4</a>\u001b[0m \u001b[39m    code modified from: https://scikit-learn.org/stable/auto_examples/neighbors/plot_classification.html\u001b[39;00m\n\u001b[0;32m      <a href='vscode-notebook-cell:/c%3A/Users/User/Desktop/BrainStation-Data-Science-Capstone/Notebooks/Andrew_Chau_BrainStation_DS_Capstone.ipynb#Y200sZmlsZQ%3D%3D?line=4'>5</a>\u001b[0m \u001b[39m    '''\u001b[39;00m\n\u001b[1;32m----> <a href='vscode-notebook-cell:/c%3A/Users/User/Desktop/BrainStation-Data-Science-Capstone/Notebooks/Andrew_Chau_BrainStation_DS_Capstone.ipynb#Y200sZmlsZQ%3D%3D?line=6'>7</a>\u001b[0m     x_min, x_max \u001b[39m=\u001b[39m X[:, \u001b[39m0\u001b[39;49m]\u001b[39m.\u001b[39mmin() \u001b[39m-\u001b[39m \u001b[39m1\u001b[39m, X[:, \u001b[39m0\u001b[39m]\u001b[39m.\u001b[39mmax() \u001b[39m+\u001b[39m \u001b[39m1\u001b[39m\n\u001b[0;32m      <a href='vscode-notebook-cell:/c%3A/Users/User/Desktop/BrainStation-Data-Science-Capstone/Notebooks/Andrew_Chau_BrainStation_DS_Capstone.ipynb#Y200sZmlsZQ%3D%3D?line=7'>8</a>\u001b[0m     y_min, y_max \u001b[39m=\u001b[39m X[:, \u001b[39m1\u001b[39m]\u001b[39m.\u001b[39mmin() \u001b[39m-\u001b[39m \u001b[39m1\u001b[39m,X[:, \u001b[39m1\u001b[39m]\u001b[39m.\u001b[39mmax() \u001b[39m+\u001b[39m \u001b[39m1\u001b[39m\n\u001b[0;32m      <a href='vscode-notebook-cell:/c%3A/Users/User/Desktop/BrainStation-Data-Science-Capstone/Notebooks/Andrew_Chau_BrainStation_DS_Capstone.ipynb#Y200sZmlsZQ%3D%3D?line=8'>9</a>\u001b[0m     xx, yy \u001b[39m=\u001b[39m np\u001b[39m.\u001b[39mmeshgrid(np\u001b[39m.\u001b[39marange(x_min, x_max, \u001b[39m0.01\u001b[39m), np\u001b[39m.\u001b[39marange(y_min, y_max, \u001b[39m0.01\u001b[39m))\n",
      "File \u001b[1;32mc:\\Users\\User\\anaconda3\\lib\\site-packages\\pandas\\core\\frame.py:3807\u001b[0m, in \u001b[0;36mDataFrame.__getitem__\u001b[1;34m(self, key)\u001b[0m\n\u001b[0;32m   3805\u001b[0m \u001b[39mif\u001b[39;00m \u001b[39mself\u001b[39m\u001b[39m.\u001b[39mcolumns\u001b[39m.\u001b[39mnlevels \u001b[39m>\u001b[39m \u001b[39m1\u001b[39m:\n\u001b[0;32m   3806\u001b[0m     \u001b[39mreturn\u001b[39;00m \u001b[39mself\u001b[39m\u001b[39m.\u001b[39m_getitem_multilevel(key)\n\u001b[1;32m-> 3807\u001b[0m indexer \u001b[39m=\u001b[39m \u001b[39mself\u001b[39;49m\u001b[39m.\u001b[39;49mcolumns\u001b[39m.\u001b[39;49mget_loc(key)\n\u001b[0;32m   3808\u001b[0m \u001b[39mif\u001b[39;00m is_integer(indexer):\n\u001b[0;32m   3809\u001b[0m     indexer \u001b[39m=\u001b[39m [indexer]\n",
      "File \u001b[1;32mc:\\Users\\User\\anaconda3\\lib\\site-packages\\pandas\\core\\indexes\\base.py:3809\u001b[0m, in \u001b[0;36mIndex.get_loc\u001b[1;34m(self, key, method, tolerance)\u001b[0m\n\u001b[0;32m   3804\u001b[0m         \u001b[39mraise\u001b[39;00m \u001b[39mKeyError\u001b[39;00m(key) \u001b[39mfrom\u001b[39;00m \u001b[39merr\u001b[39;00m\n\u001b[0;32m   3805\u001b[0m     \u001b[39mexcept\u001b[39;00m \u001b[39mTypeError\u001b[39;00m:\n\u001b[0;32m   3806\u001b[0m         \u001b[39m# If we have a listlike key, _check_indexing_error will raise\u001b[39;00m\n\u001b[0;32m   3807\u001b[0m         \u001b[39m#  InvalidIndexError. Otherwise we fall through and re-raise\u001b[39;00m\n\u001b[0;32m   3808\u001b[0m         \u001b[39m#  the TypeError.\u001b[39;00m\n\u001b[1;32m-> 3809\u001b[0m         \u001b[39mself\u001b[39;49m\u001b[39m.\u001b[39;49m_check_indexing_error(key)\n\u001b[0;32m   3810\u001b[0m         \u001b[39mraise\u001b[39;00m\n\u001b[0;32m   3812\u001b[0m \u001b[39m# GH#42269\u001b[39;00m\n",
      "File \u001b[1;32mc:\\Users\\User\\anaconda3\\lib\\site-packages\\pandas\\core\\indexes\\base.py:5925\u001b[0m, in \u001b[0;36mIndex._check_indexing_error\u001b[1;34m(self, key)\u001b[0m\n\u001b[0;32m   5921\u001b[0m \u001b[39mdef\u001b[39;00m \u001b[39m_check_indexing_error\u001b[39m(\u001b[39mself\u001b[39m, key):\n\u001b[0;32m   5922\u001b[0m     \u001b[39mif\u001b[39;00m \u001b[39mnot\u001b[39;00m is_scalar(key):\n\u001b[0;32m   5923\u001b[0m         \u001b[39m# if key is not a scalar, directly raise an error (the code below\u001b[39;00m\n\u001b[0;32m   5924\u001b[0m         \u001b[39m# would convert to numpy arrays and raise later any way) - GH29926\u001b[39;00m\n\u001b[1;32m-> 5925\u001b[0m         \u001b[39mraise\u001b[39;00m InvalidIndexError(key)\n",
      "\u001b[1;31mInvalidIndexError\u001b[0m: (slice(None, None, None), 0)"
     ]
    }
   ],
   "source": [
    "from sklearn.model_selection import train_test_split\n",
    "from sklearn.linear_model import LogisticRegression\n",
    "\n",
    "# Splitting the data\n",
    "X_train, X_test, y_train, y_test = train_test_split(X, y, test_size=0.3)\n",
    "\n",
    "# Fitting the linear model\n",
    "LR_model = LogisticRegression()\n",
    "LR_model.fit(X_train, y_train)\n",
    "\n",
    "# Visualize its results\n",
    "PlotBoundaries(LR_model, X_train, y_train) \n",
    "\n",
    "# Evaluate its classification accuracy (Just on the training set for now)\n",
    "print(f\"Train set accuracy: {LR_model.score(X_train, y_train)}\")"
   ]
  },
  {
   "cell_type": "markdown",
   "metadata": {},
   "source": [
    "## Natural Langauge Processing {#NLP}"
   ]
  },
  {
   "cell_type": "code",
   "execution_count": 3,
   "metadata": {},
   "outputs": [],
   "source": [
    "import pandas as pd\n",
    "import numpy as np\n",
    "from sklearn.linear_model import LogisticRegression"
   ]
  },
  {
   "cell_type": "markdown",
   "metadata": {},
   "source": [
    "Loading the dataset into a pandas dataframe with pd.read_csv()\n",
    "then reducing it down to just the 'repair_status' and 'problem' columns"
   ]
  },
  {
   "cell_type": "code",
   "execution_count": 51,
   "metadata": {},
   "outputs": [
    {
     "data": {
      "text/html": [
       "<div>\n",
       "<style scoped>\n",
       "    .dataframe tbody tr th:only-of-type {\n",
       "        vertical-align: middle;\n",
       "    }\n",
       "\n",
       "    .dataframe tbody tr th {\n",
       "        vertical-align: top;\n",
       "    }\n",
       "\n",
       "    .dataframe thead th {\n",
       "        text-align: right;\n",
       "    }\n",
       "</style>\n",
       "<table border=\"1\" class=\"dataframe\">\n",
       "  <thead>\n",
       "    <tr style=\"text-align: right;\">\n",
       "      <th></th>\n",
       "      <th>repair_status</th>\n",
       "      <th>problem</th>\n",
       "    </tr>\n",
       "  </thead>\n",
       "  <tbody>\n",
       "    <tr>\n",
       "      <th>0</th>\n",
       "      <td>End of life</td>\n",
       "      <td>Pumpe defekt</td>\n",
       "    </tr>\n",
       "    <tr>\n",
       "      <th>1</th>\n",
       "      <td>Repairable</td>\n",
       "      <td>Akku lädt nicht</td>\n",
       "    </tr>\n",
       "    <tr>\n",
       "      <th>2</th>\n",
       "      <td>Fixed</td>\n",
       "      <td>Ohne Funktion</td>\n",
       "    </tr>\n",
       "    <tr>\n",
       "      <th>3</th>\n",
       "      <td>End of life</td>\n",
       "      <td>Netzteilbuchse und Grafikkarte defekt</td>\n",
       "    </tr>\n",
       "    <tr>\n",
       "      <th>4</th>\n",
       "      <td>End of life</td>\n",
       "      <td>Getriebeschaden</td>\n",
       "    </tr>\n",
       "    <tr>\n",
       "      <th>...</th>\n",
       "      <td>...</td>\n",
       "      <td>...</td>\n",
       "    </tr>\n",
       "    <tr>\n",
       "      <th>103071</th>\n",
       "      <td>Fixed</td>\n",
       "      <td>Extension cable for PAT testing.</td>\n",
       "    </tr>\n",
       "    <tr>\n",
       "      <th>103072</th>\n",
       "      <td>Repairable</td>\n",
       "      <td>Broken mirror.</td>\n",
       "    </tr>\n",
       "    <tr>\n",
       "      <th>103073</th>\n",
       "      <td>Fixed</td>\n",
       "      <td>Cotton reel spindle needs replacing.</td>\n",
       "    </tr>\n",
       "    <tr>\n",
       "      <th>103074</th>\n",
       "      <td>Fixed</td>\n",
       "      <td>Bobbin not working.</td>\n",
       "    </tr>\n",
       "    <tr>\n",
       "      <th>103075</th>\n",
       "      <td>Fixed</td>\n",
       "      <td>It doesn’t turn on.</td>\n",
       "    </tr>\n",
       "  </tbody>\n",
       "</table>\n",
       "<p>103076 rows × 2 columns</p>\n",
       "</div>"
      ],
      "text/plain": [
       "       repair_status                                problem\n",
       "0        End of life                           Pumpe defekt\n",
       "1         Repairable                        Akku lädt nicht\n",
       "2              Fixed                          Ohne Funktion\n",
       "3        End of life  Netzteilbuchse und Grafikkarte defekt\n",
       "4        End of life                        Getriebeschaden\n",
       "...              ...                                    ...\n",
       "103071         Fixed       Extension cable for PAT testing.\n",
       "103072    Repairable                         Broken mirror.\n",
       "103073         Fixed   Cotton reel spindle needs replacing.\n",
       "103074         Fixed                    Bobbin not working.\n",
       "103075         Fixed                    It doesn’t turn on.\n",
       "\n",
       "[103076 rows x 2 columns]"
      ]
     },
     "execution_count": 51,
     "metadata": {},
     "output_type": "execute_result"
    }
   ],
   "source": [
    "ldf = pd.read_csv(\"data/OpenRepairData_v0.3_aggregate_202303.csv\")\n",
    "ldf = ldf[['repair_status', 'problem']]\n",
    "ldf"
   ]
  },
  {
   "cell_type": "markdown",
   "metadata": {},
   "source": [
    "looking for total \"na\" values in 'repair_status' column with .isna().sum() - found 0"
   ]
  },
  {
   "cell_type": "code",
   "execution_count": 52,
   "metadata": {},
   "outputs": [
    {
     "data": {
      "text/plain": [
       "0"
      ]
     },
     "execution_count": 52,
     "metadata": {},
     "output_type": "execute_result"
    }
   ],
   "source": [
    "ldf['repair_status'].isna().sum()"
   ]
  },
  {
   "cell_type": "markdown",
   "metadata": {},
   "source": [
    "looking for total \"na\" values in 'problem' column using .isna().sum() - found 15,045"
   ]
  },
  {
   "cell_type": "code",
   "execution_count": 57,
   "metadata": {},
   "outputs": [
    {
     "data": {
      "text/plain": [
       "0"
      ]
     },
     "execution_count": 57,
     "metadata": {},
     "output_type": "execute_result"
    }
   ],
   "source": [
    "ldf['problem'].isna().sum()"
   ]
  },
  {
   "cell_type": "markdown",
   "metadata": {},
   "source": [
    "replace all \"Na\" values with \"blank\""
   ]
  },
  {
   "cell_type": "code",
   "execution_count": 56,
   "metadata": {},
   "outputs": [],
   "source": [
    "ldf = ldf.fillna('blank')"
   ]
  },
  {
   "cell_type": "markdown",
   "metadata": {},
   "source": [
    "use .drop to remove all rows with \"Unknown\" in the 'repair_status' column to simplify modeling\n",
    "and check to see that it took effect"
   ]
  },
  {
   "cell_type": "code",
   "execution_count": 58,
   "metadata": {},
   "outputs": [
    {
     "data": {
      "text/plain": [
       "0         End of life\n",
       "1          Repairable\n",
       "2               Fixed\n",
       "3         End of life\n",
       "4         End of life\n",
       "             ...     \n",
       "103071          Fixed\n",
       "103072     Repairable\n",
       "103073          Fixed\n",
       "103074          Fixed\n",
       "103075          Fixed\n",
       "Name: repair_status, Length: 99676, dtype: object"
      ]
     },
     "execution_count": 58,
     "metadata": {},
     "output_type": "execute_result"
    }
   ],
   "source": [
    "ldf = ldf.drop(ldf[ldf['repair_status'] == 'Unknown'].index)\n",
    "ldf['repair_status']"
   ]
  },
  {
   "cell_type": "markdown",
   "metadata": {},
   "source": [
    "use .drop to remove all rows with \"Repairable\" in the 'repair_status' column to simplify modeling\n",
    "and check to see that it took effect"
   ]
  },
  {
   "cell_type": "code",
   "execution_count": 59,
   "metadata": {},
   "outputs": [
    {
     "data": {
      "text/plain": [
       "0         End of life\n",
       "2               Fixed\n",
       "3         End of life\n",
       "4         End of life\n",
       "5         End of life\n",
       "             ...     \n",
       "103068    End of life\n",
       "103071          Fixed\n",
       "103073          Fixed\n",
       "103074          Fixed\n",
       "103075          Fixed\n",
       "Name: repair_status, Length: 78728, dtype: object"
      ]
     },
     "execution_count": 59,
     "metadata": {},
     "output_type": "execute_result"
    }
   ],
   "source": [
    "ldf = ldf.drop(ldf[ldf['repair_status'] == 'Repairable'].index)\n",
    "ldf['repair_status']"
   ]
  },
  {
   "cell_type": "markdown",
   "metadata": {},
   "source": [
    "use .loc to find all rows with \"Fixed\" in the 'repair_status' column"
   ]
  },
  {
   "cell_type": "code",
   "execution_count": 60,
   "metadata": {},
   "outputs": [
    {
     "data": {
      "text/html": [
       "<div>\n",
       "<style scoped>\n",
       "    .dataframe tbody tr th:only-of-type {\n",
       "        vertical-align: middle;\n",
       "    }\n",
       "\n",
       "    .dataframe tbody tr th {\n",
       "        vertical-align: top;\n",
       "    }\n",
       "\n",
       "    .dataframe thead th {\n",
       "        text-align: right;\n",
       "    }\n",
       "</style>\n",
       "<table border=\"1\" class=\"dataframe\">\n",
       "  <thead>\n",
       "    <tr style=\"text-align: right;\">\n",
       "      <th></th>\n",
       "      <th>repair_status</th>\n",
       "      <th>problem</th>\n",
       "    </tr>\n",
       "  </thead>\n",
       "  <tbody>\n",
       "    <tr>\n",
       "      <th>2</th>\n",
       "      <td>Fixed</td>\n",
       "      <td>Ohne Funktion</td>\n",
       "    </tr>\n",
       "    <tr>\n",
       "      <th>10</th>\n",
       "      <td>Fixed</td>\n",
       "      <td>Softwareproblem</td>\n",
       "    </tr>\n",
       "    <tr>\n",
       "      <th>11</th>\n",
       "      <td>Fixed</td>\n",
       "      <td>Klappe klemmt</td>\n",
       "    </tr>\n",
       "    <tr>\n",
       "      <th>12</th>\n",
       "      <td>Fixed</td>\n",
       "      <td>ohne Funktion</td>\n",
       "    </tr>\n",
       "    <tr>\n",
       "      <th>13</th>\n",
       "      <td>Fixed</td>\n",
       "      <td>Schalter defekt</td>\n",
       "    </tr>\n",
       "    <tr>\n",
       "      <th>...</th>\n",
       "      <td>...</td>\n",
       "      <td>...</td>\n",
       "    </tr>\n",
       "    <tr>\n",
       "      <th>103063</th>\n",
       "      <td>Fixed</td>\n",
       "      <td>Dab radiodoesn't switch on.</td>\n",
       "    </tr>\n",
       "    <tr>\n",
       "      <th>103071</th>\n",
       "      <td>Fixed</td>\n",
       "      <td>Extension cable for PAT testing.</td>\n",
       "    </tr>\n",
       "    <tr>\n",
       "      <th>103073</th>\n",
       "      <td>Fixed</td>\n",
       "      <td>Cotton reel spindle needs replacing.</td>\n",
       "    </tr>\n",
       "    <tr>\n",
       "      <th>103074</th>\n",
       "      <td>Fixed</td>\n",
       "      <td>Bobbin not working.</td>\n",
       "    </tr>\n",
       "    <tr>\n",
       "      <th>103075</th>\n",
       "      <td>Fixed</td>\n",
       "      <td>It doesn’t turn on.</td>\n",
       "    </tr>\n",
       "  </tbody>\n",
       "</table>\n",
       "<p>54295 rows × 2 columns</p>\n",
       "</div>"
      ],
      "text/plain": [
       "       repair_status                               problem\n",
       "2              Fixed                         Ohne Funktion\n",
       "10             Fixed                       Softwareproblem\n",
       "11             Fixed                         Klappe klemmt\n",
       "12             Fixed                         ohne Funktion\n",
       "13             Fixed                       Schalter defekt\n",
       "...              ...                                   ...\n",
       "103063         Fixed           Dab radiodoesn't switch on.\n",
       "103071         Fixed      Extension cable for PAT testing.\n",
       "103073         Fixed  Cotton reel spindle needs replacing.\n",
       "103074         Fixed                   Bobbin not working.\n",
       "103075         Fixed                   It doesn’t turn on.\n",
       "\n",
       "[54295 rows x 2 columns]"
      ]
     },
     "execution_count": 60,
     "metadata": {},
     "output_type": "execute_result"
    }
   ],
   "source": [
    "fixed_df = ldf.loc[ldf['repair_status'] == 'Fixed']\n",
    "fixed_df"
   ]
  },
  {
   "cell_type": "markdown",
   "metadata": {},
   "source": [
    "choosing a random sample of 1000 rows to make processing faster"
   ]
  },
  {
   "cell_type": "code",
   "execution_count": 61,
   "metadata": {},
   "outputs": [
    {
     "data": {
      "text/html": [
       "<div>\n",
       "<style scoped>\n",
       "    .dataframe tbody tr th:only-of-type {\n",
       "        vertical-align: middle;\n",
       "    }\n",
       "\n",
       "    .dataframe tbody tr th {\n",
       "        vertical-align: top;\n",
       "    }\n",
       "\n",
       "    .dataframe thead th {\n",
       "        text-align: right;\n",
       "    }\n",
       "</style>\n",
       "<table border=\"1\" class=\"dataframe\">\n",
       "  <thead>\n",
       "    <tr style=\"text-align: right;\">\n",
       "      <th></th>\n",
       "      <th>repair_status</th>\n",
       "      <th>problem</th>\n",
       "    </tr>\n",
       "  </thead>\n",
       "  <tbody>\n",
       "    <tr>\n",
       "      <th>37832</th>\n",
       "      <td>Fixed</td>\n",
       "      <td>brandt nt peertje kapot alles doorgemeten en m...</td>\n",
       "    </tr>\n",
       "    <tr>\n",
       "      <th>29129</th>\n",
       "      <td>Fixed</td>\n",
       "      <td>DVD schijfje komt er niet uit - snaar  snaar v...</td>\n",
       "    </tr>\n",
       "    <tr>\n",
       "      <th>36257</th>\n",
       "      <td>Fixed</td>\n",
       "      <td>Na half uurtje draaien komt er rook uit de mot...</td>\n",
       "    </tr>\n",
       "    <tr>\n",
       "      <th>14313</th>\n",
       "      <td>Fixed</td>\n",
       "      <td>needs to be put back together loose parts put ...</td>\n",
       "    </tr>\n",
       "    <tr>\n",
       "      <th>69024</th>\n",
       "      <td>Fixed</td>\n",
       "      <td>Broken Screen</td>\n",
       "    </tr>\n",
       "    <tr>\n",
       "      <th>...</th>\n",
       "      <td>...</td>\n",
       "      <td>...</td>\n",
       "    </tr>\n",
       "    <tr>\n",
       "      <th>39824</th>\n",
       "      <td>Fixed</td>\n",
       "      <td>kabelbreuk</td>\n",
       "    </tr>\n",
       "    <tr>\n",
       "      <th>52932</th>\n",
       "      <td>Fixed</td>\n",
       "      <td>Op toestel bevindt zich een schermpje(zie foto...</td>\n",
       "    </tr>\n",
       "    <tr>\n",
       "      <th>45527</th>\n",
       "      <td>Fixed</td>\n",
       "      <td>Hapert Filters vervuild Filters schoongemaakt</td>\n",
       "    </tr>\n",
       "    <tr>\n",
       "      <th>21943</th>\n",
       "      <td>Fixed</td>\n",
       "      <td>Not working Faulty battery</td>\n",
       "    </tr>\n",
       "    <tr>\n",
       "      <th>79529</th>\n",
       "      <td>Fixed</td>\n",
       "      <td>Cosses de l’interrupteur oxydées, réparation OK.</td>\n",
       "    </tr>\n",
       "  </tbody>\n",
       "</table>\n",
       "<p>1000 rows × 2 columns</p>\n",
       "</div>"
      ],
      "text/plain": [
       "      repair_status                                            problem\n",
       "37832         Fixed  brandt nt peertje kapot alles doorgemeten en m...\n",
       "29129         Fixed  DVD schijfje komt er niet uit - snaar  snaar v...\n",
       "36257         Fixed  Na half uurtje draaien komt er rook uit de mot...\n",
       "14313         Fixed  needs to be put back together loose parts put ...\n",
       "69024         Fixed                                      Broken Screen\n",
       "...             ...                                                ...\n",
       "39824         Fixed                                         kabelbreuk\n",
       "52932         Fixed  Op toestel bevindt zich een schermpje(zie foto...\n",
       "45527         Fixed      Hapert Filters vervuild Filters schoongemaakt\n",
       "21943         Fixed                         Not working Faulty battery\n",
       "79529         Fixed   Cosses de l’interrupteur oxydées, réparation OK.\n",
       "\n",
       "[1000 rows x 2 columns]"
      ]
     },
     "execution_count": 61,
     "metadata": {},
     "output_type": "execute_result"
    }
   ],
   "source": [
    "simple_data_f = fixed_df.sample(n=1000, random_state=1)\n",
    "simple_data_f"
   ]
  },
  {
   "cell_type": "markdown",
   "metadata": {},
   "source": [
    "tokenizing the text data using str.split() to create lists of words from every sentence"
   ]
  },
  {
   "cell_type": "code",
   "execution_count": 62,
   "metadata": {},
   "outputs": [
    {
     "data": {
      "text/plain": [
       "37832    [brandt, nt, peertje, kapot, alles, doorgemete...\n",
       "29129    [DVD, schijfje, komt, er, niet, uit, -, snaar,...\n",
       "36257    [Na, half, uurtje, draaien, komt, er, rook, ui...\n",
       "14313    [needs, to, be, put, back, together, loose, pa...\n",
       "69024                                     [Broken, Screen]\n",
       "                               ...                        \n",
       "39824                                         [kabelbreuk]\n",
       "52932    [Op, toestel, bevindt, zich, een, schermpje(zi...\n",
       "45527    [Hapert, Filters, vervuild, Filters, schoongem...\n",
       "21943                      [Not, working, Faulty, battery]\n",
       "79529    [Cosses, de, l’interrupteur, oxydées,, réparat...\n",
       "Name: problem, Length: 1000, dtype: object"
      ]
     },
     "execution_count": 62,
     "metadata": {},
     "output_type": "execute_result"
    }
   ],
   "source": [
    "simple_data_f['problem'].str.split(' ')"
   ]
  },
  {
   "cell_type": "code",
   "execution_count": 63,
   "metadata": {},
   "outputs": [],
   "source": [
    "from sklearn.feature_extraction.text import CountVectorizer"
   ]
  },
  {
   "cell_type": "code",
   "execution_count": 64,
   "metadata": {},
   "outputs": [
    {
     "data": {
      "text/plain": [
       "<1000x2777 sparse matrix of type '<class 'numpy.int64'>'\n",
       "\twith 6846 stored elements in Compressed Sparse Row format>"
      ]
     },
     "execution_count": 64,
     "metadata": {},
     "output_type": "execute_result"
    }
   ],
   "source": [
    "bagofwords = CountVectorizer()\n",
    "\n",
    "bagofwords.fit(simple_data_f['problem'])\n",
    "\n",
    "small_transformed = bagofwords.transform(simple_data_f['problem'])\n",
    "small_transformed"
   ]
  },
  {
   "cell_type": "code",
   "execution_count": 65,
   "metadata": {},
   "outputs": [
    {
     "data": {
      "text/plain": [
       "array(['10', '100', '11', ..., 'überbrücken', 'überbrückt', 'überprüft'],\n",
       "      dtype=object)"
      ]
     },
     "execution_count": 65,
     "metadata": {},
     "output_type": "execute_result"
    }
   ],
   "source": [
    "bagofwords.get_feature_names_out()"
   ]
  },
  {
   "cell_type": "code",
   "execution_count": 66,
   "metadata": {},
   "outputs": [
    {
     "data": {
      "text/plain": [
       "array([[0, 0, 0, ..., 0, 0, 0],\n",
       "       [0, 0, 0, ..., 0, 0, 0],\n",
       "       [0, 0, 0, ..., 0, 0, 0],\n",
       "       ...,\n",
       "       [0, 0, 0, ..., 0, 0, 0],\n",
       "       [0, 0, 0, ..., 0, 0, 0],\n",
       "       [0, 0, 0, ..., 0, 0, 0]], dtype=int64)"
      ]
     },
     "execution_count": 66,
     "metadata": {},
     "output_type": "execute_result"
    }
   ],
   "source": [
    "small_transformed.toarray()"
   ]
  },
  {
   "cell_type": "code",
   "execution_count": null,
   "metadata": {},
   "outputs": [],
   "source": [
    "# add more features\n",
    "# more markdown\n",
    "# multiple models\n",
    "# hyperparameter tuning\n"
   ]
  },
  {
   "cell_type": "code",
   "execution_count": 67,
   "metadata": {},
   "outputs": [
    {
     "data": {
      "text/html": [
       "<div>\n",
       "<style scoped>\n",
       "    .dataframe tbody tr th:only-of-type {\n",
       "        vertical-align: middle;\n",
       "    }\n",
       "\n",
       "    .dataframe tbody tr th {\n",
       "        vertical-align: top;\n",
       "    }\n",
       "\n",
       "    .dataframe thead th {\n",
       "        text-align: right;\n",
       "    }\n",
       "</style>\n",
       "<table border=\"1\" class=\"dataframe\">\n",
       "  <thead>\n",
       "    <tr style=\"text-align: right;\">\n",
       "      <th></th>\n",
       "      <th>10</th>\n",
       "      <th>100</th>\n",
       "      <th>11</th>\n",
       "      <th>110gr</th>\n",
       "      <th>12</th>\n",
       "      <th>12v</th>\n",
       "      <th>145</th>\n",
       "      <th>146</th>\n",
       "      <th>17</th>\n",
       "      <th>2020</th>\n",
       "      <th>...</th>\n",
       "      <th>één</th>\n",
       "      <th>éénmaal</th>\n",
       "      <th>être</th>\n",
       "      <th>öffnen</th>\n",
       "      <th>ölen</th>\n",
       "      <th>ønstalleerd</th>\n",
       "      <th>über</th>\n",
       "      <th>überbrücken</th>\n",
       "      <th>überbrückt</th>\n",
       "      <th>überprüft</th>\n",
       "    </tr>\n",
       "  </thead>\n",
       "  <tbody>\n",
       "    <tr>\n",
       "      <th>0</th>\n",
       "      <td>0</td>\n",
       "      <td>0</td>\n",
       "      <td>0</td>\n",
       "      <td>0</td>\n",
       "      <td>0</td>\n",
       "      <td>0</td>\n",
       "      <td>0</td>\n",
       "      <td>0</td>\n",
       "      <td>0</td>\n",
       "      <td>0</td>\n",
       "      <td>...</td>\n",
       "      <td>0</td>\n",
       "      <td>0</td>\n",
       "      <td>0</td>\n",
       "      <td>0</td>\n",
       "      <td>0</td>\n",
       "      <td>0</td>\n",
       "      <td>0</td>\n",
       "      <td>0</td>\n",
       "      <td>0</td>\n",
       "      <td>0</td>\n",
       "    </tr>\n",
       "    <tr>\n",
       "      <th>1</th>\n",
       "      <td>0</td>\n",
       "      <td>0</td>\n",
       "      <td>0</td>\n",
       "      <td>0</td>\n",
       "      <td>0</td>\n",
       "      <td>0</td>\n",
       "      <td>0</td>\n",
       "      <td>0</td>\n",
       "      <td>0</td>\n",
       "      <td>0</td>\n",
       "      <td>...</td>\n",
       "      <td>0</td>\n",
       "      <td>0</td>\n",
       "      <td>0</td>\n",
       "      <td>0</td>\n",
       "      <td>0</td>\n",
       "      <td>0</td>\n",
       "      <td>0</td>\n",
       "      <td>0</td>\n",
       "      <td>0</td>\n",
       "      <td>0</td>\n",
       "    </tr>\n",
       "    <tr>\n",
       "      <th>2</th>\n",
       "      <td>0</td>\n",
       "      <td>0</td>\n",
       "      <td>0</td>\n",
       "      <td>0</td>\n",
       "      <td>0</td>\n",
       "      <td>0</td>\n",
       "      <td>0</td>\n",
       "      <td>0</td>\n",
       "      <td>0</td>\n",
       "      <td>0</td>\n",
       "      <td>...</td>\n",
       "      <td>0</td>\n",
       "      <td>0</td>\n",
       "      <td>0</td>\n",
       "      <td>0</td>\n",
       "      <td>0</td>\n",
       "      <td>0</td>\n",
       "      <td>0</td>\n",
       "      <td>0</td>\n",
       "      <td>0</td>\n",
       "      <td>0</td>\n",
       "    </tr>\n",
       "    <tr>\n",
       "      <th>3</th>\n",
       "      <td>0</td>\n",
       "      <td>0</td>\n",
       "      <td>0</td>\n",
       "      <td>0</td>\n",
       "      <td>0</td>\n",
       "      <td>0</td>\n",
       "      <td>0</td>\n",
       "      <td>0</td>\n",
       "      <td>0</td>\n",
       "      <td>0</td>\n",
       "      <td>...</td>\n",
       "      <td>0</td>\n",
       "      <td>0</td>\n",
       "      <td>0</td>\n",
       "      <td>0</td>\n",
       "      <td>0</td>\n",
       "      <td>0</td>\n",
       "      <td>0</td>\n",
       "      <td>0</td>\n",
       "      <td>0</td>\n",
       "      <td>0</td>\n",
       "    </tr>\n",
       "    <tr>\n",
       "      <th>4</th>\n",
       "      <td>0</td>\n",
       "      <td>0</td>\n",
       "      <td>0</td>\n",
       "      <td>0</td>\n",
       "      <td>0</td>\n",
       "      <td>0</td>\n",
       "      <td>0</td>\n",
       "      <td>0</td>\n",
       "      <td>0</td>\n",
       "      <td>0</td>\n",
       "      <td>...</td>\n",
       "      <td>0</td>\n",
       "      <td>0</td>\n",
       "      <td>0</td>\n",
       "      <td>0</td>\n",
       "      <td>0</td>\n",
       "      <td>0</td>\n",
       "      <td>0</td>\n",
       "      <td>0</td>\n",
       "      <td>0</td>\n",
       "      <td>0</td>\n",
       "    </tr>\n",
       "    <tr>\n",
       "      <th>...</th>\n",
       "      <td>...</td>\n",
       "      <td>...</td>\n",
       "      <td>...</td>\n",
       "      <td>...</td>\n",
       "      <td>...</td>\n",
       "      <td>...</td>\n",
       "      <td>...</td>\n",
       "      <td>...</td>\n",
       "      <td>...</td>\n",
       "      <td>...</td>\n",
       "      <td>...</td>\n",
       "      <td>...</td>\n",
       "      <td>...</td>\n",
       "      <td>...</td>\n",
       "      <td>...</td>\n",
       "      <td>...</td>\n",
       "      <td>...</td>\n",
       "      <td>...</td>\n",
       "      <td>...</td>\n",
       "      <td>...</td>\n",
       "      <td>...</td>\n",
       "    </tr>\n",
       "    <tr>\n",
       "      <th>995</th>\n",
       "      <td>0</td>\n",
       "      <td>0</td>\n",
       "      <td>0</td>\n",
       "      <td>0</td>\n",
       "      <td>0</td>\n",
       "      <td>0</td>\n",
       "      <td>0</td>\n",
       "      <td>0</td>\n",
       "      <td>0</td>\n",
       "      <td>0</td>\n",
       "      <td>...</td>\n",
       "      <td>0</td>\n",
       "      <td>0</td>\n",
       "      <td>0</td>\n",
       "      <td>0</td>\n",
       "      <td>0</td>\n",
       "      <td>0</td>\n",
       "      <td>0</td>\n",
       "      <td>0</td>\n",
       "      <td>0</td>\n",
       "      <td>0</td>\n",
       "    </tr>\n",
       "    <tr>\n",
       "      <th>996</th>\n",
       "      <td>0</td>\n",
       "      <td>0</td>\n",
       "      <td>0</td>\n",
       "      <td>0</td>\n",
       "      <td>0</td>\n",
       "      <td>0</td>\n",
       "      <td>0</td>\n",
       "      <td>0</td>\n",
       "      <td>0</td>\n",
       "      <td>0</td>\n",
       "      <td>...</td>\n",
       "      <td>1</td>\n",
       "      <td>0</td>\n",
       "      <td>0</td>\n",
       "      <td>0</td>\n",
       "      <td>0</td>\n",
       "      <td>0</td>\n",
       "      <td>0</td>\n",
       "      <td>0</td>\n",
       "      <td>0</td>\n",
       "      <td>0</td>\n",
       "    </tr>\n",
       "    <tr>\n",
       "      <th>997</th>\n",
       "      <td>0</td>\n",
       "      <td>0</td>\n",
       "      <td>0</td>\n",
       "      <td>0</td>\n",
       "      <td>0</td>\n",
       "      <td>0</td>\n",
       "      <td>0</td>\n",
       "      <td>0</td>\n",
       "      <td>0</td>\n",
       "      <td>0</td>\n",
       "      <td>...</td>\n",
       "      <td>0</td>\n",
       "      <td>0</td>\n",
       "      <td>0</td>\n",
       "      <td>0</td>\n",
       "      <td>0</td>\n",
       "      <td>0</td>\n",
       "      <td>0</td>\n",
       "      <td>0</td>\n",
       "      <td>0</td>\n",
       "      <td>0</td>\n",
       "    </tr>\n",
       "    <tr>\n",
       "      <th>998</th>\n",
       "      <td>0</td>\n",
       "      <td>0</td>\n",
       "      <td>0</td>\n",
       "      <td>0</td>\n",
       "      <td>0</td>\n",
       "      <td>0</td>\n",
       "      <td>0</td>\n",
       "      <td>0</td>\n",
       "      <td>0</td>\n",
       "      <td>0</td>\n",
       "      <td>...</td>\n",
       "      <td>0</td>\n",
       "      <td>0</td>\n",
       "      <td>0</td>\n",
       "      <td>0</td>\n",
       "      <td>0</td>\n",
       "      <td>0</td>\n",
       "      <td>0</td>\n",
       "      <td>0</td>\n",
       "      <td>0</td>\n",
       "      <td>0</td>\n",
       "    </tr>\n",
       "    <tr>\n",
       "      <th>999</th>\n",
       "      <td>0</td>\n",
       "      <td>0</td>\n",
       "      <td>0</td>\n",
       "      <td>0</td>\n",
       "      <td>0</td>\n",
       "      <td>0</td>\n",
       "      <td>0</td>\n",
       "      <td>0</td>\n",
       "      <td>0</td>\n",
       "      <td>0</td>\n",
       "      <td>...</td>\n",
       "      <td>0</td>\n",
       "      <td>0</td>\n",
       "      <td>0</td>\n",
       "      <td>0</td>\n",
       "      <td>0</td>\n",
       "      <td>0</td>\n",
       "      <td>0</td>\n",
       "      <td>0</td>\n",
       "      <td>0</td>\n",
       "      <td>0</td>\n",
       "    </tr>\n",
       "  </tbody>\n",
       "</table>\n",
       "<p>1000 rows × 2777 columns</p>\n",
       "</div>"
      ],
      "text/plain": [
       "     10  100  11  110gr  12  12v  145  146  17  2020  ...  één  éénmaal  être  \\\n",
       "0     0    0   0      0   0    0    0    0   0     0  ...    0        0     0   \n",
       "1     0    0   0      0   0    0    0    0   0     0  ...    0        0     0   \n",
       "2     0    0   0      0   0    0    0    0   0     0  ...    0        0     0   \n",
       "3     0    0   0      0   0    0    0    0   0     0  ...    0        0     0   \n",
       "4     0    0   0      0   0    0    0    0   0     0  ...    0        0     0   \n",
       "..   ..  ...  ..    ...  ..  ...  ...  ...  ..   ...  ...  ...      ...   ...   \n",
       "995   0    0   0      0   0    0    0    0   0     0  ...    0        0     0   \n",
       "996   0    0   0      0   0    0    0    0   0     0  ...    1        0     0   \n",
       "997   0    0   0      0   0    0    0    0   0     0  ...    0        0     0   \n",
       "998   0    0   0      0   0    0    0    0   0     0  ...    0        0     0   \n",
       "999   0    0   0      0   0    0    0    0   0     0  ...    0        0     0   \n",
       "\n",
       "     öffnen  ölen  ønstalleerd  über  überbrücken  überbrückt  überprüft  \n",
       "0         0     0            0     0            0           0          0  \n",
       "1         0     0            0     0            0           0          0  \n",
       "2         0     0            0     0            0           0          0  \n",
       "3         0     0            0     0            0           0          0  \n",
       "4         0     0            0     0            0           0          0  \n",
       "..      ...   ...          ...   ...          ...         ...        ...  \n",
       "995       0     0            0     0            0           0          0  \n",
       "996       0     0            0     0            0           0          0  \n",
       "997       0     0            0     0            0           0          0  \n",
       "998       0     0            0     0            0           0          0  \n",
       "999       0     0            0     0            0           0          0  \n",
       "\n",
       "[1000 rows x 2777 columns]"
      ]
     },
     "metadata": {},
     "output_type": "display_data"
    }
   ],
   "source": [
    "df = pd.DataFrame(columns=bagofwords.get_feature_names_out(), data=small_transformed.toarray())\n",
    "display(df)"
   ]
  },
  {
   "cell_type": "markdown",
   "metadata": {},
   "source": [
    "## NLP ROUND 2"
   ]
  },
  {
   "cell_type": "markdown",
   "metadata": {},
   "source": [
    "dividing the data between train and test sections using sklearn's train_test_split "
   ]
  },
  {
   "cell_type": "code",
   "execution_count": 126,
   "metadata": {},
   "outputs": [],
   "source": [
    "from sklearn.model_selection import train_test_split\n",
    "from matplotlib import pyplot as plt"
   ]
  },
  {
   "cell_type": "code",
   "execution_count": 92,
   "metadata": {},
   "outputs": [
    {
     "data": {
      "text/html": [
       "<div>\n",
       "<style scoped>\n",
       "    .dataframe tbody tr th:only-of-type {\n",
       "        vertical-align: middle;\n",
       "    }\n",
       "\n",
       "    .dataframe tbody tr th {\n",
       "        vertical-align: top;\n",
       "    }\n",
       "\n",
       "    .dataframe thead th {\n",
       "        text-align: right;\n",
       "    }\n",
       "</style>\n",
       "<table border=\"1\" class=\"dataframe\">\n",
       "  <thead>\n",
       "    <tr style=\"text-align: right;\">\n",
       "      <th></th>\n",
       "      <th>repair_status</th>\n",
       "      <th>problem</th>\n",
       "    </tr>\n",
       "  </thead>\n",
       "  <tbody>\n",
       "    <tr>\n",
       "      <th>0</th>\n",
       "      <td>End of life</td>\n",
       "      <td>Pumpe defekt</td>\n",
       "    </tr>\n",
       "    <tr>\n",
       "      <th>1</th>\n",
       "      <td>Repairable</td>\n",
       "      <td>Akku lädt nicht</td>\n",
       "    </tr>\n",
       "    <tr>\n",
       "      <th>2</th>\n",
       "      <td>Fixed</td>\n",
       "      <td>Ohne Funktion</td>\n",
       "    </tr>\n",
       "    <tr>\n",
       "      <th>3</th>\n",
       "      <td>End of life</td>\n",
       "      <td>Netzteilbuchse und Grafikkarte defekt</td>\n",
       "    </tr>\n",
       "    <tr>\n",
       "      <th>4</th>\n",
       "      <td>End of life</td>\n",
       "      <td>Getriebeschaden</td>\n",
       "    </tr>\n",
       "    <tr>\n",
       "      <th>...</th>\n",
       "      <td>...</td>\n",
       "      <td>...</td>\n",
       "    </tr>\n",
       "    <tr>\n",
       "      <th>103071</th>\n",
       "      <td>Fixed</td>\n",
       "      <td>Extension cable for PAT testing.</td>\n",
       "    </tr>\n",
       "    <tr>\n",
       "      <th>103072</th>\n",
       "      <td>Repairable</td>\n",
       "      <td>Broken mirror.</td>\n",
       "    </tr>\n",
       "    <tr>\n",
       "      <th>103073</th>\n",
       "      <td>Fixed</td>\n",
       "      <td>Cotton reel spindle needs replacing.</td>\n",
       "    </tr>\n",
       "    <tr>\n",
       "      <th>103074</th>\n",
       "      <td>Fixed</td>\n",
       "      <td>Bobbin not working.</td>\n",
       "    </tr>\n",
       "    <tr>\n",
       "      <th>103075</th>\n",
       "      <td>Fixed</td>\n",
       "      <td>It doesn’t turn on.</td>\n",
       "    </tr>\n",
       "  </tbody>\n",
       "</table>\n",
       "<p>103076 rows × 2 columns</p>\n",
       "</div>"
      ],
      "text/plain": [
       "       repair_status                                problem\n",
       "0        End of life                           Pumpe defekt\n",
       "1         Repairable                        Akku lädt nicht\n",
       "2              Fixed                          Ohne Funktion\n",
       "3        End of life  Netzteilbuchse und Grafikkarte defekt\n",
       "4        End of life                        Getriebeschaden\n",
       "...              ...                                    ...\n",
       "103071         Fixed       Extension cable for PAT testing.\n",
       "103072    Repairable                         Broken mirror.\n",
       "103073         Fixed   Cotton reel spindle needs replacing.\n",
       "103074         Fixed                    Bobbin not working.\n",
       "103075         Fixed                    It doesn’t turn on.\n",
       "\n",
       "[103076 rows x 2 columns]"
      ]
     },
     "execution_count": 92,
     "metadata": {},
     "output_type": "execute_result"
    }
   ],
   "source": [
    "ndf = pd.read_csv(\"data/OpenRepairData_v0.3_aggregate_202303.csv\")\n",
    "ndf = ndf[['repair_status', 'problem']]\n",
    "ndf"
   ]
  },
  {
   "cell_type": "code",
   "execution_count": 98,
   "metadata": {},
   "outputs": [],
   "source": [
    "ndf = ndf.fillna('blank')"
   ]
  },
  {
   "cell_type": "code",
   "execution_count": 99,
   "metadata": {},
   "outputs": [],
   "source": [
    "X = ndf['problem']\n",
    "y = ndf['repair_status']"
   ]
  },
  {
   "cell_type": "code",
   "execution_count": 100,
   "metadata": {},
   "outputs": [],
   "source": [
    "X_train, X_test, y_train, y_test = train_test_split(X, y, test_size=0.33, random_state=42)"
   ]
  },
  {
   "cell_type": "code",
   "execution_count": 101,
   "metadata": {},
   "outputs": [
    {
     "data": {
      "text/plain": [
       "(69060,)"
      ]
     },
     "execution_count": 101,
     "metadata": {},
     "output_type": "execute_result"
    }
   ],
   "source": [
    "X_train.shape"
   ]
  },
  {
   "cell_type": "code",
   "execution_count": 102,
   "metadata": {},
   "outputs": [
    {
     "data": {
      "text/plain": [
       "<69060x37257 sparse matrix of type '<class 'numpy.int64'>'\n",
       "\twith 502197 stored elements in Compressed Sparse Row format>"
      ]
     },
     "execution_count": 102,
     "metadata": {},
     "output_type": "execute_result"
    }
   ],
   "source": [
    "bagofwords = CountVectorizer()\n",
    "\n",
    "bagofwords.fit (X_train)\n",
    "\n",
    "X_train_transformed = bagofwords.transform(X_train)\n",
    "X_train_transformed"
   ]
  },
  {
   "cell_type": "code",
   "execution_count": 103,
   "metadata": {},
   "outputs": [
    {
     "name": "stdout",
     "output_type": "stream",
     "text": [
      "['000', '110volt', '15mins', '1n4007', '24cm', '352', '4c', '61', '85awasserleitungszufuhr', 'aandrijfsnoertje']\n"
     ]
    }
   ],
   "source": [
    "words = bagofwords.get_feature_names_out()\n",
    "some_indices = range(1, 1000, round(1000/10))\n",
    "\n",
    "samples = [words[i] for i in some_indices]\n",
    "print(samples)"
   ]
  },
  {
   "cell_type": "code",
   "execution_count": 104,
   "metadata": {},
   "outputs": [
    {
     "data": {
      "text/html": [
       "<div>\n",
       "<style scoped>\n",
       "    .dataframe tbody tr th:only-of-type {\n",
       "        vertical-align: middle;\n",
       "    }\n",
       "\n",
       "    .dataframe tbody tr th {\n",
       "        vertical-align: top;\n",
       "    }\n",
       "\n",
       "    .dataframe thead th {\n",
       "        text-align: right;\n",
       "    }\n",
       "</style>\n",
       "<table border=\"1\" class=\"dataframe\">\n",
       "  <thead>\n",
       "    <tr style=\"text-align: right;\">\n",
       "      <th></th>\n",
       "      <th>000</th>\n",
       "      <th>110volt</th>\n",
       "      <th>15mins</th>\n",
       "      <th>1n4007</th>\n",
       "      <th>24cm</th>\n",
       "      <th>352</th>\n",
       "      <th>4c</th>\n",
       "      <th>61</th>\n",
       "      <th>85awasserleitungszufuhr</th>\n",
       "      <th>aandrijfsnoertje</th>\n",
       "    </tr>\n",
       "  </thead>\n",
       "  <tbody>\n",
       "    <tr>\n",
       "      <th>total_corpus_count</th>\n",
       "      <td>1</td>\n",
       "      <td>2</td>\n",
       "      <td>1</td>\n",
       "      <td>1</td>\n",
       "      <td>1</td>\n",
       "      <td>1</td>\n",
       "      <td>1</td>\n",
       "      <td>2</td>\n",
       "      <td>1</td>\n",
       "      <td>1</td>\n",
       "    </tr>\n",
       "  </tbody>\n",
       "</table>\n",
       "</div>"
      ],
      "text/plain": [
       "                    000  110volt  15mins  1n4007  24cm  352  4c  61  \\\n",
       "total_corpus_count    1        2       1       1     1    1   1   2   \n",
       "\n",
       "                    85awasserleitungszufuhr  aandrijfsnoertje  \n",
       "total_corpus_count                        1                 1  "
      ]
     },
     "metadata": {},
     "output_type": "display_data"
    }
   ],
   "source": [
    "counts = np.array(X_train_transformed[:, some_indices].sum(axis = 0))\n",
    "\n",
    "display(pd.DataFrame({\"total_corpus_count\": counts[0]}, index=samples).T)"
   ]
  },
  {
   "cell_type": "code",
   "execution_count": 105,
   "metadata": {},
   "outputs": [
    {
     "data": {
      "text/plain": [
       "37257"
      ]
     },
     "execution_count": 105,
     "metadata": {},
     "output_type": "execute_result"
    }
   ],
   "source": [
    "len(bagofwords.get_feature_names_out())"
   ]
  },
  {
   "cell_type": "code",
   "execution_count": 106,
   "metadata": {},
   "outputs": [
    {
     "data": {
      "text/plain": [
       "array([6, 1, 1, ..., 1, 1, 2], dtype=int64)"
      ]
     },
     "execution_count": 106,
     "metadata": {},
     "output_type": "execute_result"
    }
   ],
   "source": [
    "X_train_transformed.toarray().sum(axis=0)"
   ]
  },
  {
   "cell_type": "markdown",
   "metadata": {},
   "source": [
    "bar graph of the Top 20 most frequently occurring words"
   ]
  },
  {
   "cell_type": "code",
   "execution_count": 127,
   "metadata": {},
   "outputs": [
    {
     "data": {
      "image/png": "[encoded data removed]",
      "text/plain": [
       "<Figure size 1500x500 with 1 Axes>"
      ]
     },
     "metadata": {},
     "output_type": "display_data"
    }
   ],
   "source": [
    "word_counts = pd.DataFrame(\n",
    "    {\"counts\": X_train_transformed.toarray().sum(axis=0)},\n",
    "    index=bagofwords.get_feature_names_out()\n",
    ").sort_values(\"counts\", ascending=False)\n",
    "\n",
    "word_counts.head(20).plot(kind=\"bar\", figsize=(15, 5), legend=False)\n",
    "plt.title(\"Top 20 most frequently occurring words\")\n",
    "plt.ylabel(\"Count\")\n",
    "plt.xticks(rotation=45)\n",
    "plt.show()"
   ]
  },
  {
   "cell_type": "markdown",
   "metadata": {},
   "source": [
    "removing English stop words"
   ]
  },
  {
   "cell_type": "code",
   "execution_count": 128,
   "metadata": {},
   "outputs": [
    {
     "data": {
      "text/plain": [
       "(69060, 36997)"
      ]
     },
     "execution_count": 128,
     "metadata": {},
     "output_type": "execute_result"
    }
   ],
   "source": [
    "bagofwords = CountVectorizer(stop_words=\"english\")\n",
    "bagofwords.fit(X_train)\n",
    "\n",
    "X_train_transformed = bagofwords.transform(X_train) \n",
    "X_test_transformed = bagofwords.transform(X_test) \n",
    "\n",
    "X_train_transformed.shape"
   ]
  },
  {
   "cell_type": "markdown",
   "metadata": {},
   "source": [
    "bar graph of the Top 20 most frequently occurring words"
   ]
  },
  {
   "cell_type": "code",
   "execution_count": 129,
   "metadata": {},
   "outputs": [
    {
     "data": {
      "image/png": "[encoded data removed]",
      "text/plain": [
       "<Figure size 1500x500 with 1 Axes>"
      ]
     },
     "metadata": {},
     "output_type": "display_data"
    }
   ],
   "source": [
    "word_counts = pd.DataFrame(\n",
    "    {\"counts\": X_train_transformed.toarray().sum(axis=0)},\n",
    "    index=bagofwords.get_feature_names_out()\n",
    ").sort_values(\"counts\", ascending=False)\n",
    "\n",
    "word_counts.head(20).plot(kind=\"bar\", figsize=(15, 5), legend=False)\n",
    "plt.title(\"Top 20 most frequently occurring words\")\n",
    "plt.ylabel(\"Count\")\n",
    "plt.xticks(rotation=45)\n",
    "plt.show()"
   ]
  },
  {
   "cell_type": "code",
   "execution_count": 111,
   "metadata": {},
   "outputs": [
    {
     "data": {
      "text/plain": [
       "<34016x36997 sparse matrix of type '<class 'numpy.int64'>'\n",
       "\twith 211298 stored elements in Compressed Sparse Row format>"
      ]
     },
     "execution_count": 111,
     "metadata": {},
     "output_type": "execute_result"
    }
   ],
   "source": [
    "X_test_transformed = bagofwords.transform(X_test)\n",
    "X_test_transformed"
   ]
  },
  {
   "cell_type": "code",
   "execution_count": 116,
   "metadata": {},
   "outputs": [
    {
     "name": "stdout",
     "output_type": "stream",
     "text": [
      "['000', '220', '70', 'abdichten', 'activer', 'akkoord', 'angeboten', 'appartaat', 'aufheizungsstellen', 'außenuhr', 'bassausgang', 'bekannte', 'beule', 'blockiertdrehkoachsen', 'branchement', 'burned', 'cassettedoesn', 'chuté', 'componant', 'controller', 'custyomer', 'defektes', 'dew', 'disponible', 'draaiende', 'durchgängen', 'e10', 'einschaltimpuls', 'enclencher', 'erhältlich', 'example', 'faultes', 'finding', 'foodprocessor', 'funktionkontakte', 'gecontroleerd', 'gemeinsamen', 'gestagneerd', 'goes', 'haarschneidemaschine', 'heitelement', 'hjapert', 'idde', 'ingesmeerd', 'internetverbinding', 'joy', 'ken', 'knethaken', 'koolstoffilter', 'laadde', 'lautsprechers', 'lichtblitz', 'loquet', 'magentic', 'mearly', 'mid', 'montagepunt', 'naaigaren', 'netzfilter', 'noticeable', 'omega', 'opgegeten', 'outputs', 'partiellement', 'pick', 'pocos', 'presenter', 'provisoire', 'radiowecker', 'recognising', 'rekstrook', 'resets', 'ritdisplay', 'réduction', 'schaalwijzer', 'schnürre', 'segni', 'shut', 'sluitingen', 'soto', 'spoor', 'steckerstecker', 'straightners', 'superglued', 'tandriempje', 'teruggewurmd', 'tischlampe', 'transporteren', 'türschalter', 'universalmixer', 'vanop', 'vergleich', 'versnellingskabel', 'vindbaar', 'vorgefunden', 'wandlampe', 'weile', 'wirkung', 'zeige', 'zuverlässige']\n"
     ]
    }
   ],
   "source": [
    "words = bagofwords.get_feature_names_out()\n",
    "some_indices = range(1, 36997, round(36997/100))\n",
    "\n",
    "samples = [words[i] for i in some_indices]\n",
    "print(samples)"
   ]
  },
  {
   "cell_type": "code",
   "execution_count": 117,
   "metadata": {},
   "outputs": [
    {
     "data": {
      "text/html": [
       "<div>\n",
       "<style scoped>\n",
       "    .dataframe tbody tr th:only-of-type {\n",
       "        vertical-align: middle;\n",
       "    }\n",
       "\n",
       "    .dataframe tbody tr th {\n",
       "        vertical-align: top;\n",
       "    }\n",
       "\n",
       "    .dataframe thead th {\n",
       "        text-align: right;\n",
       "    }\n",
       "</style>\n",
       "<table border=\"1\" class=\"dataframe\">\n",
       "  <thead>\n",
       "    <tr style=\"text-align: right;\">\n",
       "      <th></th>\n",
       "      <th>000</th>\n",
       "      <th>220</th>\n",
       "      <th>70</th>\n",
       "      <th>abdichten</th>\n",
       "      <th>activer</th>\n",
       "      <th>akkoord</th>\n",
       "      <th>angeboten</th>\n",
       "      <th>appartaat</th>\n",
       "      <th>aufheizungsstellen</th>\n",
       "      <th>außenuhr</th>\n",
       "      <th>...</th>\n",
       "      <th>vanop</th>\n",
       "      <th>vergleich</th>\n",
       "      <th>versnellingskabel</th>\n",
       "      <th>vindbaar</th>\n",
       "      <th>vorgefunden</th>\n",
       "      <th>wandlampe</th>\n",
       "      <th>weile</th>\n",
       "      <th>wirkung</th>\n",
       "      <th>zeige</th>\n",
       "      <th>zuverlässige</th>\n",
       "    </tr>\n",
       "  </thead>\n",
       "  <tbody>\n",
       "    <tr>\n",
       "      <th>total_corpus_count</th>\n",
       "      <td>1</td>\n",
       "      <td>15</td>\n",
       "      <td>11</td>\n",
       "      <td>1</td>\n",
       "      <td>5</td>\n",
       "      <td>1</td>\n",
       "      <td>2</td>\n",
       "      <td>1</td>\n",
       "      <td>1</td>\n",
       "      <td>1</td>\n",
       "      <td>...</td>\n",
       "      <td>1</td>\n",
       "      <td>1</td>\n",
       "      <td>1</td>\n",
       "      <td>4</td>\n",
       "      <td>1</td>\n",
       "      <td>1</td>\n",
       "      <td>11</td>\n",
       "      <td>1</td>\n",
       "      <td>1</td>\n",
       "      <td>1</td>\n",
       "    </tr>\n",
       "  </tbody>\n",
       "</table>\n",
       "<p>1 rows × 100 columns</p>\n",
       "</div>"
      ],
      "text/plain": [
       "                    000  220  70  abdichten  activer  akkoord  angeboten  \\\n",
       "total_corpus_count    1   15  11          1        5        1          2   \n",
       "\n",
       "                    appartaat  aufheizungsstellen  außenuhr  ...  vanop  \\\n",
       "total_corpus_count          1                   1         1  ...      1   \n",
       "\n",
       "                    vergleich  versnellingskabel  vindbaar  vorgefunden  \\\n",
       "total_corpus_count          1                  1         4            1   \n",
       "\n",
       "                    wandlampe  weile  wirkung  zeige  zuverlässige  \n",
       "total_corpus_count          1     11        1      1             1  \n",
       "\n",
       "[1 rows x 100 columns]"
      ]
     },
     "metadata": {},
     "output_type": "display_data"
    }
   ],
   "source": [
    "counts = np.array(X_train_transformed[:, some_indices].sum(axis = 0))\n",
    "display(pd.DataFrame({\"total_corpus_count\": counts[0]}, index=samples).T)"
   ]
  },
  {
   "cell_type": "code",
   "execution_count": 118,
   "metadata": {},
   "outputs": [
    {
     "data": {
      "text/plain": [
       "36997"
      ]
     },
     "execution_count": 118,
     "metadata": {},
     "output_type": "execute_result"
    }
   ],
   "source": [
    "len(bagofwords.get_feature_names_out())"
   ]
  },
  {
   "cell_type": "code",
   "execution_count": 119,
   "metadata": {},
   "outputs": [
    {
     "data": {
      "text/plain": [
       "array([6, 1, 1, ..., 1, 1, 2], dtype=int64)"
      ]
     },
     "execution_count": 119,
     "metadata": {},
     "output_type": "execute_result"
    }
   ],
   "source": [
    "X_train_transformed.toarray().sum(axis=0)"
   ]
  },
  {
   "cell_type": "code",
   "execution_count": 130,
   "metadata": {},
   "outputs": [
    {
     "data": {
      "image/png": "[encoded data removed]",
      "text/plain": [
       "<Figure size 1500x500 with 1 Axes>"
      ]
     },
     "metadata": {},
     "output_type": "display_data"
    }
   ],
   "source": [
    "word_counts = pd.DataFrame(\n",
    "    {\"counts\": X_train_transformed.toarray().sum(axis=0)},\n",
    "    index=bagofwords.get_feature_names_out()\n",
    ").sort_values(\"counts\", ascending=False)\n",
    "\n",
    "word_counts.head(50).plot(kind=\"bar\", figsize=(15, 5), legend=False)\n",
    "plt.title(\"Top 20 most frequently occurring words\")\n",
    "plt.ylabel(\"Count\")\n",
    "plt.xticks(rotation=45)\n",
    "plt.show()"
   ]
  },
  {
   "cell_type": "code",
   "execution_count": 123,
   "metadata": {},
   "outputs": [
    {
     "name": "stdout",
     "output_type": "stream",
     "text": [
      "Train score: 0.7022444251375616\n",
      "Test score: 0.6610124647224835\n"
     ]
    },
    {
     "name": "stderr",
     "output_type": "stream",
     "text": [
      "c:\\Users\\User\\anaconda3\\lib\\site-packages\\sklearn\\linear_model\\_logistic.py:460: ConvergenceWarning: lbfgs failed to converge (status=1):\n",
      "STOP: TOTAL NO. of ITERATIONS REACHED LIMIT.\n",
      "\n",
      "Increase the number of iterations (max_iter) or scale the data as shown in:\n",
      "    https://scikit-learn.org/stable/modules/preprocessing.html\n",
      "Please also refer to the documentation for alternative solver options:\n",
      "    https://scikit-learn.org/stable/modules/linear_model.html#logistic-regression\n",
      "  n_iter_i = _check_optimize_result(\n"
     ]
    }
   ],
   "source": [
    "# Fitting a model\n",
    "logreg = LogisticRegression(C = 0.1)\n",
    "logreg.fit(X_train_transformed, y_train)\n",
    "\n",
    "# Training and test score\n",
    "print(f\"Train score: {logreg.score(X_train_transformed, y_train)}\")\n",
    "print(f\"Test score: {logreg.score(X_test_transformed, y_test)}\")"
   ]
  },
  {
   "cell_type": "code",
   "execution_count": null,
   "metadata": {},
   "outputs": [],
   "source": []
  },
  {
   "cell_type": "code",
   "execution_count": 131,
   "metadata": {},
   "outputs": [],
   "source": [
    "from sklearn.model_selection import train_test_split\n",
    "from sklearn.tree import DecisionTreeClassifier\n",
    "from sklearn.metrics import accuracy_score\n",
    "from sklearn.metrics import confusion_matrix, ConfusionMatrixDisplay"
   ]
  },
  {
   "cell_type": "code",
   "execution_count": 134,
   "metadata": {},
   "outputs": [
    {
     "data": {
      "text/html": [
       "<style>#sk-container-id-2 {color: black;}#sk-container-id-2 pre{padding: 0;}#sk-container-id-2 div.sk-toggleable {background-color: white;}#sk-container-id-2 label.sk-toggleable__label {cursor: pointer;display: block;width: 100%;margin-bottom: 0;padding: 0.3em;box-sizing: border-box;text-align: center;}#sk-container-id-2 label.sk-toggleable__label-arrow:before {content: \"▸\";float: left;margin-right: 0.25em;color: #696969;}#sk-container-id-2 label.sk-toggleable__label-arrow:hover:before {color: black;}#sk-container-id-2 div.sk-estimator:hover label.sk-toggleable__label-arrow:before {color: black;}#sk-container-id-2 div.sk-toggleable__content {max-height: 0;max-width: 0;overflow: hidden;text-align: left;background-color: #f0f8ff;}#sk-container-id-2 div.sk-toggleable__content pre {margin: 0.2em;color: black;border-radius: 0.25em;background-color: #f0f8ff;}#sk-container-id-2 input.sk-toggleable__control:checked~div.sk-toggleable__content {max-height: 200px;max-width: 100%;overflow: auto;}#sk-container-id-2 input.sk-toggleable__control:checked~label.sk-toggleable__label-arrow:before {content: \"▾\";}#sk-container-id-2 div.sk-estimator input.sk-toggleable__control:checked~label.sk-toggleable__label {background-color: #d4ebff;}#sk-container-id-2 div.sk-label input.sk-toggleable__control:checked~label.sk-toggleable__label {background-color: #d4ebff;}#sk-container-id-2 input.sk-hidden--visually {border: 0;clip: rect(1px 1px 1px 1px);clip: rect(1px, 1px, 1px, 1px);height: 1px;margin: -1px;overflow: hidden;padding: 0;position: absolute;width: 1px;}#sk-container-id-2 div.sk-estimator {font-family: monospace;background-color: #f0f8ff;border: 1px dotted black;border-radius: 0.25em;box-sizing: border-box;margin-bottom: 0.5em;}#sk-container-id-2 div.sk-estimator:hover {background-color: #d4ebff;}#sk-container-id-2 div.sk-parallel-item::after {content: \"\";width: 100%;border-bottom: 1px solid gray;flex-grow: 1;}#sk-container-id-2 div.sk-label:hover label.sk-toggleable__label {background-color: #d4ebff;}#sk-container-id-2 div.sk-serial::before {content: \"\";position: absolute;border-left: 1px solid gray;box-sizing: border-box;top: 0;bottom: 0;left: 50%;z-index: 0;}#sk-container-id-2 div.sk-serial {display: flex;flex-direction: column;align-items: center;background-color: white;padding-right: 0.2em;padding-left: 0.2em;position: relative;}#sk-container-id-2 div.sk-item {position: relative;z-index: 1;}#sk-container-id-2 div.sk-parallel {display: flex;align-items: stretch;justify-content: center;background-color: white;position: relative;}#sk-container-id-2 div.sk-item::before, #sk-container-id-2 div.sk-parallel-item::before {content: \"\";position: absolute;border-left: 1px solid gray;box-sizing: border-box;top: 0;bottom: 0;left: 50%;z-index: -1;}#sk-container-id-2 div.sk-parallel-item {display: flex;flex-direction: column;z-index: 1;position: relative;background-color: white;}#sk-container-id-2 div.sk-parallel-item:first-child::after {align-self: flex-end;width: 50%;}#sk-container-id-2 div.sk-parallel-item:last-child::after {align-self: flex-start;width: 50%;}#sk-container-id-2 div.sk-parallel-item:only-child::after {width: 0;}#sk-container-id-2 div.sk-dashed-wrapped {border: 1px dashed gray;margin: 0 0.4em 0.5em 0.4em;box-sizing: border-box;padding-bottom: 0.4em;background-color: white;}#sk-container-id-2 div.sk-label label {font-family: monospace;font-weight: bold;display: inline-block;line-height: 1.2em;}#sk-container-id-2 div.sk-label-container {text-align: center;}#sk-container-id-2 div.sk-container {/* jupyter's `normalize.less` sets `[hidden] { display: none; }` but bootstrap.min.css set `[hidden] { display: none !important; }` so we also need the `!important` here to be able to override the default hidden behavior on the sphinx rendered scikit-learn.org. See: https://github.com/scikit-learn/scikit-learn/issues/21755 */display: inline-block !important;position: relative;}#sk-container-id-2 div.sk-text-repr-fallback {display: none;}</style><div id=\"sk-container-id-2\" class=\"sk-top-container\"><div class=\"sk-text-repr-fallback\"><pre>LogisticRegression()</pre><b>In a Jupyter environment, please rerun this cell to show the HTML representation or trust the notebook. <br />On GitHub, the HTML representation is unable to render, please try loading this page with nbviewer.org.</b></div><div class=\"sk-container\" hidden><div class=\"sk-item\"><div class=\"sk-estimator sk-toggleable\"><input class=\"sk-toggleable__control sk-hidden--visually\" id=\"sk-estimator-id-2\" type=\"checkbox\" checked><label for=\"sk-estimator-id-2\" class=\"sk-toggleable__label sk-toggleable__label-arrow\">LogisticRegression</label><div class=\"sk-toggleable__content\"><pre>LogisticRegression()</pre></div></div></div></div></div>"
      ],
      "text/plain": [
       "LogisticRegression()"
      ]
     },
     "execution_count": 134,
     "metadata": {},
     "output_type": "execute_result"
    }
   ],
   "source": [
    "\n",
    "# example of training a final classification model\n",
    "from sklearn.linear_model import LogisticRegression\n",
    "from sklearn.datasets import make_blobs\n",
    "# generate 2d classification dataset\n",
    "X, y = make_blobs(n_samples=100, centers=2, n_features=2, random_state=1)\n",
    "# fit final model\n",
    "model = LogisticRegression()\n",
    "model.fit(X, y)"
   ]
  },
  {
   "cell_type": "code",
   "execution_count": 155,
   "metadata": {},
   "outputs": [],
   "source": [
    "y_pred = classifier.predict(X_test)"
   ]
  },
  {
   "cell_type": "code",
   "execution_count": 156,
   "metadata": {},
   "outputs": [
    {
     "name": "stdout",
     "output_type": "stream",
     "text": [
      "[[  87 2331]\n",
      " [ 102 5353]]\n",
      "              precision    recall  f1-score   support\n",
      "\n",
      "           0       0.46      0.04      0.07      2418\n",
      "           1       0.70      0.98      0.81      5455\n",
      "\n",
      "    accuracy                           0.69      7873\n",
      "   macro avg       0.58      0.51      0.44      7873\n",
      "weighted avg       0.62      0.69      0.59      7873\n",
      "\n"
     ]
    }
   ],
   "source": [
    "from sklearn.metrics import classification_report, confusion_matrix\n",
    "print(confusion_matrix(y_test, y_pred))\n",
    "print(classification_report(y_test, y_pred))"
   ]
  },
  {
   "cell_type": "code",
   "execution_count": 157,
   "metadata": {},
   "outputs": [
    {
     "data": {
      "text/plain": [
       "<sklearn.metrics._plot.confusion_matrix.ConfusionMatrixDisplay at 0x22b8f549ee0>"
      ]
     },
     "execution_count": 157,
     "metadata": {},
     "output_type": "execute_result"
    },
    {
     "data": {
      "image/png": "[encoded data removed]",
      "text/plain": [
       "<Figure size 640x480 with 2 Axes>"
      ]
     },
     "metadata": {},
     "output_type": "display_data"
    }
   ],
   "source": [
    "y_pred = clf.predict(X_test)\n",
    "cm = confusion_matrix(y_test, y_pred)\n",
    "ConfusionMatrixDisplay(cm).plot()"
   ]
  },
  {
   "cell_type": "code",
   "execution_count": null,
   "metadata": {},
   "outputs": [],
   "source": []
  },
  {
   "cell_type": "code",
   "execution_count": null,
   "metadata": {},
   "outputs": [],
   "source": []
  }
 ],
 "metadata": {
  "kernelspec": {
   "display_name": "Python 3",
   "language": "python",
   "name": "python3"
  },
  "language_info": {
   "codemirror_mode": {
    "name": "ipython",
    "version": 3
   },
   "file_extension": ".py",
   "mimetype": "text/x-python",
   "name": "python",
   "nbconvert_exporter": "python",
   "pygments_lexer": "ipython3",
   "version": "3.8.17"
  }
 },
 "nbformat": 4,
 "nbformat_minor": 4
}
